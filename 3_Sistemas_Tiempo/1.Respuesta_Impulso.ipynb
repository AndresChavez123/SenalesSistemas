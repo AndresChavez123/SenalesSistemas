{
  "nbformat": 4,
  "nbformat_minor": 0,
  "metadata": {
    "colab": {
      "name": "1.Respuesta_Impulso.ipynb",
      "provenance": [],
      "collapsed_sections": [],
      "include_colab_link": true
    },
    "kernelspec": {
      "display_name": "Python 3",
      "language": "python",
      "name": "python3"
    },
    "language_info": {
      "codemirror_mode": {
        "name": "ipython",
        "version": 3
      },
      "file_extension": ".py",
      "mimetype": "text/x-python",
      "name": "python",
      "nbconvert_exporter": "python",
      "pygments_lexer": "ipython3",
      "version": "3.7.1"
    }
  },
  "cells": [
    {
      "cell_type": "markdown",
      "metadata": {
        "id": "view-in-github",
        "colab_type": "text"
      },
      "source": [
        "<a href=\"https://colab.research.google.com/github/amalvarezme/SenalesSistemas/blob/master/3_Sistemas_Tiempo/1.Respuesta_Impulso.ipynb\" target=\"_parent\"><img src=\"https://colab.research.google.com/assets/colab-badge.svg\" alt=\"Open In Colab\"/></a>"
      ]
    },
    {
      "cell_type": "markdown",
      "metadata": {
        "id": "DWA02Xu-Agmz",
        "nbsphinx": "hidden"
      },
      "source": [
        "# Caracterización de Sistemas en el Dominio del Tiempo\n",
        "\n",
        "*This Jupyter notebook is part of a [collection of notebooks](../index.ipynb) in the bachelors module Signals and Systems, Communications Engineering, Universität Rostock. Please direct questions and suggestions to [Sascha.Spors@uni-rostock.de](mailto:Sascha.Spors@uni-rostock.de).*"
      ]
    },
    {
      "cell_type": "markdown",
      "metadata": {
        "id": "8EHzTYWPAgm6"
      },
      "source": [
        "## Respuesta al Impulso\n",
        "\n",
        "La respuesta $y(t)$ de un sistema lineal invariante en el tiempo (SLTI) $\\mathcal{H}$ a una señal de entrada arbitraria $x(t)$ se obtiene a continuación. La señal de entrada se puede representar como una integral cuando se aplica la [propiedad de selectividad del impulso de Dirac](../continuous_signals/standard_signals.ipynb#Dirac-Impulse)\n",
        "\n",
        "\\begin{equation}\n",
        "x(t) = \\int_{-\\infty}^{\\infty} x(\\tau) \\cdot \\delta(t-\\tau) \\; d \\tau\n",
        "\\end{equation}\n",
        "\n",
        "Empleando la relación anterior para la señal de entrada $x(t)$ en la señal de salida $y(t)=\\mathcal{H}\\{x(t)\\}$ del sistema, se tiene que\n",
        "\n",
        "\\begin{equation}\n",
        "y(t) = \\mathcal{H} \\left\\{ \\int_{-\\infty}^{\\infty} x(\\tau) \\cdot \\delta(t-\\tau) \\; d \\tau \\right\\}\n",
        "\\end{equation}\n",
        "\n",
        "Donde $\\mathcal{H}\\{\\cdot\\}$ denota el operador de respuesta del sistema. El operador de integración y respuesta del sistema se pueden intercambiar bajo el supuesto de que el sistema es lineal\n",
        "\n",
        "\\begin{equation}\n",
        "y(t) = \\int_{-\\infty}^{\\infty}  x(\\tau) \\cdot \\mathcal{H} \\left\\{ \\delta(t-\\tau) \\right\\} \\; d \\tau \n",
        "\\end{equation}\n",
        "\n",
        "Donde $\\mathcal{H}\\{\\cdot\\}$ solo se aplica al impulso de Dirac, ya que $x(\\tau)$ puede considerarse como un factor constante con respecto al tiempo $t$. Se hace evidente que la respuesta de un sistema a un impulso de Dirac juega un papel importante en el cálculo de la señal de salida para señales de entrada arbitrarias.\n",
        "\n",
        "La respuesta de un sistema ante un impulso de dirac como entrada, se denomina [*respuesta al impulso*](https://en.wikipedia.org/wiki/Impulse_response). Se define como\n",
        "\n",
        "\\begin{equation}\n",
        "h(t) = \\mathcal{H} \\left\\{ \\delta(t) \\right\\}\n",
        "\\end{equation}\n",
        "\n",
        "Si el sistema es invariante en el tiempo, la respuesta a un impulso Dirac desplazado es $\\mathcal{H}\\left\\{\\delta(t-\\tau)\\right\\} = h(t-\\tau)$. Por lo tanto, para un SLTI se tiene que\n",
        "\n",
        "\\begin{equation}\n",
        "y(t) = \\int_{-\\infty}^{\\infty}  x(\\tau) \\cdot h(t-\\tau) \\; d \\tau \n",
        "\\end{equation}\n",
        "\n",
        "Debido a su importancia en la teoría de los SLTI, la anterior operación se denomina explícitamente como [*convolución*](https://en.wikipedia.org/wiki/Convolution). Generalmente se abrevia con $*$, por lo que para la integral anterior obtenemos $y(t)=x(t)*h(t)$.\n",
        "\n",
        "Se puede concluir que las propiedades de un SLTI están completamente caracterizadas por su respuesta al impulso. La respuesta $y(t)$ de un sistema a una señal de entrada arbitraria $x(t)$ está dada por la convolución de la señal de entrada $x(t)$ con su respuesta de impulso $h(t)$."
      ]
    },
    {
      "cell_type": "markdown",
      "metadata": {
        "id": "E-epKcIaAgm8"
      },
      "source": [
        "**Ejemplo**\n",
        "\n",
        "El siguiente ejemplo considera un SLTI cuya relación entre la entrada $x(t)$ y la salida $y(t)$ está dada por una ecuación diferencial ordinaria (EDO) con coeficientes constantes\n",
        "\n",
        "\\begin{equation}\n",
        "\\frac{d}{dt} y(t)+ y(t) = x(t)\n",
        "\\end{equation}\n",
        "\n",
        "La respuesta del sistema se calcula para la señal de entrada $x(t)=e^{-2t}\\cdot\\epsilon(t)$ cuando\n",
        "\n",
        "1. Se resuelve la EDO.\n",
        "2. Se calcula la respuesta al impulso $h(t)$ y se realiza la convolución con la entrada.\n",
        "\n",
        "La solución debe cumplir las condiciones iniciales $y(t)\\big\\vert_{t=0-}=0$ y $\\frac{d}{dt}y(t)\\big\\vert_{t=0-}=0 $ debido a la causalidad.\n",
        "\n",
        "Primero, se define la EDO en `SymPy`"
      ]
    },
    {
      "cell_type": "code",
      "metadata": {
        "colab": {
          "base_uri": "https://localhost:8080/",
          "height": 52
        },
        "id": "4BpQ4YsZAgm_",
        "outputId": "a31087db-f193-4df2-eb99-f60a55972ed5"
      },
      "source": [
        "%matplotlib inline\n",
        "import sympy as sym\n",
        "sym.init_printing()\n",
        "\n",
        "t = sym.symbols('t', real=True)\n",
        "x = sym.Function('x')(t)\n",
        "y = sym.Function('y')(t)\n",
        "\n",
        "ode = sym.Eq(y + y.diff(t) , x)\n",
        "ode"
      ],
      "execution_count": 1,
      "outputs": [
        {
          "output_type": "execute_result",
          "data": {
            "image/png": "[encoded data removed]",
            "text/latex": "$\\displaystyle y{\\left(t \\right)} + \\frac{d}{d t} y{\\left(t \\right)} = x{\\left(t \\right)}$",
            "text/plain": [
              "       d              \n",
              "y(t) + ──(y(t)) = x(t)\n",
              "       dt             "
            ]
          },
          "metadata": {
            "tags": []
          },
          "execution_count": 1
        }
      ]
    },
    {
      "cell_type": "markdown",
      "metadata": {
        "id": "TGrUvUlIAgnP"
      },
      "source": [
        "La EDO se resuelve para la señal de entrada dada con el fin de calcular la señal de salida. La constante de integración se calcula de forma que la solución cumpla las condiciones iniciales."
      ]
    },
    {
      "cell_type": "code",
      "metadata": {
        "colab": {
          "base_uri": "https://localhost:8080/",
          "height": 38
        },
        "id": "Qm0ztn5BAgnS",
        "outputId": "648f681f-40ca-4186-a5ce-af3ff0296278"
      },
      "source": [
        "solution = sym.dsolve(ode.subs(x, sym.exp(-2*t)*sym.Heaviside(t)))\n",
        "integration_constants = sym.solve( (solution.rhs.limit(t, 0, '-'), solution.rhs.diff(t).limit(t, 0, '-')), 'C1' )\n",
        "y1 = solution.subs(integration_constants)\n",
        "y1"
      ],
      "execution_count": 2,
      "outputs": [
        {
          "output_type": "execute_result",
          "data": {
            "image/png": "[encoded data removed]",
            "text/latex": "$\\displaystyle y{\\left(t \\right)} = \\left(1 - e^{- t}\\right) e^{- t} \\theta\\left(t\\right)$",
            "text/plain": [
              "       ⎛     -t⎞  -t     \n",
              "y(t) = ⎝1 - ℯ  ⎠⋅ℯ  ⋅θ(t)"
            ]
          },
          "metadata": {
            "tags": []
          },
          "execution_count": 2
        }
      ]
    },
    {
      "cell_type": "markdown",
      "metadata": {
        "id": "GCQz-z6jAgnb"
      },
      "source": [
        "Se grafica la solución de la EDO "
      ]
    },
    {
      "cell_type": "code",
      "metadata": {
        "colab": {
          "base_uri": "https://localhost:8080/",
          "height": 296
        },
        "id": "fLKlj4_HAgnd",
        "outputId": "cbdb45f7-eaf5-4496-cb52-b5770f53f15a"
      },
      "source": [
        "sym.plot(y1.rhs, (t,-1,10), ylabel=r'$y(t)$');"
      ],
      "execution_count": 3,
      "outputs": [
        {
          "output_type": "display_data",
          "data": {
            "image/png": "[encoded data removed]",
            "text/plain": [
              "<Figure size 432x288 with 1 Axes>"
            ]
          },
          "metadata": {
            "tags": [],
            "needs_background": "light"
          }
        }
      ]
    },
    {
      "cell_type": "markdown",
      "metadata": {
        "id": "Dn-Ye_pWAgnm"
      },
      "source": [
        "La respuesta de impulso $h(t)$ se calcula resolviendo la EDO para un impulso de Dirac como señal de entrada, $x(t)=\\delta(t)$"
      ]
    },
    {
      "cell_type": "code",
      "metadata": {
        "colab": {
          "base_uri": "https://localhost:8080/",
          "height": 38
        },
        "id": "eiyUSZjIAgno",
        "outputId": "ed46889e-891e-42d9-9278-7284e89c4c10"
      },
      "source": [
        "h = sym.Function('h')(t)\n",
        "solution2 = sym.dsolve(ode.subs(x, sym.DiracDelta(t)).subs(y, h))\n",
        "integration_constants = sym.solve( (solution2.rhs.limit(t, 0, '-'), solution2.rhs.diff(t).limit(t, 0, '-')), 'C1' )\n",
        "h = solution2.subs(integration_constants)\n",
        "h"
      ],
      "execution_count": 4,
      "outputs": [
        {
          "output_type": "execute_result",
          "data": {
            "image/png": "[encoded data removed]",
            "text/latex": "$\\displaystyle h{\\left(t \\right)} = e^{- t} \\theta\\left(t\\right)$",
            "text/plain": [
              "        -t     \n",
              "h(t) = ℯ  ⋅θ(t)"
            ]
          },
          "metadata": {
            "tags": []
          },
          "execution_count": 4
        }
      ]
    },
    {
      "cell_type": "markdown",
      "metadata": {
        "id": "ArILc1haAgnz"
      },
      "source": [
        "Lets plot the impulse response $h(t)$ of the LTI system"
      ]
    },
    {
      "cell_type": "code",
      "metadata": {
        "colab": {
          "base_uri": "https://localhost:8080/",
          "height": 296
        },
        "id": "qyMYEIPyAgn1",
        "outputId": "25a5c74b-9e3b-4bc8-ab8d-4e455a3f4868"
      },
      "source": [
        "sym.plot(h.rhs, (t,-1,10), ylabel=r'$h(t)$');"
      ],
      "execution_count": 5,
      "outputs": [
        {
          "output_type": "display_data",
          "data": {
            "image/png": "[encoded data removed]",
            "text/plain": [
              "<Figure size 432x288 with 1 Axes>"
            ]
          },
          "metadata": {
            "tags": [],
            "needs_background": "light"
          }
        }
      ]
    },
    {
      "cell_type": "markdown",
      "metadata": {
        "id": "Bxb3Ld_qAgn-"
      },
      "source": [
        "Como alternativa a la solución explícita de la EDO, la respuesta del sistema se calcula evaluando la convolución $y(t)=x(t)*h(t)$. Dado que `SymPy` no puede manejar la función Heaviside de manera adecuada en las integrales, la integral de convolución se simplifica primero. Tanto la señal de entrada $x(t)$ como la respuesta de impulso $h(t)$ son señales causales. Por lo tanto, la integral de convolución resulta en\n",
        "\n",
        "\\begin{equation}\n",
        "y(t) = \\int_{0}^{t} x(\\tau) \\cdot h(t - \\tau) \\; d\\tau\n",
        "\\end{equation}\n",
        "\n",
        "Para $t\\geq0$. Observe que $y(t)=0$ para $t<0$."
      ]
    },
    {
      "cell_type": "code",
      "metadata": {
        "colab": {
          "base_uri": "https://localhost:8080/",
          "height": 38
        },
        "id": "Nur3pq9cAgoA",
        "outputId": "34219d4e-3a3d-4e7f-a0a9-eeece7106bbd"
      },
      "source": [
        "tau = sym.symbols('tau', real=True)\n",
        "\n",
        "y2 = sym.integrate(sym.exp(-2*tau) * h.rhs.subs(sym.Heaviside(t), 1).subs(t, t-tau), (tau, 0, t))\n",
        "y2"
      ],
      "execution_count": 6,
      "outputs": [
        {
          "output_type": "execute_result",
          "data": {
            "image/png": "[encoded data removed]",
            "text/latex": "$\\displaystyle e^{- t} - e^{- 2 t}$",
            "text/plain": [
              " -t    -2⋅t\n",
              "ℯ   - ℯ    "
            ]
          },
          "metadata": {
            "tags": []
          },
          "execution_count": 6
        }
      ]
    },
    {
      "cell_type": "markdown",
      "metadata": {
        "id": "7m3M1svAAgoK"
      },
      "source": [
        "Se grafica la señal de salida obtenida mediante el proceso de convolución"
      ]
    },
    {
      "cell_type": "code",
      "metadata": {
        "colab": {
          "base_uri": "https://localhost:8080/",
          "height": 296
        },
        "id": "HzZsSTRAAgoM",
        "outputId": "5940759c-bea1-4dac-dff7-38961a3237ca"
      },
      "source": [
        "sym.plot(y2, (t,0,10), ylabel=r'$y(t)$');"
      ],
      "execution_count": 7,
      "outputs": [
        {
          "output_type": "display_data",
          "data": {
            "image/png": "[encoded data removed]",
            "text/plain": [
              "<Figure size 432x288 with 1 Axes>"
            ]
          },
          "metadata": {
            "tags": [],
            "needs_background": "light"
          }
        }
      ]
    },
    {
      "cell_type": "markdown",
      "metadata": {
        "id": "e6YWym8VAgoT"
      },
      "source": [
        "**Ejercicio**\n",
        "\n",
        "* Compare la señal de salida obtenida al resolver la EDO con la obtenida mediante la convolución. Son iguales?\n",
        "* Compruebe la solución $h(t)$ de la EDO cuando $x(t)=\\delta(t)$ de manera manual. Tener en cuenta que $\\frac{d}{dt} \\epsilon(t) = \\delta(t)$.\n",
        "* Comprobar la solución de la integral de convolución de manera manual. Tener en cuenta las funciones Heaviside."
      ]
    },
    {
      "cell_type": "markdown",
      "metadata": {
        "id": "ZavLa5BxAgoV",
        "nbsphinx": "hidden"
      },
      "source": [
        "**Copyright**\n",
        "\n",
        "The notebooks are provided as [Open Educational Resource](https://de.wikipedia.org/wiki/Open_Educational_Resources). Feel free to use the notebooks for your own educational purposes. The text is licensed under [Creative Commons Attribution 4.0](https://creativecommons.org/licenses/by/4.0/), the code of the IPython examples under the [MIT license](https://opensource.org/licenses/MIT). Please attribute the work as follows: *Lecture Notes on Signals and Systems* by Sascha Spors."
      ]
    }
  ]
}