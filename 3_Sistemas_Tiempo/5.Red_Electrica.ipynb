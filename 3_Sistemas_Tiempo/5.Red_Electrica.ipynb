{
  "nbformat": 4,
  "nbformat_minor": 0,
  "metadata": {
    "colab": {
      "name": "5.Red_Electrica.ipynb",
      "provenance": [],
      "collapsed_sections": [],
      "include_colab_link": true
    },
    "kernelspec": {
      "display_name": "Python 3",
      "language": "python",
      "name": "python3"
    },
    "language_info": {
      "codemirror_mode": {
        "name": "ipython",
        "version": 3
      },
      "file_extension": ".py",
      "mimetype": "text/x-python",
      "name": "python",
      "nbconvert_exporter": "python",
      "pygments_lexer": "ipython3",
      "version": "3.7.1"
    }
  },
  "cells": [
    {
      "cell_type": "markdown",
      "metadata": {
        "id": "view-in-github",
        "colab_type": "text"
      },
      "source": [
        "<a href=\"https://colab.research.google.com/github/amalvarezme/SenalesSistemas/blob/master/3_Sistemas_Tiempo/5.Red_Electrica.ipynb\" target=\"_parent\"><img src=\"https://colab.research.google.com/assets/colab-badge.svg\" alt=\"Open In Colab\"/></a>"
      ]
    },
    {
      "cell_type": "markdown",
      "metadata": {
        "id": "_R1cDP-miBnF",
        "nbsphinx": "hidden"
      },
      "source": [
        "# Caracterizacion en el Dominio del Tiempo\n",
        "\n",
        "*This Jupyter notebook is part of a [collection of notebooks](../index.ipynb) in the bachelors module Signals and Systems, Communications Engineering, Universität Rostock. Please direct questions and suggestions to [Sascha.Spors@uni-rostock.de](mailto:Sascha.Spors@uni-rostock.de).*"
      ]
    },
    {
      "cell_type": "markdown",
      "metadata": {
        "id": "0wGN46Q9iBnH"
      },
      "source": [
        "## Análisis de Redes Eléctricas con Elementos Pasivos\n",
        "\n",
        "Las [redes eléctricas](https://en.wikipedia.org/wiki/Electrical_network) compuestos de elementos pasivos lineales, como resistencias, condensadores e inductores pueden describirse mediante ecuaciones diferenciales ordinarias lineales (EDO) con coeficientes constantes. Por lo tanto, visto desde la teoría de las señales y los sistemas, pueden interpretarse como un sistema lineal invariante en el tiempo (SLIT). Las diferentes formas de caracterizar las propiedades de un SLTI introducidas anteriormente se ilustran con el ejemplo de un  [filtro pasa bajas](https://en.wikipedia.org/wiki/Low-pass_filter) analógico de segundo orden.\n",
        "\n",
        "![Filtro pasa bajas analógico de segundo orden](https://github.com/amalvarezme/SenalesSistemas/blob/master/3_Sistemas_Tiempo/lowpass.png?raw=1)\n",
        "\n",
        "\n",
        "Se asume que no se almacena energía en el condensador y el inductor para $t<0$. Además, se supone que $x(t)=0$ para $t<0$. Por lo tanto, $y(t)=0$ y $\\frac{d y(t)}{dt}=0$ para $ t<0$. Para ilustrar, se utilizan los valores de $L=0.5$, $R=1$, $C=0.4$ como los parámetros de la red eléctrica."
      ]
    },
    {
      "cell_type": "markdown",
      "metadata": {
        "id": "wbVxceILiBnI"
      },
      "source": [
        "### Ecuación Diferencial\n",
        "\n",
        "La ecuación diferencial que describe la relación entrada/salida en el circuito se obtiene al aplicar las [leyes de Kirchhoff](https://en.wikipedia.org/wiki/Kirchhoff's_circuit_laws). Así, se obtiene la siguiente EDO\n",
        "\n",
        "\\begin{equation}\n",
        "C L \\frac{d^2 y(t)}{dt^2} + C R \\frac{d y(t)}{dt} + y(t) = x(t)\n",
        "\\end{equation}\n",
        "\n",
        "Se define la EDO con `SymPy`"
      ]
    },
    {
      "cell_type": "code",
      "metadata": {
        "colab": {
          "base_uri": "https://localhost:8080/",
          "height": 52
        },
        "id": "IjQY1BNCiBnL",
        "outputId": "74767744-f2b7-45e2-a65e-7d42ed6b897a"
      },
      "source": [
        "%matplotlib inline\n",
        "import sympy as sym\n",
        "sym.init_printing()\n",
        "\n",
        "t, L, R, C = sym.symbols('t L R C', real=True)\n",
        "x = sym.Function('x')(t)\n",
        "y = sym.Function('y')(t)\n",
        "\n",
        "ode = sym.Eq(L*C*y.diff(t, 2) + R*C*y.diff(t) + y, x)\n",
        "ode"
      ],
      "execution_count": null,
      "outputs": [
        {
          "output_type": "execute_result",
          "data": {
            "image/png": "[encoded data removed]",
            "text/latex": "$$C L \\frac{d^{2}}{d t^{2}} y{\\left (t \\right )} + C R \\frac{d}{d t} y{\\left (t \\right )} + y{\\left (t \\right )} = x{\\left (t \\right )}$$",
            "text/plain": [
              "      2                                   \n",
              "     d              d                     \n",
              "C⋅L⋅───(y(t)) + C⋅R⋅──(y(t)) + y(t) = x(t)\n",
              "      2             dt                    \n",
              "    dt                                    "
            ]
          },
          "metadata": {
            "tags": []
          },
          "execution_count": 14
        }
      ]
    },
    {
      "cell_type": "markdown",
      "metadata": {
        "id": "tvlVcN7AiBnS"
      },
      "source": [
        "Se guardan los valores de los parámetros (R, L y C) en un diccionario, para su posterior sustitución"
      ]
    },
    {
      "cell_type": "code",
      "metadata": {
        "colab": {
          "base_uri": "https://localhost:8080/",
          "height": 34
        },
        "id": "JbcmZZ8SiBnU",
        "outputId": "89f0eb6f-0347-4b15-e4d3-4140eda0c579"
      },
      "source": [
        "RLC = {R: 1, L: sym.Rational('.5'), C: sym.Rational('.4')}\n",
        "RLC"
      ],
      "execution_count": null,
      "outputs": [
        {
          "output_type": "execute_result",
          "data": {
            "image/png": "[encoded data removed]",
            "text/latex": "$$\\left \\{ C : \\frac{2}{5}, \\quad L : \\frac{1}{2}, \\quad R : 1\\right \\}$$",
            "text/plain": [
              "{C: 2/5, L: 1/2, R: 1}"
            ]
          },
          "metadata": {
            "tags": []
          },
          "execution_count": 15
        }
      ]
    },
    {
      "cell_type": "markdown",
      "metadata": {
        "id": "Tb8Mp_Y6iBnZ"
      },
      "source": [
        "### Respuesta al Impulso\n",
        "\n",
        "\n",
        "La red eléctrica pasiva y la EDO que describen su relación de entrada/salida se pueden interpretar como un SLIT. Por lo tanto, el sistema puede caracterizarse por su [respuesta al impulso](https://github.com/amalvarezme/SenalesSistemas/blob/master/3_Sistemas_Tiempo/1.Respuesta_Impulso.ipynb) $h(t)$ que se define como la salida del sistema ante una entrada impulso de Dirac $x(t) = \\delta(t)$. Para el sistema dado, la respuesta al impulso se calcula al resolver la EDO"
      ]
    },
    {
      "cell_type": "code",
      "metadata": {
        "colab": {
          "base_uri": "https://localhost:8080/",
          "height": 104
        },
        "id": "7_IPzjLQiBna",
        "outputId": "e4ca2e0a-32df-4c81-8f70-9bd2204a043d"
      },
      "source": [
        "solution_h = sym.dsolve(ode.subs(x, sym.DiracDelta(t)).subs(y, sym.Function('h')(t)))\n",
        "solution_h"
      ],
      "execution_count": null,
      "outputs": [
        {
          "output_type": "execute_result",
          "data": {
            "image/png": "[encoded data removed]",
            "text/latex": "$$h{\\left (t \\right )} = C_{1} e^{\\frac{t \\left(- R - \\frac{\\sqrt{C \\left(C R^{2} - 4 L\\right)}}{C}\\right)}{2 L}} + C_{2} e^{\\frac{t \\left(- R + \\frac{\\sqrt{C \\left(C R^{2} - 4 L\\right)}}{C}\\right)}{2 L}} - \\frac{e^{\\frac{t \\left(- R - \\frac{\\sqrt{C \\left(C R^{2} - 4 L\\right)}}{C}\\right)}{2 L}} \\theta\\left(t\\right)}{\\sqrt{C \\left(C R^{2} - 4 L\\right)}} + \\frac{e^{\\frac{t \\left(- R + \\frac{\\sqrt{C \\left(C R^{2} - 4 L\\right)}}{C}\\right)}{2 L}} \\theta\\left(t\\right)}{\\sqrt{C \\left(C R^{2} - 4 L\\right)}}$$",
            "text/plain": [
              "                                                                              \n",
              "             ⎛        ________________⎞         ⎛        ________________⎞    \n",
              "             ⎜       ╱   ⎛   2      ⎞ ⎟         ⎜       ╱   ⎛   2      ⎞ ⎟    \n",
              "             ⎜     ╲╱  C⋅⎝C⋅R  - 4⋅L⎠ ⎟         ⎜     ╲╱  C⋅⎝C⋅R  - 4⋅L⎠ ⎟    \n",
              "           t⋅⎜-R - ───────────────────⎟       t⋅⎜-R + ───────────────────⎟    \n",
              "             ⎝              C         ⎠         ⎝              C         ⎠    \n",
              "           ────────────────────────────       ────────────────────────────    \n",
              "                       2⋅L                                2⋅L                ℯ\n",
              "h(t) = C₁⋅ℯ                             + C₂⋅ℯ                             - ─\n",
              "                                                                              \n",
              "                                                                              \n",
              "                                                                              \n",
              "\n",
              "  ⎛        ________________⎞                   ⎛        ________________⎞     \n",
              "  ⎜       ╱   ⎛   2      ⎞ ⎟                   ⎜       ╱   ⎛   2      ⎞ ⎟     \n",
              "  ⎜     ╲╱  C⋅⎝C⋅R  - 4⋅L⎠ ⎟                   ⎜     ╲╱  C⋅⎝C⋅R  - 4⋅L⎠ ⎟     \n",
              "t⋅⎜-R - ───────────────────⎟                 t⋅⎜-R + ───────────────────⎟     \n",
              "  ⎝              C         ⎠                   ⎝              C         ⎠     \n",
              "────────────────────────────                 ────────────────────────────     \n",
              "            2⋅L                                          2⋅L                  \n",
              "                            ⋅Heaviside(t)   ℯ                            ⋅Heav\n",
              "───────────────────────────────────────── + ──────────────────────────────────\n",
              "             ________________                             ________________    \n",
              "            ╱   ⎛   2      ⎞                             ╱   ⎛   2      ⎞     \n",
              "          ╲╱  C⋅⎝C⋅R  - 4⋅L⎠                           ╲╱  C⋅⎝C⋅R  - 4⋅L⎠     \n",
              "\n",
              "        \n",
              "        \n",
              "        \n",
              "        \n",
              "        \n",
              "        \n",
              "        \n",
              "iside(t)\n",
              "────────\n",
              "        \n",
              "        \n",
              "        "
            ]
          },
          "metadata": {
            "tags": []
          },
          "execution_count": 16
        }
      ]
    },
    {
      "cell_type": "markdown",
      "metadata": {
        "id": "-qC_OXU9iBnf"
      },
      "source": [
        "Las constantes de integración $C_1$ y $C_2$ deben determinarse a partir de las condiciones iniciales $y(t)=0$ y $\\frac{d y(t)}{dt}=0$ para $t<0$."
      ]
    },
    {
      "cell_type": "code",
      "metadata": {
        "colab": {
          "base_uri": "https://localhost:8080/",
          "height": 34
        },
        "id": "iSHIW-xkiBnh",
        "outputId": "f735de10-c344-4dc8-8094-1609d35e37c7"
      },
      "source": [
        "integration_constants = sym.solve( (solution_h.rhs.limit(t, 0, '-'), solution_h.rhs.diff(t).limit(t, 0, '-')), ['C1', 'C2'] )\n",
        "integration_constants"
      ],
      "execution_count": null,
      "outputs": [
        {
          "output_type": "execute_result",
          "data": {
            "image/png": "[encoded data removed]",
            "text/latex": "$$\\left \\{ C_{1} : 0, \\quad C_{2} : 0\\right \\}$$",
            "text/plain": [
              "{C₁: 0, C₂: 0}"
            ]
          },
          "metadata": {
            "tags": []
          },
          "execution_count": 17
        }
      ]
    },
    {
      "cell_type": "markdown",
      "metadata": {
        "id": "i-hFzqnfiBnl"
      },
      "source": [
        "La sustitución de los valores de las constantes de integración $C_1$ y $C_2$ en el resultado anterior produce la respuesta al impulso del filtro pasa bajas"
      ]
    },
    {
      "cell_type": "code",
      "metadata": {
        "colab": {
          "base_uri": "https://localhost:8080/",
          "height": 69
        },
        "id": "nj9fbDrPiBnm",
        "outputId": "66c21dd3-f0b4-4424-8b7b-0374e7183695"
      },
      "source": [
        "h = solution_h.subs(integration_constants)\n",
        "h"
      ],
      "execution_count": null,
      "outputs": [
        {
          "output_type": "execute_result",
          "data": {
            "image/png": "[encoded data removed]",
            "text/latex": "$$h{\\left (t \\right )} = - \\frac{e^{\\frac{t \\left(- R - \\frac{\\sqrt{C \\left(C R^{2} - 4 L\\right)}}{C}\\right)}{2 L}} \\theta\\left(t\\right)}{\\sqrt{C \\left(C R^{2} - 4 L\\right)}} + \\frac{e^{\\frac{t \\left(- R + \\frac{\\sqrt{C \\left(C R^{2} - 4 L\\right)}}{C}\\right)}{2 L}} \\theta\\left(t\\right)}{\\sqrt{C \\left(C R^{2} - 4 L\\right)}}$$",
            "text/plain": [
              "            ⎛        ________________⎞                   ⎛        ____________\n",
              "            ⎜       ╱   ⎛   2      ⎞ ⎟                   ⎜       ╱   ⎛   2    \n",
              "            ⎜     ╲╱  C⋅⎝C⋅R  - 4⋅L⎠ ⎟                   ⎜     ╲╱  C⋅⎝C⋅R  - 4\n",
              "          t⋅⎜-R - ───────────────────⎟                 t⋅⎜-R + ───────────────\n",
              "            ⎝              C         ⎠                   ⎝              C     \n",
              "          ────────────────────────────                 ───────────────────────\n",
              "                      2⋅L                                          2⋅L        \n",
              "         ℯ                            ⋅Heaviside(t)   ℯ                       \n",
              "h(t) = - ────────────────────────────────────────── + ────────────────────────\n",
              "                       ________________                             __________\n",
              "                      ╱   ⎛   2      ⎞                             ╱   ⎛   2  \n",
              "                    ╲╱  C⋅⎝C⋅R  - 4⋅L⎠                           ╲╱  C⋅⎝C⋅R  -\n",
              "\n",
              "____⎞             \n",
              "  ⎞ ⎟             \n",
              "⋅L⎠ ⎟             \n",
              "────⎟             \n",
              "    ⎠             \n",
              "─────             \n",
              "                  \n",
              "     ⋅Heaviside(t)\n",
              "──────────────────\n",
              "______            \n",
              "    ⎞             \n",
              " 4⋅L⎠             "
            ]
          },
          "metadata": {
            "tags": []
          },
          "execution_count": 18
        }
      ]
    },
    {
      "cell_type": "markdown",
      "metadata": {
        "id": "2j-SrGw-iBns"
      },
      "source": [
        "Se grafica la respuesta al impulso para los valores $R$, $L$ y $C$ definidos anteriormente en el diccionario"
      ]
    },
    {
      "cell_type": "code",
      "metadata": {
        "colab": {
          "base_uri": "https://localhost:8080/",
          "height": 261
        },
        "id": "UmUlhEd0iBnt",
        "outputId": "9d7686eb-e241-403f-8b93-624d0ecbc10a"
      },
      "source": [
        "sym.plot(h.rhs.subs(RLC), (t,0,10), ylabel=r'h(t)');"
      ],
      "execution_count": null,
      "outputs": [
        {
          "output_type": "display_data",
          "data": {
            "image/png": "[encoded data removed]",
            "text/plain": [
              "<Figure size 432x288 with 1 Axes>"
            ]
          },
          "metadata": {
            "tags": [],
            "needs_background": "light"
          }
        }
      ]
    },
    {
      "cell_type": "markdown",
      "metadata": {
        "id": "6_3eS4XpiBnz"
      },
      "source": [
        "### Respuesta al Escalón\n",
        "\n",
        "La [respuesta al escalón](https://github.com/amalvarezme/SenalesSistemas/blob/master/3_Sistemas_Tiempo/3.Respuesta_Escalon.ipynb) se obtiene al integrar la respuesta al impulso $h(t)$. Para facilitar la ilustración, esto se realiza con los valores de los parámetros definidos anteriormente."
      ]
    },
    {
      "cell_type": "code",
      "metadata": {
        "colab": {
          "base_uri": "https://localhost:8080/",
          "height": 69
        },
        "id": "UxbXhHlIiBn0",
        "outputId": "b7f4032a-b138-48b3-e548-1fa259acd14b"
      },
      "source": [
        "tau = sym.symbols('tau', real=True)\n",
        "\n",
        "he = sym.integrate(h.rhs.subs(RLC).subs(t,tau), (tau,0,t))\n",
        "he"
      ],
      "execution_count": null,
      "outputs": [
        {
          "output_type": "execute_result",
          "data": {
            "image/png": "[encoded data removed]",
            "text/latex": "$$\\frac{5 i \\left(- \\frac{e^{t \\left(-1 - 2 i\\right)}}{5} + \\frac{2 i e^{t \\left(-1 - 2 i\\right)}}{5} + \\frac{1}{5} - \\frac{2 i}{5}\\right) \\theta\\left(t\\right)}{4} - \\frac{5 i \\left(- \\frac{e^{t \\left(-1 + 2 i\\right)}}{5} - \\frac{2 i e^{t \\left(-1 + 2 i\\right)}}{5} + \\frac{1}{5} + \\frac{2 i}{5}\\right) \\theta\\left(t\\right)}{4}$$",
            "text/plain": [
              "    ⎛   t⋅(-1 - 2⋅ⅈ)        t⋅(-1 - 2⋅ⅈ)          ⎞                    ⎛   t⋅(\n",
              "    ⎜  ℯ               2⋅ⅈ⋅ℯ               1   2⋅ⅈ⎟                    ⎜  ℯ   \n",
              "5⋅ⅈ⋅⎜- ───────────── + ───────────────── + ─ - ───⎟⋅Heaviside(t)   5⋅ⅈ⋅⎜- ────\n",
              "    ⎝        5                 5           5    5 ⎠                    ⎝      \n",
              "──────────────────────────────────────────────────────────────── - ───────────\n",
              "                               4                                              \n",
              "\n",
              "-1 + 2⋅ⅈ)        t⋅(-1 + 2⋅ⅈ)          ⎞             \n",
              "            2⋅ⅈ⋅ℯ               1   2⋅ⅈ⎟             \n",
              "───────── - ───────────────── + ─ + ───⎟⋅Heaviside(t)\n",
              "  5                 5           5    5 ⎠             \n",
              "─────────────────────────────────────────────────────\n",
              "                    4                                "
            ]
          },
          "metadata": {
            "tags": []
          },
          "execution_count": 20
        }
      ]
    },
    {
      "cell_type": "markdown",
      "metadata": {
        "id": "nMkcyEogiBn4"
      },
      "source": [
        "Ahora, se grafica la respuesta al escalón"
      ]
    },
    {
      "cell_type": "code",
      "metadata": {
        "colab": {
          "base_uri": "https://localhost:8080/",
          "height": 281
        },
        "id": "fJiqTE8KiBn5",
        "outputId": "11ed12a4-75c8-453a-b541-5e1e5456bc98"
      },
      "source": [
        "sym.plot(he, (t,0,10), ylabel=r'$h_\\epsilon(t)$');"
      ],
      "execution_count": null,
      "outputs": [
        {
          "output_type": "display_data",
          "data": {
            "image/png": "[encoded data removed]",
            "text/plain": [
              "<Figure size 432x288 with 1 Axes>"
            ]
          },
          "metadata": {
            "tags": [],
            "needs_background": "light"
          }
        }
      ]
    },
    {
      "cell_type": "markdown",
      "metadata": {
        "id": "sfCfC-kciBn-"
      },
      "source": [
        "### Función de Transferencia\n",
        "\n",
        "Para una señal de entrada exponencial $x(t)=e^{st}$, la [función de transferencia](https://github.com/amalvarezme/SenalesSistemas/blob/master/3_Sistemas_Tiempo/4.Autofunciones.ipynb)\n",
        "\n",
        "$H(s)$ representa el peso de la señal exponencial de salida $y(t)=H(s)\\cdot e^{st}$. La función de transferencia se obtiene introduciendo $x(t)$ y $y(t)$ en la EDO y resolviendo para $H(s)$."
      ]
    },
    {
      "cell_type": "code",
      "metadata": {
        "colab": {
          "base_uri": "https://localhost:8080/",
          "height": 34
        },
        "id": "aouKQt-eiBn_",
        "outputId": "5b00f7fb-9ef1-46ed-9ce4-54b34d02f037"
      },
      "source": [
        "s = sym.symbols('s')\n",
        "H = sym.Function('H')(s)\n",
        "\n",
        "H, = sym.solve(ode.subs(x, sym.exp(s*t)).subs(y, H*sym.exp(s*t)).doit(), H)\n",
        "H"
      ],
      "execution_count": null,
      "outputs": [
        {
          "output_type": "execute_result",
          "data": {
            "image/png": "[encoded data removed]",
            "text/latex": "$$\\frac{1}{C L s^{2} + C R s + 1}$$",
            "text/plain": [
              "        1         \n",
              "──────────────────\n",
              "     2            \n",
              "C⋅L⋅s  + C⋅R⋅s + 1"
            ]
          },
          "metadata": {
            "tags": []
          },
          "execution_count": 22
        }
      ]
    },
    {
      "cell_type": "markdown",
      "metadata": {
        "id": "jLWzQEXCiBoD"
      },
      "source": [
        "Las características de transferencia de un SLIT para señales exponenciales armónicas $e^{j \\omega}=\\cos(\\omega t) + j\\sin (\\omega t)$ son de especial interés en el análisis de circuitos eléctricos. Se puede obtener de $H(s)$ sustituyendo la frecuencia compleja $s$ por $s=j\\omega$. La función de transferencia resultante $H(j\\omega)$ proporciona la atenuación y la fase que el sistema agrega a una señal de entrada armónica."
      ]
    },
    {
      "cell_type": "code",
      "metadata": {
        "colab": {
          "base_uri": "https://localhost:8080/",
          "height": 34
        },
        "id": "p7vsB0OyiBoE",
        "outputId": "47924ad2-6651-49d0-e309-a15ce9ed3a3e"
      },
      "source": [
        "w = sym.symbols('omega', real=True)\n",
        "\n",
        "Hjw = H.subs(s, sym.I * w)\n",
        "Hjw"
      ],
      "execution_count": null,
      "outputs": [
        {
          "output_type": "execute_result",
          "data": {
            "image/png": "[encoded data removed]",
            "text/latex": "$$\\frac{1}{- C L \\omega^{2} + i C R \\omega + 1}$$",
            "text/plain": [
              "          1           \n",
              "──────────────────────\n",
              "       2              \n",
              "- C⋅L⋅ω  + ⅈ⋅C⋅R⋅ω + 1"
            ]
          },
          "metadata": {
            "tags": []
          },
          "execution_count": 23
        }
      ]
    },
    {
      "cell_type": "markdown",
      "metadata": {
        "id": "YC5hINwDiBoI"
      },
      "source": [
        "Se grafica la magnitud de la función de transferencia $|H(j \\omega)|$ para los valores de $R$, $L$ y $C$ definidos anteriormente en el diccionario."
      ]
    },
    {
      "cell_type": "code",
      "metadata": {
        "colab": {
          "base_uri": "https://localhost:8080/",
          "height": 295
        },
        "id": "LusmV65XiBoJ",
        "outputId": "27467356-32f5-4cfd-c622-e3f02806edfd"
      },
      "source": [
        "sym.plot(abs(Hjw.subs(RLC)), (w, -10, 10), ylabel=r'$|H(j \\omega)|$', xlabel=r'$\\omega$');"
      ],
      "execution_count": null,
      "outputs": [
        {
          "output_type": "display_data",
          "data": {
            "image/png": "[encoded data removed]",
            "text/plain": [
              "<Figure size 432x288 with 1 Axes>"
            ]
          },
          "metadata": {
            "tags": [],
            "needs_background": "light"
          }
        }
      ]
    },
    {
      "cell_type": "markdown",
      "metadata": {
        "id": "whfV3sHgiBoO"
      },
      "source": [
        "Ahora, resulta obvio que las frecuencias bajas pasan a través del sistema y que las frecuencias altas se atenúan. Esto motiva el término 'pasa bajas' para tales sistemas.\n",
        "\n",
        "Como alternativa a la solución de la EDO, la función de transferencia $H(s)$ se calcula a partir de la respuesta de impulso y se grafica para los valores especificados anteriormente de los parámetros."
      ]
    },
    {
      "cell_type": "code",
      "metadata": {
        "colab": {
          "base_uri": "https://localhost:8080/",
          "height": 34
        },
        "id": "W3Ib6my5iBoP",
        "outputId": "4b6237f0-4f5b-41b3-e69b-0e2f388e7280"
      },
      "source": [
        "H2 = sym.integrate(h.rhs.subs(RLC)*sym.exp(-s*t), (t,0,sym.oo), conds='none')\n",
        "H2.simplify()"
      ],
      "execution_count": null,
      "outputs": [
        {
          "output_type": "execute_result",
          "data": {
            "image/png": "[encoded data removed]",
            "text/latex": "$$\\frac{5}{s^{2} + 2 s + 5}$$",
            "text/plain": [
              "     5      \n",
              "────────────\n",
              " 2          \n",
              "s  + 2⋅s + 5"
            ]
          },
          "metadata": {
            "tags": []
          },
          "execution_count": 25
        }
      ]
    },
    {
      "cell_type": "code",
      "metadata": {
        "colab": {
          "base_uri": "https://localhost:8080/",
          "height": 295
        },
        "id": "x-XUFJpkiBoV",
        "outputId": "12dbb646-c88d-4cda-c579-c9dec0263f57"
      },
      "source": [
        "sym.plot(abs(H2.subs(s, sym.I*w)), (w, -10, 10), ylabel=r'$|H(j \\omega)|$', xlabel=r'$\\omega$');"
      ],
      "execution_count": null,
      "outputs": [
        {
          "output_type": "display_data",
          "data": {
            "image/png": "[encoded data removed]",
            "text/plain": [
              "<Figure size 432x288 with 1 Axes>"
            ]
          },
          "metadata": {
            "tags": []
          }
        }
      ]
    },
    {
      "cell_type": "markdown",
      "metadata": {
        "id": "0GfHF-txiBoa"
      },
      "source": [
        "La fase de la función de transferencia $\\varphi (j\\omega)=\\arg \\{H(j\\omega)\\}$ proporciona información sobre la fase agregada a una señal armónica cuando pasa a través del sistema. Se calcula y grafica para los valores específicos de los elementos dados anteriormente."
      ]
    },
    {
      "cell_type": "code",
      "metadata": {
        "colab": {
          "base_uri": "https://localhost:8080/",
          "height": 265
        },
        "id": "dOSSmV-XiBob",
        "outputId": "7addbd35-426a-4444-876a-ad7ac7ac8760"
      },
      "source": [
        "phi = sym.arg(Hjw)\n",
        "sym.plot(phi.subs(RLC), (w, -10, 10), ylabel=r'$\\varphi(j \\omega)$', xlabel=r'$\\omega$');"
      ],
      "execution_count": null,
      "outputs": [
        {
          "output_type": "display_data",
          "data": {
            "image/png": "[encoded data removed]",
            "text/plain": [
              "<Figure size 432x288 with 1 Axes>"
            ]
          },
          "metadata": {
            "tags": [],
            "needs_background": "light"
          }
        }
      ]
    },
    {
      "cell_type": "markdown",
      "metadata": {
        "id": "R4ZVuSqLiBog",
        "nbsphinx": "hidden"
      },
      "source": [
        "**Copyright**\n",
        "\n",
        "The notebooks are provided as [Open Educational Resource](https://de.wikipedia.org/wiki/Open_Educational_Resources). Feel free to use the notebooks for your own educational purposes. The text is licensed under [Creative Commons Attribution 4.0](https://creativecommons.org/licenses/by/4.0/), the code of the IPython examples under the [MIT license](https://opensource.org/licenses/MIT). Please attribute the work as follows: *Lecture Notes on Signals and Systems* by Sascha Spors."
      ]
    },
    {
      "cell_type": "code",
      "metadata": {
        "id": "DKk9yZidJQ7v"
      },
      "source": [
        ""
      ],
      "execution_count": null,
      "outputs": []
    }
  ]
}