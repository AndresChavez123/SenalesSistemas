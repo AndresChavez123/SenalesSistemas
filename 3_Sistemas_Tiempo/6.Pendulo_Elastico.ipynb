{
  "nbformat": 4,
  "nbformat_minor": 0,
  "metadata": {
    "colab": {
      "name": "6.Pendulo_Elastico.ipynb",
      "provenance": [],
      "collapsed_sections": [],
      "include_colab_link": true
    },
    "kernelspec": {
      "display_name": "Python 3",
      "language": "python",
      "name": "python3"
    },
    "language_info": {
      "codemirror_mode": {
        "name": "ipython",
        "version": 3
      },
      "file_extension": ".py",
      "mimetype": "text/x-python",
      "name": "python",
      "nbconvert_exporter": "python",
      "pygments_lexer": "ipython3",
      "version": "3.7.1"
    }
  },
  "cells": [
    {
      "cell_type": "markdown",
      "metadata": {
        "id": "view-in-github",
        "colab_type": "text"
      },
      "source": [
        "<a href=\"https://colab.research.google.com/github/amalvarezme/SenalesSistemas/blob/master/3_Sistemas_Tiempo/6.Pendulo_Elastico.ipynb\" target=\"_parent\"><img src=\"https://colab.research.google.com/assets/colab-badge.svg\" alt=\"Open In Colab\"/></a>"
      ]
    },
    {
      "cell_type": "markdown",
      "metadata": {
        "id": "H73L_JXU7k2L",
        "nbsphinx": "hidden"
      },
      "source": [
        "# Caracterización de Sistemas en el Dominio del Tiempo\n",
        "*This Jupyter notebook is part of a [collection of notebooks](../index.ipynb) in the bachelors module Signals and Systems, Communications Engineering, Universität Rostock. Please direct questions and suggestions to [Sascha.Spors@uni-rostock.de](mailto:Sascha.Spors@uni-rostock.de).*"
      ]
    },
    {
      "cell_type": "markdown",
      "metadata": {
        "id": "K7eH5_ea7k2Q"
      },
      "source": [
        "## Análisis de un Péndulo Elástico Amortiguado\n",
        "\n",
        "El [péndulo elástico](https://en.wikipedia.org/wiki/Spring_pendulum) amortiguado es un ejemplo de un sistema mecánico que puede ser modelado por una ecuación diferencial ordinaria lineal (EDO) con coeficientes constantes. Desde el punto de vista de la teoría de señales y sistemas, puede ser interpretado como un sistema lineal invariante en el tiempo (SLIT). Las propiedades mecánicas del péndulo elástico amortiguado se analizan utilizando la teoría de los SLIT. La configuración mecánica subyacente se muestra en la siguiente\n",
        "\n",
        "![Péndulo Elástico Amortiguado](https://github.com/amalvarezme/SenalesSistemas/blob/master/3_Sistemas_Tiempo/damped_spring.png?raw=1)\n",
        "\n",
        "Un cuerpo rígido de masa $m$ está montado sobre un resorte con rigidez $k$ que está conectado al suelo. Un amortiguador con un coeficiente de amortiguamiento $c$ se monta paralelo al resorte para modelar la fricción presente en el sistema. Se asume que el movimiento de la masa a lo largo del tiempo está restringido al eje vertical, aquí indicado por $y$. Además, se asume que la masa no se mueve para $ t <0 $. Denotando el desplazamiento de la masa con respecto al tiempo con $y(t)$, las condiciones iniciales se formulan como $y(t)=0$ y $\\frac{d y(t)}{dt}=0$ para $t<0$.\n",
        "\n",
        "Se utilizarán los siguientes valores $m = 0.1$,  $c = 0.1$ y $k = 2.5$ para ilustrar de manera más sencilla el siguiente ejemplo."
      ]
    },
    {
      "cell_type": "markdown",
      "metadata": {
        "id": "LujI96aT7k2T"
      },
      "source": [
        "### Ecuación Diferencial\n",
        "\n",
        "La ecuación diferencia del sistema mecánico se obtiene al considerar el equilibrio de fuerzas ejercidas sobre la masa\n",
        "\n",
        "\\begin{equation}\n",
        "F_\\text{S}(t) + F_\\text{F}(t) + F_\\text{I}(t) = F_\\text{E}(t)\n",
        "\\end{equation}\n",
        "\n",
        "Donde $F_\\text{E}(t) $ denota una fuerza externa que actúa sobre la masa. La fuerza $F_\\text{S}(t)$ inducida por el resorte está dada por la [ley de Hooke](https://en.wikipedia.org/wiki/Hooke%27s_law)\n",
        "\n",
        "\\begin{equation}\n",
        "F_\\text{S}(t) = k y(t)\n",
        "\\end{equation}\n",
        "\n",
        "Es común modelar la fuerza de fricción $F_\\text{F}(t)$ inducida por el amortiguador de manera proporcional a la velocidad de la masa\n",
        "\n",
        "\\begin{equation}\n",
        "F_\\text{F}(t) = c \\frac{d y(t)}{dt}\n",
        "\\end{equation}\n",
        "\n",
        "La fuerza inercial $F_\\text{I}(t)$ debida a la aceleración de la masa se da como\n",
        "\n",
        "\\begin{equation}\n",
        "F_\\text{I}(t) = m \\frac{d^2 y(t)}{dt^2}\n",
        "\\end{equation}\n",
        "\n",
        "Al introducir las fuerzas anteriormente halladas en el equilibrio de fuerzas se obtiene la ecuación diferencial que describe el desplazamiento del péndulo elástico amortiguado\n",
        "\n",
        "\\begin{equation}\n",
        "m \\frac{d^2 y(t)}{dt^2} + c \\frac{d y(t)}{dt} + k y(t) = F_\\text{E}(t)\n",
        "\\end{equation}\n",
        "\n",
        "Como consecuencia de la fuerza externa.\n",
        "La ecuación anterior constituye una EDO con coeficientes constantes. Puede interpretarse como un SLTI con la fuerza externa $x(t)=F_\\text{E}(t)$ como señal de entrada y el desplazamiento de la masa como la señal de salida $y(t)$."
      ]
    },
    {
      "cell_type": "markdown",
      "metadata": {
        "id": "98coA2j47k2W"
      },
      "source": [
        "### Comparación con la Red Eléctrica\n",
        "\n",
        "Comparando las EDO del péndulo elástico amortiguado y el filtro pasa bajas analógico de segundo orden, se tiene que ambas constituyen una EDO de segundo orden con coeficientes constantes. La división de la EDO del filtro pasa bajas analógico de segundo orden por la constante $C$ resulta en\n",
        "\n",
        "\\begin{equation}\n",
        "L \\frac{d^2 u_\\text{o}(t)}{dt^2} + R \\frac{d u_\\text{o}(t)}{dt} + \\frac{1}{C} u_\\text{o}(t) = \\frac{1}{C} u_\\text{i}(t)\n",
        "\\end{equation}\n",
        "\n",
        "Donde $u_\\text{i}(t)$ y $u_\\text{o}(t)$ denotan el voltaje de entrada y salida del circuito respesctivamente.\n",
        "La comparación de la EDO anterior con la del péndulo elástico amortiguado produce [equivalencia entre sistemas](https://en.wikipedia.org/wiki/System_equivalence) así\n",
        "\n",
        "|                         | Filtro pasa bajas de segundo orden | Péndulo elástico                          |\n",
        "|-------------------------|------------------------------------|-------------------------------------------|\n",
        "| Señal de entrada $x(t)$ | $u_\\text{i}(t) = F_\\text{E}(t) C$  | $F_\\text{E}(t) = \\frac{u_\\text{i}(t)}{C}$ |\n",
        "| Señal de salida $y(t)$  | $u_\\text{o}(t)$                    | $y(t)$                                    |\n",
        "|                         | $L=m$                              | $m=L$                                     |\n",
        "|                         | $R=c$                              | $c=R$                                     |\n",
        "|                         | $C=\\frac{1}{k}$                    | $k=\\frac{1}{C}$                           |"
      ]
    },
    {
      "cell_type": "markdown",
      "metadata": {
        "id": "45ywl0jG7k2Z"
      },
      "source": [
        "### Respuesta al Impulso\n",
        "\n",
        "El SLTI correspondiente al péndulo puede ser caracterizado por su [respuesta al impulso](https://github.com/amalvarezme/SenalesSistemas/blob/master/3_Sistemas_Tiempo/1.Respuesta_Impulso.ipynb) $h(t)$. Se define como la salida del sistema ante una entra $x(t) = \\delta(t)$ en la entrada. La respuesta al impulso caracteriza el movimiento $y(t)$ de la masa ante un evento.\n",
        "\n",
        "Primero, se define la EDO del péndulo elástico amortiguado con `SymPy`"
      ]
    },
    {
      "cell_type": "code",
      "metadata": {
        "colab": {
          "base_uri": "https://localhost:8080/",
          "height": 52
        },
        "id": "9hIv-Tl-7k2b",
        "outputId": "d3498f50-e6f0-4b5d-a04d-5afeca62cabc"
      },
      "source": [
        "%matplotlib inline\n",
        "import sympy as sym\n",
        "sym.init_printing()\n",
        "\n",
        "t, m, c, k = sym.symbols('t m c k', real=True)\n",
        "x = sym.Function('x')(t)\n",
        "y = sym.Function('y')(t)\n",
        "\n",
        "ode = sym.Eq(m*y.diff(t, 2) + c*y.diff(t) + k*y, x)\n",
        "ode"
      ],
      "execution_count": null,
      "outputs": [
        {
          "output_type": "execute_result",
          "data": {
            "image/png": "[encoded data removed]",
            "text/latex": "$$c \\frac{d}{d t} y{\\left (t \\right )} + k y{\\left (t \\right )} + m \\frac{d^{2}}{d t^{2}} y{\\left (t \\right )} = x{\\left (t \\right )}$$",
            "text/plain": [
              "                          2             \n",
              "  d                      d              \n",
              "c⋅──(y(t)) + k⋅y(t) + m⋅───(y(t)) = x(t)\n",
              "  dt                      2             \n",
              "                        dt              "
            ]
          },
          "metadata": {
            "tags": []
          },
          "execution_count": 1
        }
      ]
    },
    {
      "cell_type": "markdown",
      "metadata": {
        "id": "6Q8fhKUT7k2q"
      },
      "source": [
        "Se guardan los valores de las constantes en un diccionario para posteriores sustituciones"
      ]
    },
    {
      "cell_type": "code",
      "metadata": {
        "colab": {
          "base_uri": "https://localhost:8080/",
          "height": 34
        },
        "id": "OQg6lok37k2s",
        "outputId": "b6f32b17-67f1-46bf-e26b-83b5321394dd"
      },
      "source": [
        "mck = {m: 0.1, c: sym.Rational('.1'), k: sym.Rational('2.5')}\n",
        "mck"
      ],
      "execution_count": null,
      "outputs": [
        {
          "output_type": "execute_result",
          "data": {
            "image/png": "[encoded data removed]",
            "text/latex": "$$\\left \\{ c : \\frac{1}{10}, \\quad k : \\frac{5}{2}, \\quad m : 0.1\\right \\}$$",
            "text/plain": [
              "{c: 1/10, k: 5/2, m: 0.1}"
            ]
          },
          "metadata": {
            "tags": []
          },
          "execution_count": 2
        }
      ]
    },
    {
      "cell_type": "markdown",
      "metadata": {
        "id": "mol_ZwPs7k21"
      },
      "source": [
        "La respuesta al impulso se calcula al resolver la EDO"
      ]
    },
    {
      "cell_type": "code",
      "metadata": {
        "colab": {
          "base_uri": "https://localhost:8080/",
          "height": 86
        },
        "id": "k7dmJ1Os7k23",
        "outputId": "85c4bcb8-b6aa-4751-beaa-a7ee23999f54"
      },
      "source": [
        "solution_h = sym.dsolve(ode.subs(x, sym.DiracDelta(t)).subs(y, sym.Function('h')(t)))\n",
        "solution_h"
      ],
      "execution_count": null,
      "outputs": [
        {
          "output_type": "execute_result",
          "data": {
            "image/png": "[encoded data removed]",
            "text/latex": "$$h{\\left (t \\right )} = C_{1} e^{\\frac{t \\left(- c - \\sqrt{c^{2} - 4 k m}\\right)}{2 m}} + C_{2} e^{\\frac{t \\left(- c + \\sqrt{c^{2} - 4 k m}\\right)}{2 m}} - \\frac{e^{\\frac{t \\left(- c - \\sqrt{c^{2} - 4 k m}\\right)}{2 m}} \\theta\\left(t\\right)}{\\sqrt{c^{2} - 4 k m}} + \\frac{e^{\\frac{t \\left(- c + \\sqrt{c^{2} - 4 k m}\\right)}{2 m}} \\theta\\left(t\\right)}{\\sqrt{c^{2} - 4 k m}}$$",
            "text/plain": [
              "                                                                        ⎛     \n",
              "             ⎛        ____________⎞         ⎛        ____________⎞      ⎜     \n",
              "             ⎜       ╱  2         ⎟         ⎜       ╱  2         ⎟    t⋅⎝-c - \n",
              "           t⋅⎝-c - ╲╱  c  - 4⋅k⋅m ⎠       t⋅⎝-c + ╲╱  c  - 4⋅k⋅m ⎠    ────────\n",
              "           ────────────────────────       ────────────────────────            \n",
              "                     2⋅m                            2⋅m              ℯ        \n",
              "h(t) = C₁⋅ℯ                         + C₂⋅ℯ                         - ─────────\n",
              "                                                                              \n",
              "                                                                              \n",
              "                                                                              \n",
              "\n",
              "   ____________⎞                   ⎛        ____________⎞             \n",
              "  ╱  2         ⎟                   ⎜       ╱  2         ⎟             \n",
              "╲╱  c  - 4⋅k⋅m ⎠                 t⋅⎝-c + ╲╱  c  - 4⋅k⋅m ⎠             \n",
              "────────────────                 ────────────────────────             \n",
              "  2⋅m                                      2⋅m                        \n",
              "                ⋅Heaviside(t)   ℯ                        ⋅Heaviside(t)\n",
              "───────────────────────────── + ──────────────────────────────────────\n",
              "     ____________                             ____________            \n",
              "    ╱  2                                     ╱  2                     \n",
              "  ╲╱  c  - 4⋅k⋅m                           ╲╱  c  - 4⋅k⋅m             "
            ]
          },
          "metadata": {
            "tags": []
          },
          "execution_count": 3
        }
      ]
    },
    {
      "cell_type": "markdown",
      "metadata": {
        "id": "iAwXOyCd7k3C"
      },
      "source": [
        "Las constantes de integración $C_1$ y $C_2$ se determinan a partir de las condiciones iniciales $y(t) = 0$ y $\\frac{d y(t)}{dt}=0$ para $t<0$. "
      ]
    },
    {
      "cell_type": "code",
      "metadata": {
        "colab": {
          "base_uri": "https://localhost:8080/",
          "height": 34
        },
        "id": "WOiIJDqA7k3E",
        "outputId": "6148b1b4-3824-4ab3-b4a1-6c2ded1d3033"
      },
      "source": [
        "integration_constants = sym.solve( (solution_h.rhs.limit(t, 0, '-'), solution_h.rhs.diff(t).limit(t, 0, '-')), ['C1', 'C2'] )\n",
        "integration_constants"
      ],
      "execution_count": null,
      "outputs": [
        {
          "output_type": "execute_result",
          "data": {
            "image/png": "[encoded data removed]",
            "text/latex": "$$\\left \\{ C_{1} : 0, \\quad C_{2} : 0\\right \\}$$",
            "text/plain": [
              "{C₁: 0, C₂: 0}"
            ]
          },
          "metadata": {
            "tags": []
          },
          "execution_count": 4
        }
      ]
    },
    {
      "cell_type": "markdown",
      "metadata": {
        "id": "aY7TZjU27k3N"
      },
      "source": [
        "La sustitución de los valores de las constantes de integración $C_1$ y $C_2$ en el resultado anterior, produce la respuesta al impulso del sistema mecánico"
      ]
    },
    {
      "cell_type": "code",
      "metadata": {
        "colab": {
          "base_uri": "https://localhost:8080/",
          "height": 69
        },
        "id": "BvMdOUkj7k3P",
        "outputId": "4a384c26-444d-483d-baa4-ef6ffe151700"
      },
      "source": [
        "h = solution_h.subs(integration_constants)\n",
        "h"
      ],
      "execution_count": null,
      "outputs": [
        {
          "output_type": "execute_result",
          "data": {
            "image/png": "[encoded data removed]",
            "text/latex": "$$h{\\left (t \\right )} = - \\frac{e^{\\frac{t \\left(- c - \\sqrt{c^{2} - 4 k m}\\right)}{2 m}} \\theta\\left(t\\right)}{\\sqrt{c^{2} - 4 k m}} + \\frac{e^{\\frac{t \\left(- c + \\sqrt{c^{2} - 4 k m}\\right)}{2 m}} \\theta\\left(t\\right)}{\\sqrt{c^{2} - 4 k m}}$$",
            "text/plain": [
              "            ⎛        ____________⎞                   ⎛        ____________⎞   \n",
              "            ⎜       ╱  2         ⎟                   ⎜       ╱  2         ⎟   \n",
              "          t⋅⎝-c - ╲╱  c  - 4⋅k⋅m ⎠                 t⋅⎝-c + ╲╱  c  - 4⋅k⋅m ⎠   \n",
              "          ────────────────────────                 ────────────────────────   \n",
              "                    2⋅m                                      2⋅m              \n",
              "         ℯ                        ⋅Heaviside(t)   ℯ                        ⋅He\n",
              "h(t) = - ────────────────────────────────────── + ────────────────────────────\n",
              "                       ____________                             ____________  \n",
              "                      ╱  2                                     ╱  2           \n",
              "                    ╲╱  c  - 4⋅k⋅m                           ╲╱  c  - 4⋅k⋅m   \n",
              "\n",
              "          \n",
              "          \n",
              "          \n",
              "          \n",
              "          \n",
              "aviside(t)\n",
              "──────────\n",
              "          \n",
              "          \n",
              "          "
            ]
          },
          "metadata": {
            "tags": []
          },
          "execution_count": 7
        }
      ]
    },
    {
      "cell_type": "markdown",
      "metadata": {
        "id": "jVWDPU6W7k3Z"
      },
      "source": [
        "Se grafica la respuesta para los valores de $m$, $c$ y $k$ definidas anteriormente"
      ]
    },
    {
      "cell_type": "code",
      "metadata": {
        "colab": {
          "base_uri": "https://localhost:8080/",
          "height": 261
        },
        "id": "_gA-N1v47k3b",
        "outputId": "d320f633-1844-455d-cf43-e748a7e8f5af"
      },
      "source": [
        "sym.plot(h.rhs.subs(mck), (t,0,12), ylabel=r'h(t)');"
      ],
      "execution_count": null,
      "outputs": [
        {
          "output_type": "display_data",
          "data": {
            "image/png": "[encoded data removed]",
            "text/plain": [
              "<Figure size 432x288 with 1 Axes>"
            ]
          },
          "metadata": {
            "tags": [],
            "needs_background": "light"
          }
        }
      ]
    },
    {
      "cell_type": "markdown",
      "metadata": {
        "id": "RBSU-Q3l7k3m"
      },
      "source": [
        "### Función de Transferencia\n",
        "\n",
        "Para una señal exponencial de entrada $x(t)=e^{st}$, la función de transferencia $H(s)$ representa el peso de la entrada, tal que $y(t) = H(s) \\cdot e^{s t}$. La función de transferencia se obtiene al introducir $x(t)$ y $y(t)$ en la EDO y resolver para $H(s)$"
      ]
    },
    {
      "cell_type": "code",
      "metadata": {
        "colab": {
          "base_uri": "https://localhost:8080/",
          "height": 34
        },
        "id": "8SK-CphO7k3o",
        "outputId": "cb5854a6-b2c0-49ce-9d3e-f3b9174e59a4"
      },
      "source": [
        "s = sym.symbols('s')\n",
        "H = sym.Function('H')(s)\n",
        "\n",
        "H, = sym.solve(ode.subs(x, sym.exp(s*t)).subs(y, H*sym.exp(s*t)).doit(), H)\n",
        "H"
      ],
      "execution_count": null,
      "outputs": [
        {
          "output_type": "execute_result",
          "data": {
            "image/png": "[encoded data removed]",
            "text/latex": "$$\\frac{1}{c s + k + m s^{2}}$$",
            "text/plain": [
              "      1       \n",
              "──────────────\n",
              "             2\n",
              "c⋅s + k + m⋅s "
            ]
          },
          "metadata": {
            "tags": []
          },
          "execution_count": 9
        }
      ]
    },
    {
      "cell_type": "markdown",
      "metadata": {
        "id": "DxCLfu7e7k3v"
      },
      "source": [
        "Las características de transferencia de un SLTI para señales exponenciales armónicas $e^{j\\omega}=\\cos(\\omega t)+j\\sin(\\omega t)$ son de especial interés en el análisis de sistemas resonantes. Se pueden derivar de $H(s)$ sustituyendo la frecuencia compleja $s$ por $s=j\\omega$. La función de transferencia resultante $H(j\\omega)$ proporciona la atenuación y la fase que el sistema agrega a una señal de entrada armónica."
      ]
    },
    {
      "cell_type": "code",
      "metadata": {
        "colab": {
          "base_uri": "https://localhost:8080/",
          "height": 34
        },
        "id": "M71QaIcm7k3w",
        "outputId": "29569e0f-4905-4745-b07f-c248514744da"
      },
      "source": [
        "w = sym.symbols('omega', real=True)\n",
        "\n",
        "Hjw = H.subs(s, sym.I * w)\n",
        "Hjw"
      ],
      "execution_count": null,
      "outputs": [
        {
          "output_type": "execute_result",
          "data": {
            "image/png": "[encoded data removed]",
            "text/latex": "$$\\frac{1}{i c \\omega + k - m \\omega^{2}}$$",
            "text/plain": [
              "       1        \n",
              "────────────────\n",
              "               2\n",
              "ⅈ⋅c⋅ω + k - m⋅ω "
            ]
          },
          "metadata": {
            "tags": []
          },
          "execution_count": 10
        }
      ]
    },
    {
      "cell_type": "markdown",
      "metadata": {
        "id": "8b87wEpL7k34"
      },
      "source": [
        "La magnitud de la función de transferencia $|H(j\\omega)|$ se grafica para los valores de los parámetros dados anteriormente"
      ]
    },
    {
      "cell_type": "code",
      "metadata": {
        "id": "HiYpg_Vd7k36",
        "outputId": "5aa8037e-365b-4b69-ead5-4fb8d1456e56"
      },
      "source": [
        "sym.plot(abs(Hjw.subs(mck)), (w, -15, 15), ylabel=r'$|H(j \\omega)|$', xlabel=r'$\\omega$');"
      ],
      "execution_count": null,
      "outputs": [
        {
          "output_type": "display_data",
          "data": {
            "image/png": "[encoded data removed]",
            "text/plain": [
              "<Figure size 432x288 with 1 Axes>"
            ]
          },
          "metadata": {
            "tags": [],
            "needs_background": "light"
          }
        }
      ]
    },
    {
      "cell_type": "markdown",
      "metadata": {
        "id": "U82rDJ-J7k4B"
      },
      "source": [
        "Al inspeccionar la magnitud de la función de transferencia, se hace evidente que el péndulo del resorte amortiguado muestra resonancias (picos máximos) para dos frecuencias angulares específicas. Estas frecuencias de resonancia $\\omega_0$ se calculan desde los valores extremos de $|H(j\\omega)|$. Primero se calcula la derivada de $|H(j\\omega)|$ con respecto a $\\omega$ y luego se igual a cero"
      ]
    },
    {
      "cell_type": "code",
      "metadata": {
        "colab": {
          "base_uri": "https://localhost:8080/",
          "height": 69
        },
        "id": "JS9oWlIZ7k4D",
        "outputId": "57f24884-3b53-456d-a14f-9afeb7316bfb"
      },
      "source": [
        "extrema = sym.solve(sym.Eq(sym.diff(abs(Hjw), w),0),w)\n",
        "extrema"
      ],
      "execution_count": null,
      "outputs": [
        {
          "output_type": "execute_result",
          "data": {
            "image/png": "[encoded data removed]",
            "text/latex": "$$\\left [ 0, \\quad - \\frac{\\sqrt{- \\frac{c^{2}}{2} + k m}}{m}, \\quad \\frac{\\sqrt{- \\frac{c^{2}}{2} + k m}}{m}\\right ]$$",
            "text/plain": [
              "⎡         ____________        ____________⎤\n",
              "⎢        ╱    2              ╱    2       ⎥\n",
              "⎢       ╱    c              ╱    c        ⎥\n",
              "⎢   -  ╱   - ── + k⋅m      ╱   - ── + k⋅m ⎥\n",
              "⎢    ╲╱      2           ╲╱      2        ⎥\n",
              "⎢0, ───────────────────, ─────────────────⎥\n",
              "⎣            m                   m        ⎦"
            ]
          },
          "metadata": {
            "tags": []
          },
          "execution_count": 13
        }
      ]
    },
    {
      "cell_type": "markdown",
      "metadata": {
        "id": "BUr9MQz17k4L"
      },
      "source": [
        "Para los máximos de la función de transferencia solo es de interés el segundo y el tercer extremo"
      ]
    },
    {
      "cell_type": "code",
      "metadata": {
        "colab": {
          "base_uri": "https://localhost:8080/",
          "height": 34
        },
        "id": "SY5BAevS7k4N",
        "outputId": "aa5e680a-3023-41b1-9f70-99c5cfb3c50c"
      },
      "source": [
        "w0 = extrema[1:3]\n",
        "w0"
      ],
      "execution_count": null,
      "outputs": [
        {
          "output_type": "execute_result",
          "data": {
            "image/png": "[encoded data removed]",
            "text/latex": "$$\\left [ - \\frac{\\sqrt{- \\frac{c^{2}}{2} + k m}}{m}, \\quad \\frac{\\sqrt{- \\frac{c^{2}}{2} + k m}}{m}\\right ]$$",
            "text/plain": [
              "⎡      ____________        ____________⎤\n",
              "⎢     ╱    2              ╱    2       ⎥\n",
              "⎢    ╱    c              ╱    c        ⎥\n",
              "⎢-  ╱   - ── + k⋅m      ╱   - ── + k⋅m ⎥\n",
              "⎢ ╲╱      2           ╲╱      2        ⎥\n",
              "⎢───────────────────, ─────────────────⎥\n",
              "⎣         m                   m        ⎦"
            ]
          },
          "metadata": {
            "tags": []
          },
          "execution_count": 14
        }
      ]
    },
    {
      "cell_type": "markdown",
      "metadata": {
        "id": "3z6o5V4w7k4W"
      },
      "source": [
        "Las frecuencias de resonancia se calculan para los valores de $m$, $c$ y $k$ dados anteriormente"
      ]
    },
    {
      "cell_type": "code",
      "metadata": {
        "colab": {
          "base_uri": "https://localhost:8080/",
          "height": 34
        },
        "id": "h0iYkA-W7k4X",
        "outputId": "0f0cb370-f80b-4d29-da85-b4dd79a5565a"
      },
      "source": [
        "[w00.subs(mck) for w00 in w0]"
      ],
      "execution_count": null,
      "outputs": [
        {
          "output_type": "execute_result",
          "data": {
            "image/png": "[encoded data removed]",
            "text/latex": "$$\\left [ -4.94974746830583, \\quad 4.94974746830583\\right ]$$",
            "text/plain": [
              "[-4.94974746830583, 4.94974746830583]"
            ]
          },
          "metadata": {
            "tags": []
          },
          "execution_count": 15
        }
      ]
    },
    {
      "cell_type": "markdown",
      "metadata": {
        "id": "BiebSBR67k4c"
      },
      "source": [
        "La fase de la función de transferencia $\\varphi (j\\omega)$ se calcula y grafica para los valores específicos de los elementos dados anteriormente"
      ]
    },
    {
      "cell_type": "code",
      "metadata": {
        "colab": {
          "base_uri": "https://localhost:8080/",
          "height": 265
        },
        "id": "rzvMK_Qh7k4d",
        "outputId": "38f5be03-86ff-4ceb-c2a6-7b545a0ade96"
      },
      "source": [
        "phi = sym.arg(Hjw)\n",
        "sym.plot(phi.subs(mck), (w, -15, 15), ylabel=r'$\\varphi(j \\omega)$', xlabel=r'$\\omega$');"
      ],
      "execution_count": null,
      "outputs": [
        {
          "output_type": "display_data",
          "data": {
            "image/png": "[encoded data removed]",
            "text/plain": [
              "<Figure size 432x288 with 1 Axes>"
            ]
          },
          "metadata": {
            "tags": [],
            "needs_background": "light"
          }
        }
      ]
    },
    {
      "cell_type": "markdown",
      "metadata": {
        "id": "TW8mdAPU7k4l"
      },
      "source": [
        "**Ejercicio**\n",
        "\n",
        "* Cambie el coeficiente de amortiguamiento $c$ del péndulo elástico e indique cómo cambia la magnitud y la fase de la función de transferencia $H(j\\omega)$.\n",
        "\n",
        "* Qué relación hay entre la frecuencia de oscilación y las frecuencias de resonancia?"
      ]
    },
    {
      "cell_type": "markdown",
      "metadata": {
        "id": "zfnD6qGU7k4q",
        "nbsphinx": "hidden"
      },
      "source": [
        "**Copyright**\n",
        "\n",
        "The notebooks are provided as [Open Educational Resource](https://de.wikipedia.org/wiki/Open_Educational_Resources). Feel free to use the notebooks for your own educational purposes. The text is licensed under [Creative Commons Attribution 4.0](https://creativecommons.org/licenses/by/4.0/), the code of the IPython examples under the [MIT license](https://opensource.org/licenses/MIT). Please attribute the work as follows: *Lecture Notes on Signals and Systems* by Sascha Spors."
      ]
    }
  ]
}