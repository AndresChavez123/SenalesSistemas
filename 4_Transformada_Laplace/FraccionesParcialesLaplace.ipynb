{
  "nbformat": 4,
  "nbformat_minor": 0,
  "metadata": {
    "colab": {
      "name": "FraccionesParcialesLaplace.ipynb",
      "provenance": [],
      "authorship_tag": "ABX9TyPwevlv5S5gi5az/skF4Jr3",
      "include_colab_link": true
    },
    "kernelspec": {
      "name": "python3",
      "display_name": "Python 3"
    },
    "language_info": {
      "name": "python"
    }
  },
  "cells": [
    {
      "cell_type": "markdown",
      "metadata": {
        "id": "view-in-github",
        "colab_type": "text"
      },
      "source": [
        "<a href=\"https://colab.research.google.com/github/amalvarezme/SenalesSistemas/blob/master/4_Transformada_Laplace/FraccionesParcialesLaplace.ipynb\" target=\"_parent\"><img src=\"https://colab.research.google.com/assets/colab-badge.svg\" alt=\"Open In Colab\"/></a>"
      ]
    },
    {
      "cell_type": "markdown",
      "metadata": {
        "id": "6eV8qtEGT5Em"
      },
      "source": [
        "# Solución de SLIT con Laplace en Sympy\n",
        "\n",
        "Aplicación de fracciones parciales"
      ]
    },
    {
      "cell_type": "code",
      "metadata": {
        "colab": {
          "base_uri": "https://localhost:8080/",
          "height": 55
        },
        "id": "xtHozoTWPhJQ",
        "outputId": "ff642dd8-99bc-42a4-e010-fe7675a2f659"
      },
      "source": [
        "import sympy as sym\n",
        "sym.init_printing()\n",
        "\n",
        "s = sym.symbols('s', complex=True)\n",
        "t, R, L, C = sym.symbols('t R L C', positive=True)\n",
        "#Entrada de interés en Laplace\n",
        "X = 1/s**2 # x(t)=t -> Función rampa\n",
        "\n",
        "Y = 1/(L*C*s**2 + R*C*s + 1) * X\n",
        "#Función de salida\n",
        "Y"
      ],
      "execution_count": 1,
      "outputs": [
        {
          "output_type": "execute_result",
          "data": {
            "image/png": "[encoded data removed]",
            "text/latex": "$\\displaystyle \\frac{1}{s^{2} \\left(C L s^{2} + C R s + 1\\right)}$",
            "text/plain": [
              "           1           \n",
              "───────────────────────\n",
              " 2 ⎛     2            ⎞\n",
              "s ⋅⎝C⋅L⋅s  + C⋅R⋅s + 1⎠"
            ]
          },
          "metadata": {},
          "execution_count": 1
        }
      ]
    },
    {
      "cell_type": "code",
      "metadata": {
        "colab": {
          "base_uri": "https://localhost:8080/",
          "height": 57
        },
        "id": "JkGPVh1uQVsm",
        "outputId": "dc40c53a-c588-4c4a-ce98-968c9a89c541"
      },
      "source": [
        "#Función de salida en Laplace factorizada (fracciones parciales)\n",
        "Yp = Y.apart(s)\n",
        "Yp"
      ],
      "execution_count": 2,
      "outputs": [
        {
          "output_type": "execute_result",
          "data": {
            "image/png": "[encoded data removed]",
            "text/latex": "$\\displaystyle - \\frac{C R}{s} + \\frac{C \\left(C L R s + C R^{2} - L\\right)}{C L s^{2} + C R s + 1} + \\frac{1}{s^{2}}$",
            "text/plain": [
              "          ⎛             2    ⎞     \n",
              "  C⋅R   C⋅⎝C⋅L⋅R⋅s + C⋅R  - L⎠   1 \n",
              "- ─── + ────────────────────── + ──\n",
              "   s           2                  2\n",
              "          C⋅L⋅s  + C⋅R⋅s + 1     s "
            ]
          },
          "metadata": {},
          "execution_count": 2
        }
      ]
    },
    {
      "cell_type": "code",
      "metadata": {
        "colab": {
          "base_uri": "https://localhost:8080/",
          "height": 407
        },
        "id": "xKeivQIkP553",
        "outputId": "09bd3539-ec02-4f49-d1e9-bf17c2812678"
      },
      "source": [
        "#Modelo en el tiempo en función de RLC\n",
        "Ye = Yp\n",
        "#Se recorre cada fracción parcial según factorización para simplificar cálculos\n",
        "for j in range(len(Ye.args)):\n",
        "    if j==0:#primer elemento de la solucion\n",
        "      yt = sym.inverse_laplace_transform(Ye.args[j], s, t)\n",
        "    else: #siguientes elementos concatenados\n",
        "      yt+= sym.inverse_laplace_transform(Ye.args[j], s, t) \n",
        "yt"
      ],
      "execution_count": 3,
      "outputs": [
        {
          "output_type": "execute_result",
          "data": {
            "image/png": "[encoded data removed]",
            "text/latex": "$\\displaystyle C R \\left(\\frac{\\left(i e^{- \\frac{t \\left(R - \\frac{\\cos{\\left(\\frac{\\operatorname{atan_{2}}{\\left(0,C R^{2} - 4 L \\right)}}{2} \\right)} \\sqrt{\\left|{C R^{2} - 4 L}\\right|}}{\\sqrt{C}}\\right)}{2 L}} \\sin{\\left(\\frac{t \\sin{\\left(\\frac{\\operatorname{atan_{2}}{\\left(0,C R^{2} - 4 L \\right)}}{2} \\right)} \\sqrt{\\left|{C R^{2} - 4 L}\\right|}}{2 \\sqrt{C} L} \\right)} + e^{- \\frac{t \\left(R - \\frac{\\cos{\\left(\\frac{\\operatorname{atan_{2}}{\\left(0,C R^{2} - 4 L \\right)}}{2} \\right)} \\sqrt{\\left|{C R^{2} - 4 L}\\right|}}{\\sqrt{C}}\\right)}{2 L}} \\cos{\\left(\\frac{t \\sin{\\left(\\frac{\\operatorname{atan_{2}}{\\left(0,C R^{2} - 4 L \\right)}}{2} \\right)} \\sqrt{\\left|{C R^{2} - 4 L}\\right|}}{2 \\sqrt{C} L} \\right)}\\right) \\left(C^{\\frac{3}{2}} R^{2} - 2 \\sqrt{C} L + C R \\sqrt{C R^{2} - 4 L}\\right) \\Gamma\\left(\\frac{\\sqrt{C R^{2} - 4 L}}{\\sqrt{C} L}\\right)}{2 C^{\\frac{3}{2}} L R \\Gamma\\left(1 + \\frac{\\sqrt{C R^{2} - 4 L}}{\\sqrt{C} L}\\right)} + \\frac{\\left(i e^{- \\frac{t \\left(R + \\frac{\\cos{\\left(\\frac{\\operatorname{atan_{2}}{\\left(0,C R^{2} - 4 L \\right)}}{2} \\right)} \\sqrt{\\left|{C R^{2} - 4 L}\\right|}}{\\sqrt{C}}\\right)}{2 L}} \\sin{\\left(\\frac{t \\sin{\\left(\\frac{\\operatorname{atan_{2}}{\\left(0,C R^{2} - 4 L \\right)}}{2} \\right)} \\sqrt{\\left|{C R^{2} - 4 L}\\right|}}{2 \\sqrt{C} L} \\right)} - e^{- \\frac{t \\left(R + \\frac{\\cos{\\left(\\frac{\\operatorname{atan_{2}}{\\left(0,C R^{2} - 4 L \\right)}}{2} \\right)} \\sqrt{\\left|{C R^{2} - 4 L}\\right|}}{\\sqrt{C}}\\right)}{2 L}} \\cos{\\left(\\frac{t \\sin{\\left(\\frac{\\operatorname{atan_{2}}{\\left(0,C R^{2} - 4 L \\right)}}{2} \\right)} \\sqrt{\\left|{C R^{2} - 4 L}\\right|}}{2 \\sqrt{C} L} \\right)}\\right) \\left(- C^{\\frac{3}{2}} R^{2} + 2 \\sqrt{C} L + C R \\sqrt{C R^{2} - 4 L}\\right) \\Gamma\\left(- \\frac{\\sqrt{C R^{2} - 4 L}}{\\sqrt{C} L}\\right)}{2 C^{\\frac{3}{2}} L R \\Gamma\\left(1 - \\frac{\\sqrt{C R^{2} - 4 L}}{\\sqrt{C} L}\\right)}\\right) - C R + t$",
            "text/plain": [
              "    ⎛⎛      ⎛       ⎛     ⎛      2      ⎞⎞    ______________⎞                 \n",
              "    ⎜⎜      ⎜       ⎜atan2⎝0, C⋅R  - 4⋅L⎠⎟   ╱ │   2      │ ⎟                 \n",
              "    ⎜⎜      ⎜    cos⎜────────────────────⎟⋅╲╱  │C⋅R  - 4⋅L│ ⎟                 \n",
              "    ⎜⎜      ⎜       ⎝         2          ⎠                  ⎟                 \n",
              "    ⎜⎜   -t⋅⎜R - ───────────────────────────────────────────⎟     ⎛     ⎛     \n",
              "    ⎜⎜      ⎝                         √C                    ⎠     ⎜     ⎜atan2\n",
              "    ⎜⎜   ─────────────────────────────────────────────────────    ⎜t⋅sin⎜─────\n",
              "    ⎜⎜                            2⋅L                             ⎜     ⎝     \n",
              "    ⎜⎜ⅈ⋅ℯ                                                     ⋅sin⎜───────────\n",
              "    ⎜⎝                                                            ⎝           \n",
              "C⋅R⋅⎜─────────────────────────────────────────────────────────────────────────\n",
              "    ⎜                                                                         \n",
              "    ⎜                                                                         \n",
              "    ⎜                                                                         \n",
              "    ⎜                                                                         \n",
              "    ⎝                                                                         \n",
              "\n",
              "                                          ⎛       ⎛     ⎛      2      ⎞⎞    __\n",
              "                                          ⎜       ⎜atan2⎝0, C⋅R  - 4⋅L⎠⎟   ╱ │\n",
              "                                          ⎜    cos⎜────────────────────⎟⋅╲╱  │\n",
              "                                          ⎜       ⎝         2          ⎠      \n",
              "⎛      2      ⎞⎞    ______________⎞    -t⋅⎜R - ───────────────────────────────\n",
              "⎝0, C⋅R  - 4⋅L⎠⎟   ╱ │   2      │ ⎟       ⎝                         √C        \n",
              "───────────────⎟⋅╲╱  │C⋅R  - 4⋅L│ ⎟    ───────────────────────────────────────\n",
              "    2          ⎠                  ⎟                             2⋅L           \n",
              "──────────────────────────────────⎟ + ℯ                                       \n",
              "         2⋅√C⋅L                   ⎠                                           \n",
              "──────────────────────────────────────────────────────────────────────────────\n",
              "                                                             ⎛       _________\n",
              "                                                             ⎜      ╱    2    \n",
              "                                                    3/2      ⎜    ╲╱  C⋅R  - 4\n",
              "                                                 2⋅C   ⋅L⋅R⋅Γ⎜1 + ────────────\n",
              "                                                             ⎝          √C⋅L  \n",
              "\n",
              "____________⎞                                                    ⎞            \n",
              "   2      │ ⎟                                                    ⎟            \n",
              "C⋅R  - 4⋅L│ ⎟                                                    ⎟            \n",
              "            ⎟                                                    ⎟            \n",
              "────────────⎟     ⎛     ⎛     ⎛      2      ⎞⎞    ______________⎞⎟            \n",
              "            ⎠     ⎜     ⎜atan2⎝0, C⋅R  - 4⋅L⎠⎟   ╱ │   2      │ ⎟⎟            \n",
              "──────────────    ⎜t⋅sin⎜────────────────────⎟⋅╲╱  │C⋅R  - 4⋅L│ ⎟⎟ ⎛          \n",
              "                  ⎜     ⎝         2          ⎠                  ⎟⎟ ⎜ 3/2  2   \n",
              "              ⋅cos⎜─────────────────────────────────────────────⎟⎟⋅⎝C   ⋅R  - \n",
              "                  ⎝                    2⋅√C⋅L                   ⎠⎠            \n",
              "──────────────────────────────────────────────────────────────────────────────\n",
              "___⎞                                                                          \n",
              "   ⎟                                                                          \n",
              "⋅L ⎟                                                                          \n",
              "───⎟                                                                          \n",
              "   ⎠                                                                          \n",
              "\n",
              "                                                   ⎛      ⎛       ⎛     ⎛     \n",
              "                                                   ⎜      ⎜       ⎜atan2⎝0, C⋅\n",
              "                                                   ⎜      ⎜    cos⎜───────────\n",
              "                                                   ⎜      ⎜       ⎝         2 \n",
              "                                                   ⎜   -t⋅⎜R + ───────────────\n",
              "                               ⎛   ____________⎞   ⎜      ⎝                   \n",
              "                ____________⎞  ⎜  ╱    2       ⎟   ⎜   ───────────────────────\n",
              "               ╱    2       ⎟  ⎜╲╱  C⋅R  - 4⋅L ⎟   ⎜                          \n",
              "2⋅√C⋅L + C⋅R⋅╲╱  C⋅R  - 4⋅L ⎠⋅Γ⎜───────────────⎟   ⎜ⅈ⋅ℯ                       \n",
              "                               ⎝      √C⋅L     ⎠   ⎝                          \n",
              "──────────────────────────────────────────────── + ───────────────────────────\n",
              "                                                                              \n",
              "                                                                              \n",
              "                                                                              \n",
              "                                                                              \n",
              "                                                                              \n",
              "\n",
              " 2      ⎞⎞    ______________⎞                                                 \n",
              "R  - 4⋅L⎠⎟   ╱ │   2      │ ⎟                                                 \n",
              "─────────⎟⋅╲╱  │C⋅R  - 4⋅L│ ⎟                                                 \n",
              "         ⎠                  ⎟                                                 \n",
              "────────────────────────────⎟     ⎛     ⎛     ⎛      2      ⎞⎞    ____________\n",
              "      √C                    ⎠     ⎜     ⎜atan2⎝0, C⋅R  - 4⋅L⎠⎟   ╱ │   2      \n",
              "──────────────────────────────    ⎜t⋅sin⎜────────────────────⎟⋅╲╱  │C⋅R  - 4⋅L\n",
              "  2⋅L                             ⎜     ⎝         2          ⎠                \n",
              "                              ⋅sin⎜───────────────────────────────────────────\n",
              "                                  ⎝                    2⋅√C⋅L                 \n",
              "──────────────────────────────────────────────────────────────────────────────\n",
              "                                                                              \n",
              "                                                                              \n",
              "                                                                              \n",
              "                                                                              \n",
              "                                                                              \n",
              "\n",
              "          ⎛       ⎛     ⎛      2      ⎞⎞    ______________⎞                   \n",
              "          ⎜       ⎜atan2⎝0, C⋅R  - 4⋅L⎠⎟   ╱ │   2      │ ⎟                   \n",
              "          ⎜    cos⎜────────────────────⎟⋅╲╱  │C⋅R  - 4⋅L│ ⎟                   \n",
              "          ⎜       ⎝         2          ⎠                  ⎟                   \n",
              "__⎞    -t⋅⎜R + ───────────────────────────────────────────⎟     ⎛     ⎛     ⎛ \n",
              "│ ⎟       ⎝                         √C                    ⎠     ⎜     ⎜atan2⎝0\n",
              "│ ⎟    ─────────────────────────────────────────────────────    ⎜t⋅sin⎜───────\n",
              "  ⎟                             2⋅L                             ⎜     ⎝       \n",
              "──⎟ - ℯ                                                     ⋅cos⎜─────────────\n",
              "  ⎠                                                             ⎝             \n",
              "──────────────────────────────────────────────────────────────────────────────\n",
              "                               ⎛       ____________⎞                          \n",
              "                               ⎜      ╱    2       ⎟                          \n",
              "                      3/2      ⎜    ╲╱  C⋅R  - 4⋅L ⎟                          \n",
              "                   2⋅C   ⋅L⋅R⋅Γ⎜1 - ───────────────⎟                          \n",
              "                               ⎝          √C⋅L     ⎠                          \n",
              "\n",
              "                                 ⎞                                            \n",
              "                                 ⎟                                            \n",
              "                                 ⎟                                            \n",
              "                                 ⎟                                            \n",
              "     2      ⎞⎞    ______________⎞⎟                                            \n",
              ", C⋅R  - 4⋅L⎠⎟   ╱ │   2      │ ⎟⎟                                            \n",
              "─────────────⎟⋅╲╱  │C⋅R  - 4⋅L│ ⎟⎟ ⎛                            ____________⎞ \n",
              "  2          ⎠                  ⎟⎟ ⎜   3/2  2                  ╱    2       ⎟ \n",
              "────────────────────────────────⎟⎟⋅⎝- C   ⋅R  + 2⋅√C⋅L + C⋅R⋅╲╱  C⋅R  - 4⋅L ⎠⋅\n",
              "       2⋅√C⋅L                   ⎠⎠                                            \n",
              "──────────────────────────────────────────────────────────────────────────────\n",
              "                                                                              \n",
              "                                                                              \n",
              "                                                                              \n",
              "                                                                              \n",
              "                                                                              \n",
              "\n",
              "                    ⎞          \n",
              "                    ⎟          \n",
              "                    ⎟          \n",
              "                    ⎟          \n",
              "                    ⎟          \n",
              " ⎛    ____________ ⎞⎟          \n",
              " ⎜   ╱    2        ⎟⎟          \n",
              " ⎜-╲╱  C⋅R  - 4⋅L  ⎟⎟          \n",
              "Γ⎜─────────────────⎟⎟          \n",
              " ⎝       √C⋅L      ⎠⎟          \n",
              "────────────────────⎟ - C⋅R + t\n",
              "                    ⎟          \n",
              "                    ⎟          \n",
              "                    ⎟          \n",
              "                    ⎟          \n",
              "                    ⎠          "
            ]
          },
          "metadata": {},
          "execution_count": 3
        }
      ]
    },
    {
      "cell_type": "code",
      "metadata": {
        "colab": {
          "base_uri": "https://localhost:8080/",
          "height": 53
        },
        "id": "HvFrliWtTsZb",
        "outputId": "00aaaf1f-a8c3-43ed-f61b-906e82a818c5"
      },
      "source": [
        "#Modelo en el tiempo con RLC evaluados\n",
        "RLC = {R: 1, L: sym.Rational('.5'), C: sym.Rational('.4')}\n",
        "Ye = Yp.subs(RLC)\n",
        "for j in range(len(Ye.args)):\n",
        "    if j==0:\n",
        "      yt = sym.inverse_laplace_transform(Ye.args[j], s, t)\n",
        "    else:\n",
        "      yt+= sym.inverse_laplace_transform(Ye.args[j], s, t)\n",
        " \n",
        "yt"
      ],
      "execution_count": 4,
      "outputs": [
        {
          "output_type": "execute_result",
          "data": {
            "image/png": "[encoded data removed]",
            "text/latex": "$\\displaystyle t + \\frac{\\left(- 3 \\sin{\\left(2 t \\right)} + 4 \\cos{\\left(2 t \\right)}\\right) e^{- t}}{10} - \\frac{2}{5}$",
            "text/plain": [
              "                                -t    \n",
              "    (-3⋅sin(2⋅t) + 4⋅cos(2⋅t))⋅ℯ     2\n",
              "t + ────────────────────────────── - ─\n",
              "                  10                 5"
            ]
          },
          "metadata": {},
          "execution_count": 4
        }
      ]
    },
    {
      "cell_type": "code",
      "metadata": {
        "colab": {
          "base_uri": "https://localhost:8080/",
          "height": 73
        },
        "id": "_1m-fUIGQHGh",
        "outputId": "9a50e084-4e43-4cba-dc8a-a6225574ca47"
      },
      "source": [
        "#Función de salida Y(s) -- Laplace\n",
        "Ye"
      ],
      "execution_count": 5,
      "outputs": [
        {
          "output_type": "execute_result",
          "data": {
            "image/png": "[encoded data removed]",
            "text/latex": "$\\displaystyle \\frac{2 \\left(\\frac{s}{5} - \\frac{1}{10}\\right)}{5 \\left(\\frac{s^{2}}{5} + \\frac{2 s}{5} + 1\\right)} - \\frac{2}{5 s} + \\frac{1}{s^{2}}$",
            "text/plain": [
              "     ⎛s   1 ⎞              \n",
              "   2⋅⎜─ - ──⎟              \n",
              "     ⎝5   10⎠       2    1 \n",
              "──────────────── - ─── + ──\n",
              "  ⎛ 2          ⎞   5⋅s    2\n",
              "  ⎜s    2⋅s    ⎟         s \n",
              "5⋅⎜── + ─── + 1⎟           \n",
              "  ⎝5     5     ⎠           "
            ]
          },
          "metadata": {},
          "execution_count": 5
        }
      ]
    },
    {
      "cell_type": "code",
      "metadata": {
        "colab": {
          "base_uri": "https://localhost:8080/",
          "height": 53
        },
        "id": "pMMABSqMSc8m",
        "outputId": "f388875e-f3c0-4074-c7f5-5ae51e673b37"
      },
      "source": [
        "#Función de salida y(t) -- en tiempo\n",
        "yt"
      ],
      "execution_count": 6,
      "outputs": [
        {
          "output_type": "execute_result",
          "data": {
            "image/png": "[encoded data removed]",
            "text/latex": "$\\displaystyle t + \\frac{\\left(- 3 \\sin{\\left(2 t \\right)} + 4 \\cos{\\left(2 t \\right)}\\right) e^{- t}}{10} - \\frac{2}{5}$",
            "text/plain": [
              "                                -t    \n",
              "    (-3⋅sin(2⋅t) + 4⋅cos(2⋅t))⋅ℯ     2\n",
              "t + ────────────────────────────── - ─\n",
              "                  10                 5"
            ]
          },
          "metadata": {},
          "execution_count": 6
        }
      ]
    },
    {
      "cell_type": "code",
      "metadata": {
        "colab": {
          "base_uri": "https://localhost:8080/",
          "height": 315
        },
        "id": "C_mnTxEYSd9l",
        "outputId": "aa480440-fcf8-484b-b8d6-c3ae0a787323"
      },
      "source": [
        "#Gráfica de salida en el tiempo\n",
        "sym.plot(yt, (t, 0, 5), xlabel='$t$', ylabel='$y(t)$')"
      ],
      "execution_count": 7,
      "outputs": [
        {
          "output_type": "display_data",
          "data": {
            "image/png": "[encoded data removed]",
            "text/plain": [
              "<Figure size 432x288 with 1 Axes>"
            ]
          },
          "metadata": {
            "needs_background": "light"
          }
        },
        {
          "output_type": "execute_result",
          "data": {
            "text/plain": [
              "<sympy.plotting.plot.Plot at 0x7fbe0040ea50>"
            ]
          },
          "metadata": {},
          "execution_count": 7
        }
      ]
    },
    {
      "cell_type": "code",
      "metadata": {
        "id": "A4egt_AZSsJX"
      },
      "source": [
        ""
      ],
      "execution_count": 7,
      "outputs": []
    }
  ]
}