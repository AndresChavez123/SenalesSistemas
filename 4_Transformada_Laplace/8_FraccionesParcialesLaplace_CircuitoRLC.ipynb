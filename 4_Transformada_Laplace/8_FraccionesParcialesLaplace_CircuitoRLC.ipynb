{
  "nbformat": 4,
  "nbformat_minor": 0,
  "metadata": {
    "colab": {
      "name": "FraccionesParcialesLaplace.ipynb",
      "provenance": [],
      "authorship_tag": "ABX9TyNdIKsJBHaYltbzVtDsOd6b",
      "include_colab_link": true
    },
    "kernelspec": {
      "name": "python3",
      "display_name": "Python 3"
    },
    "language_info": {
      "name": "python"
    }
  },
  "cells": [
    {
      "cell_type": "markdown",
      "metadata": {
        "id": "view-in-github",
        "colab_type": "text"
      },
      "source": [
        "<a href=\"https://colab.research.google.com/github/amalvarezme/SenalesSistemas/blob/master/4_Transformada_Laplace/8_FraccionesParcialesLaplace_CircuitoRLC.ipynb\" target=\"_parent\"><img src=\"https://colab.research.google.com/assets/colab-badge.svg\" alt=\"Open In Colab\"/></a>"
      ]
    },
    {
      "cell_type": "markdown",
      "metadata": {
        "id": "6eV8qtEGT5Em"
      },
      "source": [
        "# Solución de SLIT - Circuito RLC utilizando transformada de Laplace en Sympy\n",
        "\n",
        "Aplicación de fracciones parciales en circuito RLC:"
      ]
    },
    {
      "cell_type": "code",
      "metadata": {
        "colab": {
          "base_uri": "https://localhost:8080/",
          "height": 59
        },
        "id": "xtHozoTWPhJQ",
        "outputId": "cf32e5b8-e959-49e4-98f1-5b2e1b7f3d77"
      },
      "source": [
        "import sympy as sym\n",
        "import matplotlib.pyplot as plt\n",
        "\n",
        "sym.init_printing()\n",
        "\n",
        "s = sym.symbols('s', complex=True)\n",
        "t, R, L, C = sym.symbols('t R L C', positive=True)\n",
        "#Entrada de interés en Laplace\n",
        "X = 1/s # Ajustar según tipo de entrada\n",
        "H = 1/(L*C*s**2 + R*C*s + 1)\n",
        "\n",
        "Y = H * X #función de transferencia del circuito multiplicada por X(s)\n",
        "#Función de salida\n",
        "Y"
      ],
      "execution_count": 23,
      "outputs": [
        {
          "output_type": "execute_result",
          "data": {
            "image/png": "[encoded data removed]",
            "text/latex": "$\\displaystyle \\frac{1}{s \\left(1 + \\frac{1}{C L s^{2} + C R s + 1}\\right) \\left(C L s^{2} + C R s + 1\\right)}$",
            "text/plain": [
              "                       1                       \n",
              "───────────────────────────────────────────────\n",
              "  ⎛            1         ⎞ ⎛     2            ⎞\n",
              "s⋅⎜1 + ──────────────────⎟⋅⎝C⋅L⋅s  + C⋅R⋅s + 1⎠\n",
              "  ⎜         2            ⎟                     \n",
              "  ⎝    C⋅L⋅s  + C⋅R⋅s + 1⎠                     "
            ]
          },
          "metadata": {},
          "execution_count": 23
        }
      ]
    },
    {
      "cell_type": "code",
      "metadata": {
        "colab": {
          "base_uri": "https://localhost:8080/",
          "height": 57
        },
        "id": "JkGPVh1uQVsm",
        "outputId": "d5bc7360-cc15-49b8-a5f3-e4e79987d193"
      },
      "source": [
        "#Función de salida en Laplace factorizada (fracciones parciales)\n",
        "Yp = Y.apart(s) # el comando apart factoriza la expresión simbólica\n",
        "Yp"
      ],
      "execution_count": 24,
      "outputs": [
        {
          "output_type": "execute_result",
          "data": {
            "image/png": "[encoded data removed]",
            "text/latex": "$\\displaystyle - \\frac{C \\left(L s + R\\right)}{2 \\left(C L s^{2} + C R s + 2\\right)} + \\frac{1}{2 s}$",
            "text/plain": [
              "       C⋅(L⋅s + R)          1 \n",
              "- ────────────────────── + ───\n",
              "    ⎛     2            ⎞   2⋅s\n",
              "  2⋅⎝C⋅L⋅s  + C⋅R⋅s + 2⎠      "
            ]
          },
          "metadata": {},
          "execution_count": 24
        }
      ]
    },
    {
      "cell_type": "code",
      "metadata": {
        "colab": {
          "base_uri": "https://localhost:8080/",
          "height": 188
        },
        "id": "xKeivQIkP553",
        "outputId": "680d8ff1-a444-4a13-c896-a9e35de92e3d"
      },
      "source": [
        "#Modelo en el tiempo en función de RLC\n",
        "Ye = Yp\n",
        "#Se recorre cada fracción parcial según factorización para simplificar cálculos\n",
        "for j in range(len(Ye.args)):\n",
        "    if j==0:#primer elemento de la solucion\n",
        "      yt = sym.inverse_laplace_transform(Ye.args[j], s, t)\n",
        "    else: #siguientes elementos concatenados\n",
        "      yt+= sym.inverse_laplace_transform(Ye.args[j], s, t) \n",
        "yt"
      ],
      "execution_count": 25,
      "outputs": [
        {
          "output_type": "execute_result",
          "data": {
            "image/png": "[encoded data removed]",
            "text/latex": "$\\displaystyle \\frac{1}{2} + \\frac{\\left(- i \\sqrt{C} R e^{\\frac{t \\cos{\\left(\\frac{\\operatorname{atan_{2}}{\\left(0,C R^{2} - 8 L \\right)}}{2} \\right)} \\sqrt{\\left|{C R^{2} - 8 L}\\right|}}{\\sqrt{C} L}} \\sin{\\left(\\frac{t \\sin{\\left(\\frac{\\operatorname{atan_{2}}{\\left(0,C R^{2} - 8 L \\right)}}{2} \\right)} \\sqrt{\\left|{C R^{2} - 8 L}\\right|}}{2 \\sqrt{C} L} \\right)} - \\sqrt{C} R e^{\\frac{t \\cos{\\left(\\frac{\\operatorname{atan_{2}}{\\left(0,C R^{2} - 8 L \\right)}}{2} \\right)} \\sqrt{\\left|{C R^{2} - 8 L}\\right|}}{\\sqrt{C} L}} \\cos{\\left(\\frac{t \\sin{\\left(\\frac{\\operatorname{atan_{2}}{\\left(0,C R^{2} - 8 L \\right)}}{2} \\right)} \\sqrt{\\left|{C R^{2} - 8 L}\\right|}}{2 \\sqrt{C} L} \\right)} - i \\sqrt{C} R \\sin{\\left(\\frac{t \\sin{\\left(\\frac{\\operatorname{atan_{2}}{\\left(0,C R^{2} - 8 L \\right)}}{2} \\right)} \\sqrt{\\left|{C R^{2} - 8 L}\\right|}}{2 \\sqrt{C} L} \\right)} + \\sqrt{C} R \\cos{\\left(\\frac{t \\sin{\\left(\\frac{\\operatorname{atan_{2}}{\\left(0,C R^{2} - 8 L \\right)}}{2} \\right)} \\sqrt{\\left|{C R^{2} - 8 L}\\right|}}{2 \\sqrt{C} L} \\right)} - i \\sqrt{C R^{2} - 8 L} e^{\\frac{t \\cos{\\left(\\frac{\\operatorname{atan_{2}}{\\left(0,C R^{2} - 8 L \\right)}}{2} \\right)} \\sqrt{\\left|{C R^{2} - 8 L}\\right|}}{\\sqrt{C} L}} \\sin{\\left(\\frac{t \\sin{\\left(\\frac{\\operatorname{atan_{2}}{\\left(0,C R^{2} - 8 L \\right)}}{2} \\right)} \\sqrt{\\left|{C R^{2} - 8 L}\\right|}}{2 \\sqrt{C} L} \\right)} - \\sqrt{C R^{2} - 8 L} e^{\\frac{t \\cos{\\left(\\frac{\\operatorname{atan_{2}}{\\left(0,C R^{2} - 8 L \\right)}}{2} \\right)} \\sqrt{\\left|{C R^{2} - 8 L}\\right|}}{\\sqrt{C} L}} \\cos{\\left(\\frac{t \\sin{\\left(\\frac{\\operatorname{atan_{2}}{\\left(0,C R^{2} - 8 L \\right)}}{2} \\right)} \\sqrt{\\left|{C R^{2} - 8 L}\\right|}}{2 \\sqrt{C} L} \\right)} + i \\sqrt{C R^{2} - 8 L} \\sin{\\left(\\frac{t \\sin{\\left(\\frac{\\operatorname{atan_{2}}{\\left(0,C R^{2} - 8 L \\right)}}{2} \\right)} \\sqrt{\\left|{C R^{2} - 8 L}\\right|}}{2 \\sqrt{C} L} \\right)} - \\sqrt{C R^{2} - 8 L} \\cos{\\left(\\frac{t \\sin{\\left(\\frac{\\operatorname{atan_{2}}{\\left(0,C R^{2} - 8 L \\right)}}{2} \\right)} \\sqrt{\\left|{C R^{2} - 8 L}\\right|}}{2 \\sqrt{C} L} \\right)}\\right) e^{- \\frac{R t}{2 L} - \\frac{t \\cos{\\left(\\frac{\\operatorname{atan_{2}}{\\left(0,C R^{2} - 8 L \\right)}}{2} \\right)} \\sqrt{\\left|{C R^{2} - 8 L}\\right|}}{2 \\sqrt{C} L}}}{4 \\sqrt{C R^{2} - 8 L}}$",
            "text/plain": [
              "    ⎛               ⎛     ⎛      2      ⎞⎞    ______________                  \n",
              "    ⎜               ⎜atan2⎝0, C⋅R  - 8⋅L⎠⎟   ╱ │   2      │                   \n",
              "    ⎜          t⋅cos⎜────────────────────⎟⋅╲╱  │C⋅R  - 8⋅L│     ⎛     ⎛     ⎛ \n",
              "    ⎜               ⎝         2          ⎠                      ⎜     ⎜atan2⎝0\n",
              "    ⎜          ─────────────────────────────────────────────    ⎜t⋅sin⎜───────\n",
              "    ⎜                               √C⋅L                        ⎜     ⎝       \n",
              "    ⎜- ⅈ⋅√C⋅R⋅ℯ                                             ⋅sin⎜─────────────\n",
              "1   ⎝                                                           ⎝             \n",
              "─ + ──────────────────────────────────────────────────────────────────────────\n",
              "2                                                                             \n",
              "                                                                              \n",
              "                                                                              \n",
              "\n",
              "                                               ⎛     ⎛      2      ⎞⎞    _____\n",
              "                                               ⎜atan2⎝0, C⋅R  - 8⋅L⎠⎟   ╱ │   \n",
              "     2      ⎞⎞    ______________⎞         t⋅cos⎜────────────────────⎟⋅╲╱  │C⋅R\n",
              ", C⋅R  - 8⋅L⎠⎟   ╱ │   2      │ ⎟              ⎝         2          ⎠         \n",
              "─────────────⎟⋅╲╱  │C⋅R  - 8⋅L│ ⎟         ────────────────────────────────────\n",
              "  2          ⎠                  ⎟                              √C⋅L           \n",
              "────────────────────────────────⎟ - √C⋅R⋅ℯ                                    \n",
              "       2⋅√C⋅L                   ⎠                                             \n",
              "──────────────────────────────────────────────────────────────────────────────\n",
              "                                                                              \n",
              "                                                                              \n",
              "                                                                              \n",
              "\n",
              "_________                                                                     \n",
              "2      │                                                                      \n",
              "  - 8⋅L│     ⎛     ⎛     ⎛      2      ⎞⎞    ______________⎞             ⎛    \n",
              "             ⎜     ⎜atan2⎝0, C⋅R  - 8⋅L⎠⎟   ╱ │   2      │ ⎟             ⎜    \n",
              "─────────    ⎜t⋅sin⎜────────────────────⎟⋅╲╱  │C⋅R  - 8⋅L│ ⎟             ⎜t⋅si\n",
              "             ⎜     ⎝         2          ⎠                  ⎟             ⎜    \n",
              "         ⋅cos⎜─────────────────────────────────────────────⎟ - ⅈ⋅√C⋅R⋅sin⎜────\n",
              "             ⎝                    2⋅√C⋅L                   ⎠             ⎝    \n",
              "──────────────────────────────────────────────────────────────────────────────\n",
              "                                                                              \n",
              "                                                                              \n",
              "                                                                              \n",
              "\n",
              "                                                                              \n",
              "                                                                              \n",
              " ⎛     ⎛      2      ⎞⎞    ______________⎞           ⎛     ⎛     ⎛      2     \n",
              " ⎜atan2⎝0, C⋅R  - 8⋅L⎠⎟   ╱ │   2      │ ⎟           ⎜     ⎜atan2⎝0, C⋅R  - 8⋅\n",
              "n⎜────────────────────⎟⋅╲╱  │C⋅R  - 8⋅L│ ⎟           ⎜t⋅sin⎜──────────────────\n",
              " ⎝         2          ⎠                  ⎟           ⎜     ⎝         2        \n",
              "─────────────────────────────────────────⎟ + √C⋅R⋅cos⎜────────────────────────\n",
              "                2⋅√C⋅L                   ⎠           ⎝                    2⋅√C\n",
              "──────────────────────────────────────────────────────────────────────────────\n",
              "                                                                              \n",
              "                                                                              \n",
              "                                                                              \n",
              "\n",
              "                                                 ⎛     ⎛      2      ⎞⎞    ___\n",
              "                                                 ⎜atan2⎝0, C⋅R  - 8⋅L⎠⎟   ╱ │ \n",
              " ⎞⎞    ______________⎞                      t⋅cos⎜────────────────────⎟⋅╲╱  │C\n",
              "L⎠⎟   ╱ │   2      │ ⎟                           ⎝         2          ⎠       \n",
              "──⎟⋅╲╱  │C⋅R  - 8⋅L│ ⎟        ____________  ──────────────────────────────────\n",
              "  ⎠                  ⎟       ╱    2                              √C⋅L         \n",
              "─────────────────────⎟ - ⅈ⋅╲╱  C⋅R  - 8⋅L ⋅ℯ                                  \n",
              "⋅L                   ⎠                                                        \n",
              "──────────────────────────────────────────────────────────────────────────────\n",
              "                                                                    __________\n",
              "                                                                   ╱    2     \n",
              "                                                               4⋅╲╱  C⋅R  - 8⋅\n",
              "\n",
              "___________                                                                   \n",
              "  2      │                                                                    \n",
              "⋅R  - 8⋅L│     ⎛     ⎛     ⎛      2      ⎞⎞    ______________⎞                \n",
              "               ⎜     ⎜atan2⎝0, C⋅R  - 8⋅L⎠⎟   ╱ │   2      │ ⎟                \n",
              "───────────    ⎜t⋅sin⎜────────────────────⎟⋅╲╱  │C⋅R  - 8⋅L│ ⎟      __________\n",
              "               ⎜     ⎝         2          ⎠                  ⎟     ╱    2     \n",
              "           ⋅sin⎜─────────────────────────────────────────────⎟ - ╲╱  C⋅R  - 8⋅\n",
              "               ⎝                    2⋅√C⋅L                   ⎠                \n",
              "──────────────────────────────────────────────────────────────────────────────\n",
              "__                                                                            \n",
              "                                                                              \n",
              "L                                                                             \n",
              "\n",
              "         ⎛     ⎛      2      ⎞⎞    ______________                             \n",
              "         ⎜atan2⎝0, C⋅R  - 8⋅L⎠⎟   ╱ │   2      │                              \n",
              "    t⋅cos⎜────────────────────⎟⋅╲╱  │C⋅R  - 8⋅L│     ⎛     ⎛     ⎛      2     \n",
              "         ⎝         2          ⎠                      ⎜     ⎜atan2⎝0, C⋅R  - 8⋅\n",
              "__  ─────────────────────────────────────────────    ⎜t⋅sin⎜──────────────────\n",
              "                         √C⋅L                        ⎜     ⎝         2        \n",
              "L ⋅ℯ                                             ⋅cos⎜────────────────────────\n",
              "                                                     ⎝                    2⋅√C\n",
              "──────────────────────────────────────────────────────────────────────────────\n",
              "                                                                              \n",
              "                                                                              \n",
              "                                                                              \n",
              "\n",
              "                                                                              \n",
              "                                                                              \n",
              " ⎞⎞    ______________⎞                        ⎛     ⎛     ⎛      2      ⎞⎞    \n",
              "L⎠⎟   ╱ │   2      │ ⎟                        ⎜     ⎜atan2⎝0, C⋅R  - 8⋅L⎠⎟   ╱\n",
              "──⎟⋅╲╱  │C⋅R  - 8⋅L│ ⎟        ____________    ⎜t⋅sin⎜────────────────────⎟⋅╲╱ \n",
              "  ⎠                  ⎟       ╱    2           ⎜     ⎝         2          ⎠    \n",
              "─────────────────────⎟ + ⅈ⋅╲╱  C⋅R  - 8⋅L ⋅sin⎜───────────────────────────────\n",
              "⋅L                   ⎠                        ⎝                    2⋅√C⋅L     \n",
              "──────────────────────────────────────────────────────────────────────────────\n",
              "                                                                              \n",
              "                                                                              \n",
              "                                                                              \n",
              "\n",
              "                                                                              \n",
              "                                                                              \n",
              "______________⎞                      ⎛     ⎛     ⎛      2      ⎞⎞    _________\n",
              " │   2      │ ⎟                      ⎜     ⎜atan2⎝0, C⋅R  - 8⋅L⎠⎟   ╱ │   2   \n",
              " │C⋅R  - 8⋅L│ ⎟      ____________    ⎜t⋅sin⎜────────────────────⎟⋅╲╱  │C⋅R  - \n",
              "              ⎟     ╱    2           ⎜     ⎝         2          ⎠             \n",
              "──────────────⎟ - ╲╱  C⋅R  - 8⋅L ⋅cos⎜────────────────────────────────────────\n",
              "              ⎠                      ⎝                    2⋅√C⋅L              \n",
              "──────────────────────────────────────────────────────────────────────────────\n",
              "                                                                              \n",
              "                                                                              \n",
              "                                                                              \n",
              "\n",
              "      ⎞               ⎛     ⎛      2      ⎞⎞    ______________\n",
              "      ⎟               ⎜atan2⎝0, C⋅R  - 8⋅L⎠⎟   ╱ │   2      │ \n",
              "_____⎞⎟          t⋅cos⎜────────────────────⎟⋅╲╱  │C⋅R  - 8⋅L│ \n",
              "   │ ⎟⎟    R⋅t        ⎝         2          ⎠                  \n",
              "8⋅L│ ⎟⎟  - ─── - ─────────────────────────────────────────────\n",
              "     ⎟⎟    2⋅L                       2⋅√C⋅L                   \n",
              "─────⎟⎟⋅ℯ                                                     \n",
              "     ⎠⎠                                                       \n",
              "──────────────────────────────────────────────────────────────\n",
              "                                                              \n",
              "                                                              \n",
              "                                                              "
            ]
          },
          "metadata": {},
          "execution_count": 25
        }
      ]
    },
    {
      "cell_type": "code",
      "metadata": {
        "colab": {
          "base_uri": "https://localhost:8080/",
          "height": 54
        },
        "id": "HvFrliWtTsZb",
        "outputId": "f837a7be-bcc9-4318-a5df-19b929a0fee7"
      },
      "source": [
        "#Modelo en el tiempo con RLC evaluados\n",
        "RLC = {R: 1, L: sym.Rational('.5'), C: sym.Rational('.4')}#valores utilizados para la simulación\n",
        "Ye = Yp.subs(RLC)\n",
        "for j in range(len(Ye.args)):\n",
        "    if j==0:\n",
        "      yt = sym.inverse_laplace_transform(Ye.args[j], s, t)\n",
        "    else:\n",
        "      yt+= sym.inverse_laplace_transform(Ye.args[j], s, t)\n",
        " \n",
        "yt"
      ],
      "execution_count": 26,
      "outputs": [
        {
          "output_type": "execute_result",
          "data": {
            "image/png": "[encoded data removed]",
            "text/latex": "$\\displaystyle - \\frac{\\left(\\sin{\\left(3 t \\right)} + 3 \\cos{\\left(3 t \\right)}\\right) e^{- t}}{6} + \\frac{1}{2}$",
            "text/plain": [
              "                           -t    \n",
              "  (sin(3⋅t) + 3⋅cos(3⋅t))⋅ℯ     1\n",
              "- ─────────────────────────── + ─\n",
              "               6                2"
            ]
          },
          "metadata": {},
          "execution_count": 26
        }
      ]
    },
    {
      "cell_type": "code",
      "metadata": {
        "colab": {
          "base_uri": "https://localhost:8080/",
          "height": 70
        },
        "id": "_1m-fUIGQHGh",
        "outputId": "c05d3405-9c29-4c3a-da1d-bfd426802334"
      },
      "source": [
        "#Función de salida Y(s) -- Laplace\n",
        "Ye"
      ],
      "execution_count": 27,
      "outputs": [
        {
          "output_type": "execute_result",
          "data": {
            "image/png": "[encoded data removed]",
            "text/latex": "$\\displaystyle - \\frac{\\frac{s}{2} + 1}{5 \\left(\\frac{s^{2}}{5} + \\frac{2 s}{5} + 2\\right)} + \\frac{1}{2 s}$",
            "text/plain": [
              "       s                \n",
              "       ─ + 1            \n",
              "       2              1 \n",
              "- ──────────────── + ───\n",
              "    ⎛ 2          ⎞   2⋅s\n",
              "    ⎜s    2⋅s    ⎟      \n",
              "  5⋅⎜── + ─── + 2⎟      \n",
              "    ⎝5     5     ⎠      "
            ]
          },
          "metadata": {},
          "execution_count": 27
        }
      ]
    },
    {
      "cell_type": "code",
      "metadata": {
        "colab": {
          "base_uri": "https://localhost:8080/",
          "height": 54
        },
        "id": "pMMABSqMSc8m",
        "outputId": "5561c440-1e90-4b32-a2b7-59d52e6eb5b0"
      },
      "source": [
        "#Función de salida y(t) -- en tiempo\n",
        "yt"
      ],
      "execution_count": 28,
      "outputs": [
        {
          "output_type": "execute_result",
          "data": {
            "image/png": "[encoded data removed]",
            "text/latex": "$\\displaystyle - \\frac{\\left(\\sin{\\left(3 t \\right)} + 3 \\cos{\\left(3 t \\right)}\\right) e^{- t}}{6} + \\frac{1}{2}$",
            "text/plain": [
              "                           -t    \n",
              "  (sin(3⋅t) + 3⋅cos(3⋅t))⋅ℯ     1\n",
              "- ─────────────────────────── + ─\n",
              "               6                2"
            ]
          },
          "metadata": {},
          "execution_count": 28
        }
      ]
    },
    {
      "cell_type": "code",
      "metadata": {
        "colab": {
          "base_uri": "https://localhost:8080/",
          "height": 297
        },
        "id": "C_mnTxEYSd9l",
        "outputId": "38a2d8eb-e576-413f-ce03-07e76134f2ba"
      },
      "source": [
        "#Gráfica de salida en el tiempo\n",
        "sym.plot(yt, (t, 0, 5), xlabel='$t$', ylabel='$y(t)$')\n",
        "plt.show()\n"
      ],
      "execution_count": 29,
      "outputs": [
        {
          "output_type": "display_data",
          "data": {
            "image/png": "[encoded data removed]",
            "text/plain": [
              "<Figure size 432x288 with 1 Axes>"
            ]
          },
          "metadata": {
            "needs_background": "light"
          }
        }
      ]
    },
    {
      "cell_type": "code",
      "metadata": {
        "id": "A4egt_AZSsJX"
      },
      "source": [
        ""
      ],
      "execution_count": 29,
      "outputs": []
    }
  ]
}