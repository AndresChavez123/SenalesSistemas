{
  "nbformat": 4,
  "nbformat_minor": 0,
  "metadata": {
    "colab": {
      "name": "FraccionesParcialesLaplace.ipynb",
      "provenance": [],
      "authorship_tag": "ABX9TyPupBL6CmP0H2wZbdPVguU1",
      "include_colab_link": true
    },
    "kernelspec": {
      "name": "python3",
      "display_name": "Python 3"
    },
    "language_info": {
      "name": "python"
    }
  },
  "cells": [
    {
      "cell_type": "markdown",
      "metadata": {
        "id": "view-in-github",
        "colab_type": "text"
      },
      "source": [
        "<a href=\"https://colab.research.google.com/github/amalvarezme/SenalesSistemas/blob/master/4_Transformada_Laplace/FraccionesParcialesLaplace.ipynb\" target=\"_parent\"><img src=\"https://colab.research.google.com/assets/colab-badge.svg\" alt=\"Open In Colab\"/></a>"
      ]
    },
    {
      "cell_type": "markdown",
      "metadata": {
        "id": "6eV8qtEGT5Em"
      },
      "source": [
        "# Solución de SLIT - Circuito RLC utilizando transformada de Laplace en Sympy\n",
        "\n",
        "Aplicación de fracciones parciales en circuito RLC:"
      ]
    },
    {
      "cell_type": "code",
      "metadata": {
        "colab": {
          "base_uri": "https://localhost:8080/",
          "height": 55
        },
        "id": "xtHozoTWPhJQ",
        "outputId": "329888c0-426a-4baa-fc1f-d63e52234aae"
      },
      "source": [
        "import sympy as sym\n",
        "sym.init_printing()\n",
        "\n",
        "s = sym.symbols('s', complex=True)\n",
        "t, R, L, C = sym.symbols('t R L C', positive=True)\n",
        "#Entrada de interés en Laplace\n",
        "X = 1/s # Ajustar según tipo de entrada\n",
        "\n",
        "Y = 1/(L*C*s**2 + R*C*s + 1) * X #función de transferencia el circuito multiplicado por X(s)\n",
        "#Función de salida\n",
        "Y"
      ],
      "execution_count": 4,
      "outputs": [
        {
          "output_type": "execute_result",
          "data": {
            "image/png": "[encoded data removed]",
            "text/latex": "$\\displaystyle \\frac{1}{s \\left(C L s^{2} + C R s + 1\\right)}$",
            "text/plain": [
              "          1           \n",
              "──────────────────────\n",
              "  ⎛     2            ⎞\n",
              "s⋅⎝C⋅L⋅s  + C⋅R⋅s + 1⎠"
            ]
          },
          "metadata": {},
          "execution_count": 4
        }
      ]
    },
    {
      "cell_type": "code",
      "metadata": {
        "colab": {
          "base_uri": "https://localhost:8080/",
          "height": 54
        },
        "id": "JkGPVh1uQVsm",
        "outputId": "95149768-f163-4096-9612-0fcdd8d2953c"
      },
      "source": [
        "#Función de salida en Laplace factorizada (fracciones parciales)\n",
        "Yp = Y.apart(s) # el comando apart factoriza la expresión simbólica\n",
        "Yp"
      ],
      "execution_count": 5,
      "outputs": [
        {
          "output_type": "execute_result",
          "data": {
            "image/png": "[encoded data removed]",
            "text/latex": "$\\displaystyle - \\frac{C \\left(L s + R\\right)}{C L s^{2} + C R s + 1} + \\frac{1}{s}$",
            "text/plain": [
              "     C⋅(L⋅s + R)       1\n",
              "- ────────────────── + ─\n",
              "       2               s\n",
              "  C⋅L⋅s  + C⋅R⋅s + 1    "
            ]
          },
          "metadata": {},
          "execution_count": 5
        }
      ]
    },
    {
      "cell_type": "code",
      "metadata": {
        "colab": {
          "base_uri": "https://localhost:8080/",
          "height": 175
        },
        "id": "xKeivQIkP553",
        "outputId": "83d01d19-b655-461a-ad57-0e4d8ea8544c"
      },
      "source": [
        "#Modelo en el tiempo en función de RLC\n",
        "Ye = Yp\n",
        "#Se recorre cada fracción parcial según factorización para simplificar cálculos\n",
        "for j in range(len(Ye.args)):\n",
        "    if j==0:#primer elemento de la solucion\n",
        "      yt = sym.inverse_laplace_transform(Ye.args[j], s, t)\n",
        "    else: #siguientes elementos concatenados\n",
        "      yt+= sym.inverse_laplace_transform(Ye.args[j], s, t) \n",
        "yt"
      ],
      "execution_count": 6,
      "outputs": [
        {
          "output_type": "execute_result",
          "data": {
            "image/png": "[encoded data removed]",
            "text/latex": "$\\displaystyle 1 + \\frac{\\left(- i \\sqrt{C} R e^{\\frac{t \\cos{\\left(\\frac{\\operatorname{atan_{2}}{\\left(0,C R^{2} - 4 L \\right)}}{2} \\right)} \\sqrt{\\left|{C R^{2} - 4 L}\\right|}}{\\sqrt{C} L}} \\sin{\\left(\\frac{t \\sin{\\left(\\frac{\\operatorname{atan_{2}}{\\left(0,C R^{2} - 4 L \\right)}}{2} \\right)} \\sqrt{\\left|{C R^{2} - 4 L}\\right|}}{2 \\sqrt{C} L} \\right)} - \\sqrt{C} R e^{\\frac{t \\cos{\\left(\\frac{\\operatorname{atan_{2}}{\\left(0,C R^{2} - 4 L \\right)}}{2} \\right)} \\sqrt{\\left|{C R^{2} - 4 L}\\right|}}{\\sqrt{C} L}} \\cos{\\left(\\frac{t \\sin{\\left(\\frac{\\operatorname{atan_{2}}{\\left(0,C R^{2} - 4 L \\right)}}{2} \\right)} \\sqrt{\\left|{C R^{2} - 4 L}\\right|}}{2 \\sqrt{C} L} \\right)} - i \\sqrt{C} R \\sin{\\left(\\frac{t \\sin{\\left(\\frac{\\operatorname{atan_{2}}{\\left(0,C R^{2} - 4 L \\right)}}{2} \\right)} \\sqrt{\\left|{C R^{2} - 4 L}\\right|}}{2 \\sqrt{C} L} \\right)} + \\sqrt{C} R \\cos{\\left(\\frac{t \\sin{\\left(\\frac{\\operatorname{atan_{2}}{\\left(0,C R^{2} - 4 L \\right)}}{2} \\right)} \\sqrt{\\left|{C R^{2} - 4 L}\\right|}}{2 \\sqrt{C} L} \\right)} - i \\sqrt{C R^{2} - 4 L} e^{\\frac{t \\cos{\\left(\\frac{\\operatorname{atan_{2}}{\\left(0,C R^{2} - 4 L \\right)}}{2} \\right)} \\sqrt{\\left|{C R^{2} - 4 L}\\right|}}{\\sqrt{C} L}} \\sin{\\left(\\frac{t \\sin{\\left(\\frac{\\operatorname{atan_{2}}{\\left(0,C R^{2} - 4 L \\right)}}{2} \\right)} \\sqrt{\\left|{C R^{2} - 4 L}\\right|}}{2 \\sqrt{C} L} \\right)} - \\sqrt{C R^{2} - 4 L} e^{\\frac{t \\cos{\\left(\\frac{\\operatorname{atan_{2}}{\\left(0,C R^{2} - 4 L \\right)}}{2} \\right)} \\sqrt{\\left|{C R^{2} - 4 L}\\right|}}{\\sqrt{C} L}} \\cos{\\left(\\frac{t \\sin{\\left(\\frac{\\operatorname{atan_{2}}{\\left(0,C R^{2} - 4 L \\right)}}{2} \\right)} \\sqrt{\\left|{C R^{2} - 4 L}\\right|}}{2 \\sqrt{C} L} \\right)} + i \\sqrt{C R^{2} - 4 L} \\sin{\\left(\\frac{t \\sin{\\left(\\frac{\\operatorname{atan_{2}}{\\left(0,C R^{2} - 4 L \\right)}}{2} \\right)} \\sqrt{\\left|{C R^{2} - 4 L}\\right|}}{2 \\sqrt{C} L} \\right)} - \\sqrt{C R^{2} - 4 L} \\cos{\\left(\\frac{t \\sin{\\left(\\frac{\\operatorname{atan_{2}}{\\left(0,C R^{2} - 4 L \\right)}}{2} \\right)} \\sqrt{\\left|{C R^{2} - 4 L}\\right|}}{2 \\sqrt{C} L} \\right)}\\right) e^{- \\frac{R t}{2 L} - \\frac{t \\cos{\\left(\\frac{\\operatorname{atan_{2}}{\\left(0,C R^{2} - 4 L \\right)}}{2} \\right)} \\sqrt{\\left|{C R^{2} - 4 L}\\right|}}{2 \\sqrt{C} L}}}{2 \\sqrt{C R^{2} - 4 L}}$",
            "text/plain": [
              "    ⎛               ⎛     ⎛      2      ⎞⎞    ______________                  \n",
              "    ⎜               ⎜atan2⎝0, C⋅R  - 4⋅L⎠⎟   ╱ │   2      │                   \n",
              "    ⎜          t⋅cos⎜────────────────────⎟⋅╲╱  │C⋅R  - 4⋅L│     ⎛     ⎛     ⎛ \n",
              "    ⎜               ⎝         2          ⎠                      ⎜     ⎜atan2⎝0\n",
              "    ⎜          ─────────────────────────────────────────────    ⎜t⋅sin⎜───────\n",
              "    ⎜                               √C⋅L                        ⎜     ⎝       \n",
              "    ⎜- ⅈ⋅√C⋅R⋅ℯ                                             ⋅sin⎜─────────────\n",
              "    ⎝                                                           ⎝             \n",
              "1 + ──────────────────────────────────────────────────────────────────────────\n",
              "                                                                              \n",
              "                                                                              \n",
              "                                                                              \n",
              "\n",
              "                                               ⎛     ⎛      2      ⎞⎞    _____\n",
              "                                               ⎜atan2⎝0, C⋅R  - 4⋅L⎠⎟   ╱ │   \n",
              "     2      ⎞⎞    ______________⎞         t⋅cos⎜────────────────────⎟⋅╲╱  │C⋅R\n",
              ", C⋅R  - 4⋅L⎠⎟   ╱ │   2      │ ⎟              ⎝         2          ⎠         \n",
              "─────────────⎟⋅╲╱  │C⋅R  - 4⋅L│ ⎟         ────────────────────────────────────\n",
              "  2          ⎠                  ⎟                              √C⋅L           \n",
              "────────────────────────────────⎟ - √C⋅R⋅ℯ                                    \n",
              "       2⋅√C⋅L                   ⎠                                             \n",
              "──────────────────────────────────────────────────────────────────────────────\n",
              "                                                                              \n",
              "                                                                              \n",
              "                                                                              \n",
              "\n",
              "_________                                                                     \n",
              "2      │                                                                      \n",
              "  - 4⋅L│     ⎛     ⎛     ⎛      2      ⎞⎞    ______________⎞             ⎛    \n",
              "             ⎜     ⎜atan2⎝0, C⋅R  - 4⋅L⎠⎟   ╱ │   2      │ ⎟             ⎜    \n",
              "─────────    ⎜t⋅sin⎜────────────────────⎟⋅╲╱  │C⋅R  - 4⋅L│ ⎟             ⎜t⋅si\n",
              "             ⎜     ⎝         2          ⎠                  ⎟             ⎜    \n",
              "         ⋅cos⎜─────────────────────────────────────────────⎟ - ⅈ⋅√C⋅R⋅sin⎜────\n",
              "             ⎝                    2⋅√C⋅L                   ⎠             ⎝    \n",
              "──────────────────────────────────────────────────────────────────────────────\n",
              "                                                                              \n",
              "                                                                              \n",
              "                                                                              \n",
              "\n",
              "                                                                              \n",
              "                                                                              \n",
              " ⎛     ⎛      2      ⎞⎞    ______________⎞           ⎛     ⎛     ⎛      2     \n",
              " ⎜atan2⎝0, C⋅R  - 4⋅L⎠⎟   ╱ │   2      │ ⎟           ⎜     ⎜atan2⎝0, C⋅R  - 4⋅\n",
              "n⎜────────────────────⎟⋅╲╱  │C⋅R  - 4⋅L│ ⎟           ⎜t⋅sin⎜──────────────────\n",
              " ⎝         2          ⎠                  ⎟           ⎜     ⎝         2        \n",
              "─────────────────────────────────────────⎟ + √C⋅R⋅cos⎜────────────────────────\n",
              "                2⋅√C⋅L                   ⎠           ⎝                    2⋅√C\n",
              "──────────────────────────────────────────────────────────────────────────────\n",
              "                                                                              \n",
              "                                                                              \n",
              "                                                                              \n",
              "\n",
              "                                                 ⎛     ⎛      2      ⎞⎞    ___\n",
              "                                                 ⎜atan2⎝0, C⋅R  - 4⋅L⎠⎟   ╱ │ \n",
              " ⎞⎞    ______________⎞                      t⋅cos⎜────────────────────⎟⋅╲╱  │C\n",
              "L⎠⎟   ╱ │   2      │ ⎟                           ⎝         2          ⎠       \n",
              "──⎟⋅╲╱  │C⋅R  - 4⋅L│ ⎟        ____________  ──────────────────────────────────\n",
              "  ⎠                  ⎟       ╱    2                              √C⋅L         \n",
              "─────────────────────⎟ - ⅈ⋅╲╱  C⋅R  - 4⋅L ⋅ℯ                                  \n",
              "⋅L                   ⎠                                                        \n",
              "──────────────────────────────────────────────────────────────────────────────\n",
              "                                                                    __________\n",
              "                                                                   ╱    2     \n",
              "                                                               2⋅╲╱  C⋅R  - 4⋅\n",
              "\n",
              "___________                                                                   \n",
              "  2      │                                                                    \n",
              "⋅R  - 4⋅L│     ⎛     ⎛     ⎛      2      ⎞⎞    ______________⎞                \n",
              "               ⎜     ⎜atan2⎝0, C⋅R  - 4⋅L⎠⎟   ╱ │   2      │ ⎟                \n",
              "───────────    ⎜t⋅sin⎜────────────────────⎟⋅╲╱  │C⋅R  - 4⋅L│ ⎟      __________\n",
              "               ⎜     ⎝         2          ⎠                  ⎟     ╱    2     \n",
              "           ⋅sin⎜─────────────────────────────────────────────⎟ - ╲╱  C⋅R  - 4⋅\n",
              "               ⎝                    2⋅√C⋅L                   ⎠                \n",
              "──────────────────────────────────────────────────────────────────────────────\n",
              "__                                                                            \n",
              "                                                                              \n",
              "L                                                                             \n",
              "\n",
              "         ⎛     ⎛      2      ⎞⎞    ______________                             \n",
              "         ⎜atan2⎝0, C⋅R  - 4⋅L⎠⎟   ╱ │   2      │                              \n",
              "    t⋅cos⎜────────────────────⎟⋅╲╱  │C⋅R  - 4⋅L│     ⎛     ⎛     ⎛      2     \n",
              "         ⎝         2          ⎠                      ⎜     ⎜atan2⎝0, C⋅R  - 4⋅\n",
              "__  ─────────────────────────────────────────────    ⎜t⋅sin⎜──────────────────\n",
              "                         √C⋅L                        ⎜     ⎝         2        \n",
              "L ⋅ℯ                                             ⋅cos⎜────────────────────────\n",
              "                                                     ⎝                    2⋅√C\n",
              "──────────────────────────────────────────────────────────────────────────────\n",
              "                                                                              \n",
              "                                                                              \n",
              "                                                                              \n",
              "\n",
              "                                                                              \n",
              "                                                                              \n",
              " ⎞⎞    ______________⎞                        ⎛     ⎛     ⎛      2      ⎞⎞    \n",
              "L⎠⎟   ╱ │   2      │ ⎟                        ⎜     ⎜atan2⎝0, C⋅R  - 4⋅L⎠⎟   ╱\n",
              "──⎟⋅╲╱  │C⋅R  - 4⋅L│ ⎟        ____________    ⎜t⋅sin⎜────────────────────⎟⋅╲╱ \n",
              "  ⎠                  ⎟       ╱    2           ⎜     ⎝         2          ⎠    \n",
              "─────────────────────⎟ + ⅈ⋅╲╱  C⋅R  - 4⋅L ⋅sin⎜───────────────────────────────\n",
              "⋅L                   ⎠                        ⎝                    2⋅√C⋅L     \n",
              "──────────────────────────────────────────────────────────────────────────────\n",
              "                                                                              \n",
              "                                                                              \n",
              "                                                                              \n",
              "\n",
              "                                                                              \n",
              "                                                                              \n",
              "______________⎞                      ⎛     ⎛     ⎛      2      ⎞⎞    _________\n",
              " │   2      │ ⎟                      ⎜     ⎜atan2⎝0, C⋅R  - 4⋅L⎠⎟   ╱ │   2   \n",
              " │C⋅R  - 4⋅L│ ⎟      ____________    ⎜t⋅sin⎜────────────────────⎟⋅╲╱  │C⋅R  - \n",
              "              ⎟     ╱    2           ⎜     ⎝         2          ⎠             \n",
              "──────────────⎟ - ╲╱  C⋅R  - 4⋅L ⋅cos⎜────────────────────────────────────────\n",
              "              ⎠                      ⎝                    2⋅√C⋅L              \n",
              "──────────────────────────────────────────────────────────────────────────────\n",
              "                                                                              \n",
              "                                                                              \n",
              "                                                                              \n",
              "\n",
              "      ⎞               ⎛     ⎛      2      ⎞⎞    ______________\n",
              "      ⎟               ⎜atan2⎝0, C⋅R  - 4⋅L⎠⎟   ╱ │   2      │ \n",
              "_____⎞⎟          t⋅cos⎜────────────────────⎟⋅╲╱  │C⋅R  - 4⋅L│ \n",
              "   │ ⎟⎟    R⋅t        ⎝         2          ⎠                  \n",
              "4⋅L│ ⎟⎟  - ─── - ─────────────────────────────────────────────\n",
              "     ⎟⎟    2⋅L                       2⋅√C⋅L                   \n",
              "─────⎟⎟⋅ℯ                                                     \n",
              "     ⎠⎠                                                       \n",
              "──────────────────────────────────────────────────────────────\n",
              "                                                              \n",
              "                                                              \n",
              "                                                              "
            ]
          },
          "metadata": {},
          "execution_count": 6
        }
      ]
    },
    {
      "cell_type": "code",
      "metadata": {
        "colab": {
          "base_uri": "https://localhost:8080/",
          "height": 58
        },
        "id": "HvFrliWtTsZb",
        "outputId": "38da8c7e-47f6-4620-82fc-1bef6909f6be"
      },
      "source": [
        "#Modelo en el tiempo con RLC evaluados\n",
        "RLC = {R: 1, L: sym.Rational('.5'), C: sym.Rational('.4')}#valores utilizados para la simulación\n",
        "Ye = Yp.subs(RLC)\n",
        "for j in range(len(Ye.args)):\n",
        "    if j==0:\n",
        "      yt = sym.inverse_laplace_transform(Ye.args[j], s, t)\n",
        "    else:\n",
        "      yt+= sym.inverse_laplace_transform(Ye.args[j], s, t)\n",
        " \n",
        "yt"
      ],
      "execution_count": 7,
      "outputs": [
        {
          "output_type": "execute_result",
          "data": {
            "image/png": "[encoded data removed]",
            "text/latex": "$\\displaystyle - \\left(\\frac{\\sin{\\left(2 t \\right)}}{2} + \\cos{\\left(2 t \\right)}\\right) e^{- t} + 1$",
            "text/plain": [
              "  ⎛sin(2⋅t)           ⎞  -t    \n",
              "- ⎜──────── + cos(2⋅t)⎟⋅ℯ   + 1\n",
              "  ⎝   2               ⎠        "
            ]
          },
          "metadata": {},
          "execution_count": 7
        }
      ]
    },
    {
      "cell_type": "code",
      "metadata": {
        "colab": {
          "base_uri": "https://localhost:8080/",
          "height": 73
        },
        "id": "_1m-fUIGQHGh",
        "outputId": "c722f85f-9922-4ce0-db37-d4356e5a7abf"
      },
      "source": [
        "#Función de salida Y(s) -- Laplace\n",
        "Ye"
      ],
      "execution_count": 8,
      "outputs": [
        {
          "output_type": "execute_result",
          "data": {
            "image/png": "[encoded data removed]",
            "text/latex": "$\\displaystyle - \\frac{2 \\left(\\frac{s}{2} + 1\\right)}{5 \\left(\\frac{s^{2}}{5} + \\frac{2 s}{5} + 1\\right)} + \\frac{1}{s}$",
            "text/plain": [
              "       ⎛s    ⎞        \n",
              "     2⋅⎜─ + 1⎟        \n",
              "       ⎝2    ⎠       1\n",
              "- ──────────────── + ─\n",
              "    ⎛ 2          ⎞   s\n",
              "    ⎜s    2⋅s    ⎟    \n",
              "  5⋅⎜── + ─── + 1⎟    \n",
              "    ⎝5     5     ⎠    "
            ]
          },
          "metadata": {},
          "execution_count": 8
        }
      ]
    },
    {
      "cell_type": "code",
      "metadata": {
        "colab": {
          "base_uri": "https://localhost:8080/",
          "height": 58
        },
        "id": "pMMABSqMSc8m",
        "outputId": "997b1a03-25dd-4a8e-a412-e083eb405b7c"
      },
      "source": [
        "#Función de salida y(t) -- en tiempo\n",
        "yt"
      ],
      "execution_count": 9,
      "outputs": [
        {
          "output_type": "execute_result",
          "data": {
            "image/png": "[encoded data removed]",
            "text/latex": "$\\displaystyle - \\left(\\frac{\\sin{\\left(2 t \\right)}}{2} + \\cos{\\left(2 t \\right)}\\right) e^{- t} + 1$",
            "text/plain": [
              "  ⎛sin(2⋅t)           ⎞  -t    \n",
              "- ⎜──────── + cos(2⋅t)⎟⋅ℯ   + 1\n",
              "  ⎝   2               ⎠        "
            ]
          },
          "metadata": {},
          "execution_count": 9
        }
      ]
    },
    {
      "cell_type": "code",
      "metadata": {
        "colab": {
          "base_uri": "https://localhost:8080/",
          "height": 316
        },
        "id": "C_mnTxEYSd9l",
        "outputId": "6f58653e-e26f-4f82-d5d3-caf564fe368d"
      },
      "source": [
        "#Gráfica de salida en el tiempo\n",
        "sym.plot(yt, (t, 0, 5), xlabel='$t$', ylabel='$y(t)$')\n"
      ],
      "execution_count": 12,
      "outputs": [
        {
          "output_type": "display_data",
          "data": {
            "image/png": "[encoded data removed]",
            "text/plain": [
              "<Figure size 432x288 with 1 Axes>"
            ]
          },
          "metadata": {
            "needs_background": "light"
          }
        },
        {
          "output_type": "execute_result",
          "data": {
            "text/plain": [
              "<sympy.plotting.plot.Plot at 0x7fc6ea5f7d10>"
            ]
          },
          "metadata": {},
          "execution_count": 12
        }
      ]
    },
    {
      "cell_type": "code",
      "metadata": {
        "id": "A4egt_AZSsJX"
      },
      "source": [
        ""
      ],
      "execution_count": 10,
      "outputs": []
    }
  ]
}