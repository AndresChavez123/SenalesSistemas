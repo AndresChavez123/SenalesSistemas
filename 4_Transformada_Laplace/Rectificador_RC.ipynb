{
  "nbformat": 4,
  "nbformat_minor": 0,
  "metadata": {
    "colab": {
      "name": "Rectificador_RC.ipynb",
      "provenance": [],
      "authorship_tag": "ABX9TyP0qH9yFc7VSD/9N1f4oXUs",
      "include_colab_link": true
    },
    "kernelspec": {
      "name": "python3",
      "display_name": "Python 3"
    },
    "language_info": {
      "name": "python"
    }
  },
  "cells": [
    {
      "cell_type": "markdown",
      "metadata": {
        "id": "view-in-github",
        "colab_type": "text"
      },
      "source": [
        "<a href=\"https://colab.research.google.com/github/amalvarezme/SenalesSistemas/blob/master/Rectificador_RC.ipynb\" target=\"_parent\"><img src=\"https://colab.research.google.com/assets/colab-badge.svg\" alt=\"Open In Colab\"/></a>"
      ]
    },
    {
      "cell_type": "markdown",
      "metadata": {
        "id": "EmBy_9gJbwRV"
      },
      "source": [
        "# Simulación circuito rectificdor onda completa RC en Python\n",
        "\n",
        "- Ver [modelado Circuito RC serie y paralelo](https://es.wikipedia.org/wiki/Circuito_RC)\n",
        "\n",
        "Para circuito RC serie:\n",
        "\n",
        "$V_c(s) =V_{in}(s) \\frac{1}{RCs + 1}$\n",
        "\n",
        "- Se reemplazará la entrada por aproximación numérica de una onda cosenoidal rectificada.\n",
        "\n",
        "- Ver [rectificador onda completa](http://tutorialesdeelectronicabasica.blogspot.com/2019/08/teoria-de-rectificador-de-onda-completa.html)\n",
        "\n",
        "Nota: en general se estudia el circuito RC paralelo en rectificadores. El ejercicio planteado en el Taller 2 del curso, cuyo objetivo principal el ilustrar los conceptos de la transformada de Fourier, plantea el estudio del circuito RC serie, por lo que se sugiere trabajar en términos de tensión.\n",
        "\n",
        "- Para el caso RC paralelo se asume una fuente de corriente como entrada y la salida en tensión en el capacitor (ver última sección  [modelado Circuito RC serie y paralelo](https://es.wikipedia.org/wiki/Circuito_RC)):\n",
        "\n",
        "$V_c(s) =I_{in}(s) \\frac{R}{RCs + 1}$\n",
        "\n"
      ]
    },
    {
      "cell_type": "code",
      "metadata": {
        "colab": {
          "base_uri": "https://localhost:8080/"
        },
        "id": "oHrhjSiHbQ9L",
        "outputId": "ce8768f9-4a3d-4932-db4f-a4ec6a474f49"
      },
      "source": [
        "#paquetes de para simulación\n",
        "import numpy as np\n",
        "import scipy\n",
        "import matplotlib.pyplot as plt\n",
        "%matplotlib inline\n",
        "import sympy as sym \n",
        "sym.init_session() \n",
        "import scipy.signal as sig\n",
        "import scipy.optimize as opt\n",
        "from IPython.display import Image"
      ],
      "execution_count": 1,
      "outputs": [
        {
          "output_type": "stream",
          "text": [
            "IPython console for SymPy 1.7.1 (Python 3.7.11-64-bit) (ground types: python)\n",
            "\n",
            "These commands were executed:\n",
            ">>> from __future__ import division\n",
            ">>> from sympy import *\n",
            ">>> x, y, z, t = symbols('x y z t')\n",
            ">>> k, m, n = symbols('k m n', integer=True)\n",
            ">>> f, g, h = symbols('f g h', cls=Function)\n",
            ">>> init_printing()\n",
            "\n",
            "Documentation can be found at https://docs.sympy.org/1.7.1/\n",
            "\n"
          ],
          "name": "stdout"
        }
      ]
    },
    {
      "cell_type": "markdown",
      "metadata": {
        "id": "jjcoP1jyb5gd"
      },
      "source": [
        "# Modelo en Laplace circuito RC serie"
      ]
    },
    {
      "cell_type": "markdown",
      "metadata": {
        "id": "hJLW3exab_8s"
      },
      "source": [
        "# Funcion de transferencia"
      ]
    },
    {
      "cell_type": "code",
      "metadata": {
        "colab": {
          "base_uri": "https://localhost:8080/",
          "height": 54
        },
        "id": "HixggqdWEHpX",
        "outputId": "fa7fb769-4f03-4a97-ae23-890a086d8434"
      },
      "source": [
        "s = sym.symbols('s', complex=True)\n",
        "t, R, L, C = sym.symbols('t R L C', positive=True)\n",
        "X = sym.Function('X')(s)\n",
        "\n",
        "Y = 1/(R*C*s + 1) * X\n",
        "Y"
      ],
      "execution_count": 2,
      "outputs": [
        {
          "output_type": "execute_result",
          "data": {
            "image/png": "[encoded data removed]",
            "text/latex": "$\\displaystyle \\frac{X{\\left(s \\right)}}{C R s + 1}$",
            "text/plain": [
              "   X(s)  \n",
              "─────────\n",
              "C⋅R⋅s + 1"
            ]
          },
          "metadata": {},
          "execution_count": 2
        }
      ]
    },
    {
      "cell_type": "markdown",
      "metadata": {
        "id": "OBBBWzyScEkO"
      },
      "source": [
        "# Fijar valores de parámetros para simulación"
      ]
    },
    {
      "cell_type": "code",
      "metadata": {
        "colab": {
          "base_uri": "https://localhost:8080/",
          "height": 54
        },
        "id": "WT0SePqSbqZS",
        "outputId": "7c13915a-9032-408b-c5c3-921079bf8a99"
      },
      "source": [
        "R_v = 1000 #valores de simulacion de R\n",
        "C_v =  10e-6 # valores de simulacion de C\n",
        "Y_RC = Y.subs(R, R_v).subs(C, C_v)\n",
        "Y_RC"
      ],
      "execution_count": 3,
      "outputs": [
        {
          "output_type": "execute_result",
          "data": {
            "image/png": "[encoded data removed]",
            "text/latex": "$\\displaystyle \\frac{X{\\left(s \\right)}}{0.01 s + 1}$",
            "text/plain": [
              "   X(s)   \n",
              "──────────\n",
              "0.01⋅s + 1"
            ]
          },
          "metadata": {},
          "execution_count": 3
        }
      ]
    },
    {
      "cell_type": "markdown",
      "metadata": {
        "id": "9fiyGD1FcgcC"
      },
      "source": [
        "#Función de transferencia en scipy \n",
        "\n",
        "- Se resuelve la función de transferencia y se pasa al paquete scipy para trabajar con la aproximación numérica de la entrada, en este caso la función senoidal rectificada\n",
        "\n",
        "- Par más información ver [Función de Transferencia scipy](https://docs.scipy.org/doc/scipy/reference/generated/scipy.signal.TransferFunction.html)"
      ]
    },
    {
      "cell_type": "code",
      "metadata": {
        "colab": {
          "base_uri": "https://localhost:8080/"
        },
        "id": "hnlgUpJ0cIod",
        "outputId": "767a03d6-ac46-4205-9df0-f9fe62d32b2d"
      },
      "source": [
        "num = np.array([1]) #coeficientes del numerador de la funcion de transferencia como numpy array\n",
        "den = np.array([R_v*C_v,1])#coeficientes del denominador de la funcion de transferencia como numpy array\n",
        "G_n = sig.TransferFunction(num, den) #funcion de transferencia en\n",
        "print(num)\n",
        "print(den)\n"
      ],
      "execution_count": 4,
      "outputs": [
        {
          "output_type": "stream",
          "text": [
            "[1]\n",
            "[0.01 1.  ]\n"
          ],
          "name": "stdout"
        }
      ]
    },
    {
      "cell_type": "markdown",
      "metadata": {
        "id": "2qyZnukndXSh"
      },
      "source": [
        "# Evaluar sistema ante entrada de interés y obtener salida en arreglo numpy"
      ]
    },
    {
      "cell_type": "code",
      "metadata": {
        "colab": {
          "base_uri": "https://localhost:8080/",
          "height": 279
        },
        "id": "oWHHo5LkcP4h",
        "outputId": "aa125e04-70c2-4fd7-d890-c797b881d619"
      },
      "source": [
        "Fo = 60 #frec alimentacion\n",
        "Fs = 20*Fo #frecuencia muestreo\n",
        "To = 1/Fo #periodo fundamental\n",
        "Ts = 1/Fs #periodo muestreo\n",
        "t = numpy.arange(0, 5*To,Ts) # se simulan 5 peridos de alimentacion con un muestreo segun Ts\n",
        "A = 120 #amplitud entrada\n",
        "#función de entrada aproximada como onda senoidal rectificada completa\n",
        "in_ = A*(np.sin(2*np.pi*Fo*t))\n",
        "rec_c = sig.square(2*np.pi*Fo*t)# \n",
        "#Para rectificador de media onda: \n",
        "rec_m = 0.5*(sig.square(2*numpy.pi*Fo*t)+1)\n",
        "in_ = in_ * rec_c #si se quiere probar con rec media onda multiplicar por rec_m\n",
        "out = G_n.output(in_, T=t)[1] #evaluar salida ante entrada rectificada mediante aproximacion numerica de scipy\n",
        "plt.plot(t, in_,label='In(t)')\n",
        "plt.plot(t, out,label='Out(t)')\n",
        "plt.xlabel('t [s]')\n",
        "plt.ylabel('out(t)')\n",
        "plt.show()"
      ],
      "execution_count": 5,
      "outputs": [
        {
          "output_type": "display_data",
          "data": {
            "image/png": "[encoded data removed]",
            "text/plain": [
              "<Figure size 432x288 with 1 Axes>"
            ]
          },
          "metadata": {
            "needs_background": "light"
          }
        }
      ]
    },
    {
      "cell_type": "markdown",
      "metadata": {
        "id": "an7MGPI7IJ_o"
      },
      "source": [
        "#Cálculo del espectro con fft\n",
        "\n",
        "Nota: Debe tener presente el valor de Fs y Fo para el análisis de los armónicos"
      ]
    },
    {
      "cell_type": "code",
      "metadata": {
        "colab": {
          "base_uri": "https://localhost:8080/",
          "height": 279
        },
        "id": "3iIg_ZpUcToy",
        "outputId": "bd17056a-e330-43f9-e84c-e8753543febd"
      },
      "source": [
        "vfre = np.fft.rfftfreq(len(out),1/Fs) #vector de frecuencia en Hz segun tamaño del vector y tiempo de muestreo\n",
        "Xf = np.fft.rfft(out)\n",
        "\n",
        "plt.plot(vfre,abs(Xf/len(out)))\n",
        "plt.xlabel('Frecuencia [Hz]')\n",
        "plt.ylabel('$abs(X(f))$')\n",
        "plt.show()"
      ],
      "execution_count": 6,
      "outputs": [
        {
          "output_type": "display_data",
          "data": {
            "image/png": "[encoded data removed]",
            "text/plain": [
              "<Figure size 432x288 with 1 Axes>"
            ]
          },
          "metadata": {
            "needs_background": "light"
          }
        }
      ]
    },
    {
      "cell_type": "markdown",
      "metadata": {
        "id": "twbejWXTJo3Z"
      },
      "source": [
        "# Con los valores de frecuencia en Hz y el espectro cálculado como arreglo de numpy puede calcular el THD según el material de apoyo del taller"
      ]
    },
    {
      "cell_type": "code",
      "metadata": {
        "id": "lPtJpwvZizN5"
      },
      "source": [
        ""
      ],
      "execution_count": 6,
      "outputs": []
    }
  ]
}