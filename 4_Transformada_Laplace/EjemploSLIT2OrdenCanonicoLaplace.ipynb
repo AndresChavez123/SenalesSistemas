{
  "nbformat": 4,
  "nbformat_minor": 0,
  "metadata": {
    "colab": {
      "provenance": [],
      "authorship_tag": "ABX9TyNGoEuw401l+GyCBvQRxYry",
      "include_colab_link": true
    },
    "kernelspec": {
      "name": "python3",
      "display_name": "Python 3"
    },
    "language_info": {
      "name": "python"
    }
  },
  "cells": [
    {
      "cell_type": "markdown",
      "metadata": {
        "id": "view-in-github",
        "colab_type": "text"
      },
      "source": [
        "<a href=\"https://colab.research.google.com/github/amalvarezme/SenalesSistemas/blob/master/4_Transformada_Laplace/EjemploSLIT2OrdenCanonicoLaplace.ipynb\" target=\"_parent\"><img src=\"https://colab.research.google.com/assets/colab-badge.svg\" alt=\"Open In Colab\"/></a>"
      ]
    },
    {
      "cell_type": "markdown",
      "source": [
        "# Solución de SLIT segundo orden forma canónica utilizando transformada de Laplace en Sympy\n",
        "Aplicación de fracciones parciales "
      ],
      "metadata": {
        "id": "e5KHAnisOkVr"
      }
    },
    {
      "cell_type": "code",
      "source": [
        "!pip install sympy --upgrade #actualizar sympy para usar módulo de control"
      ],
      "metadata": {
        "colab": {
          "base_uri": "https://localhost:8080/"
        },
        "id": "1wOD5Hv0HZxX",
        "outputId": "5180a82c-1931-4dc9-ff58-8e48ac3f3e24"
      },
      "execution_count": 1,
      "outputs": [
        {
          "output_type": "stream",
          "name": "stdout",
          "text": [
            "Looking in indexes: https://pypi.org/simple, https://us-python.pkg.dev/colab-wheels/public/simple/\n",
            "Requirement already satisfied: sympy in /usr/local/lib/python3.7/dist-packages (1.10.1)\n",
            "Requirement already satisfied: mpmath>=0.19 in /usr/local/lib/python3.7/dist-packages (from sympy) (1.2.1)\n"
          ]
        }
      ]
    },
    {
      "cell_type": "code",
      "execution_count": 2,
      "metadata": {
        "colab": {
          "base_uri": "https://localhost:8080/",
          "height": 58
        },
        "id": "2EHQBxiobxmT",
        "outputId": "95dada80-33db-413c-95c0-977161cb3f4f"
      },
      "outputs": [
        {
          "output_type": "execute_result",
          "data": {
            "text/plain": [
              "         1          \n",
              "────────────────────\n",
              "    ⎛ 2    s     1 ⎞\n",
              "C⋅L⋅⎜s  + ─── + ───⎟\n",
              "    ⎝     C⋅R   C⋅L⎠"
            ],
            "image/png": "[encoded data removed]",
            "text/latex": "$\\displaystyle \\frac{1}{C L \\left(s^{2} + \\frac{s}{C R} + \\frac{1}{C L}\\right)}$"
          },
          "metadata": {},
          "execution_count": 2
        }
      ],
      "source": [
        "import sympy as sym\n",
        "import matplotlib.pyplot as plt\n",
        "import numpy as np\n",
        "sym.init_printing()\n",
        "\n",
        "s = sym.symbols('s', complex=True)\n",
        "t,R, L, C = sym.symbols('t R L C', positive=True, real=True)\n",
        "\n",
        "#Entrada de interés en Laplace\n",
        "X = 1 # X(s) = 1 Respuesta entrada impulso; X(s) = 1/s resp escalón, X(s) = 1/s**2 resp a la rampa\n",
        "#Forma canónica -> resolver según sistema propuesto\n",
        "K = 1 #ganancia estática\n",
        "wn = sym.sqrt(1/(C*L)) #frecuencia natural \n",
        "xi = L/(2*R*sym.sqrt(C*L)) #factor amortiguamiento\n",
        "H = K*(wn**2/(s**2 + 2*xi*wn*s + wn**2)) #función de transferencia en lazo cerrado slit 2 orden\n",
        "#Hlc = H/(1+H) #para lazo cerrado\n",
        "H"
      ]
    },
    {
      "cell_type": "code",
      "source": [
        "#calcular polos\n",
        "p1 = -xi*wn + 1j*wn*sym.sqrt(1-xi**2)\n",
        "p2 = -xi*wn - 1j*wn*sym.sqrt(1-xi**2)\n",
        "p1"
      ],
      "metadata": {
        "colab": {
          "base_uri": "https://localhost:8080/",
          "height": 71
        },
        "id": "O8k5fHqzfqRl",
        "outputId": "928ebd63-ecc8-4cc9-9f87-33638bdabe15"
      },
      "execution_count": 3,
      "outputs": [
        {
          "output_type": "execute_result",
          "data": {
            "text/plain": [
              "                     ____________\n",
              "                    ╱       L    \n",
              "          1.0⋅ⅈ⋅   ╱  1 - ────── \n",
              "                  ╱            2 \n",
              "    1           ╲╱        4⋅C⋅R  \n",
              "- ───── + ───────────────────────\n",
              "  2⋅C⋅R            √C⋅√L         "
            ],
            "image/png": "[encoded data removed]",
            "text/latex": "$\\displaystyle - \\frac{1}{2 C R} + \\frac{1.0 i \\sqrt{1 - \\frac{L}{4 C R^{2}}}}{\\sqrt{C} \\sqrt{L}}$"
          },
          "metadata": {},
          "execution_count": 3
        }
      ]
    },
    {
      "cell_type": "code",
      "source": [
        "#evaluar valores RLC\n",
        "RLC = {R: 1, L: sym.Rational('0.5'), C: sym.Rational('0.4')}#valores utilizados para la simulación\n",
        "H.subs(RLC)"
      ],
      "metadata": {
        "colab": {
          "base_uri": "https://localhost:8080/",
          "height": 58
        },
        "id": "kz4hHVXcgKM8",
        "outputId": "7cfb0ac9-c32b-4a7b-edca-c35b0ddeb393"
      },
      "execution_count": 4,
      "outputs": [
        {
          "output_type": "execute_result",
          "data": {
            "text/plain": [
              "     5      \n",
              "────────────\n",
              " 2   5⋅s    \n",
              "s  + ─── + 5\n",
              "      2     "
            ],
            "image/png": "[encoded data removed]",
            "text/latex": "$\\displaystyle \\frac{5}{s^{2} + \\frac{5 s}{2} + 5}$"
          },
          "metadata": {},
          "execution_count": 4
        }
      ]
    },
    {
      "cell_type": "code",
      "source": [
        "print('p1=',p1.subs(RLC))\n",
        "print('p2=',p2.subs(RLC))\n",
        "print('xi=',xi.subs(RLC))\n",
        "print('omega_n=',wn.subs(RLC))"
      ],
      "metadata": {
        "colab": {
          "base_uri": "https://localhost:8080/"
        },
        "id": "gY8VCgH1DbOU",
        "outputId": "4ea1b627-776c-49b8-aaf9-a0446a1ac49c"
      },
      "execution_count": 5,
      "outputs": [
        {
          "output_type": "stream",
          "name": "stdout",
          "text": [
            "p1= -5/4 + 0.25*sqrt(55)*I\n",
            "p2= -5/4 - 0.25*sqrt(55)*I\n",
            "xi= sqrt(5)/4\n",
            "omega_n= sqrt(5)\n"
          ]
        }
      ]
    },
    {
      "cell_type": "code",
      "source": [
        "#gráfica polos y ceros paquete de control de sympy\n",
        "from sympy.physics.control.lti import TransferFunction\n",
        "from sympy.physics.control.control_plots import pole_zero_plot\n",
        "num,den=sym.fraction(H.subs(RLC))\n",
        "\n",
        "tf1 = TransferFunction(num, den, s)#numerados y denomirador función de transferencia con valores evaluados de RLC\n",
        "pole_zero_plot(tf1)   "
      ],
      "metadata": {
        "colab": {
          "base_uri": "https://localhost:8080/",
          "height": 314
        },
        "id": "3B01A-TzG-u3",
        "outputId": "5a9e89d2-371e-4b8b-e603-5c5a66cdd75c"
      },
      "execution_count": 6,
      "outputs": [
        {
          "output_type": "display_data",
          "data": {
            "text/plain": [
              "<Figure size 432x288 with 1 Axes>"
            ],
            "image/png": "[encoded data removed]"
          },
          "metadata": {
            "needs_background": "light"
          }
        }
      ]
    },
    {
      "cell_type": "code",
      "source": [
        "#salida según entrada de interés\n",
        "Y = H * X #función de transferencia del circuito multiplicada por X(s)\n",
        "#Función de salida\n",
        "Y"
      ],
      "metadata": {
        "colab": {
          "base_uri": "https://localhost:8080/",
          "height": 58
        },
        "id": "-gEYLMU0JNtU",
        "outputId": "d4b3b6ec-15bd-4bac-e491-6e17491c5f7b"
      },
      "execution_count": 7,
      "outputs": [
        {
          "output_type": "execute_result",
          "data": {
            "text/plain": [
              "         1          \n",
              "────────────────────\n",
              "    ⎛ 2    s     1 ⎞\n",
              "C⋅L⋅⎜s  + ─── + ───⎟\n",
              "    ⎝     C⋅R   C⋅L⎠"
            ],
            "image/png": "[encoded data removed]",
            "text/latex": "$\\displaystyle \\frac{1}{C L \\left(s^{2} + \\frac{s}{C R} + \\frac{1}{C L}\\right)}$"
          },
          "metadata": {},
          "execution_count": 7
        }
      ]
    },
    {
      "cell_type": "code",
      "source": [
        "#Función de salida en Laplace factorizada (fracciones parciales)\n",
        "Yp = Y.apart(s) # el comando apart factoriza la expresión simbólica\n",
        "Yp\n"
      ],
      "metadata": {
        "colab": {
          "base_uri": "https://localhost:8080/",
          "height": 53
        },
        "id": "ym99kRnsb-2y",
        "outputId": "cb640820-1508-44c9-b45c-435957926e77"
      },
      "execution_count": 8,
      "outputs": [
        {
          "output_type": "execute_result",
          "data": {
            "text/plain": [
              "        R         \n",
              "──────────────────\n",
              "       2          \n",
              "C⋅L⋅R⋅s  + L⋅s + R"
            ],
            "image/png": "[encoded data removed]",
            "text/latex": "$\\displaystyle \\frac{R}{C L R s^{2} + L s + R}$"
          },
          "metadata": {},
          "execution_count": 8
        }
      ]
    },
    {
      "cell_type": "code",
      "source": [
        "#Modelo en el tiempo en función de RLC\n",
        "Ye = Yp\n",
        "#Se recorre cada fracción parcial según factorización para simplificar cálculos\n",
        "for j in range(len(Ye.args)):\n",
        "    if j==0:#primer elemento de la solucion\n",
        "      yt = sym.inverse_laplace_transform(Ye.args[j], s, t)\n",
        "    else: #siguientes elementos concatenados\n",
        "      yt+= sym.inverse_laplace_transform(Ye.args[j], s, t) \n",
        "yt"
      ],
      "metadata": {
        "colab": {
          "base_uri": "https://localhost:8080/",
          "height": 154
        },
        "id": "YJ_wVzxgc_S9",
        "outputId": "42b6c46b-3836-4612-c16a-7726df0844b7"
      },
      "execution_count": 9,
      "outputs": [
        {
          "output_type": "execute_result",
          "data": {
            "text/plain": [
              "  ⎛   ⎛        ⎛     ⎛          2    ⎞⎞    ______________⎞                    \n",
              "  ⎜   ⎜        ⎜atan2⎝0, - 4⋅C⋅R  + L⎠⎟   ╱ │     2    │ ⎟                    \n",
              "  ⎜ t⋅⎜√L + cos⎜──────────────────────⎟⋅╲╱  │4⋅C⋅R  - L│ ⎟    ⎛     ⎛     ⎛   \n",
              "  ⎜   ⎝        ⎝          2           ⎠                  ⎠    ⎜     ⎜atan2⎝0, \n",
              "  ⎜ ──────────────────────────────────────────────────────    ⎜t⋅sin⎜─────────\n",
              "  ⎜                        2⋅C⋅√L⋅R                           ⎜     ⎝         \n",
              "ⅈ⋅⎜ℯ                                                      ⋅sin⎜───────────────\n",
              "  ⎝                                                           ⎝               \n",
              "──────────────────────────────────────────────────────────────────────────────\n",
              "                                                                              \n",
              "                                                                              \n",
              "                                                                              \n",
              "\n",
              "                                         ⎛        ⎛     ⎛          2    ⎞⎞    \n",
              "                                         ⎜        ⎜atan2⎝0, - 4⋅C⋅R  + L⎠⎟   ╱\n",
              "       2    ⎞⎞    ______________⎞      t⋅⎜√L + cos⎜──────────────────────⎟⋅╲╱ \n",
              "- 4⋅C⋅R  + L⎠⎟   ╱ │     2    │ ⎟        ⎝        ⎝          2           ⎠    \n",
              "─────────────⎟⋅╲╱  │4⋅C⋅R  - L│ ⎟      ───────────────────────────────────────\n",
              " 2           ⎠                  ⎟                             2⋅C⋅√L⋅R        \n",
              "────────────────────────────────⎟ - ⅈ⋅ℯ                                       \n",
              "     2⋅C⋅√L⋅R                   ⎠                                             \n",
              "──────────────────────────────────────────────────────────────────────────────\n",
              "                                                                              \n",
              "                                                                              \n",
              "                                                                              \n",
              "\n",
              "______________⎞                                                            ⎛  \n",
              " │     2    │ ⎟                                                            ⎜  \n",
              " │4⋅C⋅R  - L│ ⎟    ⎛     ⎛     ⎛          2    ⎞⎞    ______________⎞    -t⋅⎜-√\n",
              "              ⎠    ⎜     ⎜atan2⎝0, - 4⋅C⋅R  + L⎠⎟   ╱ │     2    │ ⎟       ⎝  \n",
              "───────────────    ⎜t⋅sin⎜──────────────────────⎟⋅╲╱  │4⋅C⋅R  - L│ ⎟    ──────\n",
              "                   ⎜     ⎝          2           ⎠                  ⎟          \n",
              "               ⋅cos⎜───────────────────────────────────────────────⎟ + ℯ      \n",
              "                   ⎝                    2⋅C⋅√L⋅R                   ⎠          \n",
              "──────────────────────────────────────────────────────────────────────────────\n",
              "                                                                      ________\n",
              "                                                                     ╱        \n",
              "                                                                √L⋅╲╱  - 4⋅C⋅R\n",
              "\n",
              "       ⎛     ⎛          2    ⎞⎞    ______________⎞                            \n",
              "       ⎜atan2⎝0, - 4⋅C⋅R  + L⎠⎟   ╱ │     2    │ ⎟                            \n",
              "L + cos⎜──────────────────────⎟⋅╲╱  │4⋅C⋅R  - L│ ⎟     ⎛     ⎛     ⎛          \n",
              "       ⎝          2           ⎠                  ⎠     ⎜     ⎜atan2⎝0, - 4⋅C⋅R\n",
              "───────────────────────────────────────────────────    ⎜t⋅sin⎜────────────────\n",
              "                   2⋅C⋅√L⋅R                            ⎜     ⎝          2     \n",
              "                                                   ⋅sin⎜──────────────────────\n",
              "                                                       ⎝                    2⋅\n",
              "──────────────────────────────────────────────────────────────────────────────\n",
              "______                                                                        \n",
              "2                                                                             \n",
              "  + L                                                                         \n",
              "\n",
              "                                   ⎛         ⎛     ⎛          2    ⎞⎞    _____\n",
              "                                   ⎜         ⎜atan2⎝0, - 4⋅C⋅R  + L⎠⎟   ╱ │   \n",
              "2    ⎞⎞    ______________⎞      -t⋅⎜-√L + cos⎜──────────────────────⎟⋅╲╱  │4⋅C\n",
              "  + L⎠⎟   ╱ │     2    │ ⎟         ⎝         ⎝          2           ⎠         \n",
              "──────⎟⋅╲╱  │4⋅C⋅R  - L│ ⎟      ──────────────────────────────────────────────\n",
              "      ⎠                  ⎟                               2⋅C⋅√L⋅R             \n",
              "─────────────────────────⎟ + ⅈ⋅ℯ                                              \n",
              "C⋅√L⋅R                   ⎠                                                    \n",
              "──────────────────────────────────────────────────────────────────────────────\n",
              "                                                                              \n",
              "                                                                              \n",
              "                                                                              \n",
              "\n",
              "_________⎞                                                      ⎞     \n",
              "  2    │ ⎟                                                      ⎟     \n",
              "⋅R  - L│ ⎟     ⎛     ⎛     ⎛          2    ⎞⎞    ______________⎞⎟     \n",
              "         ⎠     ⎜     ⎜atan2⎝0, - 4⋅C⋅R  + L⎠⎟   ╱ │     2    │ ⎟⎟  -t \n",
              "───────────    ⎜t⋅sin⎜──────────────────────⎟⋅╲╱  │4⋅C⋅R  - L│ ⎟⎟  ───\n",
              "               ⎜     ⎝          2           ⎠                  ⎟⎟  C⋅R\n",
              "           ⋅cos⎜───────────────────────────────────────────────⎟⎟⋅ℯ   \n",
              "               ⎝                    2⋅C⋅√L⋅R                   ⎠⎠     \n",
              "──────────────────────────────────────────────────────────────────────\n",
              "                                                                      \n",
              "                                                                      \n",
              "                                                                      "
            ],
            "image/png": "[encoded data removed]",
            "text/latex": "$\\displaystyle \\frac{i \\left(e^{\\frac{t \\left(\\sqrt{L} + \\cos{\\left(\\frac{\\operatorname{atan_{2}}{\\left(0,- 4 C R^{2} + L \\right)}}{2} \\right)} \\sqrt{\\left|{4 C R^{2} - L}\\right|}\\right)}{2 C \\sqrt{L} R}} \\sin{\\left(\\frac{t \\sin{\\left(\\frac{\\operatorname{atan_{2}}{\\left(0,- 4 C R^{2} + L \\right)}}{2} \\right)} \\sqrt{\\left|{4 C R^{2} - L}\\right|}}{2 C \\sqrt{L} R} \\right)} - i e^{\\frac{t \\left(\\sqrt{L} + \\cos{\\left(\\frac{\\operatorname{atan_{2}}{\\left(0,- 4 C R^{2} + L \\right)}}{2} \\right)} \\sqrt{\\left|{4 C R^{2} - L}\\right|}\\right)}{2 C \\sqrt{L} R}} \\cos{\\left(\\frac{t \\sin{\\left(\\frac{\\operatorname{atan_{2}}{\\left(0,- 4 C R^{2} + L \\right)}}{2} \\right)} \\sqrt{\\left|{4 C R^{2} - L}\\right|}}{2 C \\sqrt{L} R} \\right)} + e^{- \\frac{t \\left(- \\sqrt{L} + \\cos{\\left(\\frac{\\operatorname{atan_{2}}{\\left(0,- 4 C R^{2} + L \\right)}}{2} \\right)} \\sqrt{\\left|{4 C R^{2} - L}\\right|}\\right)}{2 C \\sqrt{L} R}} \\sin{\\left(\\frac{t \\sin{\\left(\\frac{\\operatorname{atan_{2}}{\\left(0,- 4 C R^{2} + L \\right)}}{2} \\right)} \\sqrt{\\left|{4 C R^{2} - L}\\right|}}{2 C \\sqrt{L} R} \\right)} + i e^{- \\frac{t \\left(- \\sqrt{L} + \\cos{\\left(\\frac{\\operatorname{atan_{2}}{\\left(0,- 4 C R^{2} + L \\right)}}{2} \\right)} \\sqrt{\\left|{4 C R^{2} - L}\\right|}\\right)}{2 C \\sqrt{L} R}} \\cos{\\left(\\frac{t \\sin{\\left(\\frac{\\operatorname{atan_{2}}{\\left(0,- 4 C R^{2} + L \\right)}}{2} \\right)} \\sqrt{\\left|{4 C R^{2} - L}\\right|}}{2 C \\sqrt{L} R} \\right)}\\right) e^{- \\frac{t}{C R}}}{\\sqrt{L} \\sqrt{- 4 C R^{2} + L}}$"
          },
          "metadata": {},
          "execution_count": 9
        }
      ]
    },
    {
      "cell_type": "code",
      "source": [
        "#Modelo en el tiempo en función de RLC - substituir valores\n",
        "Ye = Yp.subs(RLC).apart(s)\n",
        "Ye\n"
      ],
      "metadata": {
        "colab": {
          "base_uri": "https://localhost:8080/",
          "height": 52
        },
        "id": "wpyZX_inPjt8",
        "outputId": "82b843c5-f624-402f-b6d9-c9a5eb782077"
      },
      "execution_count": 10,
      "outputs": [
        {
          "output_type": "execute_result",
          "data": {
            "text/plain": [
              "       10      \n",
              "───────────────\n",
              "   2           \n",
              "2⋅s  + 5⋅s + 10"
            ],
            "image/png": "[encoded data removed]",
            "text/latex": "$\\displaystyle \\frac{10}{2 s^{2} + 5 s + 10}$"
          },
          "metadata": {},
          "execution_count": 10
        }
      ]
    },
    {
      "cell_type": "code",
      "source": [
        "#Se recorre cada fracción parcial según factorización para simplificar cálculos\n",
        "for j in range(len(Ye.args)):\n",
        "    if j==0:#primer elemento de la solucion\n",
        "      yt = sym.inverse_laplace_transform(Ye.args[j], s, t)\n",
        "    else: #siguientes elementos concatenados\n",
        "      yt+= sym.inverse_laplace_transform(Ye.args[j], s, t) \n",
        "yt"
      ],
      "metadata": {
        "colab": {
          "base_uri": "https://localhost:8080/",
          "height": 66
        },
        "id": "tqbZ91hLe36K",
        "outputId": "8183686b-7c15-4871-d777-bd9e9903b0f2"
      },
      "execution_count": 11,
      "outputs": [
        {
          "output_type": "execute_result",
          "data": {
            "text/plain": [
              "       -5⋅t            \n",
              "       ─────           \n",
              "         4      ⎛√55⋅t⎞\n",
              "2⋅√55⋅ℯ     ⋅sin⎜─────⎟\n",
              "                ⎝  4  ⎠\n",
              "───────────────────────\n",
              "           55          "
            ],
            "image/png": "[encoded data removed]",
            "text/latex": "$\\displaystyle \\frac{2 \\sqrt{55} e^{- \\frac{5 t}{4}} \\sin{\\left(\\frac{\\sqrt{55} t}{4} \\right)}}{55}$"
          },
          "metadata": {},
          "execution_count": 11
        }
      ]
    },
    {
      "cell_type": "code",
      "source": [
        "#Gráfica de salida en el tiempo\n",
        "sym.plot(yt,(t,0,float((3/xi*wn).subs(RLC))),xlabel='$t$', ylabel='$y(t)$')\n",
        "plt.show()\n"
      ],
      "metadata": {
        "colab": {
          "base_uri": "https://localhost:8080/",
          "height": 297
        },
        "id": "N92XAWsJeHlO",
        "outputId": "411f3217-ec31-4f6a-9408-ae7f688e7cbd"
      },
      "execution_count": 12,
      "outputs": [
        {
          "output_type": "display_data",
          "data": {
            "text/plain": [
              "<Figure size 432x288 with 1 Axes>"
            ],
            "image/png": "[encoded data removed]"
          },
          "metadata": {
            "needs_background": "light"
          }
        }
      ]
    },
    {
      "cell_type": "code",
      "source": [],
      "metadata": {
        "id": "VqtPLWpZeOT-"
      },
      "execution_count": 12,
      "outputs": []
    }
  ]
}