{
 "cells": [
  {
   "cell_type": "markdown",
   "metadata": {
    "colab_type": "text",
    "id": "Mr5ujCfl5pPX",
    "nbsphinx": "hidden"
   },
   "source": [
    "# Transformada de Laplace\n",
    "\n",
    "*This Jupyter notebook is part of a [collection of notebooks](../index.ipynb) in the bachelors module Signals and Systems, Communications Engineering, Universität Rostock. Please direct questions and suggestions to [Sascha.Spors@uni-rostock.de](mailto:Sascha.Spors@uni-rostock.de).*"
   ]
  },
  {
   "cell_type": "markdown",
   "metadata": {
    "colab_type": "text",
    "id": "EIFXI9Uo5pPd"
   },
   "source": [
    "## Teoremas\n",
    "\n",
    "Los teoremas de la transformada de Laplace relacionan las operaciones básicas del dominio del tiempo con sus equivalentes en el dominio de Laplace. Se utilizan para el cálculo de la transformada de Laplace de señales compuestas por señales estándar modificadas y para el cálculo de la respuesta de un sistema ante una señal de entrada. Los teoremas permiten además, predecir las consecuencias de modificar una señal o un sistema mediante ciertas operaciones."
   ]
  },
  {
   "cell_type": "markdown",
   "metadata": {
    "colab_type": "text",
    "id": "Wa6jyjqh5pPg"
   },
   "source": [
    "### Teorema de Escalamiento Temporal \n",
    "\n",
    "Sea una señal $x(t)$ dada, para la cual su transformada de Laplace $X(s) = \\mathcal{L} \\{ x(t) \\}$ existe. La transformada de Laplace de una señal escalada en tiempo $x(a t)$ con $a \\in \\mathbb{R} \\setminus \\{0\\}$ es\n",
    "\n",
    "\\begin{equation}\n",
    "\\mathcal{L} \\{ x(a t) \\} = \\frac{1}{|a|} \\cdot X \\left( \\frac{s}{a} \\right)\n",
    "\\end{equation}\n",
    "\n",
    "La transformada de Laplace de una señal escalada en tiempo está dada por una versión escalada (de manera inversa) en el dominio de Laplace y multiplicada por un factor de escalamiento de $\\frac{1}{|a|}$.\n",
    "\n",
    "El escalamiento de la transformada de Laplace se puede interpretar como un escalamiento del plano complejo $s$. La región de convergencia (ROC) de una señal escalada en tiempo $x(at)$ es por ende, una versión inversamente escalada de la ROC de $x(t)$\n",
    "\n",
    "\\begin{equation}\n",
    "\\text{ROC} \\{ x(a t) \\} = \\left\\{ s: \\frac{s}{a} \\in \\text{ROC} \\{ x(t) \\} \\right\\}\n",
    "\\end{equation}\n",
    "\n",
    "La anterior relación es conocida como el teorema de escalamiento de la transformada de Laplace. El teorema de escalamiento se demuestra al resolver la integral de transformación para $x(a t)$ \n",
    "\n",
    "\\begin{equation}\n",
    "\\mathcal{L} \\{ x(a t) \\} = \\int_{-\\infty}^{\\infty} x(a t) \\, e^{- s t} \\; dt = \\frac{1}{|a|} \\int_{-\\infty}^{\\infty} x(t') \\, e^{-\\frac{s}{a} t'} \\; dt' = \\frac{1}{|a|} \\cdot X \\left( \\frac{s}{a} \\right)\n",
    "\\end{equation}\n",
    "\n",
    "Donde la sustitución $t' = at$ fue empleada. Observe que un valor negativo de $a$ puede resultar en la inversión de los limites de integración. Para este caso, es necesario invertir los límites (Cambiar el signo). Por ello se utiliza el valor absoluto de $a$."
   ]
  },
  {
   "cell_type": "markdown",
   "metadata": {
    "colab_type": "text",
    "id": "zaApLgvO5pPj"
   },
   "source": [
    "### Teorema de Convolución\n",
    "\n",
    "El teorema de convolución indica que la transformada de Laplace de una convolución en el dominio del tiempo, para dos señales $y(t)$ y $x(t)$ es igual al producto de sus transformadas de Laplace $X(s)$ y $Y(s)$\n",
    "\n",
    "\\begin{equation}\n",
    "\\mathcal{L} \\{ x(t) * y(t) \\} = X(s) \\cdot Y(s)\n",
    "\\end{equation}\n",
    "\n",
    "Bajo la suposición de que ambas transformadas $X(s) = \\mathcal{L} \\{ x(t) \\}$ y $Y(s) = \\mathcal{L} \\{ y(t) \\}$ existen. La ROC de la convolución $x(t) * y(t)$ incluye *por lo menos* la intersección de las ROC de $x(t)$ y $y(t)$\n",
    "\n",
    "\\begin{equation}\n",
    "\\text{ROC} \\{ x(t) * y(t) \\} \\supseteq \\text{ROC} \\{ x(t) \\} \\cap \\text{ROC} \\{ y(t) \\}\n",
    "\\end{equation}\n",
    "\n",
    "\n",
    "Este teorema se puede demostrar al introducir la definición de convolución dentro de la definición de la transformada de Laplace y cambiar el orden de integración (Linealidad de las integrales)\n",
    "\n",
    "\\begin{align}\n",
    "\\mathcal{L} \\{ x(t) * y(t) \\} &= \\int_{-\\infty}^{\\infty} \\left( \\int_{-\\infty}^{\\infty} x(\\tau) \\cdot y(t-\\tau) \\; d \\tau \\right) e^{-s t} \\; dt \\\\\n",
    "&= \\int_{-\\infty}^{\\infty} \\left( \\int_{-\\infty}^{\\infty} y(t-\\tau) \\, e^{-s t} \\; dt \\right) x(\\tau) \\; d\\tau \\\\\n",
    "&= Y(s) \\cdot \\int_{-\\infty}^{\\infty} x(\\tau) \\, e^{-s \\tau} \\; d \\tau \\\\\n",
    "&= Y(s) \\cdot X(s)\n",
    "\\end{align}\n",
    "\n",
    "El teorema de convolución es muy útil en el contexto de sistemas lineales e invariantes en el tiempo (SLIT). La señal de salida $y(t)$ de un SLIT está dada por la convolución entra $x(t)$ y la respuesta al impulso del sistema $h(t)$. Las señales pueden ser representadas en el dominio del tiempo o de Laplace. Esto conlleva a la representación equivalente para un SLIT en el dominio del tiempo y de Laplace respectivamente\n",
    "\n",
    "![Representación de un SLTI en el dominio del tiempo y en el dominio de Laplace](LTI_system_Laplace_domain.png)\n",
    "\n",
    "El cálculo de la respuesta del sistema al transformar el problema al dominio de Laplace puede ser ventajoso, ya que reemplaza la evaluación de la integral de convolución por una multiplicación escalar. En muchos casos, este procedimiento simplifica significativamente el cálculo de la respuesta del sistema. Un ejemplo útil es el del análisis de una red eléctrica con elementos pasivos. El teorema de convolución también puede ser útil para obtener transformadas de Laplace desconocidas. El truco está en expresar señales como la convolución de otras dos señales, cuyas transformadas de Laplace sean conocidas. Esto se muestra en el siguiente ejemplo"
   ]
  },
  {
   "cell_type": "markdown",
   "metadata": {
    "colab_type": "text",
    "id": "AL9JlrT-5pPn"
   },
   "source": [
    "**Ejemplo - Transformada de dos señales convolucionadas**\n",
    "\n",
    "La transformada de Laplace de una convolución entre una señal coseno causal $\\epsilon(t) \\cdot \\cos(\\omega_0 t)$ y una señal seno $\\epsilon(t) \\cdot \\sin(\\omega_0 t)$ se obtiene por el teorema de convolución\n",
    "\n",
    "\\begin{equation}\n",
    "\\mathcal{L} \\{ \\epsilon(t) \\cdot ( \\cos(\\omega_0 t) * \\sin(\\omega_0 t) \\} \n",
    "= \\frac{s}{s^2 + \\omega_0^2} \\cdot \\frac{\\omega_0}{s^2 + \\omega_0^2}\n",
    "= \\frac{\\omega_0 s}{(s^2 + \\omega_0^2)^2}\n",
    "\\end{equation}\n",
    "\n",
    "Donde la transformada de Laplace de señales causales seno y coseno es utilizada. La ROC de las señales coseno causal y de un seno causal es $\\Re \\{ s \\} > 0$. Luego, la ROC de la convolución también es $\\Re \\{ s \\} > 0$, dado que no hay cancelación de polos ni ceros. La anterior transformada de Laplace tiene un cero para $s_{00} = 0$, y dos pares de polos complejos conjugados $s_{\\infty 0} = s_{\\infty 1} = j \\omega_0$ and $s_{\\infty 2} = s_{\\infty 3} = - j \\omega_0$.\n",
    "\n",
    "Este ejemplo se evalua numericamente a continuación. Primero, se calcula la convolución entre las señales"
   ]
  },
  {
   "cell_type": "code",
   "execution_count": 1,
   "metadata": {
    "colab": {
     "base_uri": "https://localhost:8080/",
     "height": 34
    },
    "colab_type": "code",
    "executionInfo": {
     "elapsed": 1786,
     "status": "ok",
     "timestamp": 1558301849867,
     "user": {
      "displayName": "Santiago Rincon",
      "photoUrl": "",
      "userId": "10970905932025499956"
     },
     "user_tz": 300
    },
    "id": "KTNLZvRt5pPp",
    "outputId": "3743f079-69e7-409a-f309-628818d60548"
   },
   "outputs": [
    {
     "data": {
      "image/png": "[encoded data removed]",
      "text/latex": [
       "$$- \\frac{- \\left(\\frac{\\omega_{0} t}{2} + \\frac{\\sin{\\left (2 \\omega_{0} t \\right )}}{4}\\right) \\sin{\\left (\\omega_{0} t \\right )} - \\frac{\\cos^{3}{\\left (\\omega_{0} t \\right )}}{2}}{\\omega_{0}} - \\frac{\\cos{\\left (\\omega_{0} t \\right )}}{2 \\omega_{0}}$$"
      ],
      "text/plain": [
       "                                        3                  \n",
       "    ⎛ω₀⋅t   sin(2⋅ω₀⋅t)⎞             cos (ω₀⋅t)            \n",
       "  - ⎜──── + ───────────⎟⋅sin(ω₀⋅t) - ──────────            \n",
       "    ⎝ 2          4     ⎠                 2        cos(ω₀⋅t)\n",
       "- ───────────────────────────────────────────── - ─────────\n",
       "                        ω₀                           2⋅ω₀  "
      ]
     },
     "execution_count": 1,
     "metadata": {},
     "output_type": "execute_result"
    }
   ],
   "source": [
    "%matplotlib inline\n",
    "import sympy as sym\n",
    "sym.init_printing()\n",
    "\n",
    "t, tau = sym.symbols('t tau', real=True)\n",
    "s = sym.symbols('s', complex=True)\n",
    "w0 = sym.symbols('omega0', positive=True)\n",
    "\n",
    "x = sym.integrate(sym.cos(w0*tau) * sym.sin(w0*(t-tau)), (tau, 0, t))\n",
    "x = x.doit()\n",
    "x"
   ]
  },
  {
   "cell_type": "markdown",
   "metadata": {
    "colab_type": "text",
    "id": "mMEJUIXg5pP3"
   },
   "source": [
    "Para ilustrar, se grafica la señal para $ω_0 = 1$"
   ]
  },
  {
   "cell_type": "code",
   "execution_count": 2,
   "metadata": {
    "colab": {
     "base_uri": "https://localhost:8080/",
     "height": 261
    },
    "colab_type": "code",
    "executionInfo": {
     "elapsed": 872,
     "status": "ok",
     "timestamp": 1558301922358,
     "user": {
      "displayName": "Santiago Rincon",
      "photoUrl": "",
      "userId": "10970905932025499956"
     },
     "user_tz": 300
    },
    "id": "tLwuLrZP5pP6",
    "outputId": "f5e83090-eec8-48cb-d34c-2c38aabfc9d6"
   },
   "outputs": [
    {
     "data": {
      "image/png": "[encoded data removed]",
      "text/plain": [
       "<Figure size 432x288 with 1 Axes>"
      ]
     },
     "metadata": {
      "needs_background": "light"
     },
     "output_type": "display_data"
    }
   ],
   "source": [
    "sym.plot(x.subs(w0, 1), (t, 0, 50), xlabel=r'$t$', ylabel=r'$x(t)$');"
   ]
  },
  {
   "cell_type": "markdown",
   "metadata": {
    "colab_type": "text",
    "id": "oZZbYWOH5pQE"
   },
   "source": [
    "Se calcula la transformada de Laplace"
   ]
  },
  {
   "cell_type": "code",
   "execution_count": null,
   "metadata": {
    "colab": {
     "base_uri": "https://localhost:8080/",
     "height": 34
    },
    "colab_type": "code",
    "executionInfo": {
     "elapsed": 1263,
     "status": "ok",
     "timestamp": 1558301935830,
     "user": {
      "displayName": "Santiago Rincon",
      "photoUrl": "",
      "userId": "10970905932025499956"
     },
     "user_tz": 300
    },
    "id": "wPzlPaS15pQG",
    "outputId": "3926bc55-32a0-4a74-9ba6-7af9b291c04d"
   },
   "outputs": [],
   "source": [
    "X, a, cond = sym.laplace_transform(x, t, s)\n",
    "X, a"
   ]
  },
  {
   "cell_type": "markdown",
   "metadata": {
    "colab_type": "text",
    "id": "6pQcTkfV5pQT"
   },
   "source": [
    "que existe para $\\Re \\{ s \\} > 0$. Sus ceros están dados por"
   ]
  },
  {
   "cell_type": "code",
   "execution_count": null,
   "metadata": {
    "colab": {
     "base_uri": "https://localhost:8080/",
     "height": 34
    },
    "colab_type": "code",
    "executionInfo": {
     "elapsed": 425,
     "status": "ok",
     "timestamp": 1558301975203,
     "user": {
      "displayName": "Santiago Rincon",
      "photoUrl": "",
      "userId": "10970905932025499956"
     },
     "user_tz": 300
    },
    "id": "rKUOMP3S5pQX",
    "outputId": "5008f560-01a6-42fa-d6c8-a1398b9b0b25"
   },
   "outputs": [],
   "source": [
    "sym.roots(sym.numer(X), s)"
   ]
  },
  {
   "cell_type": "markdown",
   "metadata": {
    "colab_type": "text",
    "id": "oXSLZMXy5pQg"
   },
   "source": [
    "y sus polos son"
   ]
  },
  {
   "cell_type": "code",
   "execution_count": null,
   "metadata": {
    "colab": {},
    "colab_type": "code",
    "id": "HrfVALQS5pQj",
    "outputId": "049f2076-0b43-4349-9cf3-4f4a1eb05f2e"
   },
   "outputs": [],
   "source": [
    "sym.roots(sym.denom(X), s)"
   ]
  },
  {
   "cell_type": "markdown",
   "metadata": {
    "colab_type": "text",
    "id": "DxYZ1ju95pQu"
   },
   "source": [
    "### Teorema de desplazamiento temporal\n",
    "\n",
    "El desplazamiento temporal para una señal $x(t - \\tau)$ para $\\tau \\in \\mathbb{R}$ se puede expresar como la convolución entre $x(t)$ y un impulso de Dirac desplazado\n",
    "\n",
    "\\begin{equation}\n",
    "x(t - \\tau) = x(t) * \\delta(t - \\tau)\n",
    "\\end{equation}\n",
    "\n",
    "Esto se deduce de la propiedad de selectividad del impulso de Dirac. Aplicar la transformada de Laplace en ambos lados de la igualda y emplear el teorema de convolución:\n",
    "\n",
    "\\begin{equation}\n",
    "\\mathcal{L} \\{ x(t - \\tau) \\} = X(s) \\cdot e^{- s \\tau}\n",
    "\\end{equation}\n",
    "\n",
    "Donde se asume que $X(s) = \\mathcal{L} \\{ x(t) \\}$ existe. Observe que $\\mathcal{L} \\{ \\delta(t - \\tau) \\} = e^{- s \\tau}$ se puede obtener a partir de la definición de la transformada bilateral de Laplace junto con la propiedad de selectividad del impulso de Dirac. La transformada de Laplace de una señal desplazada está dada por la multiplicación entre la transformada de Laplace de la señal original y $e^{- s \\tau}$. La ROC no se modifica\n",
    "\n",
    "\\begin{equation}\n",
    "\\text{ROC} \\{ x(t-\\tau) \\} = \\text{ROC} \\{ x(t) \\}\n",
    "\\end{equation}\n",
    "\n",
    "Este resultado se conoce como el teorema de desplazamiento de la transformada de Laplace. Para una señal causal $x(t)$ y $\\tau > 0$ el teorema de desplazamiento de la transformada bilateral es igual al de la unilateral."
   ]
  },
  {
   "cell_type": "markdown",
   "metadata": {
    "colab_type": "text",
    "id": "2Wd2E9aw5pQ0"
   },
   "source": [
    "#### Transformada de una señal rectangular\n",
    "\n",
    "The transformada de Laplace de una señal rectangular $x(t) = \\text{rect}(t)$ se obtiene al reexpresar la señal rectangular como señales Heaviside\n",
    "\n",
    "\\begin{equation}\n",
    "\\text{rect}(t) = \\epsilon \\left(t + \\frac{1}{2} \\right) - \\epsilon \\left(t - \\frac{1}{2} \\right)\n",
    "\\end{equation}\n",
    "\n",
    "Aplicando el teorema de desplazamiento para la transformada de una señal Heaviside y emplear el principio de linealidad, se tiene que\n",
    "\n",
    "\\begin{equation}\n",
    "\\mathcal{L} \\{ \\text{rect}(t) \\} = \\frac{1}{s} e^{s \\frac{1}{2}} - \\frac{1}{s} e^{- s \\frac{1}{2}} = \\frac{\\sinh \\left( \\frac{s}{2} \\right) }{\\frac{s}{2}}\n",
    "\\end{equation}\n",
    "\n",
    "Donde $\\sinh(\\cdot)$ es la [función seno hiperbólico](https://en.wikipedia.org/wiki/Hyperbolic_function#Sinh). La ROC de la señal Heaviside está dada para $\\Re \\{ s \\} > 0$. Aplicando la [regla de l'Hopital](https://en.wikipedia.org/wiki/L'H%C3%B4pital's_rule), el polo en $s=0$ puede ser ignorando, obteniendo\n",
    "\n",
    "\\begin{equation}\n",
    "\\text{ROC} \\{ \\text{rect}(t) \\} = \\mathbb{C}\n",
    "\\end{equation}\n",
    "\n",
    "Para ilustrar, la magnitud de la transformada de Laplace $|X(s)|$ se grafica en el plano $s$, al igual que $X(\\sigma)$ y $X(j \\omega)$ para la parte real e imaginaria de la frecuencia compleja $s = \\sigma + j \\omega$."
   ]
  },
  {
   "cell_type": "code",
   "execution_count": null,
   "metadata": {
    "colab": {},
    "colab_type": "code",
    "id": "23a72A1-5pQ2",
    "outputId": "538980b4-506b-4425-94cd-5a9990d770d6"
   },
   "outputs": [],
   "source": [
    "sigma, omega = sym.symbols('sigma omega')\n",
    "X = sym.sinh(s/2)*2/s\n",
    "\n",
    "sym.plotting.plot3d(abs(X.subs(s, sigma+sym.I*omega)), (sigma, -5, 5), (omega, -20, 20),\n",
    "                    xlabel=r'$\\Re\\{s\\}$', ylabel=r'$\\Im\\{s\\}$', title=r'$|X(s)|$')\n",
    "\n",
    "sym.plot(X.subs(s, sigma) , (sigma, -5, 5), xlabel=r'$\\Re\\{s\\}$', ylabel=r'$X(s)$', ylim=(0, 3))\n",
    "\n",
    "sym.plot(X.subs(s, sym.I*omega) , (omega, -20, 20), xlabel=r'$\\Im\\{s\\}$', ylabel=r'$X(s)$');"
   ]
  },
  {
   "cell_type": "markdown",
   "metadata": {
    "colab_type": "text",
    "id": "ijwD-QMZ5pQ_"
   },
   "source": [
    "**Ejercicio**\n",
    "\n",
    "* Obtener la transformada de Laplace de $X(s) = \\mathcal{L} \\{ x(t) \\}$ de la señal rectangular causal $x(t) = \\text{rect} (a t - \\frac{1}{2 a})$\n",
    "* Obtener la transformada de Laplace de una señal triangular $x(t) = \\Lambda(a t)$ con $a \\in \\mathbb{R} \\neq 0$"
   ]
  },
  {
   "cell_type": "markdown",
   "metadata": {
    "colab_type": "text",
    "id": "2rVEqwdq5pRB"
   },
   "source": [
    "### Teorema de Derivación\n",
    "\n",
    "Los fundamentos de las ecuaciones diferenciales son las derivadas de las señales. Las ecuaciones diferenciales ordinarias (ODEs) con coeficientes constantes juegan un papel importante en la teoría de SLIT. Consecuentemente, la representación de la derivada de una señal en el dominio de Laplace es de especial interés."
   ]
  },
  {
   "cell_type": "markdown",
   "metadata": {
    "colab_type": "text",
    "id": "uaPHKXha5pRC"
   },
   "source": [
    "#### Transformada Bilateral\n",
    "\n",
    "Una señal derivable $x(t)$, cuya derivada temporal $\\frac{d x(t)}{dt}$ existe y se conoce. Utilizando la propiedad de derivación de un impulso de Dirac, la derivada de la derivada de una señal se puede expresar como la convolución\n",
    "\n",
    "\\begin{equation}\n",
    "\\frac{d x(t)}{dt} = \\frac{d \\delta(t)}{dt} * x(t)\n",
    "\\end{equation}\n",
    "\n",
    "Aplicando la transformada de Laplace en ambos lados, junto con el teorema de convolución resulta en la transformada de Laplace de la derivada de una señal $x(t)$\n",
    "\n",
    "\\begin{equation}\n",
    "\\mathcal{L} \\left\\{ \\frac{d x(t)}{dt} \\right\\} = s \\cdot X(s)\n",
    "\\end{equation}\n",
    "\n",
    "Donde $X(s) = \\mathcal{L} \\{ x(t) \\}$. La transformada bilateral de Laplace de $\\mathcal{L} \\{ \\frac{d \\delta(t)}{dt} \\} = s$ puede ser obtenida al aplicar la definición de la transformada de Laplace junto con la propiedad de la derivada de un impulso de Dirac. La ROC está dada por un superconjunto de la ROC de $x(t)$\n",
    "\n",
    "\\begin{equation}\n",
    "\\text{ROC} \\left\\{ \\frac{d x(t)}{dt} \\right\\} \\supseteq \\text{ROC} \\{ x(t) \\}\n",
    "\\end{equation}\n",
    "\n",
    "Debido al cero en $s=0$ que puede cancelar un polo.\n",
    "\n",
    "El anterior resultado se conoce como el teorema de derivación de la transformada bilateral de Laplace. Que indica que la derivada temporal de una señal es equivalente a la multiplicación de su espectro por $s$."
   ]
  },
  {
   "cell_type": "markdown",
   "metadata": {
    "colab_type": "text",
    "id": "Rj2nDyRQ5pRE"
   },
   "source": [
    "#### Transformada Unilateral\n",
    "\n",
    "En la práctica, la mayoría de señales y sistemas son cusales, debido a que $x(t) = 0$ para $t < 0$. Una señal causal es potencialmente discontinua para $t=0$. La aplicación de la transformada bilateral de Laplace no es posible, dado que asume que la señal es derivable para cualquier instante de tiempo $t=0$. Por ende\n",
    "\n",
    "\\begin{equation}\n",
    "\\mathcal{L} \\left\\{ \\frac{d x(t)}{dt} \\right\\} = s \\cdot X(s) - x(0+)\n",
    "\\end{equation}\n",
    "\n",
    "Donde $x(0+) := \\lim_{\\epsilon \\to 0} x(0+\\epsilon)$ es el valor límite por la derecha de $x(t)$ para $t=0$. La ROC está dada como un superconjunto de la ROC de $x(t)$\n",
    "\n",
    "\\begin{equation}\n",
    "\\text{ROC} \\left\\{ \\frac{d x(t)}{dt} \\right\\} \\supseteq \\text{ROC} \\{ x(t) \\}\n",
    "\\end{equation}\n",
    "\n",
    "Debido al cero en $s=0$ puede haber cancelación de un polo.  La transformada unilateral de Laplace de una señal causal es igual a su transformada bilateral.  El anterior resultado también se puede aplicar para la transformada bilateral de una señal causal.\n",
    "\n",
    "La principal aplicación del teorema de derivación es la transformación y solución de ecuaciones diferenciales considerando los valores iniciales. Otra aplicación, es la obtención de transformadas de señales que pueden expresarse como derivadas de otras señales."
   ]
  },
  {
   "cell_type": "markdown",
   "metadata": {
    "colab_type": "text",
    "id": "8fliuMh65pRF"
   },
   "source": [
    "### Teorema de Integración\n",
    "\n",
    "Una señal integrable $x(t)$, para la cual la integral $\\int_{-\\infty}^{t} x(\\tau) \\; d\\tau$ existe y es conocida, tiene la siguiente propiedad.\n",
    "\n",
    "La integración se puede representar como la convolución con una señal Heaviside $\\epsilon(t)$\n",
    "\n",
    "\\begin{equation}\n",
    "\\int_{-\\infty}^{t} x(\\tau) \\; d\\tau = \\int_{-\\infty}^{\\infty} x(\\tau) \\cdot \\epsilon(t - \\tau) \\; d\\tau = \\epsilon(t) * x(t)\n",
    "\\end{equation}\n",
    "\n",
    "Como se ilustra a continuación\n",
    "\n",
    "![Representación de una integral como una convolución](integration_as_convolution.png)\n",
    "\n",
    "Al aplicar la transformada bilateral de Laplace en ambos lados de la anterior igualdad, el teorema de convolución y la transformada de una señal Heaviside $\\epsilon(t)$ conlleva a\n",
    "\n",
    "\\begin{equation}\n",
    "\\mathcal{L} \\left\\{ \\int_{-\\infty}^{t} x(\\tau) \\; d\\tau \\right\\} \n",
    "= \\frac{1}{s} \\cdot X(s)\n",
    "\\end{equation}\n",
    "\n",
    "La ROC es un superconjunto de la intersección de la ROC de $x(t)$ y el semi-plano derecho del plano $s$.\n",
    "\n",
    "\\begin{equation}\n",
    "\\text{ROC} \\left\\{ \\int_{-\\infty}^{t} x(\\tau) \\; d\\tau \\right\\} \\supseteq \\text{ROC} \\{ x(t) \\} \\cap \\{s : \\Re \\{ s \\} > 0\\}\n",
    "\\end{equation}\n",
    "\n",
    "Debido al polo en $s=0$. \n",
    "\n",
    "El teorema de integración, se aplica de igual manera para la transformada unilateral de Laplace."
   ]
  },
  {
   "cell_type": "markdown",
   "metadata": {
    "colab_type": "text",
    "id": "gxj3S7u55pRG"
   },
   "source": [
    "#### Transformada de una señal rampa\n",
    "\n",
    "La transformada de Laplace de una [señal rampa](https://en.wikipedia.org/wiki/Ramp_function) $t \\cdot \\epsilon(t)$ causal se obtiene al aplicar el teorema de integración. La señal rampa se puede representar como la integral sobre la señal Heaviside\n",
    "\n",
    "\\begin{equation}\n",
    "t \\cdot \\epsilon(t) = \\int_{-\\infty}^{t} \\epsilon(\\tau) \\; d \\tau\n",
    "\\end{equation}\n",
    "\n",
    "Aplicando la transformada de Laplace en ambos lados de la igualdad y el teorema de integración, junto con la transformada de Laplace de una  señal Heaviside conlleva a\n",
    "\n",
    "\\begin{equation}\n",
    "\\mathcal{L} \\{ t \\cdot \\epsilon(t) \\} = \\frac{1}{s^2}\n",
    "\\end{equation}\n",
    "\n",
    "con\n",
    "\n",
    "\\begin{equation}\n",
    "\\text{ROC} \\{ t \\cdot \\epsilon(t) \\} = \\{s : \\Re \\{ s \\} > 0\\}\n",
    "\\end{equation}"
   ]
  },
  {
   "cell_type": "markdown",
   "metadata": {
    "colab_type": "text",
    "id": "giDDEcFz5pRI"
   },
   "source": [
    "**Ejercicio**\n",
    "\n",
    "* Obtener la transformada de Laplace $X(s) = \\mathcal{L} \\{ x(t) \\}$ de una señal $x(t) = t^n \\cdot \\epsilon(t)$ con $n \\geq 0$ aplicando el teorema de integración.\n",
    "* Compare su resultado con el siguiente resultado computacional. Observe que $\\Gamma(n+1) = n!$ para $n \\in \\mathbb{N}$."
   ]
  },
  {
   "cell_type": "code",
   "execution_count": 6,
   "metadata": {
    "colab": {
     "base_uri": "https://localhost:8080/",
     "height": 34
    },
    "colab_type": "code",
    "executionInfo": {
     "elapsed": 626,
     "status": "ok",
     "timestamp": 1558304646090,
     "user": {
      "displayName": "Santiago Rincon",
      "photoUrl": "",
      "userId": "10970905932025499956"
     },
     "user_tz": 300
    },
    "id": "LQORs33h5pRK",
    "outputId": "62a545f1-dc0a-4224-8fa2-a20cf84c5541"
   },
   "outputs": [
    {
     "data": {
      "image/png": "[encoded data removed]",
      "text/latex": [
       "$$\\left ( \\frac{s^{- n}}{s} \\Gamma{\\left(n + 1 \\right)}, \\quad 0, \\quad - n < 1\\right )$$"
      ],
      "text/plain": [
       "⎛ -n                    ⎞\n",
       "⎜s  ⋅Γ(n + 1)           ⎟\n",
       "⎜────────────, 0, -n < 1⎟\n",
       "⎝     s                 ⎠"
      ]
     },
     "execution_count": 6,
     "metadata": {
      "tags": []
     },
     "output_type": "execute_result"
    }
   ],
   "source": [
    "n = sym.symbols('n', integer=True)\n",
    "\n",
    "X, a, cond = sym.laplace_transform(t**n, t, s)\n",
    "X, a, cond"
   ]
  },
  {
   "cell_type": "markdown",
   "metadata": {
    "colab_type": "text",
    "id": "wKO3yoYa5pRU"
   },
   "source": [
    "### Teorema de Modulación\n",
    "\n",
    "La modulación compleja de una señal $ x (t) $ se define como $ e ^ {s_0 t} \\cdot x (t) $ con $ s_0 \\ in \\mathbb {C} $. La transformada de Laplace de una señal modulada se obtiene al evaluar la integral de transformación (Bilateral)\n",
    "\n",
    "\\begin{align}\n",
    "\\mathcal{L} \\left\\{ e^{s_0 t} \\cdot x(t) \\right\\} &=\n",
    "\\int_{-\\infty}^{\\infty} e^{s_0 t} x(t) \\, e^{-s t} \\; dt =\n",
    "\\int_{-\\infty}^{\\infty} x(t) \\, e^{- (s - s_0) t} \\; dt \\\\\n",
    "&= X(s-s_0)\n",
    "\\end{align}\n",
    "\n",
    "Donde $X(s) = \\mathcal{L} \\{ x(t) \\}$. La modulación de la señal $ x (t) $ conduce a un desplazamiento del plano $ s $ en la dirección dada por el valor complejo $ s_0 $. En consecuencia, la ROC también se desplaza\n",
    "\n",
    "\\begin{equation}\n",
    "\\text{ROC} \\{ e^{s_0 t} \\cdot x(t) \\} = \\{s: s - \\Re \\{ s_0 \\} \\in \\text{ROC} \\{ x(t) \\} \\}\n",
    "\\end{equation}\n",
    "\n",
    "La anterior relación se conoce como el teorema de modulación. "
   ]
  },
  {
   "cell_type": "markdown",
   "metadata": {
    "colab_type": "text",
    "id": "e7NMr6hR5pRV"
   },
   "source": [
    "**Exjemplo - Transformada de $t^n e^{-s_0 t} \\epsilon(t)$**\n",
    "\n",
    "La transformada de Laplace de la señal $t^n \\cdot \\epsilon(t)$ es\n",
    "\n",
    "\\begin{equation}\n",
    "\\mathcal{L} \\{ t^n \\cdot \\epsilon(t) \\} = \\frac{n!}{s^{n+1}}\n",
    "\\end{equation}\n",
    "\n",
    "para $ \\ Re \\{s \\}> 0 $. Este resultado se puede extender a la clase de señales $ t ^ n e ^ {- s_0 t} \\epsilon (t) $ con $ s_0 \\in \\mathbb{C} $ usando el teorema de modulación.\n",
    "\n",
    "\\begin{equation}\n",
    "\\mathcal{L} \\{ t^n e^{-s_0 t} \\epsilon(t) \\} = \\frac{n!}{(s + s_0)^{n+1}} \\qquad \\text{para } \\Re \\{ s \\} > \\Re \\{ - s_0 \\}.\n",
    "\\end{equation}"
   ]
  },
  {
   "cell_type": "markdown",
   "metadata": {
    "colab_type": "text",
    "id": "dobefV1v5pRW",
    "nbsphinx": "hidden"
   },
   "source": [
    "**Copyright**\n",
    "\n",
    "The notebooks are provided as [Open Educational Resource](https://de.wikipedia.org/wiki/Open_Educational_Resources). Feel free to use the notebooks for your own educational purposes. The text is licensed under [Creative Commons Attribution 4.0](https://creativecommons.org/licenses/by/4.0/), the code of the IPython examples under the [MIT license](https://opensource.org/licenses/MIT). Please attribute the work as follows: *Lecture Notes on Signals and Systems* by Sascha Spors."
   ]
  }
 ],
 "metadata": {
  "colab": {
   "collapsed_sections": [],
   "name": "theorems.ipynb",
   "provenance": [],
   "version": "0.3.2"
  },
  "kernelspec": {
   "display_name": "Python 3",
   "language": "python",
   "name": "python3"
  },
  "language_info": {
   "codemirror_mode": {
    "name": "ipython",
    "version": 3
   },
   "file_extension": ".py",
   "mimetype": "text/x-python",
   "name": "python",
   "nbconvert_exporter": "python",
   "pygments_lexer": "ipython3",
   "version": "3.7.1"
  }
 },
 "nbformat": 4,
 "nbformat_minor": 1
}
