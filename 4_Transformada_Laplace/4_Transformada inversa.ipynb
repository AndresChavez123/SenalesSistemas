{
 "cells": [
  {
   "cell_type": "markdown",
   "metadata": {
    "colab_type": "text",
    "id": "0sjQJSFfLjvE",
    "nbsphinx": "hidden"
   },
   "source": [
    "# Transformada inversa de Laplace\n",
    "\n",
    "*This Jupyter notebook is part of a [collection of notebooks](../index.ipynb) in the bachelors module Signals and Systems, Communications Engineering, Universität Rostock. Please direct questions and suggestions to [Sascha.Spors@uni-rostock.de](mailto:Sascha.Spors@uni-rostock.de).*"
   ]
  },
  {
   "cell_type": "markdown",
   "metadata": {
    "colab_type": "text",
    "id": "fNGAID8gLjvK"
   },
   "source": [
    "## Transformada Inversa\n",
    "\n",
    "Anteriormente, solo se presentó la [transformada (directa) de Laplace](Definicion.ipynb). La transformada de Laplace también tiene una [transformada inversa](https://en.wikipedia.org/wiki/Inverse_Laplace_transform). La transformada inversa de Laplace convierte una transformada de Laplace compleja $X(s) \\in \\mathbb{C}$ en una señal compleja $x(t) \\in \\mathbb{C}$ con variable independiente real $t \\in \\mathbb{R}$. Puede demostrarse que la transformada inversa de Laplace $x(t) = \\mathcal{L}^{-1} \\{ X(s) \\}$ se determina de forma única para las señales más relevantes en la práctica. Esta sección analiza dos técnicas diferentes para el cálculo de la transformada de Laplace inversa."
   ]
  },
  {
   "cell_type": "markdown",
   "metadata": {
    "colab_type": "text",
    "id": "Z4x5oCB5LjvN"
   },
   "source": [
    "### Fórmula Integral\n",
    "\n",
    "Usando los resultados del análisis complejo, la transformada inversa de Laplace viene dada por la siguiente integral de línea compleja:\n",
    "\n",
    "\\begin{equation}\n",
    "x(t) = \\frac{1}{2 \\pi j} \\int_{\\sigma - j \\infty}^{\\sigma + j \\infty} X(s) \\, e^{s t} \\; ds\n",
    "\\end{equation}\n",
    "\n",
    "Donde se asume que $X(s) = \\mathcal{L} \\{ x(t) \\}$  es analítica en su ROC. La notación $\\sigma \\mp j \\infty$ para los límites de integración denota una región arbitraria de integración que descansa en la ROC y para $\\Im \\{s\\} = - \\infty$ a $\\Im \\{s\\} = + \\infty$.\n",
    "\n",
    "La ruta de integración se puede elegir paralela al eje imaginario, pero también son posibles todas las demás rutas en la ROC. Esto resulta del [teorema de integral de Cauchy](https://en.wikipedia.org/wiki/Cauchy's_integral_theorem). Dos rutas equivalentes se muestran en la siguiente gráfica\n",
    "\n",
    "![Posibles rutas de integración](integration_paths.png)\n",
    "\n",
    "Donde la línea azul indica la ruta de integración y el área gris la ROC."
   ]
  },
  {
   "cell_type": "markdown",
   "metadata": {
    "colab_type": "text",
    "id": "SLP6ihJSLjvQ"
   },
   "source": [
    "### Transformadas de Laplace Racionales\n",
    "\n",
    "El cálculo de la transformada inversa de Laplace mediante la integral puede ser trabajoso. El [teorema del residuo de Cauchy](https://en.wikipedia.org/wiki/Residue_theorem) da una solución práctica para las transformadas de Laplace $X(s) = \\mathcal{L} \\{ x(t) \\}$ que están dadas como funciones racionales. Establece que el valor de una integral de línea de una función holomórfica sobre un contorno cerrado se da al resumir sus [residuos](https://en.wikipedia.org/wiki/Residue_theorem). El residuo es el valor de la integral de línea para una ruta que encierra una singularidad. En consecuencia, la transformada inversa de Laplace de una transformada de Laplace racional se puede calcular sumando las contribuciones individuales de sus polos. "
   ]
  },
  {
   "cell_type": "markdown",
   "metadata": {
    "colab_type": "text",
    "id": "-jQ2wkx2LjvV"
   },
   "source": [
    "#### Procedimiento Básico\n",
    "\n",
    "Una transformada de Laplace  $X(s)$ racional puede ser escrita en términos de polinomios en el numerador y en el denominador.\n",
    "\n",
    "\\begin{equation}\n",
    "X(s) = \\frac{\\sum_{m=0}^{M} \\beta_m s^m}{\\sum_{n=0}^{N} \\alpha_n s^n}\n",
    "\\end{equation}\n",
    "\n",
    "Donde $M$, $N$ son el orden de los polinomios del numerador y del denominador y  $\\beta_m$, $\\alpha_n$ son sus coeficientes, respectivamente. Se asume que $\\alpha_N \\neq 0$ y que $M \\leq N$. Si $M > N$, $X(s)$  se puede descomponer por [división polinomial](https://en.wikipedia.org/wiki/Polynomial_long_division) dentro de una suma de potencias de $s$ y una función racional cumpliendo que $M \\leq N$. \n",
    "\n",
    "Ahora, la [descomposición en fracciones parciales](https://en.wikipedia.org/wiki/Partial_fraction_decomposition) de $X(s)$ es realizada:\n",
    "\n",
    "\\begin{equation}\n",
    "X(s) = A_0 + \\sum_{\\mu = 1}^{L} \\sum_{\\nu = 1}^{R_\\mu} \\frac{A_{\\mu \\nu}}{(s - s_{\\infty \\mu})^\\nu}\n",
    "\\end{equation}\n",
    "\n",
    "Donde $s_{\\infty \\mu}$ es el $\\mu$-th polo único de $X(s)$, $R_\\mu$ su grado y $L$ el número total de diferentes polos $\\mu = 1 \\dots L$. Utilizando las transformadas conocidas de Laplace (Ver Ejemplo del teorema de modulación o Tabla de transformadas)\n",
    "\n",
    "\\begin{equation}\n",
    "\\mathcal{L} \\{ t^n e^{-s_0 t} \\epsilon(t) \\} = \\frac{n!}{(s + s_0)^{n+1}} \\qquad \\text{for } \\Re \\{ s \\} > \\Re \\{ - s_0 \\}\n",
    "\\end{equation}\n",
    "\n",
    "y $\\mathcal{L} \\{ \\delta(t) \\} = 1$, junto con la linealidad de la transformada de Laplace, resulta en una expresión genérica para la transformada inversa de Laplace $x(t) = \\mathcal{L}^{-1} \\{ X(s) \\}$\n",
    "\n",
    "\\begin{equation}\n",
    "x(t) = A_0 \\cdot \\delta(t) + \\epsilon(t) \\sum_{\\mu = 1}^{L} e^{s_{\\infty \\mu} t} \\sum_{\\nu = 1}^{R_\\mu} \\frac{A_{\\mu \\nu} \\, t^{\\mu - 1}}{(\\nu -1)!}\n",
    "\\end{equation}\n",
    "\n",
    "Sin embargo, se deben calcular los coeficientes $A_0$ y $A_{\\mu \\nu}$ de la descomposición en fracciones parciales. El coeficiente constante $A_0$ está dado por:\n",
    "\n",
    "\\begin{equation}\n",
    "A_0 = \\lim_{s \\to \\infty} X(s)\n",
    "\\end{equation}\n",
    "\n",
    "Para un polo $s_{\\infty \\mu}$ con grado $R_\\mu = 1$, el coeficiente $A_{\\mu 1}$ es:\n",
    "\n",
    "\\begin{equation}\n",
    "A_{\\mu 1} = \\lim_{s \\to s_{\\infty \\mu}} \\left( X(s) \\cdot (s - s_{\\infty \\mu}) \\right)\n",
    "\\end{equation}\n",
    "\n",
    "Para un polo $s_{\\infty \\mu}$ de grado $R_\\mu > 1$, los coeficientes $A_{\\mu \\nu}$ son:\n",
    "\n",
    "\\begin{equation}\n",
    "A_{\\mu \\nu} = \\frac{1}{(R_\\mu - \\nu)!} \\lim_{s \\to s_{\\infty \\mu}} \\frac{d^{R_\\mu - \\nu}}{d s^{R_\\mu - \\nu}} \\left( X(s) \\cdot (s - s_{\\infty \\mu})^{R_\\mu} \\right)\n",
    "\\end{equation}"
   ]
  },
  {
   "cell_type": "markdown",
   "metadata": {
    "colab_type": "text",
    "id": "2EnGvFCGLjvX"
   },
   "source": [
    "#### Clasificación de Polos\n",
    "\n",
    "El anterior procedimiento permite calcular la transformada inversa de Laplace $x(t) = \\mathcal{L}^{-1} \\{ X(s) \\}$ de una transfromada de Laplace racional $X(s)$ de manera mecánica. Es muy adecuado para una realización algorítmica. Sin embargo, para el cálculo manual puede ser más eficiente clasificar los polos con respecto a su ubicación en el plano $ s $ y sus simetrías. La clasificación se puede usar para formular una descomposición de fracción parcial modificada que limita la necesidad de una posterior simplificación algebraica de la transformada de Laplace inversa. Tres clases de polos son comunmente considerados:\n",
    "\n",
    "| Tipo | Diagrama de Polos y Ceros | $X(s)$ | $x(t) = \\mathcal{L}^{-1} \\{ X(s) \\} \\qquad \\qquad$ |\n",
    "|---|:---:|:---:|:---:|\n",
    "| Un polo complejo | ![Un polo](single_pole.png) | $\\frac{n!}{(s + s_0)^{n+1}}$ | $t^n e^{-s_0 t} \\epsilon(t)$ |\n",
    "| Polos imaginarios conjugados| ![Imaginarios conjugados](conjugated_imaginary_poles.png) | $\\frac{A s + B}{s^2 + \\omega_0^2}$ | $\\begin{cases} \\sin(\\omega_0 t) \\epsilon(t) \\\\ \\cos(\\omega_0 t) \\epsilon(t) \\end{cases}$ |\n",
    "| Polos complejos conjugados| ![Complejos conjugados](conjugated_complex_poles.png) | $\\frac{A s + B}{(s + \\sigma_0)^2 + \\omega_0^2}$ | $\\begin{cases} e^{-\\sigma_0 t} \\sin(\\omega_0 t) \\epsilon(t) \\\\ e^{-\\sigma_0 t} \\cos(\\omega_0 t) \\epsilon(t) \\end{cases}$ |\n",
    "\n",
    "Donde $s_0 \\in \\mathbb{C}$ y $\\omega_0, \\sigma_0 \\in \\mathbb{R}$. Los coeficientes de expansión $A, B \\in \\mathbb{R}$ se pueden derivar por comparación de los coeficientes. Si $x(t)$ contiene un seno o un coseno, depende del coeficiente $A$.\n",
    "\n",
    "Si $A \\neq 0$ luego $x(t)$ contiene un coseno."
   ]
  },
  {
   "cell_type": "markdown",
   "metadata": {
    "colab_type": "text",
    "id": "K37c2dY8Ljva"
   },
   "source": [
    "#### Ejemplo - Tranformada inversa de una transformada racional de Laplace\n",
    "\n",
    "La transformada inversa $x(t) = \\mathcal{L}^{-1} \\{ X(s) \\}$ de\n",
    "\n",
    "\\begin{equation}\n",
    "X(s) = \\frac{2 s^2 + 14 s + 124}{s^3 + 8 s^2 + 46 s + 68} \\qquad \\text{for } \\Re \\{s \\} > -2\n",
    "\\end{equation}\n",
    "\n",
    "es calculada. Primero se define la función $X(s)$ con `SymPy`."
   ]
  },
  {
   "cell_type": "code",
   "execution_count": 3,
   "metadata": {
    "colab": {
     "base_uri": "https://localhost:8080/",
     "height": 34
    },
    "colab_type": "code",
    "executionInfo": {
     "elapsed": 1343,
     "status": "ok",
     "timestamp": 1558224727824,
     "user": {
      "displayName": "Santiago Rincon",
      "photoUrl": "",
      "userId": "10970905932025499956"
     },
     "user_tz": 300
    },
    "id": "0UPcCDrFLjvd",
    "outputId": "5d42bb42-e2a1-4603-eaf9-2d8080c371a8"
   },
   "outputs": [
    {
     "data": {
      "image/png": "[encoded data removed]",
      "text/latex": [
       "$$\\frac{2 s^{2} + 14 s + 124}{s^{3} + 8 s^{2} + 46 s + 68}$$"
      ],
      "text/plain": [
       "     2               \n",
       "  2⋅s  + 14⋅s + 124  \n",
       "─────────────────────\n",
       " 3      2            \n",
       "s  + 8⋅s  + 46⋅s + 68"
      ]
     },
     "execution_count": 3,
     "metadata": {},
     "output_type": "execute_result"
    }
   ],
   "source": [
    "%matplotlib inline\n",
    "import sympy as sym\n",
    "sym.init_printing()\n",
    "\n",
    "s = sym.symbols('s', complex=True)\n",
    "t = sym.symbols('t', real=True)\n",
    "\n",
    "X = (2*s**2 + 14*s + 124)/(s**3 + 8 * s**2 + 46*s + 68)\n",
    "X"
   ]
  },
  {
   "cell_type": "markdown",
   "metadata": {
    "colab_type": "text",
    "id": "WdfiHYoFLjvr"
   },
   "source": [
    "Los polos de $X(s)$ son obtenidos al calcular las raices del polinomio del denominador."
   ]
  },
  {
   "cell_type": "code",
   "execution_count": 4,
   "metadata": {
    "colab": {
     "base_uri": "https://localhost:8080/",
     "height": 34
    },
    "colab_type": "code",
    "executionInfo": {
     "elapsed": 560,
     "status": "ok",
     "timestamp": 1558224857843,
     "user": {
      "displayName": "Santiago Rincon",
      "photoUrl": "",
      "userId": "10970905932025499956"
     },
     "user_tz": 300
    },
    "id": "kCEEASs4Ljvu",
    "outputId": "99d563f4-e57d-4778-b47c-1f2e1131ac35"
   },
   "outputs": [
    {
     "data": {
      "image/png": "[encoded data removed]",
      "text/latex": [
       "$$\\left \\{ -2 : 1, \\quad -3 - 5 i : 1, \\quad -3 + 5 i : 1\\right \\}$$"
      ],
      "text/plain": [
       "{-2: 1, -3 - 5⋅ⅈ: 1, -3 + 5⋅ⅈ: 1}"
      ]
     },
     "execution_count": 4,
     "metadata": {},
     "output_type": "execute_result"
    }
   ],
   "source": [
    "poles = sym.roots(sym.denom(X))\n",
    "poles"
   ]
  },
  {
   "cell_type": "markdown",
   "metadata": {
    "colab_type": "text",
    "id": "5oNpCh2ILjv4"
   },
   "source": [
    "El resultado es un polo real y un par de polos complejos conjugados. De acuerdo a la clasificación de polos, se escoge el siguiente método de fracciones parciales:\n",
    "\n",
    "\\begin{equation}\n",
    "X_p(s) = \\frac{A}{s + 2} + \\frac{B s + C}{s^2 + 6s + 34}\n",
    "\\end{equation}\n",
    "\n",
    "Los coeficientes $A, B, C \\in \\mathbb{R}$ son obtenidos al igualar los coeficientes con $X(s)$."
   ]
  },
  {
   "cell_type": "code",
   "execution_count": 5,
   "metadata": {
    "colab": {
     "base_uri": "https://localhost:8080/",
     "height": 34
    },
    "colab_type": "code",
    "executionInfo": {
     "elapsed": 561,
     "status": "ok",
     "timestamp": 1558225930060,
     "user": {
      "displayName": "Santiago Rincon",
      "photoUrl": "",
      "userId": "10970905932025499956"
     },
     "user_tz": 300
    },
    "id": "juaRecT3Ljv7",
    "outputId": "4c2367c1-09ad-4895-c76d-c8adf4d1e298"
   },
   "outputs": [
    {
     "data": {
      "image/png": "[encoded data removed]",
      "text/latex": [
       "$$\\left \\{ A : 4, \\quad B : -2, \\quad C : -6\\right \\}$$"
      ],
      "text/plain": [
       "{A: 4, B: -2, C: -6}"
      ]
     },
     "execution_count": 5,
     "metadata": {},
     "output_type": "execute_result"
    }
   ],
   "source": [
    "A, B, C = sym.symbols('A B C', real=True)\n",
    "\n",
    "Xp = A / (s+2) + (B*s + C)/(s**2 + 6*s + 34)\n",
    "coeffs = sym.solve(sym.Eq(X, Xp), (A, B, C))\n",
    "coeffs"
   ]
  },
  {
   "cell_type": "markdown",
   "metadata": {
    "colab_type": "text",
    "id": "_gbLFpRELjwD"
   },
   "source": [
    "Al reemplazar los coeficientes en $X_p(s)$ resulta en:"
   ]
  },
  {
   "cell_type": "code",
   "execution_count": 6,
   "metadata": {
    "colab": {
     "base_uri": "https://localhost:8080/",
     "height": 34
    },
    "colab_type": "code",
    "executionInfo": {
     "elapsed": 593,
     "status": "ok",
     "timestamp": 1558225932726,
     "user": {
      "displayName": "Santiago Rincon",
      "photoUrl": "",
      "userId": "10970905932025499956"
     },
     "user_tz": 300
    },
    "id": "Xo6eafUoLjwF",
    "outputId": "e2833d86-ab22-46f0-fda0-037ae20d5ab1"
   },
   "outputs": [
    {
     "data": {
      "image/png": "[encoded data removed]",
      "text/latex": [
       "$$\\frac{- 2 s - 6}{s^{2} + 6 s + 34} + \\frac{4}{s + 2}$$"
      ],
      "text/plain": [
       "   -2⋅s - 6       4  \n",
       "───────────── + ─────\n",
       " 2              s + 2\n",
       "s  + 6⋅s + 34        "
      ]
     },
     "execution_count": 6,
     "metadata": {},
     "output_type": "execute_result"
    }
   ],
   "source": [
    "Xp = Xp.subs(coeffs)\n",
    "Xp"
   ]
  },
  {
   "cell_type": "markdown",
   "metadata": {
    "colab_type": "text",
    "id": "taJmAxsXLjwO"
   },
   "source": [
    "La primera fracción pertenece a los polos complejos conjugados. Al [completar el cuadrado](https://en.wikipedia.org/wiki/Completing_the_square) en el denominador, su inversa puede ser identificada en la tabla de transformadas como una señal coseno que decrece exponencialmente. Realizando la transformada inversa de Laplace con `SymPy`:"
   ]
  },
  {
   "cell_type": "code",
   "execution_count": 7,
   "metadata": {
    "colab": {
     "base_uri": "https://localhost:8080/",
     "height": 34
    },
    "colab_type": "code",
    "executionInfo": {
     "elapsed": 1722,
     "status": "ok",
     "timestamp": 1558225520454,
     "user": {
      "displayName": "Santiago Rincon",
      "photoUrl": "",
      "userId": "10970905932025499956"
     },
     "user_tz": 300
    },
    "id": "iEHC_rO4LjwT",
    "outputId": "c7c01562-0c26-4b05-9e97-df3ba44689e2"
   },
   "outputs": [
    {
     "data": {
      "image/png": "[encoded data removed]",
      "text/latex": [
       "$$- 2 e^{- 3 t} \\cos{\\left (5 t \\right )} \\theta\\left(t\\right)$$"
      ],
      "text/plain": [
       "    -3⋅t                      \n",
       "-2⋅ℯ    ⋅cos(5⋅t)⋅Heaviside(t)"
      ]
     },
     "execution_count": 7,
     "metadata": {},
     "output_type": "execute_result"
    }
   ],
   "source": [
    "x1 = sym.inverse_laplace_transform(Xp.args[1], s, t)\n",
    "x1"
   ]
  },
  {
   "cell_type": "markdown",
   "metadata": {
    "colab_type": "text",
    "id": "g7FFBVRMLjwk"
   },
   "source": [
    "La segunda fracción corresponde a un polo real de primer orden. Su transformada inversa de Laplace se puede hallar en la tabla de transformadas, la cual es una señal exponencial que decae. Realizando la transformada inversa de Laplace con `SymPy`:"
   ]
  },
  {
   "cell_type": "code",
   "execution_count": 8,
   "metadata": {
    "colab": {
     "base_uri": "https://localhost:8080/",
     "height": 34
    },
    "colab_type": "code",
    "executionInfo": {
     "elapsed": 596,
     "status": "ok",
     "timestamp": 1558225679801,
     "user": {
      "displayName": "Santiago Rincon",
      "photoUrl": "",
      "userId": "10970905932025499956"
     },
     "user_tz": 300
    },
    "id": "IQ0iOU7XLjwn",
    "outputId": "b53f51d7-5ead-4e52-f60a-41565d77d2cb"
   },
   "outputs": [
    {
     "data": {
      "image/png": "[encoded data removed]",
      "text/latex": [
       "$$4 e^{- 2 t} \\theta\\left(t\\right)$$"
      ],
      "text/plain": [
       "   -2⋅t             \n",
       "4⋅ℯ    ⋅Heaviside(t)"
      ]
     },
     "execution_count": 8,
     "metadata": {},
     "output_type": "execute_result"
    }
   ],
   "source": [
    "x2 = sym.inverse_laplace_transform(Xp.args[0], s, t)\n",
    "x2"
   ]
  },
  {
   "cell_type": "markdown",
   "metadata": {
    "colab_type": "text",
    "id": "o3wSq1PqLjwv"
   },
   "source": [
    "La transformada inversa de Laplace de $X(s)$ está dada por la suma de las dos partes descritas anteriormente:"
   ]
  },
  {
   "cell_type": "code",
   "execution_count": 9,
   "metadata": {
    "colab": {
     "base_uri": "https://localhost:8080/",
     "height": 34
    },
    "colab_type": "code",
    "executionInfo": {
     "elapsed": 1254,
     "status": "ok",
     "timestamp": 1558225776448,
     "user": {
      "displayName": "Santiago Rincon",
      "photoUrl": "",
      "userId": "10970905932025499956"
     },
     "user_tz": 300
    },
    "id": "jmfNuGlCLjwx",
    "outputId": "5c9c6d49-8853-4704-d1e7-e421dbbefd46"
   },
   "outputs": [
    {
     "data": {
      "image/png": "[encoded data removed]",
      "text/latex": [
       "$$4 e^{- 2 t} \\theta\\left(t\\right) - 2 e^{- 3 t} \\cos{\\left (5 t \\right )} \\theta\\left(t\\right)$$"
      ],
      "text/plain": [
       "   -2⋅t                   -3⋅t                      \n",
       "4⋅ℯ    ⋅Heaviside(t) - 2⋅ℯ    ⋅cos(5⋅t)⋅Heaviside(t)"
      ]
     },
     "execution_count": 9,
     "metadata": {},
     "output_type": "execute_result"
    }
   ],
   "source": [
    "x = x1 + x2\n",
    "x"
   ]
  },
  {
   "cell_type": "markdown",
   "metadata": {
    "colab_type": "text",
    "id": "-zLtWRzoLjw5"
   },
   "source": [
    "Se grafican los resultados:"
   ]
  },
  {
   "cell_type": "code",
   "execution_count": 10,
   "metadata": {
    "colab": {
     "base_uri": "https://localhost:8080/",
     "height": 281
    },
    "colab_type": "code",
    "executionInfo": {
     "elapsed": 1157,
     "status": "ok",
     "timestamp": 1558225791491,
     "user": {
      "displayName": "Santiago Rincon",
      "photoUrl": "",
      "userId": "10970905932025499956"
     },
     "user_tz": 300
    },
    "id": "tatKDhk1Ljw8",
    "outputId": "eb846864-0d64-42ef-f46c-69ee1f3986d5"
   },
   "outputs": [
    {
     "data": {
      "image/png": "[encoded data removed]",
      "text/plain": [
       "<Figure size 432x288 with 1 Axes>"
      ]
     },
     "metadata": {
      "needs_background": "light"
     },
     "output_type": "display_data"
    }
   ],
   "source": [
    "sym.plot(x, (t, -0.1, 4), xlabel='$t$', ylabel='$x(t)$');"
   ]
  },
  {
   "cell_type": "markdown",
   "metadata": {
    "colab_type": "text",
    "id": "itSiYlz_LjxE"
   },
   "source": [
    "El mismo resultado se puede obtener directamente de $X(s)$ usando la transformada inversa de Laplace de `SymPy`:"
   ]
  },
  {
   "cell_type": "code",
   "execution_count": 11,
   "metadata": {
    "colab": {
     "base_uri": "https://localhost:8080/",
     "height": 34
    },
    "colab_type": "code",
    "executionInfo": {
     "elapsed": 5247,
     "status": "ok",
     "timestamp": 1558225843952,
     "user": {
      "displayName": "Santiago Rincon",
      "photoUrl": "",
      "userId": "10970905932025499956"
     },
     "user_tz": 300
    },
    "id": "5UHRRl8XLjxF",
    "outputId": "d7c06040-17a6-4f09-b788-9c72cec2c9a5"
   },
   "outputs": [
    {
     "data": {
      "image/png": "[encoded data removed]",
      "text/latex": [
       "$$2 \\left(2 e^{t} - \\cos{\\left (5 t \\right )}\\right) e^{- 3 t} \\theta\\left(t\\right)$$"
      ],
      "text/plain": [
       "  ⎛   t           ⎞  -3⋅t             \n",
       "2⋅⎝2⋅ℯ  - cos(5⋅t)⎠⋅ℯ    ⋅Heaviside(t)"
      ]
     },
     "execution_count": 11,
     "metadata": {},
     "output_type": "execute_result"
    }
   ],
   "source": [
    "sym.inverse_laplace_transform(X, s, t).simplify()"
   ]
  },
  {
   "cell_type": "markdown",
   "metadata": {
    "colab_type": "text",
    "id": "UrkR89D_LjxN"
   },
   "source": [
    "**Ejercicio**\n",
    "\n",
    "* Obtener la transformada inversa de Laplace de $X(s)$ manualmente.\n",
    "* Obtener la transformada inversa de Laplace de\n",
    "    \\begin{equation}\n",
    "    X(s) = \\frac{1}{(s+1)(s+2)^2} \\qquad \\text{for } \\Re \\{ s \\} \\geq -1\n",
    "    \\end{equation}\n",
    "    manualmente. Comprobar los resultados utilizando `SymPy`."
   ]
  },
  {
   "cell_type": "markdown",
   "metadata": {
    "colab_type": "text",
    "id": "ooMqDzvNLjxP",
    "nbsphinx": "hidden"
   },
   "source": [
    "**Copyright**\n",
    "\n",
    "The notebooks are provided as [Open Educational Resource](https://de.wikipedia.org/wiki/Open_Educational_Resources). Feel free to use the notebooks for your own educational purposes. The text is licensed under [Creative Commons Attribution 4.0](https://creativecommons.org/licenses/by/4.0/), the code of the IPython examples under the [MIT license](https://opensource.org/licenses/MIT). Please attribute the work as follows: *Lecture Notes on Signals and Systems* by Sascha Spors."
   ]
  }
 ],
 "metadata": {
  "colab": {
   "collapsed_sections": [],
   "name": "inverse.ipynb",
   "provenance": [],
   "version": "0.3.2"
  },
  "kernelspec": {
   "display_name": "Python 3",
   "language": "python",
   "name": "python3"
  },
  "language_info": {
   "codemirror_mode": {
    "name": "ipython",
    "version": 3
   },
   "file_extension": ".py",
   "mimetype": "text/x-python",
   "name": "python",
   "nbconvert_exporter": "python",
   "pygments_lexer": "ipython3",
   "version": "3.7.1"
  }
 },
 "nbformat": 4,
 "nbformat_minor": 1
}
