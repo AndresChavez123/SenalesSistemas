{
  "nbformat": 4,
  "nbformat_minor": 0,
  "metadata": {
    "colab": {
      "name": "convolucionSyS.ipynb",
      "provenance": [],
      "authorship_tag": "ABX9TyPBr/qozebuE7CuK+PKAkjY",
      "include_colab_link": true
    },
    "kernelspec": {
      "name": "python3",
      "display_name": "Python 3"
    },
    "widgets": {
      "application/vnd.jupyter.widget-state+json": {
        "2e7be156802148f39bc59191dcbd9e5a": {
          "model_module": "@jupyter-widgets/controls",
          "model_name": "VBoxModel",
          "state": {
            "_view_name": "VBoxView",
            "_dom_classes": [
              "widget-interact"
            ],
            "_model_name": "VBoxModel",
            "_view_module": "@jupyter-widgets/controls",
            "_model_module_version": "1.5.0",
            "_view_count": null,
            "_view_module_version": "1.5.0",
            "box_style": "",
            "layout": "IPY_MODEL_f5b651797a9f47a1a8a5df32f6769928",
            "_model_module": "@jupyter-widgets/controls",
            "children": [
              "IPY_MODEL_40ce1a0cc2524284a2b558d216ae78af",
              "IPY_MODEL_ccf745bc154c4b21b2a7b519f78a56c6"
            ]
          }
        },
        "f5b651797a9f47a1a8a5df32f6769928": {
          "model_module": "@jupyter-widgets/base",
          "model_name": "LayoutModel",
          "state": {
            "_view_name": "LayoutView",
            "grid_template_rows": null,
            "right": null,
            "justify_content": null,
            "_view_module": "@jupyter-widgets/base",
            "overflow": null,
            "_model_module_version": "1.2.0",
            "_view_count": null,
            "flex_flow": null,
            "width": null,
            "min_width": null,
            "border": null,
            "align_items": null,
            "bottom": null,
            "_model_module": "@jupyter-widgets/base",
            "top": null,
            "grid_column": null,
            "overflow_y": null,
            "overflow_x": null,
            "grid_auto_flow": null,
            "grid_area": null,
            "grid_template_columns": null,
            "flex": null,
            "_model_name": "LayoutModel",
            "justify_items": null,
            "grid_row": null,
            "max_height": null,
            "align_content": null,
            "visibility": null,
            "align_self": null,
            "height": null,
            "min_height": null,
            "padding": null,
            "grid_auto_rows": null,
            "grid_gap": null,
            "max_width": null,
            "order": null,
            "_view_module_version": "1.2.0",
            "grid_template_areas": null,
            "object_position": null,
            "object_fit": null,
            "grid_auto_columns": null,
            "margin": null,
            "display": null,
            "left": null
          }
        },
        "40ce1a0cc2524284a2b558d216ae78af": {
          "model_module": "@jupyter-widgets/controls",
          "model_name": "IntSliderModel",
          "state": {
            "_view_name": "IntSliderView",
            "style": "IPY_MODEL_99c252ec2047404aaac88051da8d6929",
            "_dom_classes": [],
            "description": "m",
            "step": 1,
            "_model_name": "IntSliderModel",
            "orientation": "horizontal",
            "max": 32,
            "_view_module": "@jupyter-widgets/controls",
            "_model_module_version": "1.5.0",
            "value": 32,
            "_view_count": null,
            "disabled": false,
            "_view_module_version": "1.5.0",
            "min": 0,
            "continuous_update": true,
            "readout_format": "d",
            "description_tooltip": null,
            "readout": true,
            "_model_module": "@jupyter-widgets/controls",
            "layout": "IPY_MODEL_aeddfd64f4964c4fb952fb885bd8291b"
          }
        },
        "ccf745bc154c4b21b2a7b519f78a56c6": {
          "model_module": "@jupyter-widgets/output",
          "model_name": "OutputModel",
          "state": {
            "_view_name": "OutputView",
            "msg_id": "",
            "_dom_classes": [],
            "_model_name": "OutputModel",
            "outputs": [
              {
                "output_type": "stream",
                "metadata": {
                  "tags": []
                },
                "text": "/usr/local/lib/python3.6/dist-packages/ipykernel_launcher.py:18: UserWarning: In Matplotlib 3.3 individual lines on a stem plot will be added as a LineCollection instead of individual lines. This significantly improves the performance of a stem plot. To remove this warning and switch to the new behaviour, set the \"use_line_collection\" keyword argument to True.\n/usr/local/lib/python3.6/dist-packages/ipykernel_launcher.py:19: UserWarning: In Matplotlib 3.3 individual lines on a stem plot will be added as a LineCollection instead of individual lines. This significantly improves the performance of a stem plot. To remove this warning and switch to the new behaviour, set the \"use_line_collection\" keyword argument to True.\n/usr/local/lib/python3.6/dist-packages/ipykernel_launcher.py:20: UserWarning: In Matplotlib 3.3 individual lines on a stem plot will be added as a LineCollection instead of individual lines. This significantly improves the performance of a stem plot. To remove this warning and switch to the new behaviour, set the \"use_line_collection\" keyword argument to True.\n",
                "stream": "stderr"
              },
              {
                "output_type": "display_data",
                "metadata": {
                  "tags": [],
                  "needs_background": "light"
                },
                "image/png": "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\n",
                "text/plain": "<Figure size 432x288 with 1 Axes>"
              }
            ],
            "_view_module": "@jupyter-widgets/output",
            "_model_module_version": "1.0.0",
            "_view_count": null,
            "_view_module_version": "1.0.0",
            "layout": "IPY_MODEL_fdf5fe4ee8984a44b1b5990f383585c2",
            "_model_module": "@jupyter-widgets/output"
          }
        },
        "99c252ec2047404aaac88051da8d6929": {
          "model_module": "@jupyter-widgets/controls",
          "model_name": "SliderStyleModel",
          "state": {
            "_view_name": "StyleView",
            "handle_color": null,
            "_model_name": "SliderStyleModel",
            "description_width": "",
            "_view_module": "@jupyter-widgets/base",
            "_model_module_version": "1.5.0",
            "_view_count": null,
            "_view_module_version": "1.2.0",
            "_model_module": "@jupyter-widgets/controls"
          }
        },
        "aeddfd64f4964c4fb952fb885bd8291b": {
          "model_module": "@jupyter-widgets/base",
          "model_name": "LayoutModel",
          "state": {
            "_view_name": "LayoutView",
            "grid_template_rows": null,
            "right": null,
            "justify_content": null,
            "_view_module": "@jupyter-widgets/base",
            "overflow": null,
            "_model_module_version": "1.2.0",
            "_view_count": null,
            "flex_flow": null,
            "width": null,
            "min_width": null,
            "border": null,
            "align_items": null,
            "bottom": null,
            "_model_module": "@jupyter-widgets/base",
            "top": null,
            "grid_column": null,
            "overflow_y": null,
            "overflow_x": null,
            "grid_auto_flow": null,
            "grid_area": null,
            "grid_template_columns": null,
            "flex": null,
            "_model_name": "LayoutModel",
            "justify_items": null,
            "grid_row": null,
            "max_height": null,
            "align_content": null,
            "visibility": null,
            "align_self": null,
            "height": null,
            "min_height": null,
            "padding": null,
            "grid_auto_rows": null,
            "grid_gap": null,
            "max_width": null,
            "order": null,
            "_view_module_version": "1.2.0",
            "grid_template_areas": null,
            "object_position": null,
            "object_fit": null,
            "grid_auto_columns": null,
            "margin": null,
            "display": null,
            "left": null
          }
        },
        "fdf5fe4ee8984a44b1b5990f383585c2": {
          "model_module": "@jupyter-widgets/base",
          "model_name": "LayoutModel",
          "state": {
            "_view_name": "LayoutView",
            "grid_template_rows": null,
            "right": null,
            "justify_content": null,
            "_view_module": "@jupyter-widgets/base",
            "overflow": null,
            "_model_module_version": "1.2.0",
            "_view_count": null,
            "flex_flow": null,
            "width": null,
            "min_width": null,
            "border": null,
            "align_items": null,
            "bottom": null,
            "_model_module": "@jupyter-widgets/base",
            "top": null,
            "grid_column": null,
            "overflow_y": null,
            "overflow_x": null,
            "grid_auto_flow": null,
            "grid_area": null,
            "grid_template_columns": null,
            "flex": null,
            "_model_name": "LayoutModel",
            "justify_items": null,
            "grid_row": null,
            "max_height": null,
            "align_content": null,
            "visibility": null,
            "align_self": null,
            "height": null,
            "min_height": null,
            "padding": null,
            "grid_auto_rows": null,
            "grid_gap": null,
            "max_width": null,
            "order": null,
            "_view_module_version": "1.2.0",
            "grid_template_areas": null,
            "object_position": null,
            "object_fit": null,
            "grid_auto_columns": null,
            "margin": null,
            "display": null,
            "left": null
          }
        }
      }
    }
  },
  "cells": [
    {
      "cell_type": "markdown",
      "metadata": {
        "id": "view-in-github",
        "colab_type": "text"
      },
      "source": [
        "<a href=\"https://colab.research.google.com/github/amalvarezme/SenalesSistemas/blob/master/convolucionSyS.ipynb\" target=\"_parent\"><img src=\"https://colab.research.google.com/assets/colab-badge.svg\" alt=\"Open In Colab\"/></a>"
      ]
    },
    {
      "cell_type": "code",
      "metadata": {
        "id": "XVcI_Xk2_U2Y",
        "colab_type": "code",
        "colab": {}
      },
      "source": [
        "%matplotlib inline\n",
        "from ipywidgets import interact\n",
        "import numpy as np\n",
        "import matplotlib.pyplot as plt\n",
        "from scipy import signal"
      ],
      "execution_count": 0,
      "outputs": []
    },
    {
      "cell_type": "code",
      "metadata": {
        "id": "ckohmENyAH1j",
        "colab_type": "code",
        "colab": {}
      },
      "source": [
        "#crear señales\n",
        "h = np.r_[np.ones((5,1)),np.zeros((5,1)),np.ones((10,1))]\n",
        "x = signal.triang(12).reshape(-1,1)\n",
        "#funcion convolucion\n",
        "def convgraf(h,x):\n",
        "   lx = len(x)\n",
        "   lh = len(h)\n",
        "   M = 2*lx+lh\n",
        "   xm = np.zeros((M,M))\n",
        "   hm = np.r_[np.zeros((lx,1)),h,np.zeros((lx,1))]\n",
        "   ym = np.zeros((M,M))\n",
        "   for i in range(M-lx+1):\n",
        "     #print(i)\n",
        "     xm[i:i+lx,i] = np.flip(x).reshape(-1)\n",
        "     ym[i,i] = xm[:,i].T.dot(hm)\n",
        "   return xm, ym, hm  \n",
        "\n",
        "def plot_conv(m,xm,ym,hm):\n",
        "     plt.stem(xm[:,m],markerfmt='+',label='$x[k]$')\n",
        "     plt.stem(hm,linefmt='g',markerfmt='.',label='$h[n-k]$')\n",
        "     plt.stem(ym[:m,:].sum(axis=0),markerfmt='s',linefmt='r',label='$y[n]=\\sum^{\\infty}_{k=-\\infty}x[k]h[n-k]$')\n",
        "     plt.legend()\n",
        "     plt.show()\n",
        "     return\n",
        "\n",
        "xm, ym, hm = convgraf(h,x) "
      ],
      "execution_count": 0,
      "outputs": []
    },
    {
      "cell_type": "code",
      "metadata": {
        "id": "-EPYt_Z2_M5e",
        "colab_type": "code",
        "colab": {
          "base_uri": "https://localhost:8080/",
          "height": 369,
          "referenced_widgets": [
            "2e7be156802148f39bc59191dcbd9e5a",
            "f5b651797a9f47a1a8a5df32f6769928",
            "40ce1a0cc2524284a2b558d216ae78af",
            "ccf745bc154c4b21b2a7b519f78a56c6",
            "99c252ec2047404aaac88051da8d6929",
            "aeddfd64f4964c4fb952fb885bd8291b",
            "fdf5fe4ee8984a44b1b5990f383585c2"
          ]
        },
        "outputId": "6f0fd9b5-3f8f-4af3-c5eb-5a151ba4d279"
      },
      "source": [
        "\n",
        "#@interact(m=range(xm.shape[0]-len(x)+1))\n",
        "@interact(m=(0, xm.shape[0]-len(x), 1))\n",
        "def show_frame(m=0):\n",
        "    plot_conv(m,xm,ym,hm)"
      ],
      "execution_count": 67,
      "outputs": [
        {
          "output_type": "display_data",
          "data": {
            "application/vnd.jupyter.widget-view+json": {
              "model_id": "2e7be156802148f39bc59191dcbd9e5a",
              "version_minor": 0,
              "version_major": 2
            },
            "text/plain": [
              "interactive(children=(IntSlider(value=0, description='m', max=32), Output()), _dom_classes=('widget-interact',…"
            ]
          },
          "metadata": {
            "tags": []
          }
        }
      ]
    },
    {
      "cell_type": "code",
      "metadata": {
        "id": "H1Dis0ruH4JV",
        "colab_type": "code",
        "colab": {}
      },
      "source": [
        ""
      ],
      "execution_count": 0,
      "outputs": []
    }
  ]
}