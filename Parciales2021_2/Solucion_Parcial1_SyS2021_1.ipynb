{
  "nbformat": 4,
  "nbformat_minor": 0,
  "metadata": {
    "colab": {
      "name": "P1_SyS2021-1.ipynb",
      "provenance": [],
      "collapsed_sections": [],
      "authorship_tag": "ABX9TyNvKU/rIyHBx5vcjRN2wARK",
      "include_colab_link": true
    },
    "kernelspec": {
      "name": "python3",
      "display_name": "Python 3"
    },
    "language_info": {
      "name": "python"
    },
    "widgets": {
      "application/vnd.jupyter.widget-state+json": {
        "70947049eae940f8b19906bbbf157dbb": {
          "model_module": "@jupyter-widgets/controls",
          "model_name": "VBoxModel",
          "model_module_version": "1.5.0",
          "state": {
            "_view_name": "VBoxView",
            "_dom_classes": [
              "widget-interact"
            ],
            "_model_name": "VBoxModel",
            "_view_module": "@jupyter-widgets/controls",
            "_model_module_version": "1.5.0",
            "_view_count": null,
            "_view_module_version": "1.5.0",
            "box_style": "",
            "layout": "IPY_MODEL_a7c3fa619e4943d0b459059a784731f9",
            "_model_module": "@jupyter-widgets/controls",
            "children": [
              "IPY_MODEL_b744b28139954984995bc3a77994b1bd",
              "IPY_MODEL_b2f6b2db6b124c67b7b5b193b3b732d3"
            ]
          }
        },
        "a7c3fa619e4943d0b459059a784731f9": {
          "model_module": "@jupyter-widgets/base",
          "model_name": "LayoutModel",
          "model_module_version": "1.2.0",
          "state": {
            "_view_name": "LayoutView",
            "grid_template_rows": null,
            "right": null,
            "justify_content": null,
            "_view_module": "@jupyter-widgets/base",
            "overflow": null,
            "_model_module_version": "1.2.0",
            "_view_count": null,
            "flex_flow": null,
            "width": null,
            "min_width": null,
            "border": null,
            "align_items": null,
            "bottom": null,
            "_model_module": "@jupyter-widgets/base",
            "top": null,
            "grid_column": null,
            "overflow_y": null,
            "overflow_x": null,
            "grid_auto_flow": null,
            "grid_area": null,
            "grid_template_columns": null,
            "flex": null,
            "_model_name": "LayoutModel",
            "justify_items": null,
            "grid_row": null,
            "max_height": null,
            "align_content": null,
            "visibility": null,
            "align_self": null,
            "height": null,
            "min_height": null,
            "padding": null,
            "grid_auto_rows": null,
            "grid_gap": null,
            "max_width": null,
            "order": null,
            "_view_module_version": "1.2.0",
            "grid_template_areas": null,
            "object_position": null,
            "object_fit": null,
            "grid_auto_columns": null,
            "margin": null,
            "display": null,
            "left": null
          }
        },
        "b744b28139954984995bc3a77994b1bd": {
          "model_module": "@jupyter-widgets/controls",
          "model_name": "IntSliderModel",
          "model_module_version": "1.5.0",
          "state": {
            "_view_name": "IntSliderView",
            "style": "IPY_MODEL_636a2dc74eb44065b7beb75f605f5e22",
            "_dom_classes": [],
            "description": "n",
            "step": 1,
            "_model_name": "IntSliderModel",
            "orientation": "horizontal",
            "max": 10,
            "_view_module": "@jupyter-widgets/controls",
            "_model_module_version": "1.5.0",
            "value": 0,
            "_view_count": null,
            "disabled": false,
            "_view_module_version": "1.5.0",
            "min": 0,
            "continuous_update": true,
            "readout_format": "d",
            "description_tooltip": null,
            "readout": true,
            "_model_module": "@jupyter-widgets/controls",
            "layout": "IPY_MODEL_a0326dc2404649dbbe101e1e3e5c500f"
          }
        },
        "b2f6b2db6b124c67b7b5b193b3b732d3": {
          "model_module": "@jupyter-widgets/output",
          "model_name": "OutputModel",
          "model_module_version": "1.0.0",
          "state": {
            "_view_name": "OutputView",
            "msg_id": "",
            "_dom_classes": [],
            "_model_name": "OutputModel",
            "outputs": [
              {
                "output_type": "stream",
                "name": "stderr",
                "text": [
                  "/usr/local/lib/python3.7/dist-packages/ipykernel_launcher.py:16: UserWarning: In Matplotlib 3.3 individual lines on a stem plot will be added as a LineCollection instead of individual lines. This significantly improves the performance of a stem plot. To remove this warning and switch to the new behaviour, set the \"use_line_collection\" keyword argument to True.\n",
                  "  app.launch_new_instance()\n",
                  "/usr/local/lib/python3.7/dist-packages/ipykernel_launcher.py:17: UserWarning: In Matplotlib 3.3 individual lines on a stem plot will be added as a LineCollection instead of individual lines. This significantly improves the performance of a stem plot. To remove this warning and switch to the new behaviour, set the \"use_line_collection\" keyword argument to True.\n",
                  "/usr/local/lib/python3.7/dist-packages/numpy/core/_asarray.py:136: VisibleDeprecationWarning: Creating an ndarray from ragged nested sequences (which is a list-or-tuple of lists-or-tuples-or ndarrays with different lengths or shapes) is deprecated. If you meant to do this, you must specify 'dtype=object' when creating the ndarray\n",
                  "  return array(a, dtype, copy=False, order=order, subok=True)\n",
                  "/usr/local/lib/python3.7/dist-packages/ipykernel_launcher.py:18: UserWarning: In Matplotlib 3.3 individual lines on a stem plot will be added as a LineCollection instead of individual lines. This significantly improves the performance of a stem plot. To remove this warning and switch to the new behaviour, set the \"use_line_collection\" keyword argument to True.\n"
                ]
              },
              {
                "output_type": "display_data",
                "data": {
                  "image/png": "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\n",
                  "text/plain": "<Figure size 432x288 with 1 Axes>"
                },
                "metadata": {
                  "needs_background": "light"
                }
              }
            ],
            "_view_module": "@jupyter-widgets/output",
            "_model_module_version": "1.0.0",
            "_view_count": null,
            "_view_module_version": "1.0.0",
            "layout": "IPY_MODEL_95cd96d406f6467aa29863721e791fed",
            "_model_module": "@jupyter-widgets/output"
          }
        },
        "636a2dc74eb44065b7beb75f605f5e22": {
          "model_module": "@jupyter-widgets/controls",
          "model_name": "SliderStyleModel",
          "model_module_version": "1.5.0",
          "state": {
            "_view_name": "StyleView",
            "handle_color": null,
            "_model_name": "SliderStyleModel",
            "description_width": "",
            "_view_module": "@jupyter-widgets/base",
            "_model_module_version": "1.5.0",
            "_view_count": null,
            "_view_module_version": "1.2.0",
            "_model_module": "@jupyter-widgets/controls"
          }
        },
        "a0326dc2404649dbbe101e1e3e5c500f": {
          "model_module": "@jupyter-widgets/base",
          "model_name": "LayoutModel",
          "model_module_version": "1.2.0",
          "state": {
            "_view_name": "LayoutView",
            "grid_template_rows": null,
            "right": null,
            "justify_content": null,
            "_view_module": "@jupyter-widgets/base",
            "overflow": null,
            "_model_module_version": "1.2.0",
            "_view_count": null,
            "flex_flow": null,
            "width": null,
            "min_width": null,
            "border": null,
            "align_items": null,
            "bottom": null,
            "_model_module": "@jupyter-widgets/base",
            "top": null,
            "grid_column": null,
            "overflow_y": null,
            "overflow_x": null,
            "grid_auto_flow": null,
            "grid_area": null,
            "grid_template_columns": null,
            "flex": null,
            "_model_name": "LayoutModel",
            "justify_items": null,
            "grid_row": null,
            "max_height": null,
            "align_content": null,
            "visibility": null,
            "align_self": null,
            "height": null,
            "min_height": null,
            "padding": null,
            "grid_auto_rows": null,
            "grid_gap": null,
            "max_width": null,
            "order": null,
            "_view_module_version": "1.2.0",
            "grid_template_areas": null,
            "object_position": null,
            "object_fit": null,
            "grid_auto_columns": null,
            "margin": null,
            "display": null,
            "left": null
          }
        },
        "95cd96d406f6467aa29863721e791fed": {
          "model_module": "@jupyter-widgets/base",
          "model_name": "LayoutModel",
          "model_module_version": "1.2.0",
          "state": {
            "_view_name": "LayoutView",
            "grid_template_rows": null,
            "right": null,
            "justify_content": null,
            "_view_module": "@jupyter-widgets/base",
            "overflow": null,
            "_model_module_version": "1.2.0",
            "_view_count": null,
            "flex_flow": null,
            "width": null,
            "min_width": null,
            "border": null,
            "align_items": null,
            "bottom": null,
            "_model_module": "@jupyter-widgets/base",
            "top": null,
            "grid_column": null,
            "overflow_y": null,
            "overflow_x": null,
            "grid_auto_flow": null,
            "grid_area": null,
            "grid_template_columns": null,
            "flex": null,
            "_model_name": "LayoutModel",
            "justify_items": null,
            "grid_row": null,
            "max_height": null,
            "align_content": null,
            "visibility": null,
            "align_self": null,
            "height": null,
            "min_height": null,
            "padding": null,
            "grid_auto_rows": null,
            "grid_gap": null,
            "max_width": null,
            "order": null,
            "_view_module_version": "1.2.0",
            "grid_template_areas": null,
            "object_position": null,
            "object_fit": null,
            "grid_auto_columns": null,
            "margin": null,
            "display": null,
            "left": null
          }
        },
        "ff156bdbe70b4979a0b5d08d8a3cc364": {
          "model_module": "@jupyter-widgets/controls",
          "model_name": "VBoxModel",
          "model_module_version": "1.5.0",
          "state": {
            "_view_name": "VBoxView",
            "_dom_classes": [
              "widget-interact"
            ],
            "_model_name": "VBoxModel",
            "_view_module": "@jupyter-widgets/controls",
            "_model_module_version": "1.5.0",
            "_view_count": null,
            "_view_module_version": "1.5.0",
            "box_style": "",
            "layout": "IPY_MODEL_7b0b6020f08c4b84a2173fe7fa105f63",
            "_model_module": "@jupyter-widgets/controls",
            "children": [
              "IPY_MODEL_1042519d6eec407c8b0acc17dabacafa",
              "IPY_MODEL_e65d0c18fb374a20829adcc85a9594ba"
            ]
          }
        },
        "7b0b6020f08c4b84a2173fe7fa105f63": {
          "model_module": "@jupyter-widgets/base",
          "model_name": "LayoutModel",
          "model_module_version": "1.2.0",
          "state": {
            "_view_name": "LayoutView",
            "grid_template_rows": null,
            "right": null,
            "justify_content": null,
            "_view_module": "@jupyter-widgets/base",
            "overflow": null,
            "_model_module_version": "1.2.0",
            "_view_count": null,
            "flex_flow": null,
            "width": null,
            "min_width": null,
            "border": null,
            "align_items": null,
            "bottom": null,
            "_model_module": "@jupyter-widgets/base",
            "top": null,
            "grid_column": null,
            "overflow_y": null,
            "overflow_x": null,
            "grid_auto_flow": null,
            "grid_area": null,
            "grid_template_columns": null,
            "flex": null,
            "_model_name": "LayoutModel",
            "justify_items": null,
            "grid_row": null,
            "max_height": null,
            "align_content": null,
            "visibility": null,
            "align_self": null,
            "height": null,
            "min_height": null,
            "padding": null,
            "grid_auto_rows": null,
            "grid_gap": null,
            "max_width": null,
            "order": null,
            "_view_module_version": "1.2.0",
            "grid_template_areas": null,
            "object_position": null,
            "object_fit": null,
            "grid_auto_columns": null,
            "margin": null,
            "display": null,
            "left": null
          }
        },
        "1042519d6eec407c8b0acc17dabacafa": {
          "model_module": "@jupyter-widgets/controls",
          "model_name": "IntSliderModel",
          "model_module_version": "1.5.0",
          "state": {
            "_view_name": "IntSliderView",
            "style": "IPY_MODEL_c77673c197c94aa4864730672b39e970",
            "_dom_classes": [],
            "description": "n",
            "step": 1,
            "_model_name": "IntSliderModel",
            "orientation": "horizontal",
            "max": 8,
            "_view_module": "@jupyter-widgets/controls",
            "_model_module_version": "1.5.0",
            "value": 6,
            "_view_count": null,
            "disabled": false,
            "_view_module_version": "1.5.0",
            "min": 0,
            "continuous_update": true,
            "readout_format": "d",
            "description_tooltip": null,
            "readout": true,
            "_model_module": "@jupyter-widgets/controls",
            "layout": "IPY_MODEL_7022fc63a92943f2965981c3ee047b07"
          }
        },
        "e65d0c18fb374a20829adcc85a9594ba": {
          "model_module": "@jupyter-widgets/output",
          "model_name": "OutputModel",
          "model_module_version": "1.0.0",
          "state": {
            "_view_name": "OutputView",
            "msg_id": "",
            "_dom_classes": [],
            "_model_name": "OutputModel",
            "outputs": [
              {
                "output_type": "stream",
                "name": "stderr",
                "text": [
                  "/usr/local/lib/python3.7/dist-packages/ipykernel_launcher.py:16: UserWarning: In Matplotlib 3.3 individual lines on a stem plot will be added as a LineCollection instead of individual lines. This significantly improves the performance of a stem plot. To remove this warning and switch to the new behaviour, set the \"use_line_collection\" keyword argument to True.\n",
                  "  app.launch_new_instance()\n",
                  "/usr/local/lib/python3.7/dist-packages/ipykernel_launcher.py:17: UserWarning: In Matplotlib 3.3 individual lines on a stem plot will be added as a LineCollection instead of individual lines. This significantly improves the performance of a stem plot. To remove this warning and switch to the new behaviour, set the \"use_line_collection\" keyword argument to True.\n",
                  "/usr/local/lib/python3.7/dist-packages/numpy/core/_asarray.py:136: VisibleDeprecationWarning: Creating an ndarray from ragged nested sequences (which is a list-or-tuple of lists-or-tuples-or ndarrays with different lengths or shapes) is deprecated. If you meant to do this, you must specify 'dtype=object' when creating the ndarray\n",
                  "  return array(a, dtype, copy=False, order=order, subok=True)\n",
                  "/usr/local/lib/python3.7/dist-packages/ipykernel_launcher.py:18: UserWarning: In Matplotlib 3.3 individual lines on a stem plot will be added as a LineCollection instead of individual lines. This significantly improves the performance of a stem plot. To remove this warning and switch to the new behaviour, set the \"use_line_collection\" keyword argument to True.\n"
                ]
              },
              {
                "output_type": "display_data",
                "data": {
                  "image/png": "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\n",
                  "text/plain": "<Figure size 432x288 with 1 Axes>"
                },
                "metadata": {
                  "needs_background": "light"
                }
              }
            ],
            "_view_module": "@jupyter-widgets/output",
            "_model_module_version": "1.0.0",
            "_view_count": null,
            "_view_module_version": "1.0.0",
            "layout": "IPY_MODEL_a18e63f1e72c4b58b580d45276597e5a",
            "_model_module": "@jupyter-widgets/output"
          }
        },
        "c77673c197c94aa4864730672b39e970": {
          "model_module": "@jupyter-widgets/controls",
          "model_name": "SliderStyleModel",
          "model_module_version": "1.5.0",
          "state": {
            "_view_name": "StyleView",
            "handle_color": null,
            "_model_name": "SliderStyleModel",
            "description_width": "",
            "_view_module": "@jupyter-widgets/base",
            "_model_module_version": "1.5.0",
            "_view_count": null,
            "_view_module_version": "1.2.0",
            "_model_module": "@jupyter-widgets/controls"
          }
        },
        "7022fc63a92943f2965981c3ee047b07": {
          "model_module": "@jupyter-widgets/base",
          "model_name": "LayoutModel",
          "model_module_version": "1.2.0",
          "state": {
            "_view_name": "LayoutView",
            "grid_template_rows": null,
            "right": null,
            "justify_content": null,
            "_view_module": "@jupyter-widgets/base",
            "overflow": null,
            "_model_module_version": "1.2.0",
            "_view_count": null,
            "flex_flow": null,
            "width": null,
            "min_width": null,
            "border": null,
            "align_items": null,
            "bottom": null,
            "_model_module": "@jupyter-widgets/base",
            "top": null,
            "grid_column": null,
            "overflow_y": null,
            "overflow_x": null,
            "grid_auto_flow": null,
            "grid_area": null,
            "grid_template_columns": null,
            "flex": null,
            "_model_name": "LayoutModel",
            "justify_items": null,
            "grid_row": null,
            "max_height": null,
            "align_content": null,
            "visibility": null,
            "align_self": null,
            "height": null,
            "min_height": null,
            "padding": null,
            "grid_auto_rows": null,
            "grid_gap": null,
            "max_width": null,
            "order": null,
            "_view_module_version": "1.2.0",
            "grid_template_areas": null,
            "object_position": null,
            "object_fit": null,
            "grid_auto_columns": null,
            "margin": null,
            "display": null,
            "left": null
          }
        },
        "a18e63f1e72c4b58b580d45276597e5a": {
          "model_module": "@jupyter-widgets/base",
          "model_name": "LayoutModel",
          "model_module_version": "1.2.0",
          "state": {
            "_view_name": "LayoutView",
            "grid_template_rows": null,
            "right": null,
            "justify_content": null,
            "_view_module": "@jupyter-widgets/base",
            "overflow": null,
            "_model_module_version": "1.2.0",
            "_view_count": null,
            "flex_flow": null,
            "width": null,
            "min_width": null,
            "border": null,
            "align_items": null,
            "bottom": null,
            "_model_module": "@jupyter-widgets/base",
            "top": null,
            "grid_column": null,
            "overflow_y": null,
            "overflow_x": null,
            "grid_auto_flow": null,
            "grid_area": null,
            "grid_template_columns": null,
            "flex": null,
            "_model_name": "LayoutModel",
            "justify_items": null,
            "grid_row": null,
            "max_height": null,
            "align_content": null,
            "visibility": null,
            "align_self": null,
            "height": null,
            "min_height": null,
            "padding": null,
            "grid_auto_rows": null,
            "grid_gap": null,
            "max_width": null,
            "order": null,
            "_view_module_version": "1.2.0",
            "grid_template_areas": null,
            "object_position": null,
            "object_fit": null,
            "grid_auto_columns": null,
            "margin": null,
            "display": null,
            "left": null
          }
        }
      }
    }
  },
  "cells": [
    {
      "cell_type": "markdown",
      "metadata": {
        "id": "view-in-github",
        "colab_type": "text"
      },
      "source": [
        "<a href=\"https://colab.research.google.com/github/amalvarezme/SenalesSistemas/blob/master/Parciales2021_2/P1_SyS2021_1.ipynb\" target=\"_parent\"><img src=\"https://colab.research.google.com/assets/colab-badge.svg\" alt=\"Open In Colab\"/></a>"
      ]
    },
    {
      "cell_type": "markdown",
      "metadata": {
        "id": "pazZ2Hldy9k_"
      },
      "source": [
        "# Parcial 1 - Señales y Sistemas - 2021 - II\n",
        "\n"
      ]
    },
    {
      "cell_type": "markdown",
      "metadata": {
        "id": "QqgTWHSBzECi"
      },
      "source": [
        "# Pregunta 1\n",
        "\n",
        "Grafique la señal $x(t) = A t e^{j \\omega_c t}\\left(u(-t-5)-u(t+10)\\right),$ bosquejo en función de $A,\\omega_c\\in \\mathbb{R}^{+}$ y $t\\in \\mathbb{R}$, y demuestre si la señal es periódica, aperiódica, o cuasiperiódica. (Valor 1.25 puntos).\n",
        "\n",
        "\n"
      ]
    },
    {
      "cell_type": "code",
      "metadata": {
        "colab": {
          "base_uri": "https://localhost:8080/",
          "height": 38
        },
        "id": "kM1BCkhjyuMl",
        "outputId": "91d20096-9da6-4e49-c3b8-fca1ff1f933a"
      },
      "source": [
        "import sympy as sym\n",
        "sym.init_printing()\n",
        "t, w, A = sym.symbols('t omega A',real = True)\n",
        "x = A*t*sym.exp(1j*w*t)*(sym.Heaviside(-t-5)-sym.Heaviside(t+10))\n",
        "x"
      ],
      "execution_count": 1,
      "outputs": [
        {
          "output_type": "execute_result",
          "data": {
            "image/png": "[encoded data removed]",
            "text/latex": "$\\displaystyle A t \\left(\\theta\\left(- t - 5\\right) - \\theta\\left(t + 10\\right)\\right) e^{1.0 i \\omega t}$",
            "text/plain": [
              "                             1.0⋅ⅈ⋅ω⋅t\n",
              "A⋅t⋅(θ(-t - 5) - θ(t + 10))⋅ℯ         "
            ]
          },
          "metadata": {},
          "execution_count": 1
        }
      ]
    },
    {
      "cell_type": "code",
      "metadata": {
        "id": "lI57fIP50C_j",
        "colab": {
          "base_uri": "https://localhost:8080/",
          "height": 594
        },
        "outputId": "b78459cf-42a8-47b0-8336-1f0a2f86489c"
      },
      "source": [
        "#se grafica parte real y parte imaginaria\n",
        "y = x.subs({w: 3, A : 3}) #sustituir variables para graficar\n",
        "sym.plot(sym.re(y), (t, -15, 5), ylabel=r'Re{$x(t)$}') \n",
        "sym.plot(sym.im(y), (t, -15,5), ylabel=r'Im{$x(t)$}')\n"
      ],
      "execution_count": 2,
      "outputs": [
        {
          "output_type": "display_data",
          "data": {
            "image/png": "[encoded data removed]",
            "text/plain": [
              "<Figure size 432x288 with 1 Axes>"
            ]
          },
          "metadata": {
            "needs_background": "light"
          }
        },
        {
          "output_type": "display_data",
          "data": {
            "image/png": "[encoded data removed]",
            "text/plain": [
              "<Figure size 432x288 with 1 Axes>"
            ]
          },
          "metadata": {
            "needs_background": "light"
          }
        },
        {
          "output_type": "execute_result",
          "data": {
            "text/plain": [
              "<sympy.plotting.plot.Plot at 0x7fbdb2f29150>"
            ]
          },
          "metadata": {},
          "execution_count": 2
        }
      ]
    },
    {
      "cell_type": "markdown",
      "metadata": {
        "id": "95OnzphbTpmv"
      },
      "source": [
        "Para determinar si $x(t)$ si es periódica, se debe cumplir que:\n",
        "\n",
        "$$x(t)=x(t\\pm T)$$\n",
        "\n",
        "para un único $T\\in\\mathbb{R}.$ \n",
        "\n",
        "Dado que se presenta una multiplicación por funciones Heaviside restadas, y según la gráfica presentada, no existe un $T$ que cumpla la definición de periodicidad. Además, dado que no se cuenta con sumas de señales periódicas en $x(t)$, no es cuasiperiódica. En conclusión, $x(t)\\neq x(t\\pm T),$ y $x(t)$ es aperiódica.\n",
        "\n"
      ]
    },
    {
      "cell_type": "markdown",
      "metadata": {
        "id": "_3Ec0FS6WyZN"
      },
      "source": [
        "# Pregunta 2\n",
        "\n",
        "Determine si la señal $x(t)$ en la pregunta 1 es de energía o potencia. Demuestre matemáticamente sus razonamientos. (Valor 1.25 punto).\n",
        "\n",
        "Para determinar si $x(t)$ es de energía, se plantea la siguiente integral:\n",
        "\n",
        "$$\\lim_{T\\to \\infty}E_x=\\lim_{T\\to \\infty}\\int_{-T/2}^{T/2}|x(t)|^2 dt = \\lim_{T\\to \\infty}\\int_{-T/2}^{T/2}|A t e^{j \\omega_c t}\\left(u(-t-5)-u(t+10)\\right)|^2dt$$"
      ]
    },
    {
      "cell_type": "markdown",
      "metadata": {
        "id": "8xESm-IWYeol"
      },
      "source": [
        "dado que se cuenta con los intervalos de interés según los escalones restados en $x(t),$ entonces:\n",
        "\n"
      ]
    },
    {
      "cell_type": "markdown",
      "metadata": {
        "id": "kvL2S04TYn1F"
      },
      "source": [
        "$$\\lim_{T\\to \\infty}E_x=\\int_{-T/2}^{-10}|A t e^{j \\omega_c t}|^2dt + \\int_{-5}^{T/2}|A t e^{j \\omega_c t}|^2dt$$\n",
        "\n",
        "Ahora:\n",
        "\n",
        "$$\\int |A t e^{j \\omega_c t}|^2 dt = \\int A^2t^2e^{j \\omega_c t}e^{-j \\omega_c t}dt = \\int A^2t^2e^{0}dt=\\int A^2t^2dt= \\frac{A^2t^3}{3}$$.\n",
        "\n",
        "Por ende:\n",
        "\n",
        "$$\\lim_{T\\to \\infty}E_x= \\lim_{T\\to \\infty}\\frac{A^3t^3}{3}\\Big|_{-T/2}^{-10} + \\frac{A^3t^3}{3}\\Big|_{-5}^{T/2}=\\lim_{T\\to \\infty} \\frac{A^2T^3}{12}-\\frac{875A^2}{3}\\to \\infty$$\n",
        "\n",
        "\n",
        "\n",
        "Dado que $\\lim_{T\\to\\infty}E_x\\to\\infty$, $x(t)$ NO es señal de energía.\n",
        "\n",
        "Además:\n",
        "\n",
        "$$\\lim_{T\\to\\infty}P_x = \\lim_{T\\to \\infty}\\frac{1}{T}E_x= \\lim_{T\\to \\infty}\\frac{A^2T^2}{12}-\\frac{875A^2}{3T}\\to \\infty$$\n",
        "\n",
        "$x(t)$ NO es señal de potencia.\n",
        "\n",
        "En conclusión, $x(t)$ no es señal de energía ni señal de potencia."
      ]
    },
    {
      "cell_type": "code",
      "metadata": {
        "colab": {
          "base_uri": "https://localhost:8080/",
          "height": 54
        },
        "id": "TysWJvzTTGX0",
        "outputId": "98e7f26e-f0a5-4e09-86fb-655c87eb24a4"
      },
      "source": [
        "#comprobar Energía con sympy\n",
        "T = sym.symbols('T',real = True) #definir variable para límites de la integral\n",
        "x2 = A*t*sym.exp(1j*w*t)\n",
        "Ex1 = sym.integrate(x2*sym.conjugate(x2),(t,-T/2,-10))\n",
        "Ex2 = sym.integrate(x2*sym.conjugate(x2),(t,-5,T/2))\n",
        "Ex = Ex1 + Ex2\n",
        "Ex"
      ],
      "execution_count": 10,
      "outputs": [
        {
          "output_type": "execute_result",
          "data": {
            "image/png": "[encoded data removed]",
            "text/latex": "$\\displaystyle \\frac{A^{2} T^{3}}{12} - \\frac{875 A^{2}}{3}$",
            "text/plain": [
              " 2  3        2\n",
              "A ⋅T    875⋅A \n",
              "───── - ──────\n",
              "  12      3   "
            ]
          },
          "metadata": {},
          "execution_count": 10
        }
      ]
    },
    {
      "cell_type": "code",
      "metadata": {
        "id": "k_J01Uv0qle9",
        "outputId": "7cfe56ee-7b6f-4e99-aeda-649b5d79aac6",
        "colab": {
          "base_uri": "https://localhost:8080/",
          "height": 38
        }
      },
      "source": [
        "sym.limit(Ex,T,sym.oo)#energía para T-> oo"
      ],
      "execution_count": 11,
      "outputs": [
        {
          "output_type": "execute_result",
          "data": {
            "image/png": "[encoded data removed]",
            "text/latex": "$\\displaystyle \\infty \\operatorname{sign}{\\left(A^{2} \\right)}$",
            "text/plain": [
              "      ⎛ 2⎞\n",
              "∞⋅sign⎝A ⎠"
            ]
          },
          "metadata": {},
          "execution_count": 11
        }
      ]
    },
    {
      "cell_type": "code",
      "metadata": {
        "id": "kcPiDZfSuQBr",
        "outputId": "b1c306dc-fb4f-4849-fbe5-36655dfc4304",
        "colab": {
          "base_uri": "https://localhost:8080/",
          "height": 58
        }
      },
      "source": [
        "Px = Ex/T\n",
        "Px"
      ],
      "execution_count": 13,
      "outputs": [
        {
          "output_type": "execute_result",
          "data": {
            "image/png": "[encoded data removed]",
            "text/latex": "$\\displaystyle \\frac{\\frac{A^{2} T^{3}}{12} - \\frac{875 A^{2}}{3}}{T}$",
            "text/plain": [
              " 2  3        2\n",
              "A ⋅T    875⋅A \n",
              "───── - ──────\n",
              "  12      3   \n",
              "──────────────\n",
              "      T       "
            ]
          },
          "metadata": {},
          "execution_count": 13
        }
      ]
    },
    {
      "cell_type": "code",
      "metadata": {
        "id": "LmlET8CJrwoF",
        "outputId": "44a96998-34a8-49f9-8b24-13aec421a3d9",
        "colab": {
          "base_uri": "https://localhost:8080/",
          "height": 38
        }
      },
      "source": [
        "sym.limit(Ex/T,T,sym.oo)#Potencia para T-> oo"
      ],
      "execution_count": 12,
      "outputs": [
        {
          "output_type": "execute_result",
          "data": {
            "image/png": "[encoded data removed]",
            "text/latex": "$\\displaystyle \\infty \\operatorname{sign}{\\left(A^{2} \\right)}$",
            "text/plain": [
              "      ⎛ 2⎞\n",
              "∞⋅sign⎝A ⎠"
            ]
          },
          "metadata": {},
          "execution_count": 12
        }
      ]
    },
    {
      "cell_type": "markdown",
      "metadata": {
        "id": "vNN31nSLdyJL"
      },
      "source": [
        "# Pregunta 3\n",
        "\n",
        "Sean los sistemas lineales e invariantes con el tiempo (SLIT), $\\mathcal{H}_1\\{\\cdot\\}$ y $\\mathcal{H}_2\\{\\cdot\\}$, conectados en cascada: $y[n]=\\mathcal{H}_2\\{\\mathcal{H}_1\\{x[n]\\}\\}.$ El sistema $\\mathcal{H}_1$ cuenta con respuesta al impulso $[-3^{\\S},1,0,2,1],$ donde $^\\S$ indica la posición $n=0$. Además, el sistema $\\mathcal{H}_2$ cuenta con respuesta al escalón  $[-2^\\S,0,2,1,-1].$ Encuentre la salida $y[n]$ para la entrada $x[n]=[-2^\\S,0,0,5,3,-1].$ (Valor 2.5 puntos)\n",
        "\n",
        "La salida de un sistema SLIT, se puede calcular mediante la convoluación entre la respuesta al impulso del sistema y la señal de entrada:\n",
        "\n",
        "$$y[n]= x[n]*h[n] = \\sum_{k=-\\infty}^{\\infty}x[k]h[n-k]$$\n",
        "\n",
        "Para el caso de la respuesta al escalón, la respuesta al impulso se puede estimar desde la derivada (diferencia para el tiempo discreto) de la respuesta escalón:\n",
        "\n",
        "$$h[n]= {\\rm{diff}}\\{s[n]\\} = s[n]-s[n-1]$$.\n",
        "\n",
        "Por consiguiente, la salida del sistema para la evaluación en cascada $y[n]=\\mathcal{H}_2\\{\\mathcal{H}_1\\{x[n]\\}\\},$ se puede calcular como:\n",
        "\n",
        "\n",
        "$$y[n] = {\\rm{diff}}\\{s_2[n]\\}*(h_1[n]*x[n])=h_2[n]*h_1[n]*x[n]$$.\n",
        "\n",
        "A continuación, se presentan las simulaciones respectivas."
      ]
    },
    {
      "cell_type": "code",
      "metadata": {
        "colab": {
          "base_uri": "https://localhost:8080/"
        },
        "id": "XKB5GBgqeA9c",
        "outputId": "d208793d-7d4b-44cd-dbbb-d7669d939489"
      },
      "source": [
        "%matplotlib inline\n",
        "from ipywidgets import interact #crear gráficos interactivos\n",
        "import numpy as np\n",
        "import matplotlib.pyplot as plt\n",
        "from scipy import signal \n",
        "\n",
        "# salida en cascada:\n",
        "x = np.array([-2,0,0,5,3,-1]).reshape(-1)#entrada\n",
        "h1 = np.array([-3,1,0,2,1]).reshape(-1) #respuesta impulso H1\n",
        "s2 = np.array([-2,0,2,1,-1]).reshape(-1)#respuesta escalón H2\n",
        "h2 = np.diff(s2) #respuesta impulso h2 desde s2\n",
        "print('h1:',h1)\n",
        "print('h2:',h2)\n",
        "#se genera convolución salida parcial 1\n",
        "y1 = np.convolve(x,h1)\n",
        "#se genera convolución salida parcial 2\n",
        "y2 = np.convolve(y1,h2)\n",
        "print('h1:',h1)\n",
        "print('h2:',h2)\n",
        "print('y1:',y1)\n",
        "print('y2:',y2)"
      ],
      "execution_count": null,
      "outputs": [
        {
          "output_type": "stream",
          "name": "stdout",
          "text": [
            "h1: [-3  1  0  2  1]\n",
            "h2: [ 2  2 -1 -2]\n",
            "h1: [-3  1  0  2  1]\n",
            "h2: [ 2  2 -1 -2]\n",
            "y1: [  6  -2   0 -19  -6   6   9  11   1  -1]\n",
            "y2: [ 12   8 -10 -48 -46  19  74  46   3 -29 -25  -1   2]\n"
          ]
        }
      ]
    },
    {
      "cell_type": "markdown",
      "metadata": {
        "id": "TaFtWgXNOliq"
      },
      "source": [
        "Se presenta el ejemplo ilustrativo para $x[n]*h_1[n]$ mediante método gráfico:"
      ]
    },
    {
      "cell_type": "code",
      "metadata": {
        "id": "I92TvvL7fz5G"
      },
      "source": [
        "#funciones graficar convolución\n",
        "def convgraf(h,x): #función general para pintar proceso de convolución de forma interactiva\n",
        "   lx = len(x)\n",
        "   lh = len(h)\n",
        "   M = 2*lh+lx # se genera un vector de tamaño completo para visualizar todo el proceso paso a paso\n",
        "   hm = np.zeros((M,M))\n",
        "   xm = np.r_[np.zeros((lh,1)),x,np.zeros((lh,1))]\n",
        "   ym = np.zeros((M,M))\n",
        "   for i in range(M-lh+1):\n",
        "     #print(i)\n",
        "     hm[i:i+lh,i] = np.flip(h).reshape(-1)#filp realizar el proceso de reflejo sobre arreglos discretos\n",
        "     ym[i,i] = xm.T.dot(hm[:,i]) #multiplicacion entre vectores -> producto punto\n",
        "   return xm, ym, hm  \n",
        "\n",
        "def plot_conv(k,xm,ym,hm): #dibujar arreglos\n",
        "     plt.stem(hm[:,k],markerfmt='+',label='$h[n-k]$')\n",
        "     plt.stem(xm,linefmt='g',markerfmt='.',label='$x[k]$')\n",
        "     plt.stem(ym[:k,:].sum(axis=0),markerfmt='s',linefmt='r',label='$y[n]=\\sum^{\\infty}_{k=-\\infty}x[k]h[n-k]$')\n",
        "     plt.legend()\n",
        "     plt.show()\n",
        "     return\n",
        "\n",
        "xm, ym, hm = convgraf(h1.reshape(-1,1),x.reshape(-1,1)) "
      ],
      "execution_count": null,
      "outputs": []
    },
    {
      "cell_type": "code",
      "metadata": {
        "colab": {
          "base_uri": "https://localhost:8080/",
          "height": 418,
          "referenced_widgets": [
            "70947049eae940f8b19906bbbf157dbb",
            "a7c3fa619e4943d0b459059a784731f9",
            "b744b28139954984995bc3a77994b1bd",
            "b2f6b2db6b124c67b7b5b193b3b732d3",
            "636a2dc74eb44065b7beb75f605f5e22",
            "a0326dc2404649dbbe101e1e3e5c500f",
            "95cd96d406f6467aa29863721e791fed"
          ]
        },
        "id": "2b19kyGei_ge",
        "outputId": "b6c8fc06-5d46-42c7-a532-5f814d726063"
      },
      "source": [
        "#@interact(m=range(xm.shape[0]-len(x)+1)) #define panel tipo selección en el gráfico interactivo\n",
        "@interact(n=(0, xm.shape[0]-len(x), 1)) #se plantean las gráficas para todos lo valores de n\n",
        "def show_frame(n=0):\n",
        "    plot_conv(n,xm,ym,hm)\n",
        "plt.show()    "
      ],
      "execution_count": null,
      "outputs": [
        {
          "output_type": "display_data",
          "data": {
            "application/vnd.jupyter.widget-view+json": {
              "model_id": "70947049eae940f8b19906bbbf157dbb",
              "version_minor": 0,
              "version_major": 2
            },
            "text/plain": [
              "interactive(children=(IntSlider(value=0, description='n', max=10), Output()), _dom_classes=('widget-interact',…"
            ]
          },
          "metadata": {}
        }
      ]
    },
    {
      "cell_type": "code",
      "metadata": {
        "id": "aqj0EHluu9Nl",
        "colab": {
          "base_uri": "https://localhost:8080/"
        },
        "outputId": "1507ce8d-7f33-49b1-ec31-066a2047c238"
      },
      "source": [
        "np.diag(ym)"
      ],
      "execution_count": null,
      "outputs": [
        {
          "output_type": "execute_result",
          "data": {
            "text/plain": [
              "array([  0.,   6.,  -2.,   0., -19.,  -6.,   6.,   9.,  11.,   1.,  -1.,\n",
              "         0.,   0.,   0.,   0.,   0.])"
            ]
          },
          "metadata": {},
          "execution_count": 11
        }
      ]
    },
    {
      "cell_type": "code",
      "metadata": {
        "id": "zx7AHTB8Owsr"
      },
      "source": [
        "#slit 2\n",
        "xm2, ym2, hm2 = convgraf(h2.reshape(-1,1),np.diag(ym).reshape(-1,1)) "
      ],
      "execution_count": null,
      "outputs": []
    },
    {
      "cell_type": "code",
      "metadata": {
        "colab": {
          "base_uri": "https://localhost:8080/",
          "height": 418,
          "referenced_widgets": [
            "ff156bdbe70b4979a0b5d08d8a3cc364",
            "7b0b6020f08c4b84a2173fe7fa105f63",
            "1042519d6eec407c8b0acc17dabacafa",
            "e65d0c18fb374a20829adcc85a9594ba",
            "c77673c197c94aa4864730672b39e970",
            "7022fc63a92943f2965981c3ee047b07",
            "a18e63f1e72c4b58b580d45276597e5a"
          ]
        },
        "id": "eHnAOrU1PFwJ",
        "outputId": "7d1910e0-f091-4d40-a4d8-eede910dd95d"
      },
      "source": [
        "@interact(n=(0, xm2.shape[0]-len(np.diag(ym)), 1)) #se plantean las gráficas para todos lo valores de n\n",
        "def show_frame(n=0):\n",
        "    plot_conv(n,xm2,ym2,hm2)\n",
        "plt.show() "
      ],
      "execution_count": null,
      "outputs": [
        {
          "output_type": "display_data",
          "data": {
            "application/vnd.jupyter.widget-view+json": {
              "model_id": "ff156bdbe70b4979a0b5d08d8a3cc364",
              "version_minor": 0,
              "version_major": 2
            },
            "text/plain": [
              "interactive(children=(IntSlider(value=0, description='n', max=8), Output()), _dom_classes=('widget-interact',)…"
            ]
          },
          "metadata": {}
        }
      ]
    },
    {
      "cell_type": "code",
      "metadata": {
        "colab": {
          "base_uri": "https://localhost:8080/"
        },
        "id": "sFEpJYXbPLst",
        "outputId": "5cf3f66a-ec67-4e29-c568-10a0636c445e"
      },
      "source": [
        "np.diag(ym2)"
      ],
      "execution_count": null,
      "outputs": [
        {
          "output_type": "execute_result",
          "data": {
            "text/plain": [
              "array([  0.,   0.,  12.,   8., -10., -48., -46.,  19.,  74.,  46.,   3.,\n",
              "       -29., -25.,  -1.,   2.,   0.,   0.,   0.,   0.,   0.,   0.,   0.,\n",
              "         0.,   0.])"
            ]
          },
          "metadata": {},
          "execution_count": 14
        }
      ]
    }
  ]
}