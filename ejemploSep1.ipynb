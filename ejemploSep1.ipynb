{
  "nbformat": 4,
  "nbformat_minor": 0,
  "metadata": {
    "colab": {
      "name": "ejemploSep1.ipynb",
      "provenance": [],
      "authorship_tag": "ABX9TyNTiZop49TXToo/a29kgg+z",
      "include_colab_link": true
    },
    "kernelspec": {
      "name": "python3",
      "display_name": "Python 3"
    }
  },
  "cells": [
    {
      "cell_type": "markdown",
      "metadata": {
        "id": "view-in-github",
        "colab_type": "text"
      },
      "source": [
        "<a href=\"https://colab.research.google.com/github/amalvarezme/SenalesSistemas/blob/master/ejemploSep1.ipynb\" target=\"_parent\"><img src=\"https://colab.research.google.com/assets/colab-badge.svg\" alt=\"Open In Colab\"/></a>"
      ]
    },
    {
      "cell_type": "code",
      "metadata": {
        "id": "LzoeXiKn_UaG",
        "colab_type": "code",
        "colab": {}
      },
      "source": [
        "import numpy as np"
      ],
      "execution_count": 10,
      "outputs": []
    },
    {
      "cell_type": "markdown",
      "metadata": {
        "id": "t0mxChSbAmAn",
        "colab_type": "text"
      },
      "source": [
        "# Arreglo de numpy como señal digital\n",
        "## arreglo de numpy"
      ]
    },
    {
      "cell_type": "code",
      "metadata": {
        "id": "LWA-IMC3_5F8",
        "colab_type": "code",
        "colab": {
          "base_uri": "https://localhost:8080/",
          "height": 35
        },
        "outputId": "6a0a99dc-89e9-4a17-fef7-25d4d17fde88"
      },
      "source": [
        "x = np.array([0,-2,0.5]) # señal digital\n",
        "print(x)"
      ],
      "execution_count": 3,
      "outputs": [
        {
          "output_type": "stream",
          "text": [
            "[ 0.  -2.   0.5]\n"
          ],
          "name": "stdout"
        }
      ]
    },
    {
      "cell_type": "code",
      "metadata": {
        "id": "pXqJfBkqCLtd",
        "colab_type": "code",
        "colab": {
          "base_uri": "https://localhost:8080/",
          "height": 35
        },
        "outputId": "b317e955-cf60-48e3-b9ce-033b53e51967"
      },
      "source": [
        "x.dtype"
      ],
      "execution_count": 5,
      "outputs": [
        {
          "output_type": "execute_result",
          "data": {
            "text/plain": [
              "dtype('float64')"
            ]
          },
          "metadata": {
            "tags": []
          },
          "execution_count": 5
        }
      ]
    },
    {
      "cell_type": "markdown",
      "metadata": {
        "id": "XPTYmD0yClVB",
        "colab_type": "text"
      },
      "source": [
        "# Listas vs numpy array"
      ]
    },
    {
      "cell_type": "code",
      "metadata": {
        "id": "A1hZ3mLgCkrT",
        "colab_type": "code",
        "colab": {}
      },
      "source": [
        "x = [0, -2, 0.5] # no es señal digital -> lista con numeros"
      ],
      "execution_count": 6,
      "outputs": []
    },
    {
      "cell_type": "code",
      "metadata": {
        "id": "7rZOvHH5CrKc",
        "colab_type": "code",
        "colab": {}
      },
      "source": [
        "x = ['andres', 0]"
      ],
      "execution_count": 7,
      "outputs": []
    },
    {
      "cell_type": "code",
      "metadata": {
        "id": "09dW62CaC6Zu",
        "colab_type": "code",
        "colab": {}
      },
      "source": [
        "eps = 1e-16"
      ],
      "execution_count": 8,
      "outputs": []
    },
    {
      "cell_type": "markdown",
      "metadata": {
        "id": "04Km-BfPEMDr",
        "colab_type": "text"
      },
      "source": [
        "# Tamaño, indexar y graficar"
      ]
    },
    {
      "cell_type": "code",
      "metadata": {
        "id": "doHiuDPQDuOa",
        "colab_type": "code",
        "colab": {
          "base_uri": "https://localhost:8080/",
          "height": 35
        },
        "outputId": "133eb19a-d3d4-4257-8967-ad35a47a2863"
      },
      "source": [
        "x = np.array([0,-2,-6,4])\n",
        "print(x)"
      ],
      "execution_count": 9,
      "outputs": [
        {
          "output_type": "stream",
          "text": [
            "[ 0 -2 -6  4]\n"
          ],
          "name": "stdout"
        }
      ]
    },
    {
      "cell_type": "code",
      "metadata": {
        "id": "yN5yjaxJEWwe",
        "colab_type": "code",
        "colab": {
          "base_uri": "https://localhost:8080/",
          "height": 35
        },
        "outputId": "cc11c006-2cf6-462a-a369-1e045adc7fcc"
      },
      "source": [
        "print(x[3]) # python idexa desde 0"
      ],
      "execution_count": 10,
      "outputs": [
        {
          "output_type": "stream",
          "text": [
            "4\n"
          ],
          "name": "stdout"
        }
      ]
    },
    {
      "cell_type": "code",
      "metadata": {
        "id": "daDK8myREkrW",
        "colab_type": "code",
        "colab": {
          "base_uri": "https://localhost:8080/",
          "height": 52
        },
        "outputId": "884d636f-30e4-494d-f1c8-4a1ad0134938"
      },
      "source": [
        "x = np.array([[0,-2,-6,4],[33.5,9,8,7]])\n",
        "print(x)"
      ],
      "execution_count": 12,
      "outputs": [
        {
          "output_type": "stream",
          "text": [
            "[[ 0.  -2.  -6.   4. ]\n",
            " [33.5  9.   8.   7. ]]\n"
          ],
          "name": "stdout"
        }
      ]
    },
    {
      "cell_type": "code",
      "metadata": {
        "id": "Q32yNqNSGr0s",
        "colab_type": "code",
        "colab": {
          "base_uri": "https://localhost:8080/",
          "height": 35
        },
        "outputId": "89a465d3-0ac3-4968-d9dd-6d5b2e72509b"
      },
      "source": [
        "x.shape"
      ],
      "execution_count": null,
      "outputs": [
        {
          "output_type": "execute_result",
          "data": {
            "text/plain": [
              "(2, 4)"
            ]
          },
          "metadata": {
            "tags": []
          },
          "execution_count": 28
        }
      ]
    },
    {
      "cell_type": "code",
      "metadata": {
        "id": "XOGY9kuTHV76",
        "colab_type": "code",
        "colab": {
          "base_uri": "https://localhost:8080/",
          "height": 52
        },
        "outputId": "0649a647-f989-4b14-9203-9b09a7473bfe"
      },
      "source": [
        "print(x[:,3])\n",
        "print(x[:,0])"
      ],
      "execution_count": 13,
      "outputs": [
        {
          "output_type": "stream",
          "text": [
            "[4. 7.]\n",
            "[ 0.  33.5]\n"
          ],
          "name": "stdout"
        }
      ]
    },
    {
      "cell_type": "code",
      "metadata": {
        "id": "-prHt_dsIA9p",
        "colab_type": "code",
        "colab": {
          "base_uri": "https://localhost:8080/",
          "height": 52
        },
        "outputId": "82fe073a-70da-4aff-de67-8d804ccb8978"
      },
      "source": [
        "print(x)"
      ],
      "execution_count": 14,
      "outputs": [
        {
          "output_type": "stream",
          "text": [
            "[[ 0.  -2.  -6.   4. ]\n",
            " [33.5  9.   8.   7. ]]\n"
          ],
          "name": "stdout"
        }
      ]
    },
    {
      "cell_type": "markdown",
      "metadata": {
        "id": "kIGvE5RPKJnW",
        "colab_type": "text"
      },
      "source": [
        "$ind\\in [1,3)$"
      ]
    },
    {
      "cell_type": "code",
      "metadata": {
        "id": "_5W5XRJ5JNzv",
        "colab_type": "code",
        "colab": {
          "base_uri": "https://localhost:8080/",
          "height": 52
        },
        "outputId": "5ba5234e-e1e8-4035-b2df-06f0de4eb02e"
      },
      "source": [
        "x[0:2,2:4] # en python la ultima indexacion no se cuenta con :"
      ],
      "execution_count": null,
      "outputs": [
        {
          "output_type": "execute_result",
          "data": {
            "text/plain": [
              "array([[-6.,  4.],\n",
              "       [ 8.,  7.]])"
            ]
          },
          "metadata": {
            "tags": []
          },
          "execution_count": 63
        }
      ]
    },
    {
      "cell_type": "code",
      "metadata": {
        "id": "u8QW4xv4JpnS",
        "colab_type": "code",
        "colab": {
          "base_uri": "https://localhost:8080/",
          "height": 35
        },
        "outputId": "560d0699-3722-477a-d235-f1a7de6f7c61"
      },
      "source": [
        "y = 2.5687 # float64\n",
        "y"
      ],
      "execution_count": 15,
      "outputs": [
        {
          "output_type": "execute_result",
          "data": {
            "text/plain": [
              "2.5687"
            ]
          },
          "metadata": {
            "tags": []
          },
          "execution_count": 15
        }
      ]
    },
    {
      "cell_type": "code",
      "metadata": {
        "id": "sOKB3TkiKdhA",
        "colab_type": "code",
        "colab": {
          "base_uri": "https://localhost:8080/",
          "height": 35
        },
        "outputId": "6ebd7637-c0ce-489e-fe4e-5b68b28802e3"
      },
      "source": [
        "print(int(y)) #casting"
      ],
      "execution_count": 16,
      "outputs": [
        {
          "output_type": "stream",
          "text": [
            "2\n"
          ],
          "name": "stdout"
        }
      ]
    },
    {
      "cell_type": "code",
      "metadata": {
        "id": "GDY1K_EeKiib",
        "colab_type": "code",
        "colab": {
          "base_uri": "https://localhost:8080/",
          "height": 313
        },
        "outputId": "b2ef8a54-ab9e-4794-9cba-b09661840299"
      },
      "source": [
        "import matplotlib.pyplot as plt\n",
        "N = 200 #tamaño del vector\n",
        "ti = 5 # tiempo inicial en seg\n",
        "tf = 20 # tiempo final en seg\n",
        "t = np.linspace(ti,tf,N) # genera vector tiempo\n",
        "#print(t)\n",
        "x = np.zeros((N))\n",
        "x[int(0.5*N):] = 1\n",
        "#print(x)\n",
        "plt.plot(t,x) # x[tn] -> tamaño del arreglo t debe ser igual al del arreglo x\n",
        "tnew = 13\n",
        "n = int((tnew-ti)*N/(tf-ti))\n",
        "plt.plot(t[n],x[n],'ro')\n",
        "print(n)\n",
        "plt.xlabel('t [s]')\n",
        "plt.ylabel('x[t] [Amplitud]')\n",
        "plt.title('Ejemplo señal digital')\n",
        "plt.show() # terminar figura\n"
      ],
      "execution_count": 11,
      "outputs": [
        {
          "output_type": "stream",
          "text": [
            "106\n"
          ],
          "name": "stdout"
        },
        {
          "output_type": "display_data",
          "data": {
            "image/png": "[encoded data removed]",
            "text/plain": [
              "<Figure size 432x288 with 1 Axes>"
            ]
          },
          "metadata": {
            "tags": [],
            "needs_background": "light"
          }
        }
      ]
    },
    {
      "cell_type": "markdown",
      "metadata": {
        "id": "U6p0_7gjYuHt",
        "colab_type": "text"
      },
      "source": [
        "$ti = 5$ -> $n = 0$\n",
        "\n",
        "$tf = 20$ -> $n = N-1$\n",
        "\n",
        "$T = tf - ti = 20 -5 = 15$\n",
        "\n",
        "$\\Delta t = \\frac{tf - ti}{N} = 15/200$ seg\n",
        "\n",
        "\n",
        "$ n = ?$ -> t = 10s\n",
        "\n",
        "$$ N \\rightarrow tf-ti $$\n",
        "$$ n=? \\rightarrow t$$\n",
        "\n",
        "$$n = \\frac{(t-ti) N}{tf-ti} = int\\left(\\frac{N}{tf-ti}t -\\frac{Nti}{tf-ti}\\right)$$\n",
        "\n",
        "$$n = m t + b$$\n",
        "$$m = \\frac{N-0}{tf-ti}$$\n",
        "\n",
        "$$b = n_{max} - mt_{max} = N - mtf $$\n",
        "\n",
        "\n",
        "$t \\Delta t$ \n",
        "\n",
        "x[t = 10 s] = x[n = ?]\n",
        " N =100\n",
        "\n",
        "x[0] = #\n",
        "\n",
        "x[100] = error\n",
        "\n",
        "x[100-1] = #"
      ]
    },
    {
      "cell_type": "markdown",
      "metadata": {
        "id": "Ngbb8t2bWNyp",
        "colab_type": "text"
      },
      "source": [
        "$$$$"
      ]
    },
    {
      "cell_type": "markdown",
      "metadata": {
        "id": "9CK0LFe6WR8t",
        "colab_type": "text"
      },
      "source": [
        "$$x(t)= \\left\\{\\begin{align} 0; & \\quad  t1 \\leq t \\leq 0 \\\\\n",
        "                      1; &  \\quad  0 < t \\leq t2 \\\\\n",
        "                      0; &  \\quad  t2 < t \\leq t3 \\\\\n",
        "         \\end{align}\\right.$$"
      ]
    },
    {
      "cell_type": "code",
      "metadata": {
        "id": "4-BIDJ-rXKPm",
        "colab_type": "code",
        "colab": {}
      },
      "source": [
        "N = 500 # num muestras\n",
        "t1 = -5 # t1 seg\n",
        "t2 = 2\n",
        "t3 = 6 \n",
        "t = np.linspace(t1,t3,N)\n",
        "x = np.zeros((N))\n",
        "x[0:t2] = 1"
      ],
      "execution_count": null,
      "outputs": []
    },
    {
      "cell_type": "markdown",
      "metadata": {
        "id": "qqA5lkVpPqxW",
        "colab_type": "text"
      },
      "source": [
        "# Cero y pendiente (manipulación de señales)\n",
        "\n",
        "## función en python que implemente cero y pendiente\n",
        "\n",
        "$x(t) = at^2 + b$\n"
      ]
    },
    {
      "cell_type": "code",
      "metadata": {
        "id": "uyYVtyIaPz4f",
        "colab_type": "code",
        "colab": {
          "base_uri": "https://localhost:8080/",
          "height": 545
        },
        "outputId": "30eded47-7df1-4824-e658-6aac7e3fd311"
      },
      "source": [
        "ti = -5\n",
        "tf = 10\n",
        "N = 500 \n",
        "t = np.linspace(ti,tf,N)\n",
        "a = 5\n",
        "b =-3\n",
        "xin = a*t**2 + b\n",
        "\n",
        "plt.plot(t,xin)\n",
        "plt.xlabel('t [seg]')\n",
        "plt.ylabel('$x_{in}(t)$ [amplitud]')\n",
        "plt.ylim([-10,10])\n",
        "plt.show()\n",
        "\n",
        "plt.plot(t,xin)\n",
        "plt.xlabel('t [seg]')\n",
        "plt.ylabel('$x_{in}(t)$ [amplitud]')\n",
        "plt.show()"
      ],
      "execution_count": 12,
      "outputs": [
        {
          "output_type": "display_data",
          "data": {
            "image/png": "[encoded data removed]",
            "text/plain": [
              "<Figure size 432x288 with 1 Axes>"
            ]
          },
          "metadata": {
            "tags": [],
            "needs_background": "light"
          }
        },
        {
          "output_type": "display_data",
          "data": {
            "image/png": "[encoded data removed]",
            "text/plain": [
              "<Figure size 432x288 with 1 Axes>"
            ]
          },
          "metadata": {
            "tags": [],
            "needs_background": "light"
          }
        }
      ]
    },
    {
      "cell_type": "code",
      "metadata": {
        "id": "Kt7BdwBEQSYR",
        "colab_type": "code",
        "colab": {}
      },
      "source": [
        "#funcion en python (método)\n",
        "\n",
        "def mi_cero_spam(xin,vmins=-10,vmaxs=10): #definicion de mi funcion con argumentos (entradas)\n",
        "# xout = m xin + b; debe vivir entre [vmins, vmaxs]\n",
        "  min_in = xin.min() # vmin x\n",
        "  max_in = xin.max() # vmax x\n",
        "  m = (vmaxs - vmins)/(max_in - min_in)\n",
        "  b = vmins - m*min_in\n",
        "  xout = m*xin + b # xout  debe estar entre [vmins, vmaxs]\n",
        "  return xout\n"
      ],
      "execution_count": 13,
      "outputs": []
    },
    {
      "cell_type": "code",
      "metadata": {
        "id": "8KTeqrngZjhi",
        "colab_type": "code",
        "colab": {
          "base_uri": "https://localhost:8080/",
          "height": 583
        },
        "outputId": "19eadbcf-4e17-4621-8d68-5afe2d9b1bb1"
      },
      "source": [
        "xout = mi_cero_spam(xin,vmins=0,vmaxs=20)\n",
        "print(xin.shape)\n",
        "print(xout.shape)\n",
        "print(xin.min(),xin.max())\n",
        "print(xout.min(),xout.max())\n",
        "\n",
        "plt.plot(t,xin)\n",
        "plt.show()\n",
        "plt.plot(t,xout)\n",
        "plt.show()"
      ],
      "execution_count": 20,
      "outputs": [
        {
          "output_type": "stream",
          "text": [
            "(500,)\n",
            "(500,)\n",
            "-2.99949799398396 497.0\n",
            "0.0 20.0\n"
          ],
          "name": "stdout"
        },
        {
          "output_type": "display_data",
          "data": {
            "image/png": "[encoded data removed]",
            "text/plain": [
              "<Figure size 432x288 with 1 Axes>"
            ]
          },
          "metadata": {
            "tags": [],
            "needs_background": "light"
          }
        },
        {
          "output_type": "display_data",
          "data": {
            "image/png": "[encoded data removed]",
            "text/plain": [
              "<Figure size 432x288 with 1 Axes>"
            ]
          },
          "metadata": {
            "tags": [],
            "needs_background": "light"
          }
        }
      ]
    },
    {
      "cell_type": "markdown",
      "metadata": {
        "id": "k3vHpyssWegy",
        "colab_type": "text"
      },
      "source": [
        "$x_{out}(t) = m x_{in}(t) + b$\n",
        "\n",
        "$b = x_{out}(t) - m x_{in}(t)$\n",
        "\n",
        "$m = \\frac{max(x_{out}(t))-min(x_{out}(t))}{max(x_{in}(t))-min(x_{in}(t))}$\n",
        "\n",
        "$\\begin{bmatrix} x & y \\\\\n",
        "-200 & -10 \\\\\n",
        "+500 & +10\n",
        "\\end{bmatrix}$\n",
        "\n",
        "$\\begin{bmatrix} x_{in} & x_{out} \\\\\n",
        "min(x) & min(y)=vmins \\\\\n",
        "max(x) & max(y)=vmaxs\n",
        "\\end{bmatrix}$\n"
      ]
    }
  ]
}