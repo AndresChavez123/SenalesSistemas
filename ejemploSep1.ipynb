{
  "nbformat": 4,
  "nbformat_minor": 0,
  "metadata": {
    "colab": {
      "name": "ejemploSep1.ipynb",
      "provenance": [],
      "authorship_tag": "ABX9TyNqyUsPBD6yumJqv3++A73e",
      "include_colab_link": true
    },
    "kernelspec": {
      "name": "python3",
      "display_name": "Python 3"
    }
  },
  "cells": [
    {
      "cell_type": "markdown",
      "metadata": {
        "id": "view-in-github",
        "colab_type": "text"
      },
      "source": [
        "<a href=\"https://colab.research.google.com/github/amalvarezme/SenalesSistemas/blob/master/ejemploSep1.ipynb\" target=\"_parent\"><img src=\"https://colab.research.google.com/assets/colab-badge.svg\" alt=\"Open In Colab\"/></a>"
      ]
    },
    {
      "cell_type": "code",
      "metadata": {
        "id": "LzoeXiKn_UaG",
        "colab_type": "code",
        "colab": {}
      },
      "source": [
        "import numpy as np"
      ],
      "execution_count": 1,
      "outputs": []
    },
    {
      "cell_type": "markdown",
      "metadata": {
        "id": "t0mxChSbAmAn",
        "colab_type": "text"
      },
      "source": [
        "# Arreglo de numpy como señal digital\n",
        "## arreglo de numpy"
      ]
    },
    {
      "cell_type": "code",
      "metadata": {
        "id": "LWA-IMC3_5F8",
        "colab_type": "code",
        "colab": {
          "base_uri": "https://localhost:8080/",
          "height": 35
        },
        "outputId": "276330cd-047a-42d3-b82b-d26d69d028bb"
      },
      "source": [
        "x = np.array([0,-2,0.5]) # señal digital\n",
        "print(x)"
      ],
      "execution_count": 3,
      "outputs": [
        {
          "output_type": "stream",
          "text": [
            "[ 0.  -2.   0.5]\n"
          ],
          "name": "stdout"
        }
      ]
    },
    {
      "cell_type": "code",
      "metadata": {
        "id": "pXqJfBkqCLtd",
        "colab_type": "code",
        "colab": {
          "base_uri": "https://localhost:8080/",
          "height": 35
        },
        "outputId": "2f2e69af-5472-45fe-a30b-ab4f71372151"
      },
      "source": [
        "x.dtype"
      ],
      "execution_count": 8,
      "outputs": [
        {
          "output_type": "execute_result",
          "data": {
            "text/plain": [
              "dtype('float64')"
            ]
          },
          "metadata": {
            "tags": []
          },
          "execution_count": 8
        }
      ]
    },
    {
      "cell_type": "markdown",
      "metadata": {
        "id": "XPTYmD0yClVB",
        "colab_type": "text"
      },
      "source": [
        "# Listas vs numpy array"
      ]
    },
    {
      "cell_type": "code",
      "metadata": {
        "id": "A1hZ3mLgCkrT",
        "colab_type": "code",
        "colab": {}
      },
      "source": [
        "x = [0, -2, 0.5] # no es señal digital -> lista con numeros"
      ],
      "execution_count": 10,
      "outputs": []
    },
    {
      "cell_type": "code",
      "metadata": {
        "id": "7rZOvHH5CrKc",
        "colab_type": "code",
        "colab": {}
      },
      "source": [
        "x = ['andres', 0]"
      ],
      "execution_count": 11,
      "outputs": []
    },
    {
      "cell_type": "code",
      "metadata": {
        "id": "09dW62CaC6Zu",
        "colab_type": "code",
        "colab": {}
      },
      "source": [
        "eps = 1e-16"
      ],
      "execution_count": 13,
      "outputs": []
    },
    {
      "cell_type": "markdown",
      "metadata": {
        "id": "04Km-BfPEMDr",
        "colab_type": "text"
      },
      "source": [
        "# Tamaño, indexar y graficar"
      ]
    },
    {
      "cell_type": "code",
      "metadata": {
        "id": "doHiuDPQDuOa",
        "colab_type": "code",
        "colab": {
          "base_uri": "https://localhost:8080/",
          "height": 35
        },
        "outputId": "71ecf566-c033-4572-adbc-181f358ceb95"
      },
      "source": [
        "x = np.array([0,-2,-6,4])\n",
        "print(x)"
      ],
      "execution_count": 15,
      "outputs": [
        {
          "output_type": "stream",
          "text": [
            "[ 0 -2 -6  4]\n"
          ],
          "name": "stdout"
        }
      ]
    },
    {
      "cell_type": "code",
      "metadata": {
        "id": "yN5yjaxJEWwe",
        "colab_type": "code",
        "colab": {
          "base_uri": "https://localhost:8080/",
          "height": 35
        },
        "outputId": "bc39ab51-c67b-43e8-c95f-d7d015db06db"
      },
      "source": [
        "print(x[3]) # python idexa desde 0"
      ],
      "execution_count": 21,
      "outputs": [
        {
          "output_type": "stream",
          "text": [
            "4\n"
          ],
          "name": "stdout"
        }
      ]
    },
    {
      "cell_type": "code",
      "metadata": {
        "id": "daDK8myREkrW",
        "colab_type": "code",
        "colab": {
          "base_uri": "https://localhost:8080/",
          "height": 52
        },
        "outputId": "45f74a4e-2d87-491e-fb3a-2e47de84037e"
      },
      "source": [
        "x = np.array([[0,-2,-6,4],[33.5,9,8,7]])\n",
        "print(x)"
      ],
      "execution_count": 50,
      "outputs": [
        {
          "output_type": "stream",
          "text": [
            "[[ 0.  -2.  -6.   4. ]\n",
            " [33.5  9.   8.   7. ]]\n"
          ],
          "name": "stdout"
        }
      ]
    },
    {
      "cell_type": "code",
      "metadata": {
        "id": "Q32yNqNSGr0s",
        "colab_type": "code",
        "colab": {
          "base_uri": "https://localhost:8080/",
          "height": 35
        },
        "outputId": "89a465d3-0ac3-4968-d9dd-6d5b2e72509b"
      },
      "source": [
        "x.shape"
      ],
      "execution_count": 28,
      "outputs": [
        {
          "output_type": "execute_result",
          "data": {
            "text/plain": [
              "(2, 4)"
            ]
          },
          "metadata": {
            "tags": []
          },
          "execution_count": 28
        }
      ]
    },
    {
      "cell_type": "code",
      "metadata": {
        "id": "XOGY9kuTHV76",
        "colab_type": "code",
        "colab": {
          "base_uri": "https://localhost:8080/",
          "height": 52
        },
        "outputId": "2672021f-8020-4f2f-ab56-6aaf52c04c0a"
      },
      "source": [
        "print(x[:,3])\n",
        "print(x[:,0])"
      ],
      "execution_count": 36,
      "outputs": [
        {
          "output_type": "stream",
          "text": [
            "[4. 7.]\n",
            "[ 0.  33.5]\n"
          ],
          "name": "stdout"
        }
      ]
    },
    {
      "cell_type": "code",
      "metadata": {
        "id": "-prHt_dsIA9p",
        "colab_type": "code",
        "colab": {
          "base_uri": "https://localhost:8080/",
          "height": 52
        },
        "outputId": "115f569b-9c89-4a8b-a53e-140f49fa7bf3"
      },
      "source": [
        "print(x)"
      ],
      "execution_count": 51,
      "outputs": [
        {
          "output_type": "stream",
          "text": [
            "[[ 0.  -2.  -6.   4. ]\n",
            " [33.5  9.   8.   7. ]]\n"
          ],
          "name": "stdout"
        }
      ]
    },
    {
      "cell_type": "markdown",
      "metadata": {
        "id": "kIGvE5RPKJnW",
        "colab_type": "text"
      },
      "source": [
        "$ind\\in [1,3)$"
      ]
    },
    {
      "cell_type": "code",
      "metadata": {
        "id": "_5W5XRJ5JNzv",
        "colab_type": "code",
        "colab": {
          "base_uri": "https://localhost:8080/",
          "height": 52
        },
        "outputId": "5ba5234e-e1e8-4035-b2df-06f0de4eb02e"
      },
      "source": [
        "x[0:2,2:4] # en python la ultima indexacion no se cuenta con :"
      ],
      "execution_count": 63,
      "outputs": [
        {
          "output_type": "execute_result",
          "data": {
            "text/plain": [
              "array([[-6.,  4.],\n",
              "       [ 8.,  7.]])"
            ]
          },
          "metadata": {
            "tags": []
          },
          "execution_count": 63
        }
      ]
    },
    {
      "cell_type": "code",
      "metadata": {
        "id": "u8QW4xv4JpnS",
        "colab_type": "code",
        "colab": {
          "base_uri": "https://localhost:8080/",
          "height": 35
        },
        "outputId": "13715416-84bf-410b-867b-483edcfd530c"
      },
      "source": [
        "y = 2.5687 # float64\n",
        "y"
      ],
      "execution_count": 47,
      "outputs": [
        {
          "output_type": "execute_result",
          "data": {
            "text/plain": [
              "2.5687"
            ]
          },
          "metadata": {
            "tags": []
          },
          "execution_count": 47
        }
      ]
    },
    {
      "cell_type": "code",
      "metadata": {
        "id": "sOKB3TkiKdhA",
        "colab_type": "code",
        "colab": {
          "base_uri": "https://localhost:8080/",
          "height": 35
        },
        "outputId": "7e1dda30-d571-49ed-ff6d-12de0c9e929c"
      },
      "source": [
        "print(int(y)) #casting"
      ],
      "execution_count": 48,
      "outputs": [
        {
          "output_type": "stream",
          "text": [
            "2\n"
          ],
          "name": "stdout"
        }
      ]
    },
    {
      "cell_type": "code",
      "metadata": {
        "id": "GDY1K_EeKiib",
        "colab_type": "code",
        "colab": {
          "base_uri": "https://localhost:8080/",
          "height": 295
        },
        "outputId": "431d9eac-4b7b-4e04-b703-0124e4ec5712"
      },
      "source": [
        "import matplotlib.pyplot as plt\n",
        "N = 200 #tamaño del vector\n",
        "ti = 5 # tiempo inicial en seg\n",
        "tf = 20 # tiempo final en seg\n",
        "t = np.linspace(ti,tf,N) # genera vector tiempo\n",
        "#print(t)\n",
        "x = np.zeros((N))\n",
        "x[int(0.5*N):] = 1\n",
        "#print(x)\n",
        "plt.plot(t,x) # x[tn] -> tamaño del arreglo t debe ser igual al del arreglo x\n",
        "plt.xlabel('t [s]')\n",
        "plt.ylabel('x[t] [Amplitud]')\n",
        "plt.title('Ejemplo señal digital')\n",
        "plt.show() # terminar figura\n"
      ],
      "execution_count": 92,
      "outputs": [
        {
          "output_type": "display_data",
          "data": {
            "image/png": "[encoded data removed]",
            "text/plain": [
              "<Figure size 432x288 with 1 Axes>"
            ]
          },
          "metadata": {
            "tags": [],
            "needs_background": "light"
          }
        }
      ]
    },
    {
      "cell_type": "markdown",
      "metadata": {
        "id": "U6p0_7gjYuHt",
        "colab_type": "text"
      },
      "source": [
        "$ti = 5$ -> $n = 0$\n",
        "\n",
        "$tf = 20$ -> $n = N-1$\n",
        "\n",
        "$T = tf - ti = 20 -5 = 15$\n",
        "\n",
        "$\\Delta t = \\frac{tf - ti}{N} = 15/200$ seg\n",
        "\n",
        "$ n = ?$ -> t = 10s\n",
        "\n",
        "$t \\Delta t$ \n",
        "\n",
        "x[t = 10 s] = x[n = ?]\n",
        " N =100\n",
        "\n",
        "x[0] = #\n",
        "\n",
        "x[100] = error\n",
        "\n",
        "x[100-1] = #"
      ]
    },
    {
      "cell_type": "markdown",
      "metadata": {
        "id": "Ngbb8t2bWNyp",
        "colab_type": "text"
      },
      "source": [
        "$$$$"
      ]
    },
    {
      "cell_type": "code",
      "metadata": {
        "id": "0Zu-SJQ_NtNA",
        "colab_type": "code",
        "colab": {}
      },
      "source": [
        ""
      ],
      "execution_count": null,
      "outputs": []
    },
    {
      "cell_type": "markdown",
      "metadata": {
        "id": "9CK0LFe6WR8t",
        "colab_type": "text"
      },
      "source": [
        "$$x(t)= \\left\\{\\begin{align} 0; & \\quad  t1 \\leq t \\leq 0 \\\\\n",
        "                      1; &  \\quad  0 < t \\leq t2 \\\\\n",
        "                      0; &  \\quad  t2 < t \\leq t3 \\\\\n",
        "         \\end{align}\\right.$$"
      ]
    },
    {
      "cell_type": "code",
      "metadata": {
        "id": "4-BIDJ-rXKPm",
        "colab_type": "code",
        "colab": {}
      },
      "source": [
        "N = 500 # num muestras\n",
        "t1 = -5 # t1 seg\n",
        "t2 = 2\n",
        "t3 = 6 \n",
        "t = np.linspace(t1,t3,N)\n",
        "x = np.zeros((N))\n",
        "x[0:t2] = 1"
      ],
      "execution_count": null,
      "outputs": []
    }
  ]
}