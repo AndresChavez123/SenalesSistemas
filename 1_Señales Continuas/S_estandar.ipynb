{
  "nbformat": 4,
  "nbformat_minor": 0,
  "metadata": {
    "kernelspec": {
      "display_name": "Python 3",
      "language": "python",
      "name": "python3"
    },
    "language_info": {
      "codemirror_mode": {
        "name": "ipython",
        "version": 3
      },
      "file_extension": ".py",
      "mimetype": "text/x-python",
      "name": "python",
      "nbconvert_exporter": "python",
      "pygments_lexer": "ipython3",
      "version": "3.7.1"
    },
    "colab": {
      "name": "S_estandar.ipynb",
      "provenance": [],
      "include_colab_link": true
    }
  },
  "cells": [
    {
      "cell_type": "markdown",
      "metadata": {
        "id": "view-in-github",
        "colab_type": "text"
      },
      "source": [
        "<a href=\"https://colab.research.google.com/github/amalvarezme/SenalesSistemas/blob/master/1_Se%C3%B1ales%20Continuas/S_estandar.ipynb\" target=\"_parent\"><img src=\"https://colab.research.google.com/assets/colab-badge.svg\" alt=\"Open In Colab\"/></a>"
      ]
    },
    {
      "cell_type": "markdown",
      "metadata": {
        "nbsphinx": "hidden",
        "id": "aErqVkCBC14P",
        "colab_type": "text"
      },
      "source": [
        "# Señales Continuas\n"
      ]
    },
    {
      "cell_type": "markdown",
      "metadata": {
        "id": "9F-jwIu3C14Q",
        "colab_type": "text"
      },
      "source": [
        "## Señales Estándar\n",
        "\n",
        "Ciertas [señales](https://en.wikipedia.org/wiki/Signal_%28electrical_engineering%29) (funciones) juegan un papel importante en la aplicación teórica y práctica del [procesamiento de señales](https://en.wikipedia.org/wiki/Signal_processing). Surgen de la teoría de señales y sistemas, son usadas para caracterizar las propiedades de los sistemas lineales e invarientes con el tiempo (LTI) y ocurren frecuentemente en aplicaciones prácticas. Estas señales estándar (prototipo) son introducidas e ilustradas a continuación. \n",
        "Se limitan a señales determinísticas de una dimensión y a señales de amplitud continua."
      ]
    },
    {
      "cell_type": "markdown",
      "metadata": {
        "id": "S8omw9VzC14R",
        "colab_type": "text"
      },
      "source": [
        "### Señal exponencial compleja\n",
        "\n",
        "La señal exponencial compleja está definifa por la [función exponencial compleja](https://en.wikipedia.org/wiki/Exponential_function#Complex_plane)\n",
        "\n",
        "\\begin{equation}\n",
        "x(t) = e^{s t} \n",
        "\\end{equation}\n",
        "\n",
        "donde $s = \\sigma + j \\omega$ denota la frecuencia compleja con $\\sigma, \\omega \\in \\mathbb{R}$. La señal es usada a menudo como una representación general de señales. Usando [la fórmula de Euler](https://en.wikipedia.org/wiki/Euler's_formula), la función se puede reformular como\n",
        "\n",
        "\\begin{equation}\n",
        "x(t) = e^{(\\sigma + j \\omega) t} = e^{\\sigma t} \\cos(\\omega t) + j e^{\\sigma t} \\sin(\\omega t)\n",
        "\\end{equation}\n",
        "\n",
        "La parte real/imaginaria de la señal exponencial está dada por un coseno/seno con frecuencia angular $\\omega = 2 \\pi f$. Para $t>0$, el peso dependiente del tiempo $e^{\\sigma t}$ es\n",
        "\n",
        "* exponencialmente decreciente con el tiempo para $\\sigma < 0$,\n",
        "* constantemente uno para $\\sigma = 0$,\n",
        "* exponencialmente creciente con el tiempo para $\\sigma > 0$,\n",
        "\n",
        "Además, la señal exponencial compleja es usada para modelar señales armónicas con amplitud exponencialmente decreciente o creciente."
      ]
    },
    {
      "cell_type": "markdown",
      "metadata": {
        "id": "akUDG6L9C14S",
        "colab_type": "text"
      },
      "source": [
        "**Ejemplo**\n",
        "\n",
        "El ejemplo ilustra la señal exponencial compleja y sus parámetros. El módulo de Python [SymPy](http://docs.sympy.org/latest/index.html) es usado para este propósito. Este proporciona funcionalidad para las variables y funciones simbólicas, así como su cálculo. Las variables simbólicas requeridas deben definirse explícitamente antes de su uso. En este ejemplo, $t$, $\\omega$ y $\\sigma$ son defnidos como variables simbólicas reales, seguido por la definición de la propia señal exponencial."
      ]
    },
    {
      "cell_type": "code",
      "metadata": {
        "id": "Esf1OF5XC14U",
        "colab_type": "code",
        "colab": {},
        "outputId": "0b0b5d8b-545b-4432-f4cd-92c87004c78f"
      },
      "source": [
        "%matplotlib inline \n",
        "# para graficar en el entorno\n",
        "import sympy as sym #importa la librería sympy\n",
        "sym.init_printing() #se inicializa para mostrar en pantalla\n",
        "\n",
        "t, sigma, omega = sym.symbols('t sigma omega', real=True)\n",
        "s = sigma + 1j*omega\n",
        "x = sym.exp(s*t)\n",
        "x"
      ],
      "execution_count": null,
      "outputs": [
        {
          "output_type": "execute_result",
          "data": {
            "image/png": "[encoded data removed]",
            "text/latex": "$$e^{t \\left(1.0 i \\omega + \\sigma\\right)}$$",
            "text/plain": [
              " t⋅(1.0⋅ⅈ⋅ω + σ)\n",
              "ℯ               "
            ]
          },
          "metadata": {
            "tags": []
          },
          "execution_count": 32
        }
      ]
    },
    {
      "cell_type": "markdown",
      "metadata": {
        "id": "Xvu0coLZC14b",
        "colab_type": "text"
      },
      "source": [
        "Ahora tomando valores específicos para la frecuencia compleja $s = \\sigma + j \\omega$ con fines ilustrativos, una nueva señal es definida mediante la sustitución de $\\sigma$ y $\\omega$. La parte real e imaginaria de la señal es graficada."
      ]
    },
    {
      "cell_type": "code",
      "metadata": {
        "id": "Cl3iQwdwC14b",
        "colab_type": "code",
        "colab": {},
        "outputId": "80e8c3f5-37a4-4877-cd44-82c223ec6390"
      },
      "source": [
        "y = x.subs({omega: 3, sigma : -0.2})\n",
        "print(r'x(t)=',x)\n",
        "\n",
        "sym.plot(sym.re(y), (t, 0, 2*sym.pi), ylabel=r'Re{$e^{st}$}') #r' indica al linterprete una variable tipo string\n",
        "sym.plot(sym.im(y), (t, 0, 2*sym.pi), ylabel=r'Im{$e^{st}$}');"
      ],
      "execution_count": null,
      "outputs": [
        {
          "output_type": "stream",
          "text": [
            "x(t)= exp(t*(1.0*I*omega + sigma))\n"
          ],
          "name": "stdout"
        },
        {
          "output_type": "display_data",
          "data": {
            "image/png": "[encoded data removed]",
            "text/plain": [
              "<Figure size 432x288 with 1 Axes>"
            ]
          },
          "metadata": {
            "tags": [],
            "needs_background": "light"
          }
        },
        {
          "output_type": "display_data",
          "data": {
            "image/png": "[encoded data removed]",
            "text/plain": [
              "<Figure size 432x288 with 1 Axes>"
            ]
          },
          "metadata": {
            "tags": [],
            "needs_background": "light"
          }
        }
      ]
    },
    {
      "cell_type": "markdown",
      "metadata": {
        "id": "W4qL5LOWC14e",
        "colab_type": "text"
      },
      "source": [
        "**Ejercicio**\n",
        "\n",
        "* Pruebe otros valores `omega` y `sigma` para crear señales con amplitud creciente/decreciente/constante y diferentes frecuencias angulares.  "
      ]
    },
    {
      "cell_type": "markdown",
      "metadata": {
        "id": "e-oe-TkAC14f",
        "colab_type": "text"
      },
      "source": [
        "### Impulso de Dirac - Función delta $\\delta(t)$\n",
        "\n",
        "El impulso de Dirac es una de las más importantes señales en la teoría de señales y sistemas. Es usada para la caracterización de sistemas LTI y el modelado de señales similares a impulsos. El impulso de Dirac es definido de la forma [Función delta de Dirac](https://en.wikipedia.org/wiki/Dirac_delta_function) la cual no es una función en el sentido convencional. Es una función generalizada o *distribución*. El impulso de Dirac es denotado como $\\delta(t)$. La función delta de Dirac se define por su efecto en otras funciones. Afortunadamente para su aplicación en el procesamiento de señales, es adecuado considerar solo ciertas propiedades. Las más relevantes son:\n",
        "\n",
        "1. **Propiedad de selectividad**\n",
        "    \\begin{equation}\n",
        "    \\int_{-\\infty}^{\\infty} \\delta(t) \\cdot x(t) = x(0)\n",
        "    \\end{equation}\n",
        "    donde $x(t)$ necesita ser diferenciable en $t=0$. La propiedad de selectividad implica $\\int_{-\\infty}^{\\infty} \\delta(t) = 1$.\n",
        "    \n",
        "2. **Multiplicación**\n",
        "    \\begin{equation}\n",
        "    x(t) \\cdot \\delta(t) = x(0) \\cdot \\delta(t)\n",
        "    \\end{equation}\n",
        "    donde $x(t)$ necesita ser diferenciable en $t=0$.\n",
        "    \n",
        "3. **Linealidad**\n",
        "    \\begin{equation}\n",
        "    a \\cdot \\delta(t) + b \\cdot \\delta(t) = (a+b) \\cdot \\delta(t)\n",
        "    \\end{equation}\n",
        "    \n",
        "4. **Escamalmiento**\n",
        "    \\begin{equation}\n",
        "    \\delta(a t) = \\frac{1}{|a|} \\delta(t)\n",
        "    \\end{equation}\n",
        "    donde $a \\in \\mathbb{R} \\setminus 0$ (sin incluir el 0). Esto implica que el impulso de Dirac es una función con simetría uniforme.\n",
        "    \n",
        "5. **Derivación**\n",
        "    \\begin{equation}\n",
        "    \\int_{-\\infty}^{\\infty} \\frac{d \\delta(t)}{dt} \\cdot x(t) \\; dt = - \\frac{d x(t)}{dt} \\bigg\\vert_{t = 0}\n",
        "    \\end{equation}\n",
        "\n",
        "Es importante notar que el producto de $\\delta(t) \\cdot \\delta(t)$ dos impulsos de Dirac no está definido."
      ]
    },
    {
      "cell_type": "markdown",
      "metadata": {
        "id": "sB_9_I7CC14g",
        "colab_type": "text"
      },
      "source": [
        "**Ejemplo**\n",
        "\n",
        "Este ejemplo ilustra alguanas propiedades básicas del impulso de Dirac. Primero definamos un impulso de Dirac:"
      ]
    },
    {
      "cell_type": "code",
      "metadata": {
        "id": "V2p1HJnAC14g",
        "colab_type": "code",
        "colab": {},
        "outputId": "60ef9e78-3fd8-4f4a-ab0d-985320b02e9a"
      },
      "source": [
        "delta = sym.DiracDelta(t)\n",
        "delta"
      ],
      "execution_count": null,
      "outputs": [
        {
          "output_type": "execute_result",
          "data": {
            "image/png": "[encoded data removed]",
            "text/latex": "$$\\delta\\left(t\\right)$$",
            "text/plain": [
              "δ(t)"
            ]
          },
          "metadata": {
            "tags": []
          },
          "execution_count": 22
        }
      ]
    },
    {
      "cell_type": "markdown",
      "metadata": {
        "id": "eWC9AL4oC14m",
        "colab_type": "text"
      },
      "source": [
        "Ahora probemos la propiedad de selectividad definiendo una señal arbitraria (función) $f(t)$ e integrando su producto con el impulso Delta"
      ]
    },
    {
      "cell_type": "code",
      "metadata": {
        "id": "9mD1fN4wC14n",
        "colab_type": "code",
        "colab": {},
        "outputId": "024f567d-a222-4cd7-bf34-68a609389b16"
      },
      "source": [
        "f = sym.Function('f')(t)\n",
        "sym.integrate(delta*f, (t, -sym.oo, sym.oo))\n"
      ],
      "execution_count": null,
      "outputs": [
        {
          "output_type": "execute_result",
          "data": {
            "image/png": "[encoded data removed]",
            "text/latex": "$$f{\\left (0 \\right )}$$",
            "text/plain": [
              "f(0)"
            ]
          },
          "metadata": {
            "tags": []
          },
          "execution_count": 42
        }
      ]
    },
    {
      "cell_type": "markdown",
      "metadata": {
        "id": "d7cLUYNRC14r",
        "colab_type": "text"
      },
      "source": [
        "**Ejercicio**\n",
        "\n",
        "* Derivar la propiedad de selectividad, para un impulso de Dirac desplazado $\\delta(t-\\tau)$ y probar los resultados modificando el ejemplo anterior."
      ]
    },
    {
      "cell_type": "markdown",
      "metadata": {
        "id": "6QSKDnF_C14s",
        "colab_type": "text"
      },
      "source": [
        "### Señal Heaviside - Función escalón\n",
        "\n",
        "La función escalón o [Heaviside](https://en.wikipedia.org/wiki/Heaviside_step_function) se define como:\n",
        "\n",
        "\\begin{equation}\n",
        "\\epsilon(t) = \\begin{cases} 0 & t<0 \\\\  \\frac{1}{2} & t=0 \\\\ 1 & t > 0 \\end{cases}\n",
        "\\end{equation}\n",
        "\n",
        "Algunas definiciones alternativas existen con respecto al valor de $\\epsilon(t)$ en $t=0$. La función Heaviside se usa para representar un cambio o swithc en un punto específico del tiempo y se mantiene encendido de forma indefinida. El escalón y el delta se relacionan mediante la siguiente expresión:\n",
        "\n",
        "\\begin{equation}\n",
        "\\int_{-\\infty}^{t} \\delta(\\tau) \\; d\\tau = \\epsilon(t)\n",
        "\\end{equation}"
      ]
    },
    {
      "cell_type": "markdown",
      "metadata": {
        "id": "_XPgW6T4C14s",
        "colab_type": "text"
      },
      "source": [
        "**Ejemplo**\n",
        "\n",
        "A continuación una señal Heaviside $\\epsilon(t)$ se define y grafica. Note que `Sympy` denota la función Heaviside como $\\theta(t)$."
      ]
    },
    {
      "cell_type": "code",
      "metadata": {
        "id": "btS0uggGC14t",
        "colab_type": "code",
        "colab": {},
        "outputId": "f9d8a1fc-ed51-43b8-cf98-698b6c647c2f"
      },
      "source": [
        "step = sym.Heaviside(t)\n",
        "step"
      ],
      "execution_count": null,
      "outputs": [
        {
          "output_type": "execute_result",
          "data": {
            "image/png": "[encoded data removed]",
            "text/latex": "$$\\theta\\left(t\\right)$$",
            "text/plain": [
              "Heaviside(t)"
            ]
          },
          "metadata": {
            "tags": []
          },
          "execution_count": 5
        }
      ]
    },
    {
      "cell_type": "code",
      "metadata": {
        "id": "7E7BFLqIC14w",
        "colab_type": "code",
        "colab": {},
        "outputId": "ba30f098-6ad5-46ab-c74d-22febff381ca"
      },
      "source": [
        "sym.plot(step, (t, -2, 2), ylim=[-0.2, 1.2], ylabel=r'$\\epsilon(t)$');"
      ],
      "execution_count": null,
      "outputs": [
        {
          "output_type": "display_data",
          "data": {
            "image/png": "[encoded data removed]",
            "text/plain": [
              "<Figure size 432x288 with 1 Axes>"
            ]
          },
          "metadata": {
            "tags": []
          }
        }
      ]
    },
    {
      "cell_type": "markdown",
      "metadata": {
        "id": "YzsfLPYhC140",
        "colab_type": "text"
      },
      "source": [
        "Ahora se construye un armónico (señal coseno o seno) $\\cos(\\omega t)$ con $\\omega=2$, la cual se enciende en $t=0$:\n",
        "\n",
        "\\begin{equation}\n",
        "x(t) = \\cos(\\omega t) \\cdot \\epsilon(t)\n",
        "\\end{equation}"
      ]
    },
    {
      "cell_type": "code",
      "metadata": {
        "id": "dJDfsCoiC141",
        "colab_type": "code",
        "colab": {},
        "outputId": "26cdc60f-4fcc-45b7-8a6c-9e4f0f595595"
      },
      "source": [
        "x = sym.cos(omega*t) * sym.Heaviside(t)\n",
        "sym.plot(x.subs(omega,2), (t, -2, 10), ylim=[-1.2, 1.2], ylabel=r'$x(t)$');\n",
        "#sym.plot(x.subs({omega: 2, T : 3}), (t, -2, 10), ylim=[-1.2, 1.2], ylabel=r'$x(t)$');"
      ],
      "execution_count": null,
      "outputs": [
        {
          "output_type": "display_data",
          "data": {
            "image/png": "[encoded data removed]",
            "text/plain": [
              "<Figure size 432x288 with 1 Axes>"
            ]
          },
          "metadata": {
            "tags": [],
            "needs_background": "light"
          }
        }
      ]
    },
    {
      "cell_type": "markdown",
      "metadata": {
        "id": "OVKJbZUdC144",
        "colab_type": "text"
      },
      "source": [
        "### Señal pulso rectangular\n",
        "\n",
        "La función [pulso rectangular](https://en.wikipedia.org/wiki/Rectangular_function) se define como:\n",
        "\n",
        "\\begin{equation}\n",
        "\\text{rect}(t) = \\begin{cases} 1 & |t| < \\frac{1}{2} \\\\ \\frac{1}{2} & |t| = \\frac{1}{2} \\\\ 1 & |t| > \\frac{1}{2} \\end{cases}\n",
        "\\end{equation}\n",
        "\n",
        "Algunas definiciones alternativas existen difiriendo del valor de $\\text{rect}(t)$ para $t = \\pm \\frac{1}{2}$. La señal pulso rectangular se utiliza para representar un encendido por un intervalo limitado de tiempo o de duración finita, y se relaciona con la función Heaviside asi:\n",
        "\n",
        "\\begin{equation}\n",
        "\\text{rect}(t) = \\epsilon \\left(t + \\frac{1}{2} \\right) - \\epsilon \\left(t - \\frac{1}{2} \\right)\n",
        "\\end{equation}"
      ]
    },
    {
      "cell_type": "markdown",
      "metadata": {
        "id": "Ypb77g3GC145",
        "colab_type": "text"
      },
      "source": [
        "**Ejemplo**\n",
        "\n",
        "A continuación se define la función pulso rectangular desde el escalón en `Sympy`:"
      ]
    },
    {
      "cell_type": "code",
      "metadata": {
        "id": "fX2Nr_szC146",
        "colab_type": "code",
        "colab": {}
      },
      "source": [
        "class rect(sym.Function):\n",
        "\n",
        "    @classmethod\n",
        "    def eval(cls, arg):\n",
        "        return sym.Heaviside(arg + sym.S.Half) - sym.Heaviside(arg - sym.S.Half)"
      ],
      "execution_count": null,
      "outputs": []
    },
    {
      "cell_type": "code",
      "metadata": {
        "id": "U9GZCXxEC149",
        "colab_type": "code",
        "colab": {},
        "outputId": "022266eb-c127-435c-d6e1-43211f2c1037"
      },
      "source": [
        "sym.plot(rect(t), (t, -1, 1), ylim=[-0.2, 1.2], ylabel=r'rect$(t)$');"
      ],
      "execution_count": null,
      "outputs": [
        {
          "output_type": "display_data",
          "data": {
            "image/png": "[encoded data removed]",
            "text/plain": [
              "<Figure size 432x288 with 1 Axes>"
            ]
          },
          "metadata": {
            "tags": []
          }
        }
      ]
    },
    {
      "cell_type": "markdown",
      "metadata": {
        "id": "Ea9Y_NgwC15A",
        "colab_type": "text"
      },
      "source": [
        "**Ejercicio**\n",
        "\n",
        "* Use la función $\\text{rect}(t)$ para construir una función $\\cos(\\omega t)$ con $\\omega=2$, la cual se enciende en $t=-\\frac{1}{2}$ y se apaga en $t=+\\frac{1}{2}$."
      ]
    },
    {
      "cell_type": "markdown",
      "metadata": {
        "id": "tdVcnTGPC15B",
        "colab_type": "text"
      },
      "source": [
        "### Función signo\n",
        "\n",
        "La función [signo/signum function](https://en.wikipedia.org/wiki/Sign_function) evalua el signo de su argumento:\n",
        "\n",
        "\\begin{equation}\n",
        "\\text{sgn}(t) = \\begin{cases} 1 & t>0 \\\\ 0 & t=0 \\\\ -1 & t < 0  \\end{cases}\n",
        "\\end{equation}\n",
        "\n",
        "La señal sign es útil para representar el valor absoluto de una señal real$x(t) \\in \\mathbb{R}$ como:\n",
        "\n",
        "\\begin{equation}\n",
        "|x(t)| = x(t) \\cdot \\text{sgn}(x(t))\n",
        "\\end{equation}\n",
        "\n",
        "y se relaciona con la señal Heaviside como:\n",
        "\n",
        "\\begin{equation}\n",
        "\\text{sgn}(t) = 2 \\cdot \\epsilon(t) - 1\n",
        "\\end{equation}"
      ]
    },
    {
      "cell_type": "markdown",
      "metadata": {
        "id": "m05Ij1F9C15B",
        "colab_type": "text"
      },
      "source": [
        "**Ejemplo**\n",
        "\n",
        "El siguiente ejemplo ilustra la función $\\text{sgn}(t)$. Note que la función sign se representa como $\\text{sign}(t)$ en `Sympy`."
      ]
    },
    {
      "cell_type": "code",
      "metadata": {
        "id": "ZOxTBUykC15C",
        "colab_type": "code",
        "colab": {},
        "outputId": "d7f9f547-ba34-4b0a-f5be-ed5fadeba5c8"
      },
      "source": [
        "sgn = sym.sign(t)\n",
        "sgn"
      ],
      "execution_count": null,
      "outputs": [
        {
          "output_type": "execute_result",
          "data": {
            "image/png": "[encoded data removed]",
            "text/latex": "$$\\operatorname{sign}{\\left (t \\right )}$$",
            "text/plain": [
              "sign(t)"
            ]
          },
          "metadata": {
            "tags": []
          },
          "execution_count": 10
        }
      ]
    },
    {
      "cell_type": "code",
      "metadata": {
        "id": "F4THQ6UWC15I",
        "colab_type": "code",
        "colab": {},
        "outputId": "889ce6b5-4f46-410e-a4ee-6724c6cbca87"
      },
      "source": [
        "sym.plot(sgn, (t, -2, 2), ylim=[-1.2, 1.2], ylabel=r'sgn$(t)$');"
      ],
      "execution_count": null,
      "outputs": [
        {
          "output_type": "display_data",
          "data": {
            "image/png": "[encoded data removed]",
            "text/plain": [
              "<Figure size 432x288 with 1 Axes>"
            ]
          },
          "metadata": {
            "tags": []
          }
        }
      ]
    },
    {
      "cell_type": "markdown",
      "metadata": {
        "id": "56yOKU70C15P",
        "colab_type": "text"
      },
      "source": [
        "**Ejercicio**\n",
        "\n",
        "Genere un rectificador de onda completa utilizando la función $\\text{sgn}(t)$"
      ]
    },
    {
      "cell_type": "markdown",
      "metadata": {
        "nbsphinx": "hidden",
        "id": "9iGPOD-VC15Q",
        "colab_type": "text"
      },
      "source": [
        "**Copyright**\n",
        "\n",
        "The notebook is provided as [Open Educational Resource](https://de.wikipedia.org/wiki/Open_Educational_Resources). Feel free to use the notebook for your own educational purposes. The text is licensed under [Creative Commons Attribution 4.0](https://creativecommons.org/licenses/by/4.0/), the code of the IPython examples under the [MIT license](https://opensource.org/licenses/MIT). Please attribute the work as follows: *Signals and Systems* by Sascha Spors."
      ]
    }
  ]
}