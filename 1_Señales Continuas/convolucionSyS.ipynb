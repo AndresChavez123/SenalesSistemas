{
  "nbformat": 4,
  "nbformat_minor": 0,
  "metadata": {
    "colab": {
      "name": "convolucionSyS.ipynb",
      "provenance": [],
      "authorship_tag": "ABX9TyNMC8UHwCnSIq4F+Mg1yFXu",
      "include_colab_link": true
    },
    "kernelspec": {
      "name": "python3",
      "display_name": "Python 3"
    },
    "widgets": {
      "application/vnd.jupyter.widget-state+json": {
        "186ed0ad40da443ab652a3141c1137aa": {
          "model_module": "@jupyter-widgets/controls",
          "model_name": "VBoxModel",
          "state": {
            "_view_name": "VBoxView",
            "_dom_classes": [
              "widget-interact"
            ],
            "_model_name": "VBoxModel",
            "_view_module": "@jupyter-widgets/controls",
            "_model_module_version": "1.5.0",
            "_view_count": null,
            "_view_module_version": "1.5.0",
            "box_style": "",
            "layout": "IPY_MODEL_dadb015e96a1417bb2d8a43c16a6489d",
            "_model_module": "@jupyter-widgets/controls",
            "children": [
              "IPY_MODEL_138a13438b8e4cc18f8eb18e32d89e7c",
              "IPY_MODEL_db74288bddec433382bc7c20a4afcd76"
            ]
          }
        },
        "dadb015e96a1417bb2d8a43c16a6489d": {
          "model_module": "@jupyter-widgets/base",
          "model_name": "LayoutModel",
          "state": {
            "_view_name": "LayoutView",
            "grid_template_rows": null,
            "right": null,
            "justify_content": null,
            "_view_module": "@jupyter-widgets/base",
            "overflow": null,
            "_model_module_version": "1.2.0",
            "_view_count": null,
            "flex_flow": null,
            "width": null,
            "min_width": null,
            "border": null,
            "align_items": null,
            "bottom": null,
            "_model_module": "@jupyter-widgets/base",
            "top": null,
            "grid_column": null,
            "overflow_y": null,
            "overflow_x": null,
            "grid_auto_flow": null,
            "grid_area": null,
            "grid_template_columns": null,
            "flex": null,
            "_model_name": "LayoutModel",
            "justify_items": null,
            "grid_row": null,
            "max_height": null,
            "align_content": null,
            "visibility": null,
            "align_self": null,
            "height": null,
            "min_height": null,
            "padding": null,
            "grid_auto_rows": null,
            "grid_gap": null,
            "max_width": null,
            "order": null,
            "_view_module_version": "1.2.0",
            "grid_template_areas": null,
            "object_position": null,
            "object_fit": null,
            "grid_auto_columns": null,
            "margin": null,
            "display": null,
            "left": null
          }
        },
        "138a13438b8e4cc18f8eb18e32d89e7c": {
          "model_module": "@jupyter-widgets/controls",
          "model_name": "IntSliderModel",
          "state": {
            "_view_name": "IntSliderView",
            "style": "IPY_MODEL_481c1647869d4538bfdfdce752423b98",
            "_dom_classes": [],
            "description": "m",
            "step": 1,
            "_model_name": "IntSliderModel",
            "orientation": "horizontal",
            "max": 32,
            "_view_module": "@jupyter-widgets/controls",
            "_model_module_version": "1.5.0",
            "value": 24,
            "_view_count": null,
            "disabled": false,
            "_view_module_version": "1.5.0",
            "min": 0,
            "continuous_update": true,
            "readout_format": "d",
            "description_tooltip": null,
            "readout": true,
            "_model_module": "@jupyter-widgets/controls",
            "layout": "IPY_MODEL_cd2b5425a8c94458a72d08bddf876a8a"
          }
        },
        "db74288bddec433382bc7c20a4afcd76": {
          "model_module": "@jupyter-widgets/output",
          "model_name": "OutputModel",
          "state": {
            "_view_name": "OutputView",
            "msg_id": "",
            "_dom_classes": [],
            "_model_name": "OutputModel",
            "outputs": [
              {
                "output_type": "stream",
                "metadata": {
                  "tags": []
                },
                "text": "/usr/local/lib/python3.6/dist-packages/ipykernel_launcher.py:19: UserWarning: In Matplotlib 3.3 individual lines on a stem plot will be added as a LineCollection instead of individual lines. This significantly improves the performance of a stem plot. To remove this warning and switch to the new behaviour, set the \"use_line_collection\" keyword argument to True.\n/usr/local/lib/python3.6/dist-packages/ipykernel_launcher.py:20: UserWarning: In Matplotlib 3.3 individual lines on a stem plot will be added as a LineCollection instead of individual lines. This significantly improves the performance of a stem plot. To remove this warning and switch to the new behaviour, set the \"use_line_collection\" keyword argument to True.\n/usr/local/lib/python3.6/dist-packages/ipykernel_launcher.py:21: UserWarning: In Matplotlib 3.3 individual lines on a stem plot will be added as a LineCollection instead of individual lines. This significantly improves the performance of a stem plot. To remove this warning and switch to the new behaviour, set the \"use_line_collection\" keyword argument to True.\n",
                "stream": "stderr"
              },
              {
                "output_type": "display_data",
                "metadata": {
                  "tags": [],
                  "needs_background": "light"
                },
                "image/png": "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\n",
                "text/plain": "<Figure size 432x288 with 1 Axes>"
              }
            ],
            "_view_module": "@jupyter-widgets/output",
            "_model_module_version": "1.0.0",
            "_view_count": null,
            "_view_module_version": "1.0.0",
            "layout": "IPY_MODEL_4d76311a35ea46538f15ea43c60e656d",
            "_model_module": "@jupyter-widgets/output"
          }
        },
        "481c1647869d4538bfdfdce752423b98": {
          "model_module": "@jupyter-widgets/controls",
          "model_name": "SliderStyleModel",
          "state": {
            "_view_name": "StyleView",
            "handle_color": null,
            "_model_name": "SliderStyleModel",
            "description_width": "",
            "_view_module": "@jupyter-widgets/base",
            "_model_module_version": "1.5.0",
            "_view_count": null,
            "_view_module_version": "1.2.0",
            "_model_module": "@jupyter-widgets/controls"
          }
        },
        "cd2b5425a8c94458a72d08bddf876a8a": {
          "model_module": "@jupyter-widgets/base",
          "model_name": "LayoutModel",
          "state": {
            "_view_name": "LayoutView",
            "grid_template_rows": null,
            "right": null,
            "justify_content": null,
            "_view_module": "@jupyter-widgets/base",
            "overflow": null,
            "_model_module_version": "1.2.0",
            "_view_count": null,
            "flex_flow": null,
            "width": null,
            "min_width": null,
            "border": null,
            "align_items": null,
            "bottom": null,
            "_model_module": "@jupyter-widgets/base",
            "top": null,
            "grid_column": null,
            "overflow_y": null,
            "overflow_x": null,
            "grid_auto_flow": null,
            "grid_area": null,
            "grid_template_columns": null,
            "flex": null,
            "_model_name": "LayoutModel",
            "justify_items": null,
            "grid_row": null,
            "max_height": null,
            "align_content": null,
            "visibility": null,
            "align_self": null,
            "height": null,
            "min_height": null,
            "padding": null,
            "grid_auto_rows": null,
            "grid_gap": null,
            "max_width": null,
            "order": null,
            "_view_module_version": "1.2.0",
            "grid_template_areas": null,
            "object_position": null,
            "object_fit": null,
            "grid_auto_columns": null,
            "margin": null,
            "display": null,
            "left": null
          }
        },
        "4d76311a35ea46538f15ea43c60e656d": {
          "model_module": "@jupyter-widgets/base",
          "model_name": "LayoutModel",
          "state": {
            "_view_name": "LayoutView",
            "grid_template_rows": null,
            "right": null,
            "justify_content": null,
            "_view_module": "@jupyter-widgets/base",
            "overflow": null,
            "_model_module_version": "1.2.0",
            "_view_count": null,
            "flex_flow": null,
            "width": null,
            "min_width": null,
            "border": null,
            "align_items": null,
            "bottom": null,
            "_model_module": "@jupyter-widgets/base",
            "top": null,
            "grid_column": null,
            "overflow_y": null,
            "overflow_x": null,
            "grid_auto_flow": null,
            "grid_area": null,
            "grid_template_columns": null,
            "flex": null,
            "_model_name": "LayoutModel",
            "justify_items": null,
            "grid_row": null,
            "max_height": null,
            "align_content": null,
            "visibility": null,
            "align_self": null,
            "height": null,
            "min_height": null,
            "padding": null,
            "grid_auto_rows": null,
            "grid_gap": null,
            "max_width": null,
            "order": null,
            "_view_module_version": "1.2.0",
            "grid_template_areas": null,
            "object_position": null,
            "object_fit": null,
            "grid_auto_columns": null,
            "margin": null,
            "display": null,
            "left": null
          }
        }
      }
    }
  },
  "cells": [
    {
      "cell_type": "markdown",
      "metadata": {
        "id": "view-in-github",
        "colab_type": "text"
      },
      "source": [
        "<a href=\"https://colab.research.google.com/github/amalvarezme/SenalesSistemas/blob/master/1_Se%C3%B1ales%20Continuas/convolucionSyS.ipynb\" target=\"_parent\"><img src=\"https://colab.research.google.com/assets/colab-badge.svg\" alt=\"Open In Colab\"/></a>"
      ]
    },
    {
      "cell_type": "markdown",
      "metadata": {
        "id": "ltZFXHh6H_8Z",
        "colab_type": "text"
      },
      "source": [
        "# Ejemplo convolución\n"
      ]
    },
    {
      "cell_type": "code",
      "metadata": {
        "id": "XVcI_Xk2_U2Y",
        "colab_type": "code",
        "colab": {}
      },
      "source": [
        "%matplotlib inline\n",
        "from ipywidgets import interact\n",
        "import numpy as np\n",
        "import matplotlib.pyplot as plt\n",
        "from scipy import signal"
      ],
      "execution_count": 1,
      "outputs": []
    },
    {
      "cell_type": "code",
      "metadata": {
        "id": "ckohmENyAH1j",
        "colab_type": "code",
        "colab": {}
      },
      "source": [
        "#crear señales\n",
        "h = np.r_[np.ones((5,1)),np.zeros((5,1)),np.ones((10,1))]\n",
        "x = signal.triang(12).reshape(-1,1)\n",
        "#funcion convolucion\n",
        "def convgraf(h,x):\n",
        "   lx = len(x)\n",
        "   lh = len(h)\n",
        "   M = 2*lx+lh\n",
        "   xm = np.zeros((M,M))\n",
        "   hm = np.r_[np.zeros((lx,1)),h,np.zeros((lx,1))]\n",
        "   ym = np.zeros((M,M))\n",
        "   for i in range(M-lx+1):\n",
        "     #print(i)\n",
        "     xm[i:i+lx,i] = np.flip(x).reshape(-1)\n",
        "     ym[i,i] = xm[:,i].T.dot(hm)\n",
        "   return xm, ym, hm  \n",
        "\n",
        "def plot_conv(m,xm,ym,hm):\n",
        "     plt.stem(xm[:,m],markerfmt='+',label='$x[k]$')\n",
        "     plt.stem(hm,linefmt='g',markerfmt='.',label='$h[n-k]$')\n",
        "     plt.stem(ym[:m,:].sum(axis=0),markerfmt='s',linefmt='r',label='$y[n]=\\sum^{\\infty}_{k=-\\infty}x[k]h[n-k]$')\n",
        "     plt.legend()\n",
        "     plt.show()\n",
        "     return\n",
        "\n",
        "xm, ym, hm = convgraf(h,x) "
      ],
      "execution_count": 2,
      "outputs": []
    },
    {
      "cell_type": "code",
      "metadata": {
        "id": "-EPYt_Z2_M5e",
        "colab_type": "code",
        "colab": {
          "base_uri": "https://localhost:8080/",
          "height": 366,
          "referenced_widgets": [
            "186ed0ad40da443ab652a3141c1137aa",
            "dadb015e96a1417bb2d8a43c16a6489d",
            "138a13438b8e4cc18f8eb18e32d89e7c",
            "db74288bddec433382bc7c20a4afcd76",
            "481c1647869d4538bfdfdce752423b98",
            "cd2b5425a8c94458a72d08bddf876a8a",
            "4d76311a35ea46538f15ea43c60e656d"
          ]
        },
        "outputId": "f765d1e1-8efc-48dc-8990-c60c7d42fb36"
      },
      "source": [
        "\n",
        "#@interact(m=range(xm.shape[0]-len(x)+1))\n",
        "@interact(m=(0, xm.shape[0]-len(x), 1))\n",
        "def show_frame(m=0):\n",
        "    plot_conv(m,xm,ym,hm)\n",
        "plt.show()    "
      ],
      "execution_count": 4,
      "outputs": [
        {
          "output_type": "display_data",
          "data": {
            "application/vnd.jupyter.widget-view+json": {
              "model_id": "186ed0ad40da443ab652a3141c1137aa",
              "version_minor": 0,
              "version_major": 2
            },
            "text/plain": [
              "interactive(children=(IntSlider(value=0, description='m', max=32), Output()), _dom_classes=('widget-interact',…"
            ]
          },
          "metadata": {
            "tags": []
          }
        }
      ]
    },
    {
      "cell_type": "code",
      "metadata": {
        "id": "H1Dis0ruH4JV",
        "colab_type": "code",
        "colab": {}
      },
      "source": [
        ""
      ],
      "execution_count": null,
      "outputs": []
    }
  ]
}