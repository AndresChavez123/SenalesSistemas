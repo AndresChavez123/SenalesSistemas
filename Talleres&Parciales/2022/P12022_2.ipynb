{
  "nbformat": 4,
  "nbformat_minor": 0,
  "metadata": {
    "colab": {
      "provenance": [],
      "collapsed_sections": [],
      "authorship_tag": "ABX9TyNYDPuSOlu6z7e+PRYzReRB",
      "include_colab_link": true
    },
    "kernelspec": {
      "name": "python3",
      "display_name": "Python 3"
    },
    "language_info": {
      "name": "python"
    }
  },
  "cells": [
    {
      "cell_type": "markdown",
      "metadata": {
        "id": "view-in-github",
        "colab_type": "text"
      },
      "source": [
        "<a href=\"https://colab.research.google.com/github/amalvarezme/SenalesSistemas/blob/master/EjerciciosParciales2022_2/P12022_2.ipynb\" target=\"_parent\"><img src=\"https://colab.research.google.com/assets/colab-badge.svg\" alt=\"Open In Colab\"/></a>"
      ]
    },
    {
      "cell_type": "markdown",
      "source": [
        "# Parcial 1 - Señales y Sistemas 2022-2\n",
        "\n",
        "## Teórica 1:\n",
        "\n",
        "La distancia media entre dos señales periódicas $x_1(t)\\in\\mathbb{R}$ y $x_2(t)\\in\\mathbb{R}$, se puede expresar a partir de la potencia media de la diferencia entre ellas:\n",
        "\n",
        "$$\n",
        "d(x_1, x_2) = \\bar{P}_{x_1-x_2}=\\lim_{T \\to \\infty} \\frac{1}{T} \\int_T |x_1(t)-x_2(t)|^{2}~dt.\n",
        "$$\n",
        "\n",
        "Sea $x_1(t)$ y $x_2(t$) dos señales periódicas de periodo $T\\in\\mathbb{R}^+,$ como se muestra a continuación:\n",
        "\n",
        "$$\n",
        "x_1(t) = \\cos(w_0t), ~~~ w_0 = \\frac{2\\pi}{T}$$\n",
        "\n",
        "$$x_2(t)= \\left\\{ \\begin{array}{lcc}\n",
        "             ~~~1 &   si  & 0 \\leq t < \\frac{T}{4} \\\\\n",
        "             \\\\ -1 &  si &  \\frac{T}{4} \\leq t < \\frac{3T}{4} \\\\\n",
        "             \\\\ ~~~1 &  si  & \\frac{3T}{4} \\leq t < T\n",
        "             \\end{array}\n",
        "   \\right.\n",
        "$$\n",
        "\n",
        "Determine la distancia entre las dos señales. (Valor 1.5 puntos).\n",
        "\n",
        "\n",
        "\n"
      ],
      "metadata": {
        "id": "FXC9ETwayw9B"
      }
    },
    {
      "cell_type": "markdown",
      "source": [
        "### Solución:\n",
        "\n",
        "Según la integral de potencia, tenemos que:\n",
        "\n",
        "$$\n",
        "d(x_1, x_2) = \\bar{P}_{x_1-x_2}=\\lim_{T \\to \\infty} \\frac{1}{T} \\int_T |x_1(t)-x_2(t)|^{2}~dt \n",
        "$$\n",
        "\n",
        "$$\\frac{1}{T} \\int_T |x_1(t)-x_2(t)|^{2}dt = \\frac{1}{T}\\left[\\int_T |x_1(t)|^2dt-2\\int_T x_1(t)x_2(t)dt +\\int_T|x_2(t)|^2dt\\right] $$\n",
        "\n",
        "\n",
        "$$\\boxed{\\frac{1}{T} \\int_T |x_1(t)-x_2(t)|^{2}dt = \\bar{P}_{x_1} -\\frac{2}{T}\\int_T x_1(t)x_2(t)dt + \\bar{P}_{x_2}}$$\n",
        "\n",
        "donde:\n",
        "\n",
        "$$\\bar{P}_{x_1}=\\frac{1}{T}\\int_T |x_1(t)|^2dt = \\frac{1}{T}\\int_0^T|\\cos(\\omega_o t)|^2dt = \\frac{1}{T}\\int_0^T\\left[\\frac{1}{2}+\\frac{1}{2}\\cos(2\\omega_ot)dt\\right] = \\frac{1}{2T}t\\Big|_0^T + \\frac{1}{4\\omega_oT}\\sin(2\\pi t/T)\\Big|_0^T = \\frac{T}{2T}+\\frac{1}{4\\omega_oT}[\\sin(2\\pi)-\\sin(0)]$$\n",
        "\n",
        "$$\\boxed{\\bar{P}_{x_1}=\\frac{1}{2}}$$\n",
        "\n",
        "$$\\bar{P}_{x_2}=\\frac{1}{T}\\int_T |x_2(t)|^2dt = \\frac{1}{T}\\left[\\int_0^{T/4}|1|^2dt + \\int_{T/4}^{3T/4}|-1|^2dt + \\int_{3T/4}^T |1|^2 dt\\right] = \\frac{1}{T}\\left[\\frac{T}{4}+\\left(\\frac{3T}{4}-\\frac{T}{4}\\right)+\\left(T-\\frac{3T}{4}\\right)\\right]$$\n",
        "\n",
        "$$\\bar{P}_{x_2}=\\frac{1}{T}\\left[\\frac{T}{4}+\\frac{T}{2}+\\frac{T}{4}\\right]=\\frac{1}{T}T$$\n",
        "\n",
        "$$\\boxed{\\bar{P}_{x_2}=1}$$\n",
        "\n",
        "$$-\\frac{2}{T}\\int_T x_1(t)x_2(t)dt = -\\frac{2}{T}\\left[\\int_0^{T/4}\\cos(\\omega_ot)dt-\\int_{T/4}^{3T/4}\\cos(\\omega_ot)dt + \\int_{3T/4}^T\\cos(\\omega_ot)dt\\right] =  -\\frac{2}{T}\\left[\\frac{1}{\\omega_o}\\sin(\\omega_ot)\\Big|_{0}^{T/4}-\\frac{1}{\\omega_o}\\sin(\\omega_ot)\\Big|_{T/4}^{3T/4}+\\frac{1}{\\omega_o}\\sin(\\omega_ot)\\Big|_{3T/4}^T\\right]$$\n",
        "\n",
        "$$-\\frac{2}{T}\\int_T x_1(t)x_2(t)dt = -\\frac{2}{T\\omega_o}\\left[\\sin(2\\pi T/4T)-\\sin(0)-\\sin(6\\pi T/4T) + \\sin(2\\pi T/4T) + \\sin(2\\pi T/T) - \\sin(6\\pi T/4T )\\right]$$\n",
        "\n",
        "\n",
        "$$-\\frac{2}{T}\\int_T x_1(t)x_2(t)dt = -\\frac{1}{\\pi} \\left[\\sin(\\pi/2)-\\sin(3\\pi/2) + \\sin(\\pi/2) +\\sin(2\\pi) - \\sin(3\\pi/2)\\right]$$\n",
        "\n",
        "$$\\boxed{-\\frac{2}{T}\\int_T x_1(t)x_2(t)dt = -\\frac{1}{\\pi}\\left[1 + 1 + 1 + 1\\right] = -\\frac{4}{\\pi}}$$\n",
        "\n",
        "Por consiguiente:\n",
        "\n",
        "$$\n",
        "d(x_1, x_2) = \\bar{P}_{x_1-x_2}=\\lim_{T \\to \\infty} \\frac{1}{T} \\int_T |x_1(t)-x_2(t)|^{2}~dt = \\lim_{T \\to \\infty} \\bar{P}_{x_1} -\\frac{2}{T}\\int_T x_1(t)x_2(t)dt + \\bar{P}_{x_2} = \\lim_{T \\to \\infty} \\frac{1}{2} -\\frac{4}{\\pi} + 1\n",
        "$$\n",
        "\n",
        "\n",
        "$$\\boxed{d(x_1, x_2) = \\frac{3}{2}-\\frac{4}{\\pi}}$$\n"
      ],
      "metadata": {
        "id": "RK5xE6PJyr02"
      }
    },
    {
      "cell_type": "markdown",
      "source": [
        "## Teórica 2:\n",
        "\n",
        "Cuál es la señal obtenida en tiempo discreto al utilizar un conversor análogo digital con frecuencia de muestreo de $5kHz$, aplicado a la señal continua $x(t) = 3 \\cos(1000\\pi t) +\n",
        "5 \\sin(2000\\pi t) + 10 \\cos(11000\\pi t)$?.  (Valor 1.5 puntos).\n",
        "\n",
        "\n",
        "\n"
      ],
      "metadata": {
        "id": "ljLnmEprzEdQ"
      }
    },
    {
      "cell_type": "markdown",
      "source": [
        "### Solución:\n",
        "\n",
        "Se reemplaza $t$ en continuo por la discretización $t=nT_s$, con $n\\in\\mathbb{Z}$:\n",
        "\n",
        "$x[t = nT_s] = 3\\cos[1000\\pi n T_s]+ 5\\sin[2000\\pi n T_s] + 10\\cos[11000\\pi n T_s],$\n",
        "\n",
        "teniendo en cuenta que:\n",
        "\n",
        "$T_s = \\frac{1}{F_s} = \\frac{1}{5000} [s].$\n",
        "\n",
        "Ahora: \n",
        "\n",
        "\n",
        "$x[n] = 3\\cos[1000\\pi n/5000]+ 5\\sin[2000\\pi n/5000] + 10\\cos[11000\\pi n / 5000]$\n",
        "\n",
        "$x[n] = 3\\cos[\\pi n/5] + 5\\sin[2\\pi n/5] + 10 \\cos[11\\pi n /5]$\n",
        "\n",
        "$\\Omega_3 = 11\\pi/5 > \\pi,$ frecuencia copia!\n",
        "\n",
        "Para estimar la frecuencia original:\n",
        "\n",
        "$\\boxed{\\hat{\\Omega}_3 = \\Omega_3 - 2\\pi = 11\\pi/5 -2\\pi = \\pi/5}$\n",
        "\n",
        "Reemplazando en la función discretizada:\n",
        "\n",
        "\n",
        "$x[n] = 3\\cos[\\pi n/5] + 5\\sin[2\\pi n/5] + 10 \\cos[\\pi n /5]$\n",
        "\n",
        "Tenemos que:\n",
        "\n",
        "$\\boxed{x[n] = 13\\cos[\\pi n /5]+ 5 \\sin[2\\pi n /5]}$\n",
        "\n",
        "\n"
      ],
      "metadata": {
        "id": "qgtiwsXTC070"
      }
    },
    {
      "cell_type": "markdown",
      "source": [
        "## Simulación 1: \n",
        "\n",
        "Implemente una simulación para encontrar la salida del sistema lineal e invariante al tiempo $\\mathcal{H}\\{\\cdot\\}$, con respuesta al escalón $h_\\epsilon[n]=\\{2,4,1,5,0,10\\}$, $n\\in\\mathbb{Z}$, ante la entrada análoga $x(t)=20(\\cos(t/3)+\\cos(t/4))$. Incluya los acondicionamientos necesarios de discretización y cuantización, asumiendo un microprocesador de 3 bits con entrada análoga de 0 a 10 v (Valor 2 puntos).\n",
        "\n",
        "## Solución:\n",
        "\n",
        "Revisando la señal $x(t)$, se tiene que:\n",
        "\n",
        "$\\frac{\\omega_1}{\\omega_2} =\\frac{1/3}{1/4} = \\frac{4}{3} \\in \\mathbb{Q}$; por ende $x(t)$ es cuasiperiódica, con período:\n",
        "\n",
        "$T_1 = \\frac{2\\pi}{\\omega_1} = \\frac{2\\pi}{1/3} = 6\\pi$\n",
        "\n",
        "$T_2 = \\frac{2\\pi}{\\omega_2} = \\frac{2\\pi}{1/4} = 8\\pi$\n",
        "\n",
        "$T = T_1 l = T_2 k$\n",
        "\n",
        "$T = 6\\pi l = 8\\pi l$\n",
        "\n",
        "con $k,l\\in \\mathbb{Z}.$ El $MCM(6,8)=24,$ así:\n",
        "\n",
        "$\\boxed{T = 24\\pi [s]}$ \n",
        "\n",
        "Además, se requiere aplicar cero pendiente:\n",
        "\n",
        "$\\hat{x}(t)=m x(t)+ b$, con:\n",
        "\n",
        "$m = \\frac{\\hat{x}_{max}(t)-\\hat{x}_{min}(t)}{x_{max}(t)-x_{min}(t)}$\n",
        "\n",
        "$b = \\hat{x}_{min}(t)-m x_{min}(t)$"
      ],
      "metadata": {
        "id": "XFQdN_K2zK_E"
      }
    },
    {
      "cell_type": "code",
      "execution_count": null,
      "metadata": {
        "id": "Z5CjaGvJys94"
      },
      "outputs": [],
      "source": [
        "#función cero y pendiente\n",
        "def my_ceropend(x,xhmax=10,xhmin=0):\n",
        "  #cálculo de pendiente y cero\n",
        "  m = (xhmax-xhmin)/(x.max()-x.min())\n",
        "  b = xhmin - m*x.min()\n",
        "  xh = m*x+b\n",
        "  return xh"
      ]
    },
    {
      "cell_type": "markdown",
      "source": [
        "Se implementan los códigos de discretización y cuantización:"
      ],
      "metadata": {
        "id": "zGoi9ZG2-3bg"
      }
    },
    {
      "cell_type": "code",
      "source": [
        "import numpy as np\n",
        "import matplotlib.pyplot as plt\n",
        "from scipy.spatial.distance import cdist\n",
        "\n",
        "T1 = 6*np.pi #perido señal 1\n",
        "T2 = 8*np.pi #perido señal 2\n",
        "F1 = 1/T1\n",
        "F2 = 1/T2\n",
        "T = 24*np.pi #perido cuasiperiódica\n",
        "Fs = 10*max(F1,F2) #frecuencia muestreo\n",
        "t = np.arange(0,3*T,1/Fs) #vector de tiempo, se muestran 3 periodos\n",
        "x = 20*(np.cos(t/3)+np.cos(t/4))\n",
        "xhmax = 10\n",
        "xhmin = 0\n",
        "xh = my_ceropend(x,xhmax, xhmin).reshape(-1,1)#aplicar cero y pendiente de 0 a 10\n",
        "#asegurar vector columna\n",
        "\n",
        "#cuantizar\n",
        "nbits = 3 #número bits\n",
        "Ne = 2**nbits #cantidad de estados\n",
        "res = (xhmax-xhmin)/Ne #resolución cuantización\n",
        "ve = np.arange(xhmin,xhmax,res).reshape(-1,1)#vector de estados\n",
        "#asegurar vector columna\n",
        "\n",
        "xq = np.zeros(len(xh)) #señal cuantizada\n",
        "for i in range(len(xh)): #recorrer señal cero y pendiente\n",
        "    xq[i] = ve[np.argmin(cdist(xh[i].reshape(-1,1),ve))] #se cálcula la distancia desde cada punto al vector de estados\n",
        "\n",
        "#gráficas de señales\n",
        "plt.plot(t,x,'r',label='$x(t)$')\n",
        "plt.xlabel('t [s]')\n",
        "plt.ylabel('Amplitud')\n",
        "plt.show()\n",
        "plt.plot(t,xh,'b',label='$\\hat{x}(t)$')\n",
        "plt.stem(t,xq,'y',label='$x_{q}[n]$')\n",
        "plt.xlabel('n [muestra]')\n",
        "plt.ylabel('Amplitud')\n",
        "plt.legend()\n",
        "plt.show()"
      ],
      "metadata": {
        "colab": {
          "base_uri": "https://localhost:8080/",
          "height": 579
        },
        "id": "cZCEF14w19a-",
        "outputId": "ed586d93-09c9-42e6-b9af-e2748ad93b82"
      },
      "execution_count": null,
      "outputs": [
        {
          "output_type": "display_data",
          "data": {
            "text/plain": [
              "<Figure size 432x288 with 1 Axes>"
            ],
            "image/png": "[encoded data removed]"
          },
          "metadata": {
            "needs_background": "light"
          }
        },
        {
          "output_type": "stream",
          "name": "stderr",
          "text": [
            "/usr/local/lib/python3.7/dist-packages/ipykernel_launcher.py:35: UserWarning: In Matplotlib 3.3 individual lines on a stem plot will be added as a LineCollection instead of individual lines. This significantly improves the performance of a stem plot. To remove this warning and switch to the new behaviour, set the \"use_line_collection\" keyword argument to True.\n"
          ]
        },
        {
          "output_type": "display_data",
          "data": {
            "text/plain": [
              "<Figure size 432x288 with 1 Axes>"
            ],
            "image/png": "[encoded data removed]"
          },
          "metadata": {
            "needs_background": "light"
          }
        }
      ]
    },
    {
      "cell_type": "markdown",
      "source": [
        "Teniendo la señal discretizada y cuantizada, se procede a encontrar la salida del SLIT aplicando la convolución entre la entrada digital y la respuesta impulso. Dado que tenemos la respuesta escalón, calculamos la respuesta impulso como:\n",
        "\n",
        "$h[n] = {\\rm{diff}}[h_\\epsilon[n]] = h_\\epsilon[n]-h_\\epsilon[n-1]$"
      ],
      "metadata": {
        "id": "-mYB5lNguEpv"
      }
    },
    {
      "cell_type": "code",
      "source": [
        "he = np.array([2,4,1,5,0,10]) #respuesta al escalón del slit\n",
        "h = np.diff(he)#respuesta al impulso del slit\n",
        "print(h)"
      ],
      "metadata": {
        "id": "kMvadmu574rx"
      },
      "execution_count": null,
      "outputs": []
    },
    {
      "cell_type": "markdown",
      "source": [
        "La salida del sistema se puede obtener entonces mediante la operación de convolución:\n",
        "\n",
        "$y[n]=x[n]*h[n]=\\sum_{k=-\\infty}^{\\infty}x[k]h[n-k]$"
      ],
      "metadata": {
        "id": "7UiCCm34u-Au"
      }
    },
    {
      "cell_type": "code",
      "source": [
        "y = np.convolve(xq,h,mode='same')#respuesta del slit -> se asegura tamaños iguales con mode=same\n",
        "#graficar señal\n",
        "plt.stem(t,y,'b',label='$y[n]$')\n",
        "plt.legend()\n",
        "plt.xlabel('n [muestra]')\n",
        "plt.ylabel('Amplitud')\n",
        "plt.show()"
      ],
      "metadata": {
        "colab": {
          "base_uri": "https://localhost:8080/",
          "height": 335
        },
        "id": "4KIOijObu2HH",
        "outputId": "5f63ed06-3f4b-4e4e-add4-ec3cea8856ec"
      },
      "execution_count": null,
      "outputs": [
        {
          "output_type": "stream",
          "name": "stderr",
          "text": [
            "/usr/local/lib/python3.7/dist-packages/ipykernel_launcher.py:3: UserWarning: In Matplotlib 3.3 individual lines on a stem plot will be added as a LineCollection instead of individual lines. This significantly improves the performance of a stem plot. To remove this warning and switch to the new behaviour, set the \"use_line_collection\" keyword argument to True.\n",
            "  This is separate from the ipykernel package so we can avoid doing imports until\n"
          ]
        },
        {
          "output_type": "display_data",
          "data": {
            "text/plain": [
              "<Figure size 432x288 with 1 Axes>"
            ],
            "image/png": "[encoded data removed]"
          },
          "metadata": {
            "needs_background": "light"
          }
        }
      ]
    },
    {
      "cell_type": "code",
      "source": [],
      "metadata": {
        "id": "mQQ50KbLxmI3"
      },
      "execution_count": null,
      "outputs": []
    }
  ]
}