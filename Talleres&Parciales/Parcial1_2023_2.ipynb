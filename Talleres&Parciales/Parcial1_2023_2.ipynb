{
  "nbformat": 4,
  "nbformat_minor": 0,
  "metadata": {
    "colab": {
      "private_outputs": true,
      "provenance": [],
      "authorship_tag": "ABX9TyO6hrI4yjE2I5M67ff6c0dv",
      "include_colab_link": true
    },
    "kernelspec": {
      "name": "python3",
      "display_name": "Python 3"
    },
    "language_info": {
      "name": "python"
    }
  },
  "cells": [
    {
      "cell_type": "markdown",
      "metadata": {
        "id": "view-in-github",
        "colab_type": "text"
      },
      "source": [
        "<a href=\"https://colab.research.google.com/github/amalvarezme/SenalesSistemas/blob/master/Talleres%26Parciales/Parcial1_2023_2.ipynb\" target=\"_parent\"><img src=\"https://colab.research.google.com/assets/colab-badge.svg\" alt=\"Open In Colab\"/></a>"
      ]
    },
    {
      "cell_type": "markdown",
      "source": [
        "# Solución Parcial 1 - Señales y Sistemas\n",
        "# 2023 - 2\n",
        "\n",
        "## Punto 1\n",
        "\n",
        "La distancia media entre dos señales periódicas $x_1(t)\\in\\mathbb{R}$ y $x_2(t)\\in\\mathbb{R}$, se puede expresar a partir de la potencia media de la diferencia entre ellas:\n",
        "\n",
        "\n",
        "$$\n",
        "d(x_1, x_2) = \\bar{P}_{x_1-x_2}=\\lim_{T \\to \\infty} \\frac{1}{T} \\int_T |x_1(t)-x_2(t)|^{2}~dt.\n",
        "$$\n",
        "\n",
        "Sea $x_1(t)$ y $x_2(t$) dos señales periódicas de periodo $T\\in\\mathbb{R}^+,$ como se muestra a continuación:\n",
        "\n",
        "$$\n",
        "x_1(t) = B\\sin(w_0t), ~~~ w_0 = \\frac{2\\pi}{T}$$\n",
        "\n",
        "$$x_2(t)= \\left\\{ \\begin{array}{lcc}\n",
        "             ~~~A &   si  & 0 \\leq t < \\frac{T}{4} \\\\\n",
        "             \\\\ -A &  si &  \\frac{T}{4} \\leq t < \\frac{3T}{4} \\\\\n",
        "             \\\\ ~~~A &  si  & \\frac{3T}{4} \\leq t < T\n",
        "             \\end{array}\n",
        "   \\right.\n",
        "$$\n",
        "con $A,B \\in \\mathbb{R}^+.$ Determine la distancia entre las dos señales.\n",
        "\n",
        "\n",
        "\n"
      ],
      "metadata": {
        "id": "whtIdLBeJ8NF"
      }
    },
    {
      "cell_type": "markdown",
      "source": [
        "# Solución\n",
        "\n",
        "Tenemos que:\n",
        "\n",
        "$\n",
        "d(x_1, x_2) = \\bar{P}_{x_1-x_2}=\\lim_{T \\to \\infty} \\frac{1}{T} \\int_T |x_1(t)-x_2(t)|^{2}~dt,\n",
        "$\n",
        "\n",
        "Ahora:\n",
        "\n",
        "$\n",
        "\\frac{1}{T} \\int|x_1(t)-x_2(t)|^{2}~dt = \\frac{1}{T} \\int\\langle x_1(t)-x_2(t), x_1(t)-x_2(t) \\rangle~dt = \\frac{1}{T}\\int \\langle x_1(t),x_1(t)\\rangle dt - \\frac{2}{T}\\int\\langle x_1(t),x_2(t)\\rangle dt +\\frac{1}{T}\\int \\langle x_2(t),x_2(t)\\rangle dt\n",
        "$\n",
        "\n",
        "$\n",
        "\\frac{1}{T} \\int|x_1(t)-x_2(t)|^{2}~dt = \\frac{1}{T}\\int |x_1(t)|^2 dt - \\frac{2}{T}\\int\\langle x_1(t),x_2(t)\\rangle dt +\\frac{1}{T}\\int |x_2(t)|^2 dt\n",
        "$\n",
        "\n",
        "$\n",
        "\\boxed{d(x_1, x_2) = \\bar{P}_{x_1-x_2}=\\lim_{T \\to \\infty} = \\frac{1}{T}\\int_T |x_1(t)|^2 dt - \\frac{2}{T}\\int_T\\langle x_1(t),x_2(t)\\rangle dt +\\frac{1}{T}\\int_T |x_2(t)|^2 dt}\n",
        "$\n",
        "\n"
      ],
      "metadata": {
        "id": "Ytx3otGeob67"
      }
    },
    {
      "cell_type": "markdown",
      "source": [
        "En este caso:\n",
        "\n",
        "$\\int_T |x_1(t)|^2 dt = \\int_T |B\\sin(\\omega_o t)|^2 dt = \\int_T B^2\\sin^2(\\omega_o t) dt = B^2\\left(\\int_T \\frac{1}{2}-\\frac{1}{2}\\cos(2\\omega_o t) dt\\right)$\n",
        "\n",
        "$\\int_T |x_1(t)|^2 dt = B^2\\left(\\int_T \\frac{1}{2}dt - \\int_T\\frac{1}{2}\\cos(2\\omega_o t) dt\\right) = \\frac{B^2}{2}\\left(t\\Big|_0^T - \\frac{1}{2\\omega_o}\\sin(2\\omega_ot)\\Big|_0^T\\right)$\n",
        "\n",
        "$\\int_T |x_1(t)|^2 dt = \\frac{B^2}{2}\\left(T - \\frac{1}{2\\omega_o}\\left(\\sin\\left(2\\cdot \\tfrac{2\\pi}{T} T\\right) - \\sin(0)\\right)\\right) = \\frac{B^2}{2}\\left(T - 0\\right)$\n",
        "\n",
        "$\\boxed{\\frac{1}{T}\\int_T |x_1(t)|^2 dt =\\frac{T B^2}{T 2} = \\frac{B^2}{2}}$\n",
        "\n",
        "\n",
        "$\\int_T |x_2(t)|^2 dt = \\int_0^{T/4} |A|^2 dt + \\int_{T/4}^{3T/4} |-A| = ^2 dt = \\int_{3T/4}^T |A|^2 dt$\n",
        "\n",
        "$\\int_T |x_2(t)|^2 dt = \\int_0^{T/4} A^2 dt + \\int_{T/4}^{3T/4} A^2dt  = \\int_{3T/4}^T A^2 dt = \\int_0^T A^2 dt$\n",
        "\n",
        "$\\int_T |x_2(t)|^2 dt = A^2t\\Big|_0^T = A^2(T-0)=A^2T$\n",
        "\n",
        "$\\boxed{\\frac{1}{T}\\int_T |x_2(t)|^2 dt =\\frac{A^2 T}{T} = A^2}$\n",
        "\n",
        "$\\int_T \\langle x_1(t),x_2(t)\\rangle = \\int_0^{T/4}AB\\sin(\\omega_o t)dt - \\int_{T/4}^{3T/4}AB\\sin(\\omega_o t)dt + \\int_{3T/4}^{T}AB\\sin(\\omega_o t)dt $\n",
        "\n",
        "\n",
        "$\\int_T \\langle x_1(t),x_2(t)\\rangle = \\frac{-AB}{\\omega_o}\\cos\\left(2\\pi\\tfrac{t}{T}\\right)\\Big|_0^{T/4} + \\frac{AB}{\\omega_o}\\cos\\left(2\\pi\\tfrac{t}{T}\\right)\\Big|_{T/4}^{3T/4} -\\frac{AB}{\\omega_o}\\cos\\left(2\\pi\\tfrac{t}{T}\\right)\\Big|_{3T/4}^T$\n",
        "\n",
        "$\\int_T \\langle x_1(t),x_2(t)\\rangle = \\frac{AB}{\\omega_o}\\left(\\cos(0) - \\cos\\left(\\frac{2\\pi T}{4 T}\\right)\n",
        " + \\cos\\left(\\frac{2\\cdot 3\\pi T}{4 T}\\right)-\\cos\\left(\\frac{2\\pi T}{4 T}\\right) - \\cos\\left(\\frac{2\\pi T}{T}\\right) + \\cos\\left(\\frac{2\\cdot 3\\pi T}{4 T}\\right)\\right)$\n",
        "\n",
        "\n",
        " $\\int_T \\langle x_1(t),x_2(t)\\rangle = \\frac{AB}{\\omega_o}\\left(\\cos(0) - \\cos(2\\pi) + \\cos\\left(\\frac{\\pi}{2}\\right)\n",
        " + \\cos\\left(\\frac{3\\pi}{2}\\right)-\\cos\\left(\\frac{\\pi}{2}\\right)  + \\cos\\left(\\frac{3\\pi}{2}\\right)\\right) = \\frac{AB}{\\omega_o}(1-1)$\n",
        "\n",
        "$\\boxed{\\frac{-2}{T}\\int_T \\langle x_1(t),x_2(t)\\rangle = 0}$\n",
        "\n",
        "Por consiguiente:\n",
        "\n",
        "$\n",
        "\\boxed{d(x_1, x_2) = \\bar{P}_{x_1-x_2}=\\lim_{T \\to \\infty} = \\frac{1}{T}\\int_T |x_1(t)|^2 dt - \\frac{2}{T}\\int_T\\langle x_1(t),x_2(t)\\rangle dt +\\frac{1}{T}\\int_T |x_2(t)|^2 dt = A^2 +\\frac{B^2}{2}}\n",
        "$\n"
      ],
      "metadata": {
        "id": "UGnK6xtvqzTR"
      }
    },
    {
      "cell_type": "code",
      "source": [
        "#comprobar con sympy\n",
        "import sympy as sym\n",
        "\n",
        "t, A, B, T = sym.symbols('t A B T', real=True)#definir variables simbólicas\n",
        "\n",
        "x1 = B*sym.sin(2*sym.pi*t/T) #señal x1 y x2\n",
        "\n",
        "x2 = A*(sym.Heaviside(t) - sym.Heaviside(t-T/4)) -  A*(sym.Heaviside(t-T/4) - sym.Heaviside(t-3*T/4)) +  A*(sym.Heaviside(t-3*T/4) - sym.Heaviside(t-T))\n",
        "\n",
        "#graficar señales con A, B y T predefinidos\n",
        "p1 = sym.plot(x1.subs({B:2,T:2}), (t, 0, 2), ylim=[-2.2, 2.2], ylabel=r'$x(t)$', xlabel = '$t$', show=False);\n",
        "p2 = sym.plot(x2.subs({A:1.5,T:2}), (t, 0, 2), ylim=[-2.2, 2.2], ylabel=r'$x(t)$',show=False);\n",
        "\n",
        "p1.extend(p2)#se extiende los gráficos sobre una misma figura\n",
        "p1.show()"
      ],
      "metadata": {
        "id": "HJnIZptHwQv_"
      },
      "execution_count": null,
      "outputs": []
    },
    {
      "cell_type": "code",
      "source": [
        "#integrando las tres partes principales con sympy\n",
        "P1 = (1/T)*sym.integrate(x1**2, (t, 0, T))\n",
        "P3 = (1/T)*sym.integrate(A**2, (t, 0, T))\n",
        "P2 = -(2/T)*(sym.integrate(x1*A, (t, 0, T/4))-sym.integrate(x1*A, (t, T/4,3*T/4))+sym.integrate(x1*A, (t, 3*T/4,T)))\n",
        "P_ = P1 + P2 + P3\n",
        "P_"
      ],
      "metadata": {
        "id": "6_VEI-JEyjT5"
      },
      "execution_count": null,
      "outputs": []
    },
    {
      "cell_type": "markdown",
      "source": [
        "## Punto 2\n",
        "\n",
        "Se tiene un microprocesador de 3 bits con entrada análoga de -5 a 5 [v]. Diseñe el sistema de acondicionamiento y digitalización para la señal: $x(t) = 7\\sin(4t - \\pi/2) - 2 \\cos(5 t) + 2\\cos(10 t)$. Presente las simulaciones y gráficas de los procedimientos más representativos en un cuaderno de Python, incluyendo al menos dos períodos de la señal estudiada.\n",
        "\n",
        "## Solución\n",
        "\n",
        "La señal $x(t)$ se puede reescribir como (con $\\sin(\\alpha\\pm\\beta) = \\sin(\\alpha)\\cos(\\beta)\\pm\\cos(\\alpha)\\sin(\\beta)$):\n",
        "\n",
        "$x(t) = 7\\sin(4t - \\pi/2) - 2 \\cos(5 t) + 2\\cos(10 t)$\n",
        "\n",
        "$x(t) = 7\\left(\\sin(4t)\\cos(\\pi/2)-\\cos(4t)\\sin(\\pi/2)\\right) - 2 \\cos(5 t) + 2\\cos(10 t)$\n",
        "\n",
        "$\\boxed{x(t) = -7\\cos(4t) - 2 \\cos(5 t) + 2\\cos(10 t)}$\n",
        "\n",
        "$\\boxed{x(t) = -7\\cos(\\omega_1t) - 2 \\cos(\\omega_2 t) + 2\\cos(\\omega_3 t)}$\n",
        "\n",
        "Teniendo en cuenta que:\n",
        "\n",
        "$\\omega_1 = 4 = 2\\pi T_1 \\to T_1 = \\frac{2\\pi}{\\omega_1} = \\frac{2\\pi}{4} [rad/s]$\n",
        "\n",
        "$\\boxed{T_1 = \\frac{\\pi}{2} [s]}$\n",
        "\n",
        "\n",
        "$\\omega_2 = 5 = 2\\pi T_2 \\to T_2 = \\frac{2\\pi}{\\omega_2} = \\frac{2\\pi}{5} [rad/s]$\n",
        "\n",
        "$\\boxed{T_2 = \\frac{2\\pi}{5}[s]}$\n",
        "\n",
        "$\\omega_3 = 10 = 2\\pi T_3 \\to T_3 = \\frac{2\\pi}{\\omega_3} = \\frac{2\\pi}{10} [rad/s]$\n",
        "\n",
        "$\\boxed{T_3 = \\frac{\\pi}{5} [s]}$\n",
        "\n",
        "Además, dado que:\n",
        "\n",
        "$\\frac{\\omega_1}{\\omega_2} = \\frac{4}{5} \\in \\mathbb{Q}$\n",
        "\n",
        "$\\frac{\\omega_1}{\\omega_3} = \\frac{4}{10} \\in \\mathbb{Q}$\n",
        "\n",
        "$\\frac{\\omega_2}{\\omega_3} = \\frac{5}{10} \\in \\mathbb{Q}$\n",
        "\n",
        "La señal $x(t)$ es cuasiperiódica, con período:\n",
        "\n",
        "\n",
        "$T = k T_1 = l T_2 = r T_3$ con $k,l,r \\in \\mathbb{Z}$\n",
        "\n",
        "$T = k \\frac{\\pi}{2} = l \\frac{2\\pi}{5} = r \\frac{\\pi}{5}$\n",
        "\n",
        "$\\frac{10}{\\pi}T = k\\frac{10}{\\pi}\\frac{\\pi}{2} = l\\frac{10}{\\pi}\\frac{2\\pi}{5} = r\\frac{10}{\\pi}\\frac{\\pi}{5}$\n",
        "\n",
        "$\\frac{10}{\\pi}T = k5 = l4 = r2$\n",
        "\n",
        "El $MCM(5,4,2) = 20,$ entonces:\n",
        "\n",
        "$\\frac{10}{\\pi}T = k5 = l4 = r2 = 20$\n",
        "\n",
        "$\\boxed{k=4;l=5;r=10}$\n",
        "\n",
        "$\\frac{10}{\\pi}T = 20 $\n",
        "\n",
        "$\\boxed{T=2\\pi}$\n",
        "\n",
        "Se genera la señal de interés, asegurando:\n",
        "\n",
        "$\\boxed{F_s \\geq 2\\max(F_1,F_2,F_3)}$\n",
        "\n",
        "con:\n",
        "\n",
        "$F_1 = \\frac{1}{T_1}; F_2 = \\frac{1}{T_2}; F_3 = \\frac{1}{T_3}$\n",
        "\n",
        "$\\boxed{F_1 = \\frac{2}{\\pi}; F_2 = \\frac{5}{2\\pi}; F_3 = \\frac{5}{\\pi} [Hz]}$\n",
        "\n",
        "En este, el sistema de discretización debe cumplir que:\n",
        "\n",
        "$\\boxed{Fs \\geq 2F_3}$"
      ],
      "metadata": {
        "id": "Sml9rFYNKW_Q"
      }
    },
    {
      "cell_type": "code",
      "execution_count": null,
      "metadata": {
        "id": "Nz-ii5juJujb"
      },
      "outputs": [],
      "source": [
        "import numpy as np\n",
        "import matplotlib.pyplot as plt\n",
        "#Definir parámetros de la simulación\n",
        "\n",
        "#Periodos de la señal\n",
        "T1 = np.pi/2\n",
        "T2 = 2*np.pi/5\n",
        "T3 = np.pi/5\n",
        "#Periodo señal cuasiperiodica\n",
        "T = 2*np.pi\n",
        "#Frecuencias\n",
        "F1 = 1/T1\n",
        "F2 = 1/T2\n",
        "F3 = 1/T3\n",
        "#Fs: frecuencia muestreo\n",
        "Fs = 5 * F3\n",
        "Ts = 1/Fs #periodo muestreo\n",
        "\n",
        "t = np.arange(0,2*T,Ts) #vector de tiempo que incluye dos periodos cuasiperiódica\n",
        "x = -7*np.cos(2*np.pi*F1*t) - 2*np.cos(2*np.pi*F2*t) + 2*np.cos(2*np.pi*F3*t)\n",
        "\n",
        "plt.plot(t,x)\n",
        "plt.xlabel('$t[s]$')\n",
        "plt.ylabel('$x(t)$')\n",
        "plt.title('$x(t)=7\\sin(4t - \\pi/2) - 2 \\cos(5 t) + 2\\cos(10 t)$')\n",
        "plt.show()"
      ]
    },
    {
      "cell_type": "markdown",
      "source": [
        "## Cero y Pendiente\n",
        "\n",
        "Se crea código tipo función bajo el ambiente def, para generar el cero y pendiente según los valores $y_{max}$ y $y_{min}$ definidos ($-5[v],5[v]$) por el usuario\n",
        "\n",
        "\n",
        "$ y[t_n] \\in [y_{min},y_{max}]$\n",
        "\n",
        "$y[t_n] = m x[t_n] + c$$\n",
        "\n",
        "$m = \\frac{y_{max}-y_{min}}{x_{max}-x_{min}}$\n",
        "\n",
        "$c = y[t_n] - m x[t_n]$\n",
        "\n"
      ],
      "metadata": {
        "id": "VXfJgeJ1Zi_v"
      }
    },
    {
      "cell_type": "code",
      "source": [
        "#cero y pendiente\n",
        "def my_ceropen(x,ymin = -5, ymax = 5): #en general se pueden definir valores por defecto\n",
        "  '''\n",
        "  Codigo base para simular proceso de cero y pendiente\n",
        "  Se ingresa arreglo de numpy y los valores min  y max despues de cero y pendiente\n",
        "  '''\n",
        "  xmax = max(x) # x.max()\n",
        "  xmin = min(x) # x.min()\n",
        "  m = (ymax - ymin)/(xmax - xmin)\n",
        "  c = ymin - m*xmin\n",
        "  y = m*x + c\n",
        "  return y"
      ],
      "metadata": {
        "id": "ochxLFhmV_aU"
      },
      "execution_count": null,
      "outputs": []
    },
    {
      "cell_type": "code",
      "source": [
        "#llamdo a cero y pendiente\n",
        "y =  my_ceropen(x,ymin = -5, ymax = 5)\n"
      ],
      "metadata": {
        "id": "WWDvFEouaAYI"
      },
      "execution_count": null,
      "outputs": []
    },
    {
      "cell_type": "markdown",
      "source": [
        "## Cuantización\n",
        "\n",
        "Se crea función para cuantizar y completar el proceso de digitalización"
      ],
      "metadata": {
        "id": "D9vt9sBeaLGh"
      }
    },
    {
      "cell_type": "code",
      "source": [
        "from scipy.spatial.distance import cdist #función para estimar distancia punto discretizado al vector de estados\n",
        "#función cuantización punto a punto\n",
        "def my_cuantizador(yn, vq) : #yn punto a #cuantizar, vq vector de estados\n",
        "  Ne = vq.shape[0] #tamaño vector de estados\n",
        "  dn = cdist(yn.reshape(-1,1),vq.reshape(-1,1))#distancia yn a vector estados, reshape(-1,1) asegura vectores columna para poder utilizar cdist\n",
        "  ind = np.argmin(dn) #posición distancia min\n",
        "  return vq[ind]"
      ],
      "metadata": {
        "id": "OfbKfLqcaGH_"
      },
      "execution_count": null,
      "outputs": []
    },
    {
      "cell_type": "code",
      "source": [
        "#número de bits y vector de cuantización\n",
        "nbits = 3\n",
        "rmin = -5\n",
        "rmax = 5\n",
        "ve = np.linspace(rmin,rmax,2**nbits) # (rmax-rmin)/(2^#bits - 1) -> si se quiere incluir rmin y rmax\n",
        "\n",
        "#recorrer vector cero y pendiente discretizado para cuantizar\n",
        "for i in range(y.shape[0]):\n",
        "   if i==0: #primera muestra\n",
        "     yq = my_cuantizador(y[i],ve)\n",
        "   else:\n",
        "     yq = np.append(yq,my_cuantizador(y[i],ve)) #apilar datos cuantizando si i>0"
      ],
      "metadata": {
        "id": "f3NKIrx1aeJ7"
      },
      "execution_count": null,
      "outputs": []
    },
    {
      "cell_type": "markdown",
      "source": [
        "# Graficar señales"
      ],
      "metadata": {
        "id": "P4fhgne6oJe7"
      }
    },
    {
      "cell_type": "code",
      "source": [
        "#graficar señales\n",
        "plt.plot(t,y,c='r', label='ycs')#cs continua\n",
        "plt.stem(t,y, label='ycs_dis')#cs discreta\n",
        "#estados de cuantización\n",
        "for v in ve:\n",
        "  plt.plot(t,v*np.ones(len(t)))\n",
        "# graficar señal Digital (discreta + cuantizada)\n",
        "\n",
        "plt.plot(t,yq,c='y',marker='o',label='ydig', linewidth=2)\n",
        "plt.legend()\n",
        "plt.grid()\n",
        "plt.xlabel('t')\n",
        "plt.ylabel('Amplitud')\n",
        "plt.show()"
      ],
      "metadata": {
        "id": "x7_GJSNaayil"
      },
      "execution_count": null,
      "outputs": []
    },
    {
      "cell_type": "code",
      "source": [],
      "metadata": {
        "id": "-v7cqK7bn4lR"
      },
      "execution_count": null,
      "outputs": []
    }
  ]
}