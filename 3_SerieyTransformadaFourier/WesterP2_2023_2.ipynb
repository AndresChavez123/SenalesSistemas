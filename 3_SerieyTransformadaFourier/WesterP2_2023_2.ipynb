{
  "nbformat": 4,
  "nbformat_minor": 0,
  "metadata": {
    "colab": {
      "private_outputs": true,
      "provenance": [],
      "authorship_tag": "ABX9TyMLY2G4X3sAGfMQNC3dH1P9",
      "include_colab_link": true
    },
    "kernelspec": {
      "name": "python3",
      "display_name": "Python 3"
    },
    "language_info": {
      "name": "python"
    }
  },
  "cells": [
    {
      "cell_type": "markdown",
      "metadata": {
        "id": "view-in-github",
        "colab_type": "text"
      },
      "source": [
        "<a href=\"https://colab.research.google.com/github/amalvarezme/SenalesSistemas/blob/master/3_SerieyTransformadaFourier/WesterP2_2023_2.ipynb\" target=\"_parent\"><img src=\"https://colab.research.google.com/assets/colab-badge.svg\" alt=\"Open In Colab\"/></a>"
      ]
    },
    {
      "cell_type": "markdown",
      "source": [
        "# Case Western Reserve Experiments\n",
        "\n",
        "\n",
        "Sea la base de datos para el monitoreo de condición (fallos) en rodamientos a partir del análisis de vibraciones descrita en [Case Western Reserve Experiments](https://engineering.case.edu/bearingdatacenter). Las señales fueron adquiridas para las siguientes condiciones (clases): i) Normal bearing (Nor), fault in the internal train (IR1), fault in the external train (IR2), and fault in the rolling element-ball (BE). Además, los fallos se generaron para tres niveles de severidad (profundidad): 0.007′′, 0.014′′, and 0.021′′ y tres velocidades de operación (1730, 1750, 1772, and 1797 [rpm]). Los datos fueron adquiridos a 12 kHz. Por consiguiente, se tienen los siguientes parámetros de estudio: $F_s=12k$ [Hz] cantidad de puntos en el tiempo $4096$ y cantidad de clases $C = 10$."
      ],
      "metadata": {
        "id": "RdP1id0o3Ry0"
      }
    },
    {
      "cell_type": "code",
      "execution_count": null,
      "metadata": {
        "id": "3lKHA47I1-UE"
      },
      "outputs": [],
      "source": [
        "#data downloaded for google drive\n",
        "FILEID = \"1IC11LrPCZIo_Am5eXP2p2tDAlrGTlPjn\"\n",
        "!wget --load-cookies /tmp/cookies.txt \"https://docs.google.com/uc?export=download&confirm=$(wget --quiet --save-cookies /tmp/cookies.txt --keep-session-cookies --no-check-certificate 'https://docs.google.com/uc?export=download&id='$FILEID -O- | sed -rn 's/.*confirm=([0-9A-Za-z_]+).*/\\1\\n/p')&id=\"$FILEID -O datos.zip && rm -rf /tmp/cookies.txt\n",
        "!unzip -o datos.zip\n",
        "!dir"
      ]
    },
    {
      "cell_type": "code",
      "source": [
        "#librerias\n",
        "import scipy.io as sio\n",
        "from sklearn.decomposition import PCA\n",
        "from sklearn.manifold import TSNE\n",
        "from sklearn.preprocessing import MinMaxScaler, StandardScaler\n",
        "import numpy as np\n",
        "import matplotlib.pyplot as plt\n",
        "from matplotlib.ticker import FormatStrFormatter\n",
        "import warnings\n",
        "from sklearn.metrics import pairwise_distances\n",
        "import matplotlib\n",
        "\n",
        "warnings.filterwarnings('ignore')\n",
        "\n",
        "#cargar datos\n",
        "path_ = 'CaractCE.mat'#Case Western Database\n",
        "dicX = sio.loadmat(path_)"
      ],
      "metadata": {
        "id": "FeQgT1n13EZI"
      },
      "execution_count": null,
      "outputs": []
    },
    {
      "cell_type": "code",
      "source": [
        "Xt = dicX['F'] #datos en el tiempo\n",
        "Fs = 12000 #frecuencia de muestreo\n",
        "Tl = Xt.shape[1]/Fs #tamaño del segmento\n",
        "print('Xt shape:',Xt.shape)\n",
        "print('tiempo [s]', Tl)\n",
        "\n",
        "Y = dicX['E']\n",
        "Ytrue = Y[:,2] #clases fallos en los rodamientos\n",
        "\n",
        "labels_ = ['NOR','IR1_0.007´´','IR1_0.014´´','IR1_0.021´´',\n",
        "           'IR2_0.007´´','IR2_0.014´´','IR2_0.021´´',\n",
        "           'BE_0.007´´','BE_0.014´´','BE_0.021´´'\n",
        "           ] #nombres de las clases\n",
        "\n",
        "#rpm etiquetas velocidad\n",
        "nrpm = 30\n",
        "Yrpm_b = np.r_[0*np.ones(nrpm),np.ones(nrpm),2*np.ones(nrpm),3*np.ones(nrpm)]\n",
        "Yrpm_b.shape\n",
        "Yrpm = Yrpm_b\n",
        "for i in range(len(labels_)-1):\n",
        "  Yrpm = np.r_[Yrpm,Yrpm_b]"
      ],
      "metadata": {
        "id": "1yN9Ox193IbR"
      },
      "execution_count": null,
      "outputs": []
    },
    {
      "cell_type": "code",
      "source": [
        "print(Ytrue.shape) #etique membresia de los datos 10 posibles valores\n",
        "print(np.unique(Ytrue))"
      ],
      "metadata": {
        "id": "HbuSRvEN3K0-"
      },
      "execution_count": null,
      "outputs": []
    },
    {
      "cell_type": "code",
      "source": [
        "print(Yrpm.shape) #etique velocidad de rodamientos - 4 posibles valores\n",
        "print(np.unique(Yrpm))"
      ],
      "metadata": {
        "id": "x3TqREMU3LHz"
      },
      "execution_count": null,
      "outputs": []
    },
    {
      "cell_type": "code",
      "source": [],
      "metadata": {
        "id": "r0VZN69T3auJ"
      },
      "execution_count": null,
      "outputs": []
    }
  ]
}