{
  "nbformat": 4,
  "nbformat_minor": 0,
  "metadata": {
    "colab": {
      "name": "ejemplo1SyS2021.ipynb",
      "provenance": [],
      "authorship_tag": "ABX9TyP6thFrQnPMxPb0SSsvJUdK",
      "include_colab_link": true
    },
    "kernelspec": {
      "name": "python3",
      "display_name": "Python 3"
    }
  },
  "cells": [
    {
      "cell_type": "markdown",
      "metadata": {
        "id": "view-in-github",
        "colab_type": "text"
      },
      "source": [
        "<a href=\"https://colab.research.google.com/github/amalvarezme/SenalesSistemas/blob/master/ejemplo1SyS2021.ipynb\" target=\"_parent\"><img src=\"https://colab.research.google.com/assets/colab-badge.svg\" alt=\"Open In Colab\"/></a>"
      ]
    },
    {
      "cell_type": "markdown",
      "metadata": {
        "id": "t2pmqZ1sSALd"
      },
      "source": [
        "# Ejemplo 1 programación clase señales y sistemas marzo 2\r\n",
        "\r\n",
        "Librería numpy (señales digitales (discretas))\r\n",
        "\r\n",
        "Librería sympy (emular señales continuas)"
      ]
    },
    {
      "cell_type": "code",
      "metadata": {
        "colab": {
          "base_uri": "https://localhost:8080/"
        },
        "id": "US87snjyRzXO",
        "outputId": "26de9e02-b628-43be-bad0-86f2a400759a"
      },
      "source": [
        "import numpy as np # importar libreria numpy\r\n",
        "x = 30\r\n",
        "y = 36.5\r\n",
        "\r\n",
        "type(y)"
      ],
      "execution_count": 11,
      "outputs": [
        {
          "output_type": "execute_result",
          "data": {
            "text/plain": [
              "float"
            ]
          },
          "metadata": {
            "tags": []
          },
          "execution_count": 11
        }
      ]
    },
    {
      "cell_type": "markdown",
      "metadata": {
        "id": "opLxJCCATLiT"
      },
      "source": [
        "# Arreglo de datos en numpy\r\n",
        "\r\n",
        "- Señales en continuo\r\n",
        "\r\n",
        "  $x(t) \\in \\mathbb{R}, \\mathbb{C}$\r\n",
        "\r\n",
        "  $t \\in \\mathbb{R}$\r\n",
        "\r\n",
        "- Señales discretas\r\n",
        "\r\n",
        "  $x[t_k] \\in \\mathbb{R}, \\mathbb{C}$  \r\n",
        "\r\n",
        "  $t \\in \\{t_0,t_1,\\dots,t_{K-1}\\}$; $K \\in \\mathbb{N}$ muestras\r\n",
        "\r\n",
        "- Señales digitales\r\n",
        "\r\n",
        "  $x[t_k] \\in \\{x_0,x_1,\\dots,x_{P-1}\\};$ $P\\in \\mathbb{N}$ estados según cantidad de bits del sistema de proceso \r\n",
        "\r\n",
        "  $t \\in \\{t_0,t_1,\\dots,t_{K-1}\\}$; $K \\in \\mathbb{N}$ muestras"
      ]
    },
    {
      "cell_type": "code",
      "metadata": {
        "colab": {
          "base_uri": "https://localhost:8080/"
        },
        "id": "_KJR2CT9St31",
        "outputId": "0a66b6bb-240c-48cf-b7a6-18abc5852bb4"
      },
      "source": [
        "xv = np.array([0,-2.5,10])\r\n",
        "xv"
      ],
      "execution_count": 12,
      "outputs": [
        {
          "output_type": "execute_result",
          "data": {
            "text/plain": [
              "array([ 0. , -2.5, 10. ])"
            ]
          },
          "metadata": {
            "tags": []
          },
          "execution_count": 12
        }
      ]
    },
    {
      "cell_type": "markdown",
      "metadata": {
        "id": "O59ypEVJYA7I"
      },
      "source": [
        "# Listas vs numpy array"
      ]
    },
    {
      "cell_type": "code",
      "metadata": {
        "colab": {
          "base_uri": "https://localhost:8080/"
        },
        "id": "rE08MvyIWHYQ",
        "outputId": "a6adefc8-d147-484b-8391-dd9504df4f00"
      },
      "source": [
        "xl = [0,-2,0.5] # no es señal digital -> lista de numeros\r\n",
        "xl"
      ],
      "execution_count": 13,
      "outputs": [
        {
          "output_type": "execute_result",
          "data": {
            "text/plain": [
              "[0, -2, 0.5]"
            ]
          },
          "metadata": {
            "tags": []
          },
          "execution_count": 13
        }
      ]
    },
    {
      "cell_type": "code",
      "metadata": {
        "colab": {
          "base_uri": "https://localhost:8080/"
        },
        "id": "tyZsVf7OYS5-",
        "outputId": "bd7c7d6e-1dae-47d6-b528-234849ce3f1d"
      },
      "source": [
        "xl = ['andres marinoqekgk',0.5, 2]\r\n",
        "xl"
      ],
      "execution_count": 14,
      "outputs": [
        {
          "output_type": "execute_result",
          "data": {
            "text/plain": [
              "['andres marinoqekgk', 0.5, 2]"
            ]
          },
          "metadata": {
            "tags": []
          },
          "execution_count": 14
        }
      ]
    },
    {
      "cell_type": "markdown",
      "metadata": {
        "id": "vBsDHcmiZvGi"
      },
      "source": [
        "# Tamaños, indexación y graficar numpy array"
      ]
    },
    {
      "cell_type": "code",
      "metadata": {
        "colab": {
          "base_uri": "https://localhost:8080/"
        },
        "id": "ozIrNEEeYfep",
        "outputId": "b3676df0-0090-4ac1-8fb0-83b42a0c2923"
      },
      "source": [
        "xv"
      ],
      "execution_count": 15,
      "outputs": [
        {
          "output_type": "execute_result",
          "data": {
            "text/plain": [
              "array([ 0. , -2.5, 10. ])"
            ]
          },
          "metadata": {
            "tags": []
          },
          "execution_count": 15
        }
      ]
    },
    {
      "cell_type": "code",
      "metadata": {
        "colab": {
          "base_uri": "https://localhost:8080/"
        },
        "id": "8btm8xBUaLub",
        "outputId": "f9d7cb5d-0371-47f6-8818-f20fba3c6fd9"
      },
      "source": [
        "xv.shape # vector con 3 elementos"
      ],
      "execution_count": 16,
      "outputs": [
        {
          "output_type": "execute_result",
          "data": {
            "text/plain": [
              "(3,)"
            ]
          },
          "metadata": {
            "tags": []
          },
          "execution_count": 16
        }
      ]
    },
    {
      "cell_type": "code",
      "metadata": {
        "colab": {
          "base_uri": "https://localhost:8080/"
        },
        "id": "f0nctnPlb93K",
        "outputId": "7785faf9-b3a0-4575-96e5-ddfcedc85a26"
      },
      "source": [
        "xm = np.array([[0,-2.5,10],[6,47,70],[8,10.2,-698]])\r\n",
        "xm"
      ],
      "execution_count": 19,
      "outputs": [
        {
          "output_type": "execute_result",
          "data": {
            "text/plain": [
              "array([[   0. ,   -2.5,   10. ],\n",
              "       [   6. ,   47. ,   70. ],\n",
              "       [   8. ,   10.2, -698. ]])"
            ]
          },
          "metadata": {
            "tags": []
          },
          "execution_count": 19
        }
      ]
    },
    {
      "cell_type": "code",
      "metadata": {
        "colab": {
          "base_uri": "https://localhost:8080/"
        },
        "id": "kTB4wdKtcRgr",
        "outputId": "06ffb026-f1c9-4c96-8975-8986a321897b"
      },
      "source": [
        "xm.shape"
      ],
      "execution_count": 22,
      "outputs": [
        {
          "output_type": "execute_result",
          "data": {
            "text/plain": [
              "(3, 3)"
            ]
          },
          "metadata": {
            "tags": []
          },
          "execution_count": 22
        }
      ]
    },
    {
      "cell_type": "markdown",
      "metadata": {
        "id": "ukUay7mOct5q"
      },
      "source": [
        "# En python se indexa desde 0"
      ]
    },
    {
      "cell_type": "code",
      "metadata": {
        "colab": {
          "base_uri": "https://localhost:8080/"
        },
        "id": "UnagirzXeKcP",
        "outputId": "776a4e64-3045-47a2-8253-69d5ceac3f05"
      },
      "source": [
        "xv = np.array([-6,5,4.2,3,8,50,16])\r\n",
        "\r\n",
        "print(xv,xv.shape)\r\n"
      ],
      "execution_count": 36,
      "outputs": [
        {
          "output_type": "stream",
          "text": [
            "[-6.   5.   4.2  3.   8.  50.  16. ] (7,)\n"
          ],
          "name": "stdout"
        }
      ]
    },
    {
      "cell_type": "markdown",
      "metadata": {
        "id": "mpXNvhqrew-i"
      },
      "source": [
        "# python por rangos de indexación no incluye el último elemento\r\n",
        "\r\n",
        "x[t_i,t_f)"
      ]
    },
    {
      "cell_type": "code",
      "metadata": {
        "colab": {
          "base_uri": "https://localhost:8080/"
        },
        "id": "W6f019owchUo",
        "outputId": "a9ee8110-e020-492b-a2c1-c881bd8c4fcd"
      },
      "source": [
        "xv[1:5] # x[t_0]"
      ],
      "execution_count": 34,
      "outputs": [
        {
          "output_type": "execute_result",
          "data": {
            "text/plain": [
              "array([5. , 4.2, 3. , 8. ])"
            ]
          },
          "metadata": {
            "tags": []
          },
          "execution_count": 34
        }
      ]
    },
    {
      "cell_type": "code",
      "metadata": {
        "colab": {
          "base_uri": "https://localhost:8080/"
        },
        "id": "Oj-ACwsSd44Z",
        "outputId": "1a83d02b-dd39-4758-8018-a7e9a899b44d"
      },
      "source": [
        "# el segundo elemento hasta el ultimo\r\n",
        "\r\n",
        "xv[1:]"
      ],
      "execution_count": 40,
      "outputs": [
        {
          "output_type": "execute_result",
          "data": {
            "text/plain": [
              "array([ 5. ,  4.2,  3. ,  8. , 50. , 16. ])"
            ]
          },
          "metadata": {
            "tags": []
          },
          "execution_count": 40
        }
      ]
    },
    {
      "cell_type": "code",
      "metadata": {
        "colab": {
          "base_uri": "https://localhost:8080/"
        },
        "id": "x4rDjGH9fikT",
        "outputId": "87dfa229-d163-4f03-98be-32ee39e9c641"
      },
      "source": [
        "xv[:3]"
      ],
      "execution_count": 42,
      "outputs": [
        {
          "output_type": "execute_result",
          "data": {
            "text/plain": [
              "array([-6. ,  5. ,  4.2])"
            ]
          },
          "metadata": {
            "tags": []
          },
          "execution_count": 42
        }
      ]
    },
    {
      "cell_type": "code",
      "metadata": {
        "colab": {
          "base_uri": "https://localhost:8080/"
        },
        "id": "FNdwQZHvfwKo",
        "outputId": "be950433-e717-404b-9fd0-c69bb17de6fb"
      },
      "source": [
        "print(xm)"
      ],
      "execution_count": 43,
      "outputs": [
        {
          "output_type": "stream",
          "text": [
            "[[   0.    -2.5   10. ]\n",
            " [   6.    47.    70. ]\n",
            " [   8.    10.2 -698. ]]\n"
          ],
          "name": "stdout"
        }
      ]
    },
    {
      "cell_type": "code",
      "metadata": {
        "colab": {
          "base_uri": "https://localhost:8080/"
        },
        "id": "62ny4ZlRf9cq",
        "outputId": "c45f1390-d9f5-4d2b-de3a-bc31a5abcc97"
      },
      "source": [
        "xm[0:2,:2]"
      ],
      "execution_count": 55,
      "outputs": [
        {
          "output_type": "execute_result",
          "data": {
            "text/plain": [
              "array([[ 0. , -2.5],\n",
              "       [ 6. , 47. ]])"
            ]
          },
          "metadata": {
            "tags": []
          },
          "execution_count": 55
        }
      ]
    },
    {
      "cell_type": "code",
      "metadata": {
        "colab": {
          "base_uri": "https://localhost:8080/"
        },
        "id": "5pPPj3S6gIR2",
        "outputId": "6e9252c8-3769-4996-d98d-8e74f81e8a5a"
      },
      "source": [
        "xm[0:2,0]"
      ],
      "execution_count": 57,
      "outputs": [
        {
          "output_type": "execute_result",
          "data": {
            "text/plain": [
              "array([0., 6.])"
            ]
          },
          "metadata": {
            "tags": []
          },
          "execution_count": 57
        }
      ]
    },
    {
      "cell_type": "code",
      "metadata": {
        "colab": {
          "base_uri": "https://localhost:8080/"
        },
        "id": "vfJ5mxXDhurG",
        "outputId": "e89c9376-4924-488f-ab41-12affdb0c212"
      },
      "source": [
        "xm[0,1:]"
      ],
      "execution_count": 58,
      "outputs": [
        {
          "output_type": "execute_result",
          "data": {
            "text/plain": [
              "array([-2.5, 10. ])"
            ]
          },
          "metadata": {
            "tags": []
          },
          "execution_count": 58
        }
      ]
    },
    {
      "cell_type": "code",
      "metadata": {
        "colab": {
          "base_uri": "https://localhost:8080/"
        },
        "id": "EWX_gP3rh9Y3",
        "outputId": "ef32b191-380b-4326-ec1a-925226b0ecc8"
      },
      "source": [
        "np.diag(xm)"
      ],
      "execution_count": 59,
      "outputs": [
        {
          "output_type": "execute_result",
          "data": {
            "text/plain": [
              "array([   0.,   47., -698.])"
            ]
          },
          "metadata": {
            "tags": []
          },
          "execution_count": 59
        }
      ]
    },
    {
      "cell_type": "markdown",
      "metadata": {
        "id": "3fg6DJ5ViZBI"
      },
      "source": [
        "# Simular cero y pendiente  para acondicionamiento de señales"
      ]
    },
    {
      "cell_type": "code",
      "metadata": {
        "colab": {
          "base_uri": "https://localhost:8080/"
        },
        "id": "QrjarvjViPOB",
        "outputId": "36878730-70ae-463d-ed58-ad60b69ce354"
      },
      "source": [
        "# crear vector tiempo por rango y por numero de muestras\r\n",
        "K = 20 # numero de muestras\r\n",
        "ti = -15 # tiempo incial referencia [s]\r\n",
        "tf = 10 # tieimpo final  [s]\r\n",
        "# vector de tiempo equiespacioado\r\n",
        "tv = np.linspace(start=ti,stop=tf,num=K)\r\n",
        "print(tv)\r\n",
        "print(tv.shape)\r\n",
        "# tiempo muestreo?\r\n",
        "\r\n",
        "Ts = (tf - ti)/K\r\n",
        "print(Ts)"
      ],
      "execution_count": 88,
      "outputs": [
        {
          "output_type": "stream",
          "text": [
            "[-15.         -13.68421053 -12.36842105 -11.05263158  -9.73684211\n",
            "  -8.42105263  -7.10526316  -5.78947368  -4.47368421  -3.15789474\n",
            "  -1.84210526  -0.52631579   0.78947368   2.10526316   3.42105263\n",
            "   4.73684211   6.05263158   7.36842105   8.68421053  10.        ]\n",
            "(20,)\n",
            "1.25\n"
          ],
          "name": "stdout"
        }
      ]
    },
    {
      "cell_type": "markdown",
      "metadata": {
        "id": "BDLYDuPdkyZE"
      },
      "source": [
        "$x(t) = a t^2 + b;$ \r\n",
        "\r\n",
        "$\\forall t \\in [t_i,t_f]$\r\n",
        "\r\n",
        "$x[t_k] = a t_k^2 + b$\r\n",
        "\r\n",
        "\r\n",
        "\r\n"
      ]
    },
    {
      "cell_type": "code",
      "metadata": {
        "colab": {
          "base_uri": "https://localhost:8080/"
        },
        "id": "4LzvHXKeiwwE",
        "outputId": "97df5b94-1464-4979-9cb7-fee64bbbae0e"
      },
      "source": [
        "#parametros parabola\r\n",
        "a = 4  \r\n",
        "b = -3\r\n",
        "xv = a*(tv**2) + b # creamos parabola en tiempo discreto\r\n",
        "print(xv)\r\n",
        "print(xv.shape)"
      ],
      "execution_count": 89,
      "outputs": [
        {
          "output_type": "stream",
          "text": [
            "[ 8.97000000e+02  7.46030471e+02  6.08911357e+02  4.85642659e+02\n",
            "  3.76224377e+02  2.80656510e+02  1.98939058e+02  1.31072022e+02\n",
            "  7.70554017e+01  3.68891967e+01  1.05734072e+01 -1.89196676e+00\n",
            " -5.06925208e-01  1.47285319e+01  4.38144044e+01  8.67506925e+01\n",
            "  1.43537396e+02  2.14174515e+02  2.98662050e+02  3.97000000e+02]\n",
            "(20,)\n"
          ],
          "name": "stdout"
        }
      ]
    },
    {
      "cell_type": "code",
      "metadata": {
        "colab": {
          "base_uri": "https://localhost:8080/",
          "height": 296
        },
        "id": "CikgadYnljWq",
        "outputId": "7ff276e2-8da1-4ae5-9c8e-78cc6e337b71"
      },
      "source": [
        "import matplotlib.pyplot as plt\r\n",
        "\r\n",
        "plt.plot(tv,xv,'r.')\r\n",
        "plt.xlabel('tiempo [s]')\r\n",
        "plt.ylabel('$x[t_k]$')"
      ],
      "execution_count": 92,
      "outputs": [
        {
          "output_type": "execute_result",
          "data": {
            "text/plain": [
              "Text(0, 0.5, '$x[t_k]$')"
            ]
          },
          "metadata": {
            "tags": []
          },
          "execution_count": 92
        },
        {
          "output_type": "display_data",
          "data": {
            "image/png": "[encoded data removed]",
            "text/plain": [
              "<Figure size 432x288 with 1 Axes>"
            ]
          },
          "metadata": {
            "tags": [],
            "needs_background": "light"
          }
        }
      ]
    },
    {
      "cell_type": "code",
      "metadata": {
        "id": "ozcRD-a1mlcf"
      },
      "source": [
        ""
      ],
      "execution_count": null,
      "outputs": []
    }
  ]
}