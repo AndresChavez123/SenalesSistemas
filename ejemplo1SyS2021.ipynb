{
  "nbformat": 4,
  "nbformat_minor": 0,
  "metadata": {
    "colab": {
      "name": "ejemplo1SyS2021.ipynb",
      "provenance": [],
      "authorship_tag": "ABX9TyN6M3ILn3gFHPQtQwaC/sb8",
      "include_colab_link": true
    },
    "kernelspec": {
      "name": "python3",
      "display_name": "Python 3"
    }
  },
  "cells": [
    {
      "cell_type": "markdown",
      "metadata": {
        "id": "view-in-github",
        "colab_type": "text"
      },
      "source": [
        "<a href=\"https://colab.research.google.com/github/amalvarezme/SenalesSistemas/blob/master/ejemplo1SyS2021.ipynb\" target=\"_parent\"><img src=\"https://colab.research.google.com/assets/colab-badge.svg\" alt=\"Open In Colab\"/></a>"
      ]
    },
    {
      "cell_type": "markdown",
      "metadata": {
        "id": "t2pmqZ1sSALd"
      },
      "source": [
        "# Ejemplo 1 programación clase señales y sistemas marzo 2\r\n",
        "\r\n",
        "Librería numpy (señales digitales (discretas))\r\n",
        "\r\n",
        "Librería sympy (emular señales continuas)"
      ]
    },
    {
      "cell_type": "code",
      "metadata": {
        "colab": {
          "base_uri": "https://localhost:8080/"
        },
        "id": "US87snjyRzXO",
        "outputId": "c4bbaf45-6041-4244-d30b-3a0a61ef19da"
      },
      "source": [
        "import numpy as np # importar libreria numpy\r\n",
        "x = 30\r\n",
        "y = 36.5\r\n",
        "\r\n",
        "type(y)"
      ],
      "execution_count": 23,
      "outputs": [
        {
          "output_type": "execute_result",
          "data": {
            "text/plain": [
              "float"
            ]
          },
          "metadata": {
            "tags": []
          },
          "execution_count": 23
        }
      ]
    },
    {
      "cell_type": "markdown",
      "metadata": {
        "id": "opLxJCCATLiT"
      },
      "source": [
        "# Arreglo de datos en numpy\r\n",
        "\r\n",
        "- Señales en continuo\r\n",
        "\r\n",
        "  $x(t) \\in \\mathbb{R}, \\mathbb{C}$\r\n",
        "\r\n",
        "  $t \\in \\mathbb{R}$\r\n",
        "\r\n",
        "- Señales discretas\r\n",
        "\r\n",
        "  $x[t_k] \\in \\mathbb{R}, \\mathbb{C}$  \r\n",
        "\r\n",
        "  $t \\in \\{t_0,t_1,\\dots,t_{K-1}\\}$; $K \\in \\mathbb{N}$ muestras\r\n",
        "\r\n",
        "- Señales digitales\r\n",
        "\r\n",
        "  $x[t_k] \\in \\{x_0,x_1,\\dots,x_{P-1}\\};$ $P\\in \\mathbb{N}$ estados según cantidad de bits del sistema de proceso \r\n",
        "\r\n",
        "  $t \\in \\{t_0,t_1,\\dots,t_{K-1}\\}$; $K \\in \\mathbb{N}$ muestras"
      ]
    },
    {
      "cell_type": "code",
      "metadata": {
        "colab": {
          "base_uri": "https://localhost:8080/"
        },
        "id": "_KJR2CT9St31",
        "outputId": "c92abc47-d084-4503-cb88-46dd6cdb364f"
      },
      "source": [
        "xv = np.array([0,-2.5,10])\r\n",
        "xv"
      ],
      "execution_count": 24,
      "outputs": [
        {
          "output_type": "execute_result",
          "data": {
            "text/plain": [
              "array([ 0. , -2.5, 10. ])"
            ]
          },
          "metadata": {
            "tags": []
          },
          "execution_count": 24
        }
      ]
    },
    {
      "cell_type": "markdown",
      "metadata": {
        "id": "O59ypEVJYA7I"
      },
      "source": [
        "# Listas vs numpy array"
      ]
    },
    {
      "cell_type": "code",
      "metadata": {
        "colab": {
          "base_uri": "https://localhost:8080/"
        },
        "id": "rE08MvyIWHYQ",
        "outputId": "39f257d5-5587-4b1d-d0e7-487c937822ce"
      },
      "source": [
        "xl = [0,-2,0.5] # no es señal digital -> lista de numeros\r\n",
        "xl"
      ],
      "execution_count": 25,
      "outputs": [
        {
          "output_type": "execute_result",
          "data": {
            "text/plain": [
              "[0, -2, 0.5]"
            ]
          },
          "metadata": {
            "tags": []
          },
          "execution_count": 25
        }
      ]
    },
    {
      "cell_type": "code",
      "metadata": {
        "colab": {
          "base_uri": "https://localhost:8080/"
        },
        "id": "tyZsVf7OYS5-",
        "outputId": "e2a4f5e2-5f61-411c-8457-9a63d3168627"
      },
      "source": [
        "xl = ['andres marinoqekgk',0.5, 2]\r\n",
        "xl"
      ],
      "execution_count": 26,
      "outputs": [
        {
          "output_type": "execute_result",
          "data": {
            "text/plain": [
              "['andres marinoqekgk', 0.5, 2]"
            ]
          },
          "metadata": {
            "tags": []
          },
          "execution_count": 26
        }
      ]
    },
    {
      "cell_type": "markdown",
      "metadata": {
        "id": "vBsDHcmiZvGi"
      },
      "source": [
        "# Tamaños, indexación y graficar numpy array"
      ]
    },
    {
      "cell_type": "code",
      "metadata": {
        "colab": {
          "base_uri": "https://localhost:8080/"
        },
        "id": "ozIrNEEeYfep",
        "outputId": "514c7310-2c5b-4f21-d74b-48aba351858e"
      },
      "source": [
        "xv"
      ],
      "execution_count": 27,
      "outputs": [
        {
          "output_type": "execute_result",
          "data": {
            "text/plain": [
              "array([ 0. , -2.5, 10. ])"
            ]
          },
          "metadata": {
            "tags": []
          },
          "execution_count": 27
        }
      ]
    },
    {
      "cell_type": "code",
      "metadata": {
        "colab": {
          "base_uri": "https://localhost:8080/"
        },
        "id": "8btm8xBUaLub",
        "outputId": "8b813b10-4914-473d-a02e-b6d6c602377f"
      },
      "source": [
        "xv.shape # vector con 3 elementos"
      ],
      "execution_count": 28,
      "outputs": [
        {
          "output_type": "execute_result",
          "data": {
            "text/plain": [
              "(3,)"
            ]
          },
          "metadata": {
            "tags": []
          },
          "execution_count": 28
        }
      ]
    },
    {
      "cell_type": "code",
      "metadata": {
        "colab": {
          "base_uri": "https://localhost:8080/"
        },
        "id": "f0nctnPlb93K",
        "outputId": "adfaf42f-775a-4b73-be23-8c88075cf2cc"
      },
      "source": [
        "xm = np.array([[0,-2.5,10],[6,47,70],[8,10.2,-698]])\r\n",
        "xm"
      ],
      "execution_count": 29,
      "outputs": [
        {
          "output_type": "execute_result",
          "data": {
            "text/plain": [
              "array([[   0. ,   -2.5,   10. ],\n",
              "       [   6. ,   47. ,   70. ],\n",
              "       [   8. ,   10.2, -698. ]])"
            ]
          },
          "metadata": {
            "tags": []
          },
          "execution_count": 29
        }
      ]
    },
    {
      "cell_type": "code",
      "metadata": {
        "colab": {
          "base_uri": "https://localhost:8080/"
        },
        "id": "kTB4wdKtcRgr",
        "outputId": "8b805d17-2aa7-412c-f43f-c19e50260487"
      },
      "source": [
        "xm.shape"
      ],
      "execution_count": 30,
      "outputs": [
        {
          "output_type": "execute_result",
          "data": {
            "text/plain": [
              "(3, 3)"
            ]
          },
          "metadata": {
            "tags": []
          },
          "execution_count": 30
        }
      ]
    },
    {
      "cell_type": "markdown",
      "metadata": {
        "id": "ukUay7mOct5q"
      },
      "source": [
        "# En python se indexa desde 0"
      ]
    },
    {
      "cell_type": "code",
      "metadata": {
        "colab": {
          "base_uri": "https://localhost:8080/"
        },
        "id": "UnagirzXeKcP",
        "outputId": "bd7492d5-a2cc-47bc-90ca-e83e20507e65"
      },
      "source": [
        "xv = np.array([-6,5,4.2,3,8,50,16])\r\n",
        "\r\n",
        "print(xv,xv.shape)\r\n"
      ],
      "execution_count": 31,
      "outputs": [
        {
          "output_type": "stream",
          "text": [
            "[-6.   5.   4.2  3.   8.  50.  16. ] (7,)\n"
          ],
          "name": "stdout"
        }
      ]
    },
    {
      "cell_type": "markdown",
      "metadata": {
        "id": "mpXNvhqrew-i"
      },
      "source": [
        "# python por rangos de indexación no incluye el último elemento\r\n",
        "\r\n",
        "x[t_i,t_f)"
      ]
    },
    {
      "cell_type": "code",
      "metadata": {
        "colab": {
          "base_uri": "https://localhost:8080/"
        },
        "id": "W6f019owchUo",
        "outputId": "1d54d900-5b78-4f37-e5cb-f8accc968265"
      },
      "source": [
        "xv[1:5] # x[t_0]"
      ],
      "execution_count": 32,
      "outputs": [
        {
          "output_type": "execute_result",
          "data": {
            "text/plain": [
              "array([5. , 4.2, 3. , 8. ])"
            ]
          },
          "metadata": {
            "tags": []
          },
          "execution_count": 32
        }
      ]
    },
    {
      "cell_type": "code",
      "metadata": {
        "colab": {
          "base_uri": "https://localhost:8080/"
        },
        "id": "Oj-ACwsSd44Z",
        "outputId": "6ef39f10-ef75-4b21-93ed-63d243107479"
      },
      "source": [
        "# el segundo elemento hasta el ultimo\r\n",
        "\r\n",
        "xv[1:]"
      ],
      "execution_count": 33,
      "outputs": [
        {
          "output_type": "execute_result",
          "data": {
            "text/plain": [
              "array([ 5. ,  4.2,  3. ,  8. , 50. , 16. ])"
            ]
          },
          "metadata": {
            "tags": []
          },
          "execution_count": 33
        }
      ]
    },
    {
      "cell_type": "code",
      "metadata": {
        "colab": {
          "base_uri": "https://localhost:8080/"
        },
        "id": "x4rDjGH9fikT",
        "outputId": "4ce82e9f-58e5-46de-f82f-a2535d502b0e"
      },
      "source": [
        "xv[:3]"
      ],
      "execution_count": 34,
      "outputs": [
        {
          "output_type": "execute_result",
          "data": {
            "text/plain": [
              "array([-6. ,  5. ,  4.2])"
            ]
          },
          "metadata": {
            "tags": []
          },
          "execution_count": 34
        }
      ]
    },
    {
      "cell_type": "code",
      "metadata": {
        "colab": {
          "base_uri": "https://localhost:8080/"
        },
        "id": "FNdwQZHvfwKo",
        "outputId": "ff69f7d5-be25-497b-a01c-bd8410e6ffd8"
      },
      "source": [
        "print(xm)"
      ],
      "execution_count": 35,
      "outputs": [
        {
          "output_type": "stream",
          "text": [
            "[[   0.    -2.5   10. ]\n",
            " [   6.    47.    70. ]\n",
            " [   8.    10.2 -698. ]]\n"
          ],
          "name": "stdout"
        }
      ]
    },
    {
      "cell_type": "code",
      "metadata": {
        "colab": {
          "base_uri": "https://localhost:8080/"
        },
        "id": "62ny4ZlRf9cq",
        "outputId": "f583fee8-60d2-4da4-9202-d656972c3156"
      },
      "source": [
        "xm[0:2,:2]"
      ],
      "execution_count": 36,
      "outputs": [
        {
          "output_type": "execute_result",
          "data": {
            "text/plain": [
              "array([[ 0. , -2.5],\n",
              "       [ 6. , 47. ]])"
            ]
          },
          "metadata": {
            "tags": []
          },
          "execution_count": 36
        }
      ]
    },
    {
      "cell_type": "code",
      "metadata": {
        "colab": {
          "base_uri": "https://localhost:8080/"
        },
        "id": "5pPPj3S6gIR2",
        "outputId": "f4a796d1-c354-4bff-e753-919ce9bb77d4"
      },
      "source": [
        "xm[0:2,0]"
      ],
      "execution_count": 37,
      "outputs": [
        {
          "output_type": "execute_result",
          "data": {
            "text/plain": [
              "array([0., 6.])"
            ]
          },
          "metadata": {
            "tags": []
          },
          "execution_count": 37
        }
      ]
    },
    {
      "cell_type": "code",
      "metadata": {
        "colab": {
          "base_uri": "https://localhost:8080/"
        },
        "id": "vfJ5mxXDhurG",
        "outputId": "c39b214c-dbcf-47da-bd38-06ad8b33700d"
      },
      "source": [
        "xm[0,1:]"
      ],
      "execution_count": 38,
      "outputs": [
        {
          "output_type": "execute_result",
          "data": {
            "text/plain": [
              "array([-2.5, 10. ])"
            ]
          },
          "metadata": {
            "tags": []
          },
          "execution_count": 38
        }
      ]
    },
    {
      "cell_type": "code",
      "metadata": {
        "colab": {
          "base_uri": "https://localhost:8080/"
        },
        "id": "EWX_gP3rh9Y3",
        "outputId": "7490f514-4dd8-4ef5-bc25-144a9af522bf"
      },
      "source": [
        "np.diag(xm)"
      ],
      "execution_count": 39,
      "outputs": [
        {
          "output_type": "execute_result",
          "data": {
            "text/plain": [
              "array([   0.,   47., -698.])"
            ]
          },
          "metadata": {
            "tags": []
          },
          "execution_count": 39
        }
      ]
    },
    {
      "cell_type": "markdown",
      "metadata": {
        "id": "3fg6DJ5ViZBI"
      },
      "source": [
        "# Simular cero y pendiente  para acondicionamiento de señales"
      ]
    },
    {
      "cell_type": "code",
      "metadata": {
        "colab": {
          "base_uri": "https://localhost:8080/"
        },
        "id": "QrjarvjViPOB",
        "outputId": "06a2b748-7d18-486c-b729-758c555d4a12"
      },
      "source": [
        "# crear vector tiempo por rango y por numero de muestras\r\n",
        "K = 200 # numero de muestras\r\n",
        "ti = -15 # tiempo incial referencia [s]\r\n",
        "tf = 10 # tieimpo final  [s]\r\n",
        "# vector de tiempo equiespacioado\r\n",
        "tv = np.linspace(start=ti,stop=tf,num=K)\r\n",
        "print(tv)\r\n",
        "print(tv.shape)\r\n",
        "# tiempo muestreo?\r\n",
        "\r\n",
        "Ts = (tf - ti)/K\r\n",
        "print(Ts)"
      ],
      "execution_count": 60,
      "outputs": [
        {
          "output_type": "stream",
          "text": [
            "[-15.         -14.87437186 -14.74874372 -14.62311558 -14.49748744\n",
            " -14.3718593  -14.24623116 -14.12060302 -13.99497487 -13.86934673\n",
            " -13.74371859 -13.61809045 -13.49246231 -13.36683417 -13.24120603\n",
            " -13.11557789 -12.98994975 -12.86432161 -12.73869347 -12.61306533\n",
            " -12.48743719 -12.36180905 -12.2361809  -12.11055276 -11.98492462\n",
            " -11.85929648 -11.73366834 -11.6080402  -11.48241206 -11.35678392\n",
            " -11.23115578 -11.10552764 -10.9798995  -10.85427136 -10.72864322\n",
            " -10.60301508 -10.47738693 -10.35175879 -10.22613065 -10.10050251\n",
            "  -9.97487437  -9.84924623  -9.72361809  -9.59798995  -9.47236181\n",
            "  -9.34673367  -9.22110553  -9.09547739  -8.96984925  -8.84422111\n",
            "  -8.71859296  -8.59296482  -8.46733668  -8.34170854  -8.2160804\n",
            "  -8.09045226  -7.96482412  -7.83919598  -7.71356784  -7.5879397\n",
            "  -7.46231156  -7.33668342  -7.21105528  -7.08542714  -6.95979899\n",
            "  -6.83417085  -6.70854271  -6.58291457  -6.45728643  -6.33165829\n",
            "  -6.20603015  -6.08040201  -5.95477387  -5.82914573  -5.70351759\n",
            "  -5.57788945  -5.45226131  -5.32663317  -5.20100503  -5.07537688\n",
            "  -4.94974874  -4.8241206   -4.69849246  -4.57286432  -4.44723618\n",
            "  -4.32160804  -4.1959799   -4.07035176  -3.94472362  -3.81909548\n",
            "  -3.69346734  -3.5678392   -3.44221106  -3.31658291  -3.19095477\n",
            "  -3.06532663  -2.93969849  -2.81407035  -2.68844221  -2.56281407\n",
            "  -2.43718593  -2.31155779  -2.18592965  -2.06030151  -1.93467337\n",
            "  -1.80904523  -1.68341709  -1.55778894  -1.4321608   -1.30653266\n",
            "  -1.18090452  -1.05527638  -0.92964824  -0.8040201   -0.67839196\n",
            "  -0.55276382  -0.42713568  -0.30150754  -0.1758794   -0.05025126\n",
            "   0.07537688   0.20100503   0.32663317   0.45226131   0.57788945\n",
            "   0.70351759   0.82914573   0.95477387   1.08040201   1.20603015\n",
            "   1.33165829   1.45728643   1.58291457   1.70854271   1.83417085\n",
            "   1.95979899   2.08542714   2.21105528   2.33668342   2.46231156\n",
            "   2.5879397    2.71356784   2.83919598   2.96482412   3.09045226\n",
            "   3.2160804    3.34170854   3.46733668   3.59296482   3.71859296\n",
            "   3.84422111   3.96984925   4.09547739   4.22110553   4.34673367\n",
            "   4.47236181   4.59798995   4.72361809   4.84924623   4.97487437\n",
            "   5.10050251   5.22613065   5.35175879   5.47738693   5.60301508\n",
            "   5.72864322   5.85427136   5.9798995    6.10552764   6.23115578\n",
            "   6.35678392   6.48241206   6.6080402    6.73366834   6.85929648\n",
            "   6.98492462   7.11055276   7.2361809    7.36180905   7.48743719\n",
            "   7.61306533   7.73869347   7.86432161   7.98994975   8.11557789\n",
            "   8.24120603   8.36683417   8.49246231   8.61809045   8.74371859\n",
            "   8.86934673   8.99497487   9.12060302   9.24623116   9.3718593\n",
            "   9.49748744   9.62311558   9.74874372   9.87437186  10.        ]\n",
            "(200,)\n",
            "0.125\n"
          ],
          "name": "stdout"
        }
      ]
    },
    {
      "cell_type": "markdown",
      "metadata": {
        "id": "BDLYDuPdkyZE"
      },
      "source": [
        "$x(t) = a t^2 + b;$ \r\n",
        "\r\n",
        "$\\forall t \\in [t_i,t_f]$\r\n",
        "\r\n",
        "$x[t_k] = a t_k^2 + b$\r\n",
        "\r\n",
        "\r\n",
        "\r\n"
      ]
    },
    {
      "cell_type": "code",
      "metadata": {
        "colab": {
          "base_uri": "https://localhost:8080/"
        },
        "id": "4LzvHXKeiwwE",
        "outputId": "f0250432-fb7d-4366-c5e2-19c5ee6641d9"
      },
      "source": [
        "#parametros parabola\r\n",
        "a = 4  \r\n",
        "b = -3\r\n",
        "xv = a*(tv**2) + b # creamos parabola en tiempo discreto\r\n",
        "print(xv)\r\n",
        "print(xv.shape)"
      ],
      "execution_count": 61,
      "outputs": [
        {
          "output_type": "stream",
          "text": [
            "[ 8.97000000e+02  8.81987753e+02  8.67101765e+02  8.52342037e+02\n",
            "  8.37708568e+02  8.23201359e+02  8.08820409e+02  7.94565718e+02\n",
            "  7.80437287e+02  7.66435115e+02  7.52559203e+02  7.38809550e+02\n",
            "  7.25186157e+02  7.11689023e+02  6.98318149e+02  6.85073533e+02\n",
            "  6.71955178e+02  6.58963082e+02  6.46097245e+02  6.33357668e+02\n",
            "  6.20744350e+02  6.08257291e+02  5.95896493e+02  5.83661953e+02\n",
            "  5.71553673e+02  5.59571652e+02  5.47715891e+02  5.35986389e+02\n",
            "  5.24383147e+02  5.12906164e+02  5.01555441e+02  4.90330976e+02\n",
            "  4.79232772e+02  4.68260827e+02  4.57415141e+02  4.46695715e+02\n",
            "  4.36102548e+02  4.25635641e+02  4.15294993e+02  4.05080604e+02\n",
            "  3.94992475e+02  3.85030605e+02  3.75194995e+02  3.65485644e+02\n",
            "  3.55902553e+02  3.46445721e+02  3.37115149e+02  3.27910836e+02\n",
            "  3.18832782e+02  3.09880988e+02  3.01055453e+02  2.92356178e+02\n",
            "  2.83783162e+02  2.75336406e+02  2.67015909e+02  2.58821671e+02\n",
            "  2.50753693e+02  2.42811974e+02  2.34996515e+02  2.27307315e+02\n",
            "  2.19744375e+02  2.12307694e+02  2.04997273e+02  1.97813111e+02\n",
            "  1.90755208e+02  1.83823565e+02  1.77018181e+02  1.70339057e+02\n",
            "  1.63786192e+02  1.57359587e+02  1.51059241e+02  1.44885154e+02\n",
            "  1.38837327e+02  1.32915760e+02  1.27120452e+02  1.21451403e+02\n",
            "  1.15908613e+02  1.10492084e+02  1.05201813e+02  1.00037802e+02\n",
            "  9.50000505e+01  9.00885584e+01  8.53033257e+01  8.06443524e+01\n",
            "  7.61116386e+01  7.17051842e+01  6.74249893e+01  6.32710538e+01\n",
            "  5.92433777e+01  5.53419611e+01  5.15668039e+01  4.79179061e+01\n",
            "  4.43952678e+01  4.09988889e+01  3.77287695e+01  3.45849095e+01\n",
            "  3.15673089e+01  2.86759678e+01  2.59108861e+01  2.32720638e+01\n",
            "  2.07595010e+01  1.83731976e+01  1.61131537e+01  1.39793692e+01\n",
            "  1.19718441e+01  1.00905785e+01  8.33557233e+00  6.70682559e+00\n",
            "  5.20433827e+00  3.82811040e+00  2.57814197e+00  1.45443297e+00\n",
            "  4.56983410e-01 -4.14206712e-01 -1.15913740e+00 -1.77780864e+00\n",
            " -2.27022045e+00 -2.63637282e+00 -2.87626575e+00 -2.98989924e+00\n",
            " -2.97727330e+00 -2.83838792e+00 -2.57324310e+00 -2.18183884e+00\n",
            " -1.66417515e+00 -1.02025201e+00 -2.50069443e-01  6.46372566e-01\n",
            "  1.66907401e+00  2.81803490e+00  4.09325522e+00  5.49473498e+00\n",
            "  7.02247418e+00  8.67647282e+00  1.04567309e+01  1.23632484e+01\n",
            "  1.43960254e+01  1.65550617e+01  1.88403576e+01  2.12519128e+01\n",
            "  2.37897275e+01  2.64538017e+01  2.92441352e+01  3.21607283e+01\n",
            "  3.52035807e+01  3.83726926e+01  4.16680639e+01  4.50896947e+01\n",
            "  4.86375849e+01  5.23117346e+01  5.61121436e+01  6.00388122e+01\n",
            "  6.40917401e+01  6.82709275e+01  7.25763743e+01  7.70080806e+01\n",
            "  8.15660463e+01  8.62502715e+01  9.10607560e+01  9.59975001e+01\n",
            "  1.01060504e+02  1.06249766e+02  1.11565289e+02  1.17007071e+02\n",
            "  1.22575112e+02  1.28269412e+02  1.34089972e+02  1.40036792e+02\n",
            "  1.46109871e+02  1.52309209e+02  1.58634807e+02  1.65086664e+02\n",
            "  1.71664781e+02  1.78369157e+02  1.85199793e+02  1.92156688e+02\n",
            "  1.99239842e+02  2.06449256e+02  2.13784930e+02  2.21246862e+02\n",
            "  2.28835055e+02  2.36549506e+02  2.44390217e+02  2.52357188e+02\n",
            "  2.60450418e+02  2.68669907e+02  2.77015656e+02  2.85487664e+02\n",
            "  2.94085932e+02  3.02810459e+02  3.11661246e+02  3.20638292e+02\n",
            "  3.29741597e+02  3.38971162e+02  3.48326987e+02  3.57809070e+02\n",
            "  3.67417414e+02  3.77152016e+02  3.87012878e+02  3.97000000e+02]\n",
            "(200,)\n"
          ],
          "name": "stdout"
        }
      ]
    },
    {
      "cell_type": "code",
      "metadata": {
        "colab": {
          "base_uri": "https://localhost:8080/",
          "height": 296
        },
        "id": "CikgadYnljWq",
        "outputId": "c22073bb-1689-4f3a-dd05-bbe799d1440c"
      },
      "source": [
        "import matplotlib.pyplot as plt\r\n",
        "\r\n",
        "plt.plot(tv,xv,'r.')\r\n",
        "plt.xlabel('tiempo [s]')\r\n",
        "plt.ylabel('$x[t_k]$')"
      ],
      "execution_count": 62,
      "outputs": [
        {
          "output_type": "execute_result",
          "data": {
            "text/plain": [
              "Text(0, 0.5, '$x[t_k]$')"
            ]
          },
          "metadata": {
            "tags": []
          },
          "execution_count": 62
        },
        {
          "output_type": "display_data",
          "data": {
            "image/png": "[encoded data removed]",
            "text/plain": [
              "<Figure size 432x288 with 1 Axes>"
            ]
          },
          "metadata": {
            "tags": [],
            "needs_background": "light"
          }
        }
      ]
    },
    {
      "cell_type": "markdown",
      "metadata": {
        "id": "W46sUb3AGP81"
      },
      "source": [
        "$$ y[t_k] \\in [y_{min},y_{max}]$$\r\n",
        "\r\n",
        "$$y[t_k] = m x[t_k] + c$$\r\n",
        "\r\n",
        "$$m = \\frac{y_{max}-y_{min}}{x_{max}-x_{min}}$$\r\n",
        "\r\n",
        "$$c = y[t_k] - m x[t_k]$$"
      ]
    },
    {
      "cell_type": "code",
      "metadata": {
        "id": "ozcRD-a1mlcf"
      },
      "source": [
        "y_min = 0 # valor min despues de cero y pendiente\r\n",
        "y_max = 5 # valor max despues de cero y pendiente\r\n",
        "#crear funcion\r\n",
        "def my_ceropen(x,ymin = -5, ymax = 5):\r\n",
        "  '''\r\n",
        "  Codigo base para simular proceso de cero y pendiente\r\n",
        "  Se ingresa arreglo de numpy y los valores min  y max despues de cero y pendiente\r\n",
        "  '''\r\n",
        "  xmax = max(x) # x.max()\r\n",
        "  xmin = min(x) # x.min()\r\n",
        "  m = (ymax - ymin)/(xmax - xmin)\r\n",
        "  c = ymin - m*xmin\r\n",
        "  yv = m*x + c\r\n",
        "  return yv "
      ],
      "execution_count": 63,
      "outputs": []
    },
    {
      "cell_type": "code",
      "metadata": {
        "id": "VePiF__hKrsp"
      },
      "source": [
        "yv = my_ceropen(xv,ymin=y_min,ymax=y_max)"
      ],
      "execution_count": 64,
      "outputs": []
    },
    {
      "cell_type": "code",
      "metadata": {
        "id": "S3GcTF_hKQ-R",
        "outputId": "f07fd161-ebf8-4be3-e44b-f3aadfd9d257",
        "colab": {
          "base_uri": "https://localhost:8080/"
        }
      },
      "source": [
        "print(yv)\r\n",
        "print(yv.shape)"
      ],
      "execution_count": 65,
      "outputs": [
        {
          "output_type": "stream",
          "text": [
            "[5.00000000e+00 4.91659769e+00 4.83389683e+00 4.75189742e+00\n",
            " 4.67059946e+00 4.59000295e+00 4.51010788e+00 4.43091427e+00\n",
            " 4.35242210e+00 4.27463139e+00 4.19754212e+00 4.12115430e+00\n",
            " 4.04546794e+00 3.97048302e+00 3.89619955e+00 3.82261753e+00\n",
            " 3.74973696e+00 3.67755783e+00 3.60608016e+00 3.53530394e+00\n",
            " 3.46522916e+00 3.39585584e+00 3.32718396e+00 3.25921354e+00\n",
            " 3.19194456e+00 3.12537703e+00 3.05951095e+00 2.99434632e+00\n",
            " 2.92988314e+00 2.86612141e+00 2.80306112e+00 2.74070229e+00\n",
            " 2.67904491e+00 2.61808897e+00 2.55783449e+00 2.49828145e+00\n",
            " 2.43942986e+00 2.38127972e+00 2.32383103e+00 2.26708380e+00\n",
            " 2.21103800e+00 2.15569366e+00 2.10105077e+00 2.04710933e+00\n",
            " 1.99386933e+00 1.94133079e+00 1.88949369e+00 1.83835805e+00\n",
            " 1.78792385e+00 1.73819110e+00 1.68915980e+00 1.64082995e+00\n",
            " 1.59320155e+00 1.54627460e+00 1.50004910e+00 1.45452505e+00\n",
            " 1.40970245e+00 1.36558129e+00 1.32216159e+00 1.27944333e+00\n",
            " 1.23742652e+00 1.19611117e+00 1.15549726e+00 1.11558480e+00\n",
            " 1.07637379e+00 1.03786423e+00 1.00005612e+00 9.62949454e-01\n",
            " 9.26544240e-01 8.90840476e-01 8.55838162e-01 8.21537296e-01\n",
            " 7.87937880e-01 7.55039912e-01 7.22843394e-01 6.91348326e-01\n",
            " 6.60554706e-01 6.30462536e-01 6.01071814e-01 5.72382542e-01\n",
            " 5.44394719e-01 5.17108346e-01 4.90523421e-01 4.64639946e-01\n",
            " 4.39457920e-01 4.14977343e-01 3.91198216e-01 3.68120537e-01\n",
            " 3.45744308e-01 3.24069528e-01 3.03096197e-01 2.82824315e-01\n",
            " 2.63253883e-01 2.44384899e-01 2.26217365e-01 2.08751280e-01\n",
            " 1.91986644e-01 1.75923458e-01 1.60561721e-01 1.45901432e-01\n",
            " 1.31942593e-01 1.18685204e-01 1.06129263e-01 9.42747717e-02\n",
            " 8.31217295e-02 7.26701365e-02 6.29199927e-02 5.38712981e-02\n",
            " 4.55240527e-02 3.78782565e-02 3.09339095e-02 2.46910116e-02\n",
            " 1.91495630e-02 1.43095636e-02 1.01710133e-02 6.73391226e-03\n",
            " 3.99826041e-03 1.96405774e-03 6.31304275e-04 0.00000000e+00\n",
            " 7.01449194e-05 8.41739033e-04 2.31478234e-03 4.48927484e-03\n",
            " 7.36521654e-03 1.09426074e-02 1.52214475e-02 2.02017368e-02\n",
            " 2.58834753e-02 3.22666629e-02 3.93512998e-02 4.71373858e-02\n",
            " 5.56249211e-02 6.48139055e-02 7.47043392e-02 8.52962220e-02\n",
            " 9.65895540e-02 1.08584335e-01 1.21280566e-01 1.34678245e-01\n",
            " 1.48777374e-01 1.63577952e-01 1.79079979e-01 1.95283456e-01\n",
            " 2.12188381e-01 2.29794756e-01 2.48102580e-01 2.67111853e-01\n",
            " 2.86822575e-01 3.07234747e-01 3.28348368e-01 3.50163438e-01\n",
            " 3.72679957e-01 3.95897925e-01 4.19817343e-01 4.44438209e-01\n",
            " 4.69760525e-01 4.95784290e-01 5.22509505e-01 5.49936168e-01\n",
            " 5.78064281e-01 6.06893843e-01 6.36424854e-01 6.66657314e-01\n",
            " 6.97591223e-01 7.29226582e-01 7.61563390e-01 7.94601647e-01\n",
            " 8.28341353e-01 8.62782509e-01 8.97925113e-01 9.33769167e-01\n",
            " 9.70314670e-01 1.00756162e+00 1.04551002e+00 1.08415987e+00\n",
            " 1.12351117e+00 1.16356392e+00 1.20431812e+00 1.24577377e+00\n",
            " 1.28793087e+00 1.33078941e+00 1.37434941e+00 1.41861085e+00\n",
            " 1.46357374e+00 1.50923809e+00 1.55560388e+00 1.60267112e+00\n",
            " 1.65043981e+00 1.69890995e+00 1.74808154e+00 1.79795457e+00\n",
            " 1.84852906e+00 1.89980500e+00 1.95178238e+00 2.00446122e+00\n",
            " 2.05784150e+00 2.11192323e+00 2.16670642e+00 2.22219105e+00]\n",
            "(200,)\n"
          ],
          "name": "stdout"
        }
      ]
    },
    {
      "cell_type": "code",
      "metadata": {
        "id": "NasBtR71LtRO",
        "outputId": "eea22033-d54b-496d-b8a9-f5edcfaa42fc",
        "colab": {
          "base_uri": "https://localhost:8080/",
          "height": 279
        }
      },
      "source": [
        "plt.subplot(121)\r\n",
        "plt.plot(tv,xv,'r.')\r\n",
        "plt.xlabel('tiempo [s]')\r\n",
        "plt.ylabel('$x[t_k]$')\r\n",
        "\r\n",
        "plt.subplot(122)\r\n",
        "plt.plot(tv,yv,'b.')\r\n",
        "plt.xlabel('tiempo [s]')\r\n",
        "plt.ylabel('$y[t_k]$')\r\n",
        "\r\n",
        "plt.subplots_adjust(hspace=0.5,wspace=0.5)"
      ],
      "execution_count": 69,
      "outputs": [
        {
          "output_type": "display_data",
          "data": {
            "image/png": "[encoded data removed]",
            "text/plain": [
              "<Figure size 432x288 with 2 Axes>"
            ]
          },
          "metadata": {
            "tags": [],
            "needs_background": "light"
          }
        }
      ]
    },
    {
      "cell_type": "code",
      "metadata": {
        "id": "Bjy3fBQYQHAH"
      },
      "source": [
        ""
      ],
      "execution_count": null,
      "outputs": []
    }
  ]
}