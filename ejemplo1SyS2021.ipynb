{
  "nbformat": 4,
  "nbformat_minor": 0,
  "metadata": {
    "colab": {
      "name": "ejemplo1SyS2021.ipynb",
      "provenance": [],
      "authorship_tag": "ABX9TyOF8GPDhC2abaAZVJkbAqm+",
      "include_colab_link": true
    },
    "kernelspec": {
      "name": "python3",
      "display_name": "Python 3"
    }
  },
  "cells": [
    {
      "cell_type": "markdown",
      "metadata": {
        "id": "view-in-github",
        "colab_type": "text"
      },
      "source": [
        "<a href=\"https://colab.research.google.com/github/amalvarezme/SenalesSistemas/blob/master/ejemplo1SyS2021.ipynb\" target=\"_parent\"><img src=\"https://colab.research.google.com/assets/colab-badge.svg\" alt=\"Open In Colab\"/></a>"
      ]
    },
    {
      "cell_type": "markdown",
      "metadata": {
        "id": "t2pmqZ1sSALd"
      },
      "source": [
        "# Ejemplo 1 programación clase señales y sistemas marzo 2\r\n",
        "\r\n",
        "Librería numpy (señales digitales (discretas))\r\n",
        "\r\n",
        "Librería sympy (emular señales continuas)"
      ]
    },
    {
      "cell_type": "code",
      "metadata": {
        "colab": {
          "base_uri": "https://localhost:8080/"
        },
        "id": "US87snjyRzXO",
        "outputId": "e7b1ac6f-15d8-46fe-f92d-2a605703eef5"
      },
      "source": [
        "import numpy as np # importar libreria numpy\r\n",
        "x = 30\r\n",
        "y = 36.5\r\n",
        "\r\n",
        "type(y)"
      ],
      "execution_count": 2,
      "outputs": [
        {
          "output_type": "execute_result",
          "data": {
            "text/plain": [
              "float"
            ]
          },
          "metadata": {
            "tags": []
          },
          "execution_count": 2
        }
      ]
    },
    {
      "cell_type": "markdown",
      "metadata": {
        "id": "opLxJCCATLiT"
      },
      "source": [
        "# Arreglo de datos en numpy\r\n",
        "\r\n",
        "- Señales en continuo\r\n",
        "\r\n",
        "  $x(t) \\in \\mathbb{R}, \\mathbb{C}$\r\n",
        "\r\n",
        "  $t \\in \\mathbb{R}$\r\n",
        "\r\n",
        "- Señales discretas\r\n",
        "\r\n",
        "  $x[t_k] \\in \\mathbb{R}, \\mathbb{C}$  \r\n",
        "\r\n",
        "  $t \\in \\{t_0,t_1,\\dots,t_{K-1}\\}$; $K \\in \\mathbb{N}$ muestras\r\n",
        "\r\n",
        "- Señales digitales\r\n",
        "\r\n",
        "  $x[t_k] \\in \\{x_0,x_1,\\dots,x_P\\};$ $P\\in \\mathbb{N}$ estados según cantidad de bits del sistema de proceso \r\n",
        "\r\n",
        "  $t \\in \\{t_0,t_1,\\dots,t_{K-1}\\}$; $K \\in \\mathbb{N}$ muestras"
      ]
    },
    {
      "cell_type": "code",
      "metadata": {
        "colab": {
          "base_uri": "https://localhost:8080/"
        },
        "id": "_KJR2CT9St31",
        "outputId": "80b84b05-b279-420c-e52d-c5e5a6764e46"
      },
      "source": [
        "xv = np.array([0,-2.5,10])\r\n",
        "xv"
      ],
      "execution_count": 6,
      "outputs": [
        {
          "output_type": "execute_result",
          "data": {
            "text/plain": [
              "array([ 0. , -2.5, 10. ])"
            ]
          },
          "metadata": {
            "tags": []
          },
          "execution_count": 6
        }
      ]
    },
    {
      "cell_type": "code",
      "metadata": {
        "id": "rE08MvyIWHYQ"
      },
      "source": [
        ""
      ],
      "execution_count": null,
      "outputs": []
    }
  ]
}