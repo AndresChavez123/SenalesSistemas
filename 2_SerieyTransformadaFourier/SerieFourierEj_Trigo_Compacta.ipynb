{
  "nbformat": 4,
  "nbformat_minor": 0,
  "metadata": {
    "kernelspec": {
      "display_name": "Python 3",
      "language": "python",
      "name": "python3"
    },
    "language_info": {
      "codemirror_mode": {
        "name": "ipython",
        "version": 3
      },
      "file_extension": ".py",
      "mimetype": "text/x-python",
      "name": "python",
      "nbconvert_exporter": "python",
      "pygments_lexer": "ipython3",
      "version": "3.7.1"
    },
    "colab": {
      "name": "SerieFourierEj_Trigo_Compacta.ipynb",
      "provenance": []
    },
    "widgets": {
      "application/vnd.jupyter.widget-state+json": {
        "8faa43baab5c4eb0bc112dbbb5305278": {
          "model_module": "@jupyter-widgets/controls",
          "model_name": "VBoxModel",
          "state": {
            "_view_name": "VBoxView",
            "_dom_classes": [
              "widget-interact"
            ],
            "_model_name": "VBoxModel",
            "_view_module": "@jupyter-widgets/controls",
            "_model_module_version": "1.5.0",
            "_view_count": null,
            "_view_module_version": "1.5.0",
            "box_style": "",
            "layout": "IPY_MODEL_27e7bd952265492fa734a0495eb82565",
            "_model_module": "@jupyter-widgets/controls",
            "children": [
              "IPY_MODEL_2b4d8c0c405440c7aa03d6994f13b09d",
              "IPY_MODEL_57d1eba925c64287b75828132865d8c2"
            ]
          }
        },
        "27e7bd952265492fa734a0495eb82565": {
          "model_module": "@jupyter-widgets/base",
          "model_name": "LayoutModel",
          "state": {
            "_view_name": "LayoutView",
            "grid_template_rows": null,
            "right": null,
            "justify_content": null,
            "_view_module": "@jupyter-widgets/base",
            "overflow": null,
            "_model_module_version": "1.2.0",
            "_view_count": null,
            "flex_flow": null,
            "width": null,
            "min_width": null,
            "border": null,
            "align_items": null,
            "bottom": null,
            "_model_module": "@jupyter-widgets/base",
            "top": null,
            "grid_column": null,
            "overflow_y": null,
            "overflow_x": null,
            "grid_auto_flow": null,
            "grid_area": null,
            "grid_template_columns": null,
            "flex": null,
            "_model_name": "LayoutModel",
            "justify_items": null,
            "grid_row": null,
            "max_height": null,
            "align_content": null,
            "visibility": null,
            "align_self": null,
            "height": null,
            "min_height": null,
            "padding": null,
            "grid_auto_rows": null,
            "grid_gap": null,
            "max_width": null,
            "order": null,
            "_view_module_version": "1.2.0",
            "grid_template_areas": null,
            "object_position": null,
            "object_fit": null,
            "grid_auto_columns": null,
            "margin": null,
            "display": null,
            "left": null
          }
        },
        "2b4d8c0c405440c7aa03d6994f13b09d": {
          "model_module": "@jupyter-widgets/controls",
          "model_name": "IntSliderModel",
          "state": {
            "_view_name": "IntSliderView",
            "style": "IPY_MODEL_8910c967fec34f2cbb55f3010db29c28",
            "_dom_classes": [],
            "description": "n",
            "step": 1,
            "_model_name": "IntSliderModel",
            "orientation": "horizontal",
            "max": 200,
            "_view_module": "@jupyter-widgets/controls",
            "_model_module_version": "1.5.0",
            "value": 1,
            "_view_count": null,
            "disabled": false,
            "_view_module_version": "1.5.0",
            "min": -200,
            "continuous_update": true,
            "readout_format": "d",
            "description_tooltip": null,
            "readout": true,
            "_model_module": "@jupyter-widgets/controls",
            "layout": "IPY_MODEL_9179ff4cdb074ebca05d7aaa68020a24"
          }
        },
        "57d1eba925c64287b75828132865d8c2": {
          "model_module": "@jupyter-widgets/output",
          "model_name": "OutputModel",
          "state": {
            "_view_name": "OutputView",
            "msg_id": "",
            "_dom_classes": [],
            "_model_name": "OutputModel",
            "outputs": [
              {
                "output_type": "display_data",
                "metadata": {
                  "tags": [],
                  "needs_background": "light"
                },
                "image/png": "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\n",
                "text/plain": "<Figure size 432x288 with 1 Axes>"
              }
            ],
            "_view_module": "@jupyter-widgets/output",
            "_model_module_version": "1.0.0",
            "_view_count": null,
            "_view_module_version": "1.0.0",
            "layout": "IPY_MODEL_d73055c7331b473a8d4bfb081585ad7b",
            "_model_module": "@jupyter-widgets/output"
          }
        },
        "8910c967fec34f2cbb55f3010db29c28": {
          "model_module": "@jupyter-widgets/controls",
          "model_name": "SliderStyleModel",
          "state": {
            "_view_name": "StyleView",
            "handle_color": null,
            "_model_name": "SliderStyleModel",
            "description_width": "",
            "_view_module": "@jupyter-widgets/base",
            "_model_module_version": "1.5.0",
            "_view_count": null,
            "_view_module_version": "1.2.0",
            "_model_module": "@jupyter-widgets/controls"
          }
        },
        "9179ff4cdb074ebca05d7aaa68020a24": {
          "model_module": "@jupyter-widgets/base",
          "model_name": "LayoutModel",
          "state": {
            "_view_name": "LayoutView",
            "grid_template_rows": null,
            "right": null,
            "justify_content": null,
            "_view_module": "@jupyter-widgets/base",
            "overflow": null,
            "_model_module_version": "1.2.0",
            "_view_count": null,
            "flex_flow": null,
            "width": null,
            "min_width": null,
            "border": null,
            "align_items": null,
            "bottom": null,
            "_model_module": "@jupyter-widgets/base",
            "top": null,
            "grid_column": null,
            "overflow_y": null,
            "overflow_x": null,
            "grid_auto_flow": null,
            "grid_area": null,
            "grid_template_columns": null,
            "flex": null,
            "_model_name": "LayoutModel",
            "justify_items": null,
            "grid_row": null,
            "max_height": null,
            "align_content": null,
            "visibility": null,
            "align_self": null,
            "height": null,
            "min_height": null,
            "padding": null,
            "grid_auto_rows": null,
            "grid_gap": null,
            "max_width": null,
            "order": null,
            "_view_module_version": "1.2.0",
            "grid_template_areas": null,
            "object_position": null,
            "object_fit": null,
            "grid_auto_columns": null,
            "margin": null,
            "display": null,
            "left": null
          }
        },
        "d73055c7331b473a8d4bfb081585ad7b": {
          "model_module": "@jupyter-widgets/base",
          "model_name": "LayoutModel",
          "state": {
            "_view_name": "LayoutView",
            "grid_template_rows": null,
            "right": null,
            "justify_content": null,
            "_view_module": "@jupyter-widgets/base",
            "overflow": null,
            "_model_module_version": "1.2.0",
            "_view_count": null,
            "flex_flow": null,
            "width": null,
            "min_width": null,
            "border": null,
            "align_items": null,
            "bottom": null,
            "_model_module": "@jupyter-widgets/base",
            "top": null,
            "grid_column": null,
            "overflow_y": null,
            "overflow_x": null,
            "grid_auto_flow": null,
            "grid_area": null,
            "grid_template_columns": null,
            "flex": null,
            "_model_name": "LayoutModel",
            "justify_items": null,
            "grid_row": null,
            "max_height": null,
            "align_content": null,
            "visibility": null,
            "align_self": null,
            "height": null,
            "min_height": null,
            "padding": null,
            "grid_auto_rows": null,
            "grid_gap": null,
            "max_width": null,
            "order": null,
            "_view_module_version": "1.2.0",
            "grid_template_areas": null,
            "object_position": null,
            "object_fit": null,
            "grid_auto_columns": null,
            "margin": null,
            "display": null,
            "left": null
          }
        },
        "f5dc24c054074f97aff9714039db0012": {
          "model_module": "@jupyter-widgets/controls",
          "model_name": "VBoxModel",
          "state": {
            "_view_name": "VBoxView",
            "_dom_classes": [
              "widget-interact"
            ],
            "_model_name": "VBoxModel",
            "_view_module": "@jupyter-widgets/controls",
            "_model_module_version": "1.5.0",
            "_view_count": null,
            "_view_module_version": "1.5.0",
            "box_style": "",
            "layout": "IPY_MODEL_9f04d4eee46b43c1b5b80880fd4e6c42",
            "_model_module": "@jupyter-widgets/controls",
            "children": [
              "IPY_MODEL_abd6c8ba96094cb6a1d73fa1981bdcf1",
              "IPY_MODEL_fdbadec9071f44e7bd8309366bd18359"
            ]
          }
        },
        "9f04d4eee46b43c1b5b80880fd4e6c42": {
          "model_module": "@jupyter-widgets/base",
          "model_name": "LayoutModel",
          "state": {
            "_view_name": "LayoutView",
            "grid_template_rows": null,
            "right": null,
            "justify_content": null,
            "_view_module": "@jupyter-widgets/base",
            "overflow": null,
            "_model_module_version": "1.2.0",
            "_view_count": null,
            "flex_flow": null,
            "width": null,
            "min_width": null,
            "border": null,
            "align_items": null,
            "bottom": null,
            "_model_module": "@jupyter-widgets/base",
            "top": null,
            "grid_column": null,
            "overflow_y": null,
            "overflow_x": null,
            "grid_auto_flow": null,
            "grid_area": null,
            "grid_template_columns": null,
            "flex": null,
            "_model_name": "LayoutModel",
            "justify_items": null,
            "grid_row": null,
            "max_height": null,
            "align_content": null,
            "visibility": null,
            "align_self": null,
            "height": null,
            "min_height": null,
            "padding": null,
            "grid_auto_rows": null,
            "grid_gap": null,
            "max_width": null,
            "order": null,
            "_view_module_version": "1.2.0",
            "grid_template_areas": null,
            "object_position": null,
            "object_fit": null,
            "grid_auto_columns": null,
            "margin": null,
            "display": null,
            "left": null
          }
        },
        "abd6c8ba96094cb6a1d73fa1981bdcf1": {
          "model_module": "@jupyter-widgets/controls",
          "model_name": "IntSliderModel",
          "state": {
            "_view_name": "IntSliderView",
            "style": "IPY_MODEL_a8c03a79e6c343b3b5a7d00986f4603b",
            "_dom_classes": [],
            "description": "Na",
            "step": 1,
            "_model_name": "IntSliderModel",
            "orientation": "horizontal",
            "max": 200,
            "_view_module": "@jupyter-widgets/controls",
            "_model_module_version": "1.5.0",
            "value": 105,
            "_view_count": null,
            "disabled": false,
            "_view_module_version": "1.5.0",
            "min": 1,
            "continuous_update": true,
            "readout_format": "d",
            "description_tooltip": null,
            "readout": true,
            "_model_module": "@jupyter-widgets/controls",
            "layout": "IPY_MODEL_f35eb6fdfc094233b66318ba213f2673"
          }
        },
        "fdbadec9071f44e7bd8309366bd18359": {
          "model_module": "@jupyter-widgets/output",
          "model_name": "OutputModel",
          "state": {
            "_view_name": "OutputView",
            "msg_id": "",
            "_dom_classes": [],
            "_model_name": "OutputModel",
            "outputs": [
              {
                "output_type": "display_data",
                "metadata": {
                  "tags": [],
                  "needs_background": "light"
                },
                "image/png": "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\n",
                "text/plain": "<Figure size 432x288 with 1 Axes>"
              }
            ],
            "_view_module": "@jupyter-widgets/output",
            "_model_module_version": "1.0.0",
            "_view_count": null,
            "_view_module_version": "1.0.0",
            "layout": "IPY_MODEL_7ffb1740ba604dc3bcb4a65febcbd6ee",
            "_model_module": "@jupyter-widgets/output"
          }
        },
        "a8c03a79e6c343b3b5a7d00986f4603b": {
          "model_module": "@jupyter-widgets/controls",
          "model_name": "SliderStyleModel",
          "state": {
            "_view_name": "StyleView",
            "handle_color": null,
            "_model_name": "SliderStyleModel",
            "description_width": "",
            "_view_module": "@jupyter-widgets/base",
            "_model_module_version": "1.5.0",
            "_view_count": null,
            "_view_module_version": "1.2.0",
            "_model_module": "@jupyter-widgets/controls"
          }
        },
        "f35eb6fdfc094233b66318ba213f2673": {
          "model_module": "@jupyter-widgets/base",
          "model_name": "LayoutModel",
          "state": {
            "_view_name": "LayoutView",
            "grid_template_rows": null,
            "right": null,
            "justify_content": null,
            "_view_module": "@jupyter-widgets/base",
            "overflow": null,
            "_model_module_version": "1.2.0",
            "_view_count": null,
            "flex_flow": null,
            "width": null,
            "min_width": null,
            "border": null,
            "align_items": null,
            "bottom": null,
            "_model_module": "@jupyter-widgets/base",
            "top": null,
            "grid_column": null,
            "overflow_y": null,
            "overflow_x": null,
            "grid_auto_flow": null,
            "grid_area": null,
            "grid_template_columns": null,
            "flex": null,
            "_model_name": "LayoutModel",
            "justify_items": null,
            "grid_row": null,
            "max_height": null,
            "align_content": null,
            "visibility": null,
            "align_self": null,
            "height": null,
            "min_height": null,
            "padding": null,
            "grid_auto_rows": null,
            "grid_gap": null,
            "max_width": null,
            "order": null,
            "_view_module_version": "1.2.0",
            "grid_template_areas": null,
            "object_position": null,
            "object_fit": null,
            "grid_auto_columns": null,
            "margin": null,
            "display": null,
            "left": null
          }
        },
        "7ffb1740ba604dc3bcb4a65febcbd6ee": {
          "model_module": "@jupyter-widgets/base",
          "model_name": "LayoutModel",
          "state": {
            "_view_name": "LayoutView",
            "grid_template_rows": null,
            "right": null,
            "justify_content": null,
            "_view_module": "@jupyter-widgets/base",
            "overflow": null,
            "_model_module_version": "1.2.0",
            "_view_count": null,
            "flex_flow": null,
            "width": null,
            "min_width": null,
            "border": null,
            "align_items": null,
            "bottom": null,
            "_model_module": "@jupyter-widgets/base",
            "top": null,
            "grid_column": null,
            "overflow_y": null,
            "overflow_x": null,
            "grid_auto_flow": null,
            "grid_area": null,
            "grid_template_columns": null,
            "flex": null,
            "_model_name": "LayoutModel",
            "justify_items": null,
            "grid_row": null,
            "max_height": null,
            "align_content": null,
            "visibility": null,
            "align_self": null,
            "height": null,
            "min_height": null,
            "padding": null,
            "grid_auto_rows": null,
            "grid_gap": null,
            "max_width": null,
            "order": null,
            "_view_module_version": "1.2.0",
            "grid_template_areas": null,
            "object_position": null,
            "object_fit": null,
            "grid_auto_columns": null,
            "margin": null,
            "display": null,
            "left": null
          }
        }
      }
    }
  },
  "cells": [
    {
      "cell_type": "markdown",
      "metadata": {
        "id": "NSVGgZYt0fBN"
      },
      "source": [
        "# Serie de Fourier Ejemplo (exponencial, trigonométrica y compacta)"
      ]
    },
    {
      "cell_type": "markdown",
      "metadata": {
        "id": "eO5UjVfg0fBP"
      },
      "source": [
        "Sea la señal:\n",
        "\n",
        "\\begin{equation}\n",
        "x(t) = \\begin{cases} A, & -T/2 \\leq t < 0 \\\\ -A, & 0 \\leq t < T/2 \\end{cases}\n",
        "\\end{equation}\n"
      ]
    },
    {
      "cell_type": "code",
      "metadata": {
        "id": "Guk1vk_U0fBR",
        "outputId": "640b1087-85f4-4135-e1d4-b8f484bdff07",
        "colab": {
          "base_uri": "https://localhost:8080/",
          "height": 303
        }
      },
      "source": [
        "# Para graficar\n",
        "%matplotlib inline\n",
        "import matplotlib as mpl\n",
        "import matplotlib.pyplot as plt\n",
        "import numpy as np\n",
        "import warnings\n",
        "warnings.filterwarnings(\"ignore\")\n",
        "\n",
        "mpl.rc('axes', labelsize=14)\n",
        "mpl.rc('xtick', labelsize=12)\n",
        "mpl.rc('ytick', labelsize=12)\n",
        "\n",
        "A = 3\n",
        "T = 5 #3 segundos de grafica\n",
        "Fs = 1000 # 500 muestras por segundo Ajustar según señal estudiada\n",
        "Nm = T*Fs #numero de muestras requeridas\n",
        "tv = np.linspace(-T/2,T/2,Nm)\n",
        "\n",
        "xo = np.concatenate((A*np.ones(int(Nm/2)), -A*np.ones(int(Nm/2))), axis=0)\n",
        "\n",
        "plt.plot(tv,xo,'r',linewidth=4)\n",
        "plt.grid()\n",
        "plt.xlabel(\"t[s]\",fontsize = 14)\n",
        "plt.ylabel(\"x(t)\",fontsize = 14)\n",
        "#wn = n w0 = n 2 pi/T\n",
        "w2 = 2*np.pi/T\n",
        "sinn2 = np.sin(w2*tv)\n",
        "plt.plot(tv,sinn2)\n",
        "plt.plot(tv,xo*sinn2)\n"
      ],
      "execution_count": 41,
      "outputs": [
        {
          "output_type": "execute_result",
          "data": {
            "text/plain": [
              "[<matplotlib.lines.Line2D at 0x7fd8ed37c748>]"
            ]
          },
          "metadata": {
            "tags": []
          },
          "execution_count": 41
        },
        {
          "output_type": "display_data",
          "data": {
            "image/png": "[encoded data removed]",
            "text/plain": [
              "<Figure size 432x288 with 1 Axes>"
            ]
          },
          "metadata": {
            "tags": [],
            "needs_background": "light"
          }
        }
      ]
    },
    {
      "cell_type": "markdown",
      "metadata": {
        "id": "DRN68VrH0fBY"
      },
      "source": [
        "Su espectro en serie de Fourier (compleja) se calcula como:\n",
        "\n",
        "\\begin{equation}\n",
        "c_n = \\frac{1}{T}\\int^{T/2}_{-T/2}{x(t)e^{-jn\\omega_o t}}dt=\\frac{jA}{n\\pi}(1-(-1)^n); \\quad n\\neq 0\n",
        "\\end{equation}\n",
        "\n",
        "donde \n",
        "\n",
        "\\begin{equation}\n",
        "c_0 = \\frac{1}{T}\\int^{T/2}_{-T/2}{x(t)}dt=0\n",
        "\\end{equation}\n",
        "y:\n",
        "\n",
        "\\begin{equation}\n",
        "\\hat{x}(t) = \\sum\\limits_{n=-N}^N{c_n e^{jn\\omega_ot}}.\n",
        "\\end{equation}\n",
        "\n",
        "Además, su espectro en serie de Fourier (trigonométrica) se calcula como:\n",
        "\n",
        "\\begin{equation}\n",
        "a_n = \\frac{2}{T}\\int^{T/2}_{-T/2}{x(t)\\cos(n\\omega_o t)}dt=2\\mathcal{Re}\\{c_n\\}= 0; \\quad n > 0\n",
        "\\end{equation}\n",
        "\\begin{equation}\n",
        "a_0 = c_0 = 0.\n",
        "\\end{equation}\n",
        "\n",
        "\\begin{equation}\n",
        "b_n = \\frac{2}{T}\\int^{T/2}_{-T/2}{x(t)\\sin(n\\omega_o t)}dt=-2\\mathcal{Im}\\{c_n\\}=\\frac{2A}{n\\pi}((-1)^n-1); \\quad n > 0\n",
        "\\end{equation}\n",
        "\\begin{equation}\n",
        "b_0 = 0.\n",
        "\\end{equation}\n",
        "\n",
        "y:\n",
        "\n",
        "\\begin{equation}\n",
        "\\hat{x}(t) = a_0+\\sum\\limits_{n=1}^N{a_n \\cos(n\\omega_ot)+b_n\\sin{n\\omega_ot}}.\n",
        "\\end{equation}\n",
        "\n",
        "Los pesos la serie exponencial se pueden estimar a partir de la serie trigonométrica según la siguientes relación:\n",
        "\n",
        "\\begin{equation}\n",
        "c_n = \\frac{a_n - jb_n}{2}, \\quad n\\neq 0\\\\\n",
        "c_0 = a_0.\n",
        "\\end{equation}\n",
        "\n",
        "Por otra parte, su espectro en serie de Fourier compacta se calcula como:\n",
        "\n",
        "\\begin{equation}\n",
        "d_n = \\sqrt{a_n^2+b_n^2} = 2|c_n| = \\frac{2A}{n\\pi}((-1)^n-1); \\quad n > 0\n",
        "\\end{equation}\n",
        "\\begin{equation}\n",
        "d_0 = a_0;  \n",
        "\\end{equation}\n",
        "\n",
        "\\begin{equation}\n",
        "\\phi_n = \\tan^{-1}\\left(\\frac{\\mathcal{Im}\\{c_n\\}}{\\mathcal{Re}\\{c_n\\}}\\right) = \\tan^{-1}\\left(\\frac{-b_n}{a_n}\\right); \\quad n \\geq 0\n",
        "\\end{equation}\n",
        "\n",
        "y:\n",
        "\n",
        "\\begin{equation}\n",
        "\\hat{x}(t) = \\sum\\limits_{n=0}^N{d_n \\cos(n\\omega_ot+\\phi_n)}.\n",
        "\\end{equation}\n"
      ]
    },
    {
      "cell_type": "code",
      "metadata": {
        "id": "CJuiPCIl0fBZ"
      },
      "source": [
        "N = 200 #numero armonicos\n",
        "wo = 2*np.pi/T # frecuencia fundamental\n",
        "# %% definir bases\n",
        "phin = np.zeros((Nm,2*N+1),dtype=np.complex_)\n",
        "for n in range(-N,N+1,1):\n",
        "    phin[:,n+N] = np.exp(1j*n*wo*tv)"
      ],
      "execution_count": 42,
      "outputs": []
    },
    {
      "cell_type": "code",
      "metadata": {
        "id": "VDtiQzzn0fBh",
        "outputId": "ce98b934-ffff-476f-bb7c-d95bb8c9b9eb",
        "colab": {
          "base_uri": "https://localhost:8080/",
          "height": 335,
          "referenced_widgets": [
            "8faa43baab5c4eb0bc112dbbb5305278",
            "27e7bd952265492fa734a0495eb82565",
            "2b4d8c0c405440c7aa03d6994f13b09d",
            "57d1eba925c64287b75828132865d8c2",
            "8910c967fec34f2cbb55f3010db29c28",
            "9179ff4cdb074ebca05d7aaa68020a24",
            "d73055c7331b473a8d4bfb081585ad7b"
          ]
        }
      },
      "source": [
        "# graficar bases\n",
        "from ipywidgets import interact,IntSlider\n",
        "\n",
        "def pltbase(n=1):\n",
        "    plt.plot(tv,np.real(phin[:,int(n+N)]),label=\"Re{$\\phi_n$(t)}\")\n",
        "    plt.xlabel(\"t[s]\",fontsize = 14)\n",
        "    plt.ylabel(\"$\\phi_n$(t)\",fontsize = 14)\n",
        "    plt.plot(tv,np.imag(phin[:,int(n+N)]),label=\"Im{$\\phi_n$(t)}\")\n",
        "    plt.grid()\n",
        "    plt.legend()\n",
        "    plt.plot(tv,xo,'r',linewidth=4)\n",
        "    plt.show()\n",
        "    return\n",
        "interact(pltbase,n=(-N,N,1))"
      ],
      "execution_count": 43,
      "outputs": [
        {
          "output_type": "display_data",
          "data": {
            "application/vnd.jupyter.widget-view+json": {
              "model_id": "8faa43baab5c4eb0bc112dbbb5305278",
              "version_minor": 0,
              "version_major": 2
            },
            "text/plain": [
              "interactive(children=(IntSlider(value=1, description='n', max=200, min=-200), Output()), _dom_classes=('widget…"
            ]
          },
          "metadata": {
            "tags": []
          }
        },
        {
          "output_type": "execute_result",
          "data": {
            "text/plain": [
              "<function __main__.pltbase>"
            ]
          },
          "metadata": {
            "tags": []
          },
          "execution_count": 43
        }
      ]
    },
    {
      "cell_type": "code",
      "metadata": {
        "id": "WM7xPTZN0fBo"
      },
      "source": [
        "#calcular espectro -> cambiar según la señal estudiada\n",
        "cn = np.zeros(2*N+1,dtype=np.complex_)\n",
        "nv = np.linspace(-N, N, 2*N+1) #vector num armónicos\n",
        "Cn = ((1j*A)/(nv*np.pi))*(1-(-1)**nv) \n",
        "Cn[N] = -7"
      ],
      "execution_count": 50,
      "outputs": []
    },
    {
      "cell_type": "code",
      "metadata": {
        "id": "8HFSa5gg0fBr",
        "outputId": "7317bcb9-5ec4-4491-8df8-0bf5a89a1af8",
        "colab": {
          "base_uri": "https://localhost:8080/",
          "height": 585
        }
      },
      "source": [
        "#graficar espectro\n",
        "fig = plt.figure(figsize=(4,8))\n",
        "plt.subplot(3,1,1)\n",
        "plt.stem(nv, np.real(Cn), 'r')\n",
        "plt.title(r'Re{Cn}')\n",
        "plt.xlabel(r'$nw_o$[rad/s]',fontsize = 14)\n",
        "plt.ylabel(r'$Re\\{C_n\\}$',fontsize = 14)\n",
        "plt.axis('tight')\n",
        "plt.grid()\n",
        "\n",
        "plt.subplot(3,1,2)\n",
        "plt.stem(nv, np.imag(Cn), 'r')\n",
        "plt.title(r'Im{Cn}')\n",
        "plt.xlabel(r'$nw_o$[rad/s]',fontsize = 14)\n",
        "plt.ylabel(r'$Im\\{C_n\\}$',fontsize = 14)\n",
        "plt.axis('tight')\n",
        "plt.grid()\n",
        "\n",
        "plt.subplot(3,1,3)\n",
        "plt.stem(nv, abs(Cn), 'r')\n",
        "plt.title(r'|Cn|')\n",
        "plt.xlabel(r'$nw_o$[rad/s]',fontsize = 14)\n",
        "plt.ylabel(r'$|C_n|$',fontsize = 14)\n",
        "plt.axis('tight')\n",
        "plt.grid()\n",
        "\n",
        "fig.tight_layout()"
      ],
      "execution_count": 51,
      "outputs": [
        {
          "output_type": "display_data",
          "data": {
            "image/png": "[encoded data removed]",
            "text/plain": [
              "<Figure size 288x576 with 3 Axes>"
            ]
          },
          "metadata": {
            "tags": [],
            "needs_background": "light"
          }
        }
      ]
    },
    {
      "cell_type": "markdown",
      "metadata": {
        "id": "iH45uMad0fBv"
      },
      "source": [
        "# Error relativo\n",
        "\n",
        "El error cuadrático medio de la representación generalizada de Fourier se define como:\n",
        "\\begin{equation}\n",
        "E^2(c_n) = \\frac{1}{T}\\int\\limits_{-T/2}^{T/2}{\\left|x(t)-\\sum\\limits_{n=-N}^{N}{c_n \\varphi_n(t)}\\right|^2dt},\n",
        "\\end{equation}\n",
        "\n",
        "El error relativo se puede definir entonces como:\n",
        "\n",
        "\\begin{equation}\n",
        "E_r[\\%] = \\frac{E^2(c_n)}{P_x} = 1 - \\sum\\limits_{n=-N}^N{|c_n|^2 P_n/P_x},\n",
        "\\end{equation}\n",
        "\n",
        "\\begin{equation}\n",
        "P_x = \\int\\limits_{-T/2}^{T/2}{|x(t)^2|dt}, \\quad P_n = \\int\\limits_{-T/2}^{T/2}{|\\varphi_n(t)^2|dt}.\n",
        "\\end{equation}\n",
        "para el caso de Fourier $\\varphi_n(t)=e^{jn\\omega_ot}$ y $P_n=1$, por consiguiente:\n",
        "\n",
        "\\begin{equation}\n",
        "E_r[\\%] = 1 - \\left(\\frac{1}{P_x}\\sum\\limits_{n=-N}^N{|c_n|^2}\\right).\n",
        "\\end{equation}\n",
        "\n",
        "Para el ejemplo estudiado $P_x = A^2$ y $c_0=0$, es decir:\n",
        "\n",
        "\\begin{equation}\n",
        "E_r[\\%] = 1 - \\left(\\frac{2}{A^2}\\sum\\limits_{n=1}^N{\\left|\\frac{jA(1-(-1)^n)}{n \\pi}\\right|^2}\\right).\n",
        "\\end{equation}\n",
        "\n"
      ]
    },
    {
      "cell_type": "code",
      "metadata": {
        "id": "jrVO9oId0fBw",
        "outputId": "197a51f5-27e8-477c-87a9-205366036000",
        "colab": {
          "base_uri": "https://localhost:8080/",
          "height": 353,
          "referenced_widgets": [
            "f5dc24c054074f97aff9714039db0012",
            "9f04d4eee46b43c1b5b80880fd4e6c42",
            "abd6c8ba96094cb6a1d73fa1981bdcf1",
            "fdbadec9071f44e7bd8309366bd18359",
            "a8c03a79e6c343b3b5a7d00986f4603b",
            "f35eb6fdfc094233b66318ba213f2673",
            "7ffb1740ba604dc3bcb4a65febcbd6ee"
          ]
        }
      },
      "source": [
        "Px = A**2 # estimar según señal estudiada\n",
        "def pltest(Na=1):\n",
        "    ind = range(N-Na,N+Na+1)\n",
        "    er = 1- (abs(Cn[N])**2 + 2*np.sum(abs(Cn[N:N+Na+1])**2))/Px\n",
        "    xe = phin[:,ind]@ Cn[ind] \n",
        "    plt.plot(tv,xe,color='b',label='xe')\n",
        "    plt.plot(tv,xo,color='r',label='x')\n",
        "    plt.title('Er=%.2f[%%]' % (100*er),fontsize=16)\n",
        "    plt.xlabel('t[s]')\n",
        "    plt.ylabel('x(t)')\n",
        "    plt.grid()\n",
        "    plt.legend()\n",
        "    plt.show()\n",
        "    return\n",
        "interact(pltest,Na=(1,N,1))"
      ],
      "execution_count": 52,
      "outputs": [
        {
          "output_type": "display_data",
          "data": {
            "application/vnd.jupyter.widget-view+json": {
              "model_id": "f5dc24c054074f97aff9714039db0012",
              "version_minor": 0,
              "version_major": 2
            },
            "text/plain": [
              "interactive(children=(IntSlider(value=1, description='Na', max=200, min=1), Output()), _dom_classes=('widget-i…"
            ]
          },
          "metadata": {
            "tags": []
          }
        },
        {
          "output_type": "execute_result",
          "data": {
            "text/plain": [
              "<function __main__.pltest>"
            ]
          },
          "metadata": {
            "tags": []
          },
          "execution_count": 52
        }
      ]
    },
    {
      "cell_type": "code",
      "metadata": {
        "id": "THdbNVK7d0NE",
        "outputId": "6b9be109-27ef-473b-d908-0d0a7dd18ea9",
        "colab": {
          "base_uri": "https://localhost:8080/",
          "height": 285
        }
      },
      "source": [
        "N2 = 2000\n",
        "t2 = np.linspace(-3*T,3*T,2000)\n",
        "N = 200 #numero armonicos\n",
        "wo = 2*np.pi/T # frecuencia fundamental\n",
        "# %% definir bases\n",
        "phin = np.zeros((N2,2*N+1),dtype=np.complex_)\n",
        "for n in range(-N,N+1,1):\n",
        "    phin[:,n+N] = np.exp(1j*n*wo*t2)\n",
        "\n",
        "\n",
        "xe2 = phin@ Cn\n",
        "\n",
        "plt.plot(t2,xe2)"
      ],
      "execution_count": 37,
      "outputs": [
        {
          "output_type": "execute_result",
          "data": {
            "text/plain": [
              "[<matplotlib.lines.Line2D at 0x7fd8e7f80a90>]"
            ]
          },
          "metadata": {
            "tags": []
          },
          "execution_count": 37
        },
        {
          "output_type": "display_data",
          "data": {
            "image/png": "[encoded data removed]",
            "text/plain": [
              "<Figure size 432x288 with 1 Axes>"
            ]
          },
          "metadata": {
            "tags": [],
            "needs_background": "light"
          }
        }
      ]
    },
    {
      "cell_type": "markdown",
      "metadata": {
        "id": "qLA6EX3EZXcv"
      },
      "source": [
        "$\\lim_{\\Delta t \\to 0} \\frac{x(t)-x(t-\\Delta t)}{\\Delta t}$"
      ]
    },
    {
      "cell_type": "markdown",
      "metadata": {
        "id": "1yxfFTID0fB0"
      },
      "source": [
        "## Ejercicio: Ajustar los códigos para el caso de la serie trigonométrica y compacta"
      ]
    },
    {
      "cell_type": "code",
      "metadata": {
        "id": "j0UQ_HG_0fB1"
      },
      "source": [
        ""
      ],
      "execution_count": null,
      "outputs": []
    }
  ]
}