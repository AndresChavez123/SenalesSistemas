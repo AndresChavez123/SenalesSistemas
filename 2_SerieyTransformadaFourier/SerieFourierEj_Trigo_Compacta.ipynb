{
  "nbformat": 4,
  "nbformat_minor": 0,
  "metadata": {
    "kernelspec": {
      "display_name": "Python 3",
      "language": "python",
      "name": "python3"
    },
    "language_info": {
      "codemirror_mode": {
        "name": "ipython",
        "version": 3
      },
      "file_extension": ".py",
      "mimetype": "text/x-python",
      "name": "python",
      "nbconvert_exporter": "python",
      "pygments_lexer": "ipython3",
      "version": "3.7.1"
    },
    "colab": {
      "name": "SerieFourierEj_Trigo_Compacta.ipynb",
      "provenance": []
    },
    "widgets": {
      "application/vnd.jupyter.widget-state+json": {
        "5d41939dc6794b6f8e745dfaac61ea29": {
          "model_module": "@jupyter-widgets/controls",
          "model_name": "VBoxModel",
          "state": {
            "_view_name": "VBoxView",
            "_dom_classes": [
              "widget-interact"
            ],
            "_model_name": "VBoxModel",
            "_view_module": "@jupyter-widgets/controls",
            "_model_module_version": "1.5.0",
            "_view_count": null,
            "_view_module_version": "1.5.0",
            "box_style": "",
            "layout": "IPY_MODEL_e49199e25c6f4e13a1da1f5cd70313e5",
            "_model_module": "@jupyter-widgets/controls",
            "children": [
              "IPY_MODEL_254444b4be9e44fc98f15f8e6b7ffba3",
              "IPY_MODEL_054f9140c4ce41f5ae90e019343a306a"
            ]
          }
        },
        "e49199e25c6f4e13a1da1f5cd70313e5": {
          "model_module": "@jupyter-widgets/base",
          "model_name": "LayoutModel",
          "state": {
            "_view_name": "LayoutView",
            "grid_template_rows": null,
            "right": null,
            "justify_content": null,
            "_view_module": "@jupyter-widgets/base",
            "overflow": null,
            "_model_module_version": "1.2.0",
            "_view_count": null,
            "flex_flow": null,
            "width": null,
            "min_width": null,
            "border": null,
            "align_items": null,
            "bottom": null,
            "_model_module": "@jupyter-widgets/base",
            "top": null,
            "grid_column": null,
            "overflow_y": null,
            "overflow_x": null,
            "grid_auto_flow": null,
            "grid_area": null,
            "grid_template_columns": null,
            "flex": null,
            "_model_name": "LayoutModel",
            "justify_items": null,
            "grid_row": null,
            "max_height": null,
            "align_content": null,
            "visibility": null,
            "align_self": null,
            "height": null,
            "min_height": null,
            "padding": null,
            "grid_auto_rows": null,
            "grid_gap": null,
            "max_width": null,
            "order": null,
            "_view_module_version": "1.2.0",
            "grid_template_areas": null,
            "object_position": null,
            "object_fit": null,
            "grid_auto_columns": null,
            "margin": null,
            "display": null,
            "left": null
          }
        },
        "254444b4be9e44fc98f15f8e6b7ffba3": {
          "model_module": "@jupyter-widgets/controls",
          "model_name": "IntSliderModel",
          "state": {
            "_view_name": "IntSliderView",
            "style": "IPY_MODEL_3fc80074ad3a46338cfb2249d0c78458",
            "_dom_classes": [],
            "description": "n",
            "step": 1,
            "_model_name": "IntSliderModel",
            "orientation": "horizontal",
            "max": 200,
            "_view_module": "@jupyter-widgets/controls",
            "_model_module_version": "1.5.0",
            "value": 1,
            "_view_count": null,
            "disabled": false,
            "_view_module_version": "1.5.0",
            "min": -200,
            "continuous_update": true,
            "readout_format": "d",
            "description_tooltip": null,
            "readout": true,
            "_model_module": "@jupyter-widgets/controls",
            "layout": "IPY_MODEL_64061056953f47e5a715324364f69d31"
          }
        },
        "054f9140c4ce41f5ae90e019343a306a": {
          "model_module": "@jupyter-widgets/output",
          "model_name": "OutputModel",
          "state": {
            "_view_name": "OutputView",
            "msg_id": "",
            "_dom_classes": [],
            "_model_name": "OutputModel",
            "outputs": [
              {
                "output_type": "display_data",
                "metadata": {
                  "tags": [],
                  "needs_background": "light"
                },
                "image/png": "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\n",
                "text/plain": "<Figure size 432x288 with 1 Axes>"
              }
            ],
            "_view_module": "@jupyter-widgets/output",
            "_model_module_version": "1.0.0",
            "_view_count": null,
            "_view_module_version": "1.0.0",
            "layout": "IPY_MODEL_1061aff9989445da90e5630e5057ec80",
            "_model_module": "@jupyter-widgets/output"
          }
        },
        "3fc80074ad3a46338cfb2249d0c78458": {
          "model_module": "@jupyter-widgets/controls",
          "model_name": "SliderStyleModel",
          "state": {
            "_view_name": "StyleView",
            "handle_color": null,
            "_model_name": "SliderStyleModel",
            "description_width": "",
            "_view_module": "@jupyter-widgets/base",
            "_model_module_version": "1.5.0",
            "_view_count": null,
            "_view_module_version": "1.2.0",
            "_model_module": "@jupyter-widgets/controls"
          }
        },
        "64061056953f47e5a715324364f69d31": {
          "model_module": "@jupyter-widgets/base",
          "model_name": "LayoutModel",
          "state": {
            "_view_name": "LayoutView",
            "grid_template_rows": null,
            "right": null,
            "justify_content": null,
            "_view_module": "@jupyter-widgets/base",
            "overflow": null,
            "_model_module_version": "1.2.0",
            "_view_count": null,
            "flex_flow": null,
            "width": null,
            "min_width": null,
            "border": null,
            "align_items": null,
            "bottom": null,
            "_model_module": "@jupyter-widgets/base",
            "top": null,
            "grid_column": null,
            "overflow_y": null,
            "overflow_x": null,
            "grid_auto_flow": null,
            "grid_area": null,
            "grid_template_columns": null,
            "flex": null,
            "_model_name": "LayoutModel",
            "justify_items": null,
            "grid_row": null,
            "max_height": null,
            "align_content": null,
            "visibility": null,
            "align_self": null,
            "height": null,
            "min_height": null,
            "padding": null,
            "grid_auto_rows": null,
            "grid_gap": null,
            "max_width": null,
            "order": null,
            "_view_module_version": "1.2.0",
            "grid_template_areas": null,
            "object_position": null,
            "object_fit": null,
            "grid_auto_columns": null,
            "margin": null,
            "display": null,
            "left": null
          }
        },
        "1061aff9989445da90e5630e5057ec80": {
          "model_module": "@jupyter-widgets/base",
          "model_name": "LayoutModel",
          "state": {
            "_view_name": "LayoutView",
            "grid_template_rows": null,
            "right": null,
            "justify_content": null,
            "_view_module": "@jupyter-widgets/base",
            "overflow": null,
            "_model_module_version": "1.2.0",
            "_view_count": null,
            "flex_flow": null,
            "width": null,
            "min_width": null,
            "border": null,
            "align_items": null,
            "bottom": null,
            "_model_module": "@jupyter-widgets/base",
            "top": null,
            "grid_column": null,
            "overflow_y": null,
            "overflow_x": null,
            "grid_auto_flow": null,
            "grid_area": null,
            "grid_template_columns": null,
            "flex": null,
            "_model_name": "LayoutModel",
            "justify_items": null,
            "grid_row": null,
            "max_height": null,
            "align_content": null,
            "visibility": null,
            "align_self": null,
            "height": null,
            "min_height": null,
            "padding": null,
            "grid_auto_rows": null,
            "grid_gap": null,
            "max_width": null,
            "order": null,
            "_view_module_version": "1.2.0",
            "grid_template_areas": null,
            "object_position": null,
            "object_fit": null,
            "grid_auto_columns": null,
            "margin": null,
            "display": null,
            "left": null
          }
        },
        "476c3f08da414a2d91f106a69c4d2d8d": {
          "model_module": "@jupyter-widgets/controls",
          "model_name": "VBoxModel",
          "state": {
            "_view_name": "VBoxView",
            "_dom_classes": [
              "widget-interact"
            ],
            "_model_name": "VBoxModel",
            "_view_module": "@jupyter-widgets/controls",
            "_model_module_version": "1.5.0",
            "_view_count": null,
            "_view_module_version": "1.5.0",
            "box_style": "",
            "layout": "IPY_MODEL_84f494716d554a01ad973b403c2626e2",
            "_model_module": "@jupyter-widgets/controls",
            "children": [
              "IPY_MODEL_805c1031a48b4428b87ad2ae0676836b",
              "IPY_MODEL_b1e07214f1da46fd81bd646cfe1d5c7c"
            ]
          }
        },
        "84f494716d554a01ad973b403c2626e2": {
          "model_module": "@jupyter-widgets/base",
          "model_name": "LayoutModel",
          "state": {
            "_view_name": "LayoutView",
            "grid_template_rows": null,
            "right": null,
            "justify_content": null,
            "_view_module": "@jupyter-widgets/base",
            "overflow": null,
            "_model_module_version": "1.2.0",
            "_view_count": null,
            "flex_flow": null,
            "width": null,
            "min_width": null,
            "border": null,
            "align_items": null,
            "bottom": null,
            "_model_module": "@jupyter-widgets/base",
            "top": null,
            "grid_column": null,
            "overflow_y": null,
            "overflow_x": null,
            "grid_auto_flow": null,
            "grid_area": null,
            "grid_template_columns": null,
            "flex": null,
            "_model_name": "LayoutModel",
            "justify_items": null,
            "grid_row": null,
            "max_height": null,
            "align_content": null,
            "visibility": null,
            "align_self": null,
            "height": null,
            "min_height": null,
            "padding": null,
            "grid_auto_rows": null,
            "grid_gap": null,
            "max_width": null,
            "order": null,
            "_view_module_version": "1.2.0",
            "grid_template_areas": null,
            "object_position": null,
            "object_fit": null,
            "grid_auto_columns": null,
            "margin": null,
            "display": null,
            "left": null
          }
        },
        "805c1031a48b4428b87ad2ae0676836b": {
          "model_module": "@jupyter-widgets/controls",
          "model_name": "IntSliderModel",
          "state": {
            "_view_name": "IntSliderView",
            "style": "IPY_MODEL_618a1c1bf21346558adad7bf1c90874d",
            "_dom_classes": [],
            "description": "Na",
            "step": 1,
            "_model_name": "IntSliderModel",
            "orientation": "horizontal",
            "max": 200,
            "_view_module": "@jupyter-widgets/controls",
            "_model_module_version": "1.5.0",
            "value": 178,
            "_view_count": null,
            "disabled": false,
            "_view_module_version": "1.5.0",
            "min": 1,
            "continuous_update": true,
            "readout_format": "d",
            "description_tooltip": null,
            "readout": true,
            "_model_module": "@jupyter-widgets/controls",
            "layout": "IPY_MODEL_6cd68a83b21742f8b636aa77a488da00"
          }
        },
        "b1e07214f1da46fd81bd646cfe1d5c7c": {
          "model_module": "@jupyter-widgets/output",
          "model_name": "OutputModel",
          "state": {
            "_view_name": "OutputView",
            "msg_id": "",
            "_dom_classes": [],
            "_model_name": "OutputModel",
            "outputs": [
              {
                "output_type": "display_data",
                "metadata": {
                  "tags": [],
                  "needs_background": "light"
                },
                "image/png": "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\n",
                "text/plain": "<Figure size 432x288 with 1 Axes>"
              }
            ],
            "_view_module": "@jupyter-widgets/output",
            "_model_module_version": "1.0.0",
            "_view_count": null,
            "_view_module_version": "1.0.0",
            "layout": "IPY_MODEL_c1bbbd2aea5b4268b7e5bd83322becff",
            "_model_module": "@jupyter-widgets/output"
          }
        },
        "618a1c1bf21346558adad7bf1c90874d": {
          "model_module": "@jupyter-widgets/controls",
          "model_name": "SliderStyleModel",
          "state": {
            "_view_name": "StyleView",
            "handle_color": null,
            "_model_name": "SliderStyleModel",
            "description_width": "",
            "_view_module": "@jupyter-widgets/base",
            "_model_module_version": "1.5.0",
            "_view_count": null,
            "_view_module_version": "1.2.0",
            "_model_module": "@jupyter-widgets/controls"
          }
        },
        "6cd68a83b21742f8b636aa77a488da00": {
          "model_module": "@jupyter-widgets/base",
          "model_name": "LayoutModel",
          "state": {
            "_view_name": "LayoutView",
            "grid_template_rows": null,
            "right": null,
            "justify_content": null,
            "_view_module": "@jupyter-widgets/base",
            "overflow": null,
            "_model_module_version": "1.2.0",
            "_view_count": null,
            "flex_flow": null,
            "width": null,
            "min_width": null,
            "border": null,
            "align_items": null,
            "bottom": null,
            "_model_module": "@jupyter-widgets/base",
            "top": null,
            "grid_column": null,
            "overflow_y": null,
            "overflow_x": null,
            "grid_auto_flow": null,
            "grid_area": null,
            "grid_template_columns": null,
            "flex": null,
            "_model_name": "LayoutModel",
            "justify_items": null,
            "grid_row": null,
            "max_height": null,
            "align_content": null,
            "visibility": null,
            "align_self": null,
            "height": null,
            "min_height": null,
            "padding": null,
            "grid_auto_rows": null,
            "grid_gap": null,
            "max_width": null,
            "order": null,
            "_view_module_version": "1.2.0",
            "grid_template_areas": null,
            "object_position": null,
            "object_fit": null,
            "grid_auto_columns": null,
            "margin": null,
            "display": null,
            "left": null
          }
        },
        "c1bbbd2aea5b4268b7e5bd83322becff": {
          "model_module": "@jupyter-widgets/base",
          "model_name": "LayoutModel",
          "state": {
            "_view_name": "LayoutView",
            "grid_template_rows": null,
            "right": null,
            "justify_content": null,
            "_view_module": "@jupyter-widgets/base",
            "overflow": null,
            "_model_module_version": "1.2.0",
            "_view_count": null,
            "flex_flow": null,
            "width": null,
            "min_width": null,
            "border": null,
            "align_items": null,
            "bottom": null,
            "_model_module": "@jupyter-widgets/base",
            "top": null,
            "grid_column": null,
            "overflow_y": null,
            "overflow_x": null,
            "grid_auto_flow": null,
            "grid_area": null,
            "grid_template_columns": null,
            "flex": null,
            "_model_name": "LayoutModel",
            "justify_items": null,
            "grid_row": null,
            "max_height": null,
            "align_content": null,
            "visibility": null,
            "align_self": null,
            "height": null,
            "min_height": null,
            "padding": null,
            "grid_auto_rows": null,
            "grid_gap": null,
            "max_width": null,
            "order": null,
            "_view_module_version": "1.2.0",
            "grid_template_areas": null,
            "object_position": null,
            "object_fit": null,
            "grid_auto_columns": null,
            "margin": null,
            "display": null,
            "left": null
          }
        }
      }
    }
  },
  "cells": [
    {
      "cell_type": "markdown",
      "metadata": {
        "id": "NSVGgZYt0fBN"
      },
      "source": [
        "# Serie de Fourier Ejemplo (exponencial, trigonométrica y compacta)"
      ]
    },
    {
      "cell_type": "markdown",
      "metadata": {
        "id": "eO5UjVfg0fBP"
      },
      "source": [
        "Sea la señal:\n",
        "\n",
        "\\begin{equation}\n",
        "x(t) = \\begin{cases} A, & -T/2 \\leq t < 0 \\\\ -A, & 0 \\leq t < T/2 \\end{cases}\n",
        "\\end{equation}\n"
      ]
    },
    {
      "cell_type": "code",
      "metadata": {
        "id": "Guk1vk_U0fBR",
        "outputId": "8d3f825a-d2ff-471b-eca6-db2b434f8093",
        "colab": {
          "base_uri": "https://localhost:8080/",
          "height": 303
        }
      },
      "source": [
        "# Para graficar\n",
        "%matplotlib inline\n",
        "import matplotlib as mpl\n",
        "import matplotlib.pyplot as plt\n",
        "import numpy as np\n",
        "import warnings\n",
        "warnings.filterwarnings(\"ignore\")\n",
        "\n",
        "mpl.rc('axes', labelsize=14)\n",
        "mpl.rc('xtick', labelsize=12)\n",
        "mpl.rc('ytick', labelsize=12)\n",
        "\n",
        "A = 3\n",
        "T = 5 #3 segundos de grafica\n",
        "Fs = 1000 # 500 muestras por segundo Ajustar según señal estudiada\n",
        "Nm = T*Fs #numero de muestras requeridas\n",
        "tv = np.linspace(-T/2,T/2,Nm)\n",
        "\n",
        "xo = np.concatenate((A*np.ones(int(Nm/2)), -A*np.ones(int(Nm/2))), axis=0)\n",
        "\n",
        "plt.plot(tv,xo,'r',linewidth=4)\n",
        "plt.grid()\n",
        "plt.xlabel(\"t[s]\",fontsize = 14)\n",
        "plt.ylabel(\"x(t)\",fontsize = 14)\n",
        "#wn = n w0 = n 2 pi/T\n",
        "w2 = 2*np.pi/T\n",
        "sinn2 = np.sin(w2*tv)\n",
        "plt.plot(tv,sinn2)\n",
        "plt.plot(tv,xo*sinn2)\n"
      ],
      "execution_count": 3,
      "outputs": [
        {
          "output_type": "execute_result",
          "data": {
            "text/plain": [
              "[<matplotlib.lines.Line2D at 0x7f9024663e48>]"
            ]
          },
          "metadata": {
            "tags": []
          },
          "execution_count": 3
        },
        {
          "output_type": "display_data",
          "data": {
            "image/png": "[encoded data removed]",
            "text/plain": [
              "<Figure size 432x288 with 1 Axes>"
            ]
          },
          "metadata": {
            "tags": [],
            "needs_background": "light"
          }
        }
      ]
    },
    {
      "cell_type": "markdown",
      "metadata": {
        "id": "DRN68VrH0fBY"
      },
      "source": [
        "Su espectro en serie de Fourier (compleja) se calcula como:\n",
        "\n",
        "\\begin{equation}\n",
        "c_n = \\frac{1}{T}\\int^{T/2}_{-T/2}{x(t)e^{-jn\\omega_o t}}dt=\\frac{jA}{n\\pi}(1-(-1)^n); \\quad n\\neq 0\n",
        "\\end{equation}\n",
        "\n",
        "donde \n",
        "\n",
        "\\begin{equation}\n",
        "c_0 = \\frac{1}{T}\\int^{T/2}_{-T/2}{x(t)}dt=0\n",
        "\\end{equation}\n",
        "y:\n",
        "\n",
        "\\begin{equation}\n",
        "\\hat{x}(t) = \\sum\\limits_{n=-N}^N{c_n e^{jn\\omega_ot}}.\n",
        "\\end{equation}\n",
        "\n",
        "Además, su espectro en serie de Fourier (trigonométrica) se calcula como:\n",
        "\n",
        "\\begin{equation}\n",
        "a_n = \\frac{2}{T}\\int^{T/2}_{-T/2}{x(t)\\cos(n\\omega_o t)}dt=2\\mathcal{Re}\\{c_n\\}= 0; \\quad n > 0\n",
        "\\end{equation}\n",
        "\\begin{equation}\n",
        "a_0 = c_0 = 0.\n",
        "\\end{equation}\n",
        "\n",
        "\\begin{equation}\n",
        "b_n = \\frac{2}{T}\\int^{T/2}_{-T/2}{x(t)\\sin(n\\omega_o t)}dt=-2\\mathcal{Im}\\{c_n\\}=\\frac{2A}{n\\pi}((-1)^n-1); \\quad n > 0\n",
        "\\end{equation}\n",
        "\\begin{equation}\n",
        "b_0 = 0.\n",
        "\\end{equation}\n",
        "\n",
        "y:\n",
        "\n",
        "\\begin{equation}\n",
        "\\hat{x}(t) = a_0+\\sum\\limits_{n=1}^N{a_n \\cos(n\\omega_ot)+b_n\\sin{n\\omega_ot}}.\n",
        "\\end{equation}\n",
        "\n",
        "Los pesos la serie exponencial se pueden estimar a partir de la serie trigonométrica según la siguientes relación:\n",
        "\n",
        "\\begin{equation}\n",
        "c_n = \\frac{a_n - jb_n}{2}, \\quad n\\neq 0\\\\\n",
        "c_0 = a_0.\n",
        "\\end{equation}\n",
        "\n",
        "Por otra parte, su espectro en serie de Fourier compacta se calcula como:\n",
        "\n",
        "\\begin{equation}\n",
        "d_n = \\sqrt{a_n^2+b_n^2} = 2|c_n| = \\frac{2A}{n\\pi}((-1)^n-1); \\quad n > 0\n",
        "\\end{equation}\n",
        "\\begin{equation}\n",
        "d_0 = a_0;  \n",
        "\\end{equation}\n",
        "\n",
        "\\begin{equation}\n",
        "\\phi_n = \\tan^{-1}\\left(\\frac{\\mathcal{Im}\\{c_n\\}}{\\mathcal{Re}\\{c_n\\}}\\right) = \\tan^{-1}\\left(\\frac{-b_n}{a_n}\\right); \\quad n \\geq 0\n",
        "\\end{equation}\n",
        "\n",
        "y:\n",
        "\n",
        "\\begin{equation}\n",
        "\\hat{x}(t) = \\sum\\limits_{n=0}^N{d_n \\cos(n\\omega_ot+\\phi_n)}.\n",
        "\\end{equation}\n"
      ]
    },
    {
      "cell_type": "code",
      "metadata": {
        "id": "CJuiPCIl0fBZ"
      },
      "source": [
        "N = 200 #numero armonicos\n",
        "wo = 2*np.pi/T # frecuencia fundamental\n",
        "# %% definir bases\n",
        "phin = np.zeros((Nm,2*N+1),dtype=np.complex_)\n",
        "for n in range(-N,N+1,1):\n",
        "    phin[:,n+N] = np.exp(1j*n*wo*tv)"
      ],
      "execution_count": 4,
      "outputs": []
    },
    {
      "cell_type": "code",
      "metadata": {
        "id": "VDtiQzzn0fBh",
        "outputId": "fe90aaac-a322-49e7-c5a3-63324636f684",
        "colab": {
          "base_uri": "https://localhost:8080/",
          "height": 336,
          "referenced_widgets": [
            "5d41939dc6794b6f8e745dfaac61ea29",
            "e49199e25c6f4e13a1da1f5cd70313e5",
            "254444b4be9e44fc98f15f8e6b7ffba3",
            "054f9140c4ce41f5ae90e019343a306a",
            "3fc80074ad3a46338cfb2249d0c78458",
            "64061056953f47e5a715324364f69d31",
            "1061aff9989445da90e5630e5057ec80"
          ]
        }
      },
      "source": [
        "# graficar bases\n",
        "from ipywidgets import interact,IntSlider\n",
        "\n",
        "def pltbase(n=1):\n",
        "    plt.plot(tv,np.real(phin[:,int(n+N)]),label=\"Re{$\\phi_n$(t)}\")\n",
        "    plt.xlabel(\"t[s]\",fontsize = 14)\n",
        "    plt.ylabel(\"$\\phi_n$(t)\",fontsize = 14)\n",
        "    plt.plot(tv,np.imag(phin[:,int(n+N)]),label=\"Im{$\\phi_n$(t)}\")\n",
        "    plt.grid()\n",
        "    plt.legend()\n",
        "    plt.plot(tv,xo,'r',linewidth=4)\n",
        "    plt.show()\n",
        "    return\n",
        "interact(pltbase,n=(-N,N,1))"
      ],
      "execution_count": 5,
      "outputs": [
        {
          "output_type": "display_data",
          "data": {
            "application/vnd.jupyter.widget-view+json": {
              "model_id": "5d41939dc6794b6f8e745dfaac61ea29",
              "version_minor": 0,
              "version_major": 2
            },
            "text/plain": [
              "interactive(children=(IntSlider(value=1, description='n', max=200, min=-200), Output()), _dom_classes=('widget…"
            ]
          },
          "metadata": {
            "tags": []
          }
        },
        {
          "output_type": "execute_result",
          "data": {
            "text/plain": [
              "<function __main__.pltbase>"
            ]
          },
          "metadata": {
            "tags": []
          },
          "execution_count": 5
        }
      ]
    },
    {
      "cell_type": "code",
      "metadata": {
        "id": "WM7xPTZN0fBo"
      },
      "source": [
        "#calcular espectro -> cambiar según la señal estudiada\n",
        "cn = np.zeros(2*N+1,dtype=np.complex_)\n",
        "nv = np.linspace(-N, N, 2*N+1) #vector num armónicos\n",
        "Cn = ((1j*A)/(nv*np.pi))*(1-(-1)**nv) \n",
        "Cn[N] = 0 # nivel dc C_0"
      ],
      "execution_count": 10,
      "outputs": []
    },
    {
      "cell_type": "code",
      "metadata": {
        "id": "8HFSa5gg0fBr",
        "outputId": "c12a0cab-cf5e-4435-c061-b536ad6b6faf",
        "colab": {
          "base_uri": "https://localhost:8080/",
          "height": 585
        }
      },
      "source": [
        "#graficar espectro\n",
        "fig = plt.figure(figsize=(4,8))\n",
        "plt.subplot(3,1,1)\n",
        "plt.stem(nv, np.real(Cn), 'r')\n",
        "plt.title(r'Re{Cn}')\n",
        "plt.xlabel(r'$nw_o$[rad/s]',fontsize = 14)\n",
        "plt.ylabel(r'$Re\\{C_n\\}$',fontsize = 14)\n",
        "plt.axis('tight')\n",
        "plt.grid()\n",
        "\n",
        "plt.subplot(3,1,2)\n",
        "plt.stem(nv, np.imag(Cn), 'r')\n",
        "plt.title(r'Im{Cn}')\n",
        "plt.xlabel(r'$nw_o$[rad/s]',fontsize = 14)\n",
        "plt.ylabel(r'$Im\\{C_n\\}$',fontsize = 14)\n",
        "plt.axis('tight')\n",
        "plt.grid()\n",
        "\n",
        "plt.subplot(3,1,3)\n",
        "plt.stem(nv, abs(Cn), 'r')\n",
        "plt.title(r'|Cn|')\n",
        "plt.xlabel(r'$nw_o$[rad/s]',fontsize = 14)\n",
        "plt.ylabel(r'$|C_n|$',fontsize = 14)\n",
        "plt.axis('tight')\n",
        "plt.grid()\n",
        "\n",
        "fig.tight_layout()"
      ],
      "execution_count": 8,
      "outputs": [
        {
          "output_type": "display_data",
          "data": {
            "image/png": "[encoded data removed]",
            "text/plain": [
              "<Figure size 288x576 with 3 Axes>"
            ]
          },
          "metadata": {
            "tags": [],
            "needs_background": "light"
          }
        }
      ]
    },
    {
      "cell_type": "markdown",
      "metadata": {
        "id": "iH45uMad0fBv"
      },
      "source": [
        "# Error relativo\n",
        "\n",
        "El error cuadrático medio de la representación generalizada de Fourier se define como:\n",
        "\\begin{equation}\n",
        "E^2(c_n) = \\frac{1}{T}\\int\\limits_{-T/2}^{T/2}{\\left|x(t)-\\sum\\limits_{n=-N}^{N}{c_n \\varphi_n(t)}\\right|^2dt},\n",
        "\\end{equation}\n",
        "\n",
        "El error relativo se puede definir entonces como:\n",
        "\n",
        "\\begin{equation}\n",
        "E_r[\\%] = \\frac{E^2(c_n)}{P_x} = 1 - \\sum\\limits_{n=-N}^N{|c_n|^2 P_n/P_x},\n",
        "\\end{equation}\n",
        "\n",
        "\\begin{equation}\n",
        "P_x = \\int\\limits_{-T/2}^{T/2}{|x(t)^2|dt}, \\quad P_n = \\int\\limits_{-T/2}^{T/2}{|\\varphi_n(t)^2|dt}.\n",
        "\\end{equation}\n",
        "para el caso de Fourier $\\varphi_n(t)=e^{jn\\omega_ot}$ y $P_n=1$, por consiguiente:\n",
        "\n",
        "\\begin{equation}\n",
        "E_r[\\%] = 1 - \\left(\\frac{1}{P_x}\\sum\\limits_{n=-N}^N{|c_n|^2}\\right).\n",
        "\\end{equation}\n",
        "\n",
        "Para el ejemplo estudiado $P_x = A^2$ y $c_0=0$, es decir:\n",
        "\n",
        "\\begin{equation}\n",
        "E_r[\\%] = 1 - \\left(\\frac{2}{A^2}\\sum\\limits_{n=1}^N{\\left|\\frac{jA(1-(-1)^n)}{n \\pi}\\right|^2}\\right).\n",
        "\\end{equation}\n",
        "\n"
      ]
    },
    {
      "cell_type": "code",
      "metadata": {
        "id": "jrVO9oId0fBw",
        "outputId": "37b09ee7-b342-4d69-a84c-966384d07ca6",
        "colab": {
          "base_uri": "https://localhost:8080/",
          "height": 353,
          "referenced_widgets": [
            "476c3f08da414a2d91f106a69c4d2d8d",
            "84f494716d554a01ad973b403c2626e2",
            "805c1031a48b4428b87ad2ae0676836b",
            "b1e07214f1da46fd81bd646cfe1d5c7c",
            "618a1c1bf21346558adad7bf1c90874d",
            "6cd68a83b21742f8b636aa77a488da00",
            "c1bbbd2aea5b4268b7e5bd83322becff"
          ]
        }
      },
      "source": [
        "Px = A**2 # estimar según señal estudiada\n",
        "def pltest(Na=1):\n",
        "    ind = range(N-Na,N+Na+1)\n",
        "    er = 1- (abs(Cn[N])**2 + 2*np.sum(abs(Cn[N:N+Na+1])**2))/Px\n",
        "    xe = phin[:,ind]@ Cn[ind] \n",
        "    plt.plot(tv,xe,color='b',label='xe')\n",
        "    plt.plot(tv,xo,color='r',label='x')\n",
        "    plt.title('Er=%.2f[%%]' % (100*er),fontsize=16)\n",
        "    plt.xlabel('t[s]')\n",
        "    plt.ylabel('x(t)')\n",
        "    plt.grid()\n",
        "    plt.legend()\n",
        "    plt.show()\n",
        "    return\n",
        "interact(pltest,Na=(1,N,1))"
      ],
      "execution_count": 9,
      "outputs": [
        {
          "output_type": "display_data",
          "data": {
            "application/vnd.jupyter.widget-view+json": {
              "model_id": "476c3f08da414a2d91f106a69c4d2d8d",
              "version_minor": 0,
              "version_major": 2
            },
            "text/plain": [
              "interactive(children=(IntSlider(value=1, description='Na', max=200, min=1), Output()), _dom_classes=('widget-i…"
            ]
          },
          "metadata": {
            "tags": []
          }
        },
        {
          "output_type": "execute_result",
          "data": {
            "text/plain": [
              "<function __main__.pltest>"
            ]
          },
          "metadata": {
            "tags": []
          },
          "execution_count": 9
        }
      ]
    },
    {
      "cell_type": "code",
      "metadata": {
        "id": "THdbNVK7d0NE",
        "outputId": "6b9be109-27ef-473b-d908-0d0a7dd18ea9",
        "colab": {
          "base_uri": "https://localhost:8080/",
          "height": 285
        }
      },
      "source": [
        "N2 = 2000\n",
        "t2 = np.linspace(-3*T,3*T,2000)\n",
        "N = 200 #numero armonicos\n",
        "wo = 2*np.pi/T # frecuencia fundamental\n",
        "# %% definir bases\n",
        "phin = np.zeros((N2,2*N+1),dtype=np.complex_)\n",
        "for n in range(-N,N+1,1):\n",
        "    phin[:,n+N] = np.exp(1j*n*wo*t2)\n",
        "\n",
        "\n",
        "xe2 = phin@ Cn\n",
        "\n",
        "plt.plot(t2,xe2)"
      ],
      "execution_count": null,
      "outputs": [
        {
          "output_type": "execute_result",
          "data": {
            "text/plain": [
              "[<matplotlib.lines.Line2D at 0x7fd8e7f80a90>]"
            ]
          },
          "metadata": {
            "tags": []
          },
          "execution_count": 37
        },
        {
          "output_type": "display_data",
          "data": {
            "image/png": "[encoded data removed]",
            "text/plain": [
              "<Figure size 432x288 with 1 Axes>"
            ]
          },
          "metadata": {
            "tags": [],
            "needs_background": "light"
          }
        }
      ]
    },
    {
      "cell_type": "markdown",
      "metadata": {
        "id": "qLA6EX3EZXcv"
      },
      "source": [
        "$\\lim_{\\Delta t \\to 0} \\frac{x(t)-x(t-\\Delta t)}{\\Delta t}$"
      ]
    },
    {
      "cell_type": "markdown",
      "metadata": {
        "id": "1yxfFTID0fB0"
      },
      "source": [
        "## Ejercicio: Ajustar los códigos para el caso de la serie trigonométrica y compacta"
      ]
    },
    {
      "cell_type": "code",
      "metadata": {
        "id": "j0UQ_HG_0fB1"
      },
      "source": [
        ""
      ],
      "execution_count": null,
      "outputs": []
    }
  ]
}